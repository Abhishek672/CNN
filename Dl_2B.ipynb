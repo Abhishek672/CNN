{
  "nbformat": 4,
  "nbformat_minor": 0,
  "metadata": {
    "colab": {
      "name": "Dl-2B.ipynb",
      "provenance": [],
      "collapsed_sections": []
    },
    "kernelspec": {
      "name": "python3",
      "display_name": "Python 3"
    },
    "language_info": {
      "name": "python"
    },
    "accelerator": "GPU"
  },
  "cells": [
    {
      "cell_type": "code",
      "metadata": {
        "id": "vSAapVh9lmRM"
      },
      "source": [
        "import os\n",
        "from PIL import Image\n",
        "import numpy as np\n",
        "import pickle\n",
        "\n",
        "import matplotlib.pyplot as plt\n",
        "import matplotlib.image as mpimg\n",
        "from tqdm.notebook import tqdm\n",
        "\n",
        "from keras import backend as k\n",
        "from keras.preprocessing.image import ImageDataGenerator\n",
        "from keras.models import Sequential,Model\n",
        "\n",
        "from keras.applications.vgg16 import VGG16\n",
        "from keras.applications.inception_v3 import InceptionV3\n",
        "from keras.applications.inception_resnet_v2 import InceptionResNetV2\n",
        "from keras.applications.resnet50 import ResNet50\n",
        "from keras.applications.xception import Xception\n",
        "\n",
        "\n",
        "from keras.layers import Dense,Flatten,Conv2D,MaxPooling2D,AveragePooling2D,Dropout,BatchNormalization,Activation\n",
        "from keras.activations import relu,softmax\n",
        "from keras.initializers import he_normal,glorot_normal,random_normal,glorot_uniform\n",
        "from keras.losses import categorical_crossentropy\n",
        "from keras.optimizers import Adadelta,Adam\n",
        "from keras.utils import np_utils\n",
        "\n",
        "\n",
        "import warnings\n",
        "warnings.filterwarnings('ignore')\n"
      ],
      "execution_count": 1,
      "outputs": []
    },
    {
      "cell_type": "markdown",
      "metadata": {
        "id": "_RuJ7EBd7zSM"
      },
      "source": [
        "**TASKS TO BE DONE**\n",
        "\n",
        "0.Run on small dataset\n",
        "\n",
        "1.Find The Accuracy For Test using Test generator.\n",
        "\n",
        "2.Decide The Hyperparameters and train the model.\n",
        "\n"
      ]
    },
    {
      "cell_type": "code",
      "metadata": {
        "colab": {
          "base_uri": "https://localhost:8080/"
        },
        "id": "JCt7xkyllwO5",
        "outputId": "13d2f73a-13be-4e86-eb03-5c0f1fab0e00"
      },
      "source": [
        "from google.colab import drive\n",
        "drive.mount('/content/gdrive')"
      ],
      "execution_count": 2,
      "outputs": [
        {
          "output_type": "stream",
          "text": [
            "Mounted at /content/gdrive\n"
          ],
          "name": "stdout"
        }
      ]
    },
    {
      "cell_type": "code",
      "metadata": {
        "id": "wfXxj2rLyJ0B"
      },
      "source": [
        "class Fine_Tune:\n",
        "\n",
        "  #target_size = (w x h x channel)\n",
        "  def __init__(self,target_size,Conv2d_layers,num_neurons,num_filters,fo):\n",
        "    self.model = Sequential()\n",
        "    self.filters = num_filters\n",
        "    self.fo = fo\n",
        "    self.target_size = target_size\n",
        "    self.num_neurons = num_neurons\n",
        "    self.Conv2d_layers = Conv2d_layers\n",
        "\n",
        "  def BUILD_MODEL(self,pretrained_model):\n",
        "    if (pretrained_model == 'InceptionV3'):\n",
        "      prt = InceptionV3(weights='imagenet',include_top=False,input_shape = self.target_size)\n",
        "      \n",
        "    elif (pretrained_model == 'InceptionResnetV2'):\n",
        "      prt = InceptionResNetV2(weights='imagenet',include_top=False,input_shape = self.target_size)\n",
        "     \n",
        "    elif (pretrained_model == 'ResNet50'):\n",
        "      prt = ResNet50(weights='imagenet',include_top=False,input_shape = self.target_size)\n",
        "      \n",
        "    else :\n",
        "      prt = Xception(weights='imagenet',include_top=False,input_shape = self.target_size)\n",
        "\n",
        "    #make every layer non trainable..\n",
        "    for layer in prt.layers:\n",
        "        layer.trainable = False\n",
        "\n",
        "    self.model.add(prt)\n",
        "    \n",
        "    #add own convolution layers...\n",
        "    cf = self.filters\n",
        "    for i in range(self.Conv2d_layers):\n",
        "\n",
        "      self.model.add(Conv2D(filters = cf , kernel_size = 3 ,use_bias= True))\n",
        "      self.model.add(BatchNormalization())\n",
        "      self.model.add(Activation('relu'))\n",
        "      self.model.add(Dropout(0.2))\n",
        "      self.model.add(MaxPooling2D(pool_size = (2,2)))\n",
        "\n",
        "      cf*=self.fo\n",
        "\n",
        "    #Add dense layers.. \n",
        "    self.model.add(Flatten())\n",
        "    self.model.add(Dense(units = self.num_neurons))\n",
        "    self.model.add(Activation('relu'))\n",
        "    #self.model.add(Dropout(self.dropout))\n",
        "\n",
        "    self.model.add(Dense(units=10))\n",
        "    self.model.add(Activation('softmax'))\n",
        "\n",
        "    self.model.compile(optimizer='Adam',loss='categorical_crossentropy',metrics=['accuracy'])\n",
        "\n",
        "    return\n",
        "\n",
        "\n",
        "  def Fit_Model(self,train_path,epochs,batch_size):\n",
        "    tr_datagen = ImageDataGenerator(rescale=1./255,\n",
        "                                    validation_split = 0.2)\n",
        "\n",
        "    tr_gen = tr_datagen.flow_from_directory(\n",
        "            directory = train_path,target_size = self.target_size,color_mode = 'rgb',       \n",
        "            batch_size = batch_size,\n",
        "            class_mode = 'categorical',\n",
        "            shuffle = True,\n",
        "            seed = 10,\n",
        "            subset = 'training'\n",
        "            )\n",
        "\n",
        "    val_gen = tr_datagen.flow_from_directory(\n",
        "            directory = train_path,target_size = self.target_size,color_mode = 'rgb',\n",
        "            batch_size = batch_size,\n",
        "            class_mode = 'categorical',\n",
        "            shuffle = True,\n",
        "            seed = 10,\n",
        "            subset = 'validation'\n",
        "            ) \n",
        "\n",
        "    step_size_train = tr_gen.n//tr_gen.batch_size\n",
        "    step_size_valid = val_gen.n//val_gen.batch_size\n",
        "\n",
        "    self.model.fit_generator(generator = tr_gen,\n",
        "                          steps_per_epoch = step_size_train,\n",
        "                          validation_data = val_gen,\n",
        "                          validation_steps = step_size_valid,\n",
        "                          epochs = epochs, verbose=1)\n",
        "    return\n",
        "\n",
        "  def Predict_Test(self,test_path):\n",
        "\n",
        "    ts_datagen = ImageDataGenerator(rescale = 1./255)\n",
        "    test_gen = ts_datagen.flow_from_directory(\n",
        "        directory = test_path,\n",
        "        target_size = self.target_size,\n",
        "        color_mode = 'rgb',\n",
        "        batch_size = 1,\n",
        "        class_mode = None,\n",
        "        shuffle = False,\n",
        "        seed=10\n",
        "        )\n",
        "    \n",
        "    step_size_test = test_gen.n//test_gen.batch_size\n",
        "    test_gen.reset()\n",
        "\n",
        "    print('Getting loss,accuracy for test data..')\n",
        "    metrics = self.model.evaluate_generator(generator = test_gen,\n",
        "                                             steps = step_size_test,verbose=1,\n",
        "                                            )\n",
        "    \n",
        "    print('Getting predictions for test data..')\n",
        "    pred = self.model.predict_generator(generator = test_gen,\n",
        "                                  steps = step_size_test,\n",
        "                                  verbose = 1\n",
        "                                  )\n",
        "    return (metrics,pred)"
      ],
      "execution_count": 3,
      "outputs": []
    },
    {
      "cell_type": "markdown",
      "metadata": {
        "id": "ZwF5gMUts94m"
      },
      "source": [
        "**Using InceptionV3 as pretrained model**"
      ]
    },
    {
      "cell_type": "code",
      "metadata": {
        "id": "u7uq76sYBTMM",
        "colab": {
          "base_uri": "https://localhost:8080/"
        },
        "outputId": "4ca106d7-0ae6-4291-87a4-7db023d4a897"
      },
      "source": [
        "target_size = (256,256)\n",
        "num_neurons = 128\n",
        "\n",
        "obj1 = Fine_Tune(target_size=target_size ,\n",
        "                 Conv2d_layers=0,            #if we have to add extra convolution layers..\n",
        "                 num_neurons=num_neurons,\n",
        "                 num_filters=32,\n",
        "                 fo=0.5)                      #filter organisation.\n",
        "\n",
        "obj1.BUILD_MODEL('InceptionV3')\n"
      ],
      "execution_count": 4,
      "outputs": [
        {
          "output_type": "stream",
          "text": [
            "Downloading data from https://storage.googleapis.com/tensorflow/keras-applications/inception_v3/inception_v3_weights_tf_dim_ordering_tf_kernels_notop.h5\n",
            "87916544/87910968 [==============================] - 1s 0us/step\n"
          ],
          "name": "stdout"
        }
      ]
    },
    {
      "cell_type": "code",
      "metadata": {
        "colab": {
          "base_uri": "https://localhost:8080/"
        },
        "id": "aTZTI3G-Culj",
        "outputId": "a3bb62d4-1275-41c4-bfc2-e41242080873"
      },
      "source": [
        "train_path = '/content/gdrive/MyDrive/inaturalist_12K/train'\n",
        "obj1.Fit_Model(train_path,epochs=10,batch_size=32)"
      ],
      "execution_count": 5,
      "outputs": [
        {
          "output_type": "stream",
          "text": [
            "Found 8000 images belonging to 10 classes.\n",
            "Found 1999 images belonging to 10 classes.\n",
            "Epoch 1/10\n",
            "250/250 [==============================] - 6362s 25s/step - loss: 5.4901 - accuracy: 0.4660 - val_loss: 1.0049 - val_accuracy: 0.6946\n",
            "Epoch 2/10\n",
            "250/250 [==============================] - 162s 650ms/step - loss: 0.8313 - accuracy: 0.7282 - val_loss: 1.0481 - val_accuracy: 0.6784\n",
            "Epoch 3/10\n",
            "250/250 [==============================] - 156s 623ms/step - loss: 0.5734 - accuracy: 0.8029 - val_loss: 1.0488 - val_accuracy: 0.7122\n",
            "Epoch 4/10\n",
            "250/250 [==============================] - 155s 622ms/step - loss: 0.4064 - accuracy: 0.8466 - val_loss: 0.9977 - val_accuracy: 0.7162\n",
            "Epoch 5/10\n",
            "250/250 [==============================] - 154s 615ms/step - loss: 0.3254 - accuracy: 0.8724 - val_loss: 1.1529 - val_accuracy: 0.7278\n",
            "Epoch 6/10\n",
            "250/250 [==============================] - 154s 616ms/step - loss: 0.2633 - accuracy: 0.8987 - val_loss: 1.3505 - val_accuracy: 0.7142\n",
            "Epoch 7/10\n",
            "250/250 [==============================] - 154s 615ms/step - loss: 0.2256 - accuracy: 0.9111 - val_loss: 1.3955 - val_accuracy: 0.7223\n",
            "Epoch 8/10\n",
            "250/250 [==============================] - 153s 614ms/step - loss: 0.2124 - accuracy: 0.9198 - val_loss: 1.4311 - val_accuracy: 0.7298\n",
            "Epoch 9/10\n",
            "250/250 [==============================] - 153s 612ms/step - loss: 0.1828 - accuracy: 0.9288 - val_loss: 1.6395 - val_accuracy: 0.7293\n",
            "Epoch 10/10\n",
            "250/250 [==============================] - 153s 612ms/step - loss: 0.1209 - accuracy: 0.9531 - val_loss: 1.7126 - val_accuracy: 0.7248\n"
          ],
          "name": "stdout"
        }
      ]
    },
    {
      "cell_type": "code",
      "metadata": {
        "colab": {
          "base_uri": "https://localhost:8080/",
          "height": 281
        },
        "id": "JWjTrfLqIY7H",
        "outputId": "b87a3410-c4e6-42f3-c4f9-54fc8d3f7cd8"
      },
      "source": [
        "plt.plot(np.arange(1,11),obj1.model.history.history['accuracy'],label='train accuracy')\n",
        "plt.plot(np.arange(1,11),obj1.model.history.history['val_accuracy'],label='val accuracy')\n",
        "plt.title('accuracy vs epochs')\n",
        "plt.show()"
      ],
      "execution_count": 6,
      "outputs": [
        {
          "output_type": "display_data",
          "data": {
            "image/png": "[encoded data removed]",
            "text/plain": [
              "<Figure size 432x288 with 1 Axes>"
            ]
          },
          "metadata": {
            "tags": [],
            "needs_background": "light"
          }
        }
      ]
    },
    {
      "cell_type": "code",
      "metadata": {
        "colab": {
          "base_uri": "https://localhost:8080/",
          "height": 281
        },
        "id": "yez5CHPqmiUQ",
        "outputId": "034c1f87-6e5c-4001-b0dd-996c03249a31"
      },
      "source": [
        "plt.plot(np.arange(1,11),obj1.model.history.history['loss'],label='train loss')\n",
        "plt.plot(np.arange(1,11),obj1.model.history.history['val_loss'],label='val loss')\n",
        "plt.title('loss vs epochs')\n",
        "plt.show()"
      ],
      "execution_count": 7,
      "outputs": [
        {
          "output_type": "display_data",
          "data": {
            "image/png": "[encoded data removed]",
            "text/plain": [
              "<Figure size 432x288 with 1 Axes>"
            ]
          },
          "metadata": {
            "tags": [],
            "needs_background": "light"
          }
        }
      ]
    },
    {
      "cell_type": "markdown",
      "metadata": {
        "id": "EqJFssGBsJZD"
      },
      "source": [
        "**1.Evaluate the accuracy for test**"
      ]
    },
    {
      "cell_type": "code",
      "metadata": {
        "id": "Qt82SdnUhjDl"
      },
      "source": [
        "test_path = '/content/gdrive/MyDrive/inaturalist_12K/val'\n",
        "metrics , pred = obj1.Predict_Test(test_path)\n",
        "print('test loss : ',metrics[0])\n",
        "print('test accuracy : ',metrics[1])"
      ],
      "execution_count": 9,
      "outputs": []
    }
  ]
}