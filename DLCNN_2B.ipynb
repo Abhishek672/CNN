{
  "nbformat": 4,
  "nbformat_minor": 0,
  "metadata": {
    "colab": {
      "name": "Dl_2Bnew.ipynb",
      "provenance": [],
      "collapsed_sections": [],
      "toc_visible": true,
      "include_colab_link": true
    },
    "kernelspec": {
      "name": "python3",
      "display_name": "Python 3"
    },
    "language_info": {
      "name": "python"
    },
    "widgets": {
      "application/vnd.jupyter.widget-state+json": {
        "a32405241855442f81fe799f8f6cf458": {
          "model_module": "@jupyter-widgets/controls",
          "model_name": "VBoxModel",
          "state": {
            "_view_name": "VBoxView",
            "_dom_classes": [],
            "_model_name": "VBoxModel",
            "_view_module": "@jupyter-widgets/controls",
            "_model_module_version": "1.5.0",
            "_view_count": null,
            "_view_module_version": "1.5.0",
            "box_style": "",
            "layout": "IPY_MODEL_0b2fccb7d660460f825fb1092a7a1924",
            "_model_module": "@jupyter-widgets/controls",
            "children": [
              "IPY_MODEL_724e74259c5340f2a02c1ba56ef59f3d",
              "IPY_MODEL_9bd630ed626b4765aefe8ed0a6750b43"
            ]
          }
        },
        "0b2fccb7d660460f825fb1092a7a1924": {
          "model_module": "@jupyter-widgets/base",
          "model_name": "LayoutModel",
          "state": {
            "_view_name": "LayoutView",
            "grid_template_rows": null,
            "right": null,
            "justify_content": null,
            "_view_module": "@jupyter-widgets/base",
            "overflow": null,
            "_model_module_version": "1.2.0",
            "_view_count": null,
            "flex_flow": null,
            "width": null,
            "min_width": null,
            "border": null,
            "align_items": null,
            "bottom": null,
            "_model_module": "@jupyter-widgets/base",
            "top": null,
            "grid_column": null,
            "overflow_y": null,
            "overflow_x": null,
            "grid_auto_flow": null,
            "grid_area": null,
            "grid_template_columns": null,
            "flex": null,
            "_model_name": "LayoutModel",
            "justify_items": null,
            "grid_row": null,
            "max_height": null,
            "align_content": null,
            "visibility": null,
            "align_self": null,
            "height": null,
            "min_height": null,
            "padding": null,
            "grid_auto_rows": null,
            "grid_gap": null,
            "max_width": null,
            "order": null,
            "_view_module_version": "1.2.0",
            "grid_template_areas": null,
            "object_position": null,
            "object_fit": null,
            "grid_auto_columns": null,
            "margin": null,
            "display": null,
            "left": null
          }
        },
        "724e74259c5340f2a02c1ba56ef59f3d": {
          "model_module": "@jupyter-widgets/controls",
          "model_name": "LabelModel",
          "state": {
            "_view_name": "LabelView",
            "style": "IPY_MODEL_a6c8aff9ab6b452592ad0399d60b152d",
            "_dom_classes": [],
            "description": "",
            "_model_name": "LabelModel",
            "placeholder": "​",
            "_view_module": "@jupyter-widgets/controls",
            "_model_module_version": "1.5.0",
            "value": " 145.72MB of 145.72MB uploaded (0.00MB deduped)\r",
            "_view_count": null,
            "_view_module_version": "1.5.0",
            "description_tooltip": null,
            "_model_module": "@jupyter-widgets/controls",
            "layout": "IPY_MODEL_d1c7cf2626304b36b7b9dfe9d103f8c8"
          }
        },
        "9bd630ed626b4765aefe8ed0a6750b43": {
          "model_module": "@jupyter-widgets/controls",
          "model_name": "FloatProgressModel",
          "state": {
            "_view_name": "ProgressView",
            "style": "IPY_MODEL_efea2c648337492089e107d89d3d8956",
            "_dom_classes": [],
            "description": "",
            "_model_name": "FloatProgressModel",
            "bar_style": "",
            "max": 1,
            "_view_module": "@jupyter-widgets/controls",
            "_model_module_version": "1.5.0",
            "value": 1,
            "_view_count": null,
            "_view_module_version": "1.5.0",
            "orientation": "horizontal",
            "min": 0,
            "description_tooltip": null,
            "_model_module": "@jupyter-widgets/controls",
            "layout": "IPY_MODEL_a609be3657cf413da0bdc1a3c66246bd"
          }
        },
        "a6c8aff9ab6b452592ad0399d60b152d": {
          "model_module": "@jupyter-widgets/controls",
          "model_name": "DescriptionStyleModel",
          "state": {
            "_view_name": "StyleView",
            "_model_name": "DescriptionStyleModel",
            "description_width": "",
            "_view_module": "@jupyter-widgets/base",
            "_model_module_version": "1.5.0",
            "_view_count": null,
            "_view_module_version": "1.2.0",
            "_model_module": "@jupyter-widgets/controls"
          }
        },
        "d1c7cf2626304b36b7b9dfe9d103f8c8": {
          "model_module": "@jupyter-widgets/base",
          "model_name": "LayoutModel",
          "state": {
            "_view_name": "LayoutView",
            "grid_template_rows": null,
            "right": null,
            "justify_content": null,
            "_view_module": "@jupyter-widgets/base",
            "overflow": null,
            "_model_module_version": "1.2.0",
            "_view_count": null,
            "flex_flow": null,
            "width": null,
            "min_width": null,
            "border": null,
            "align_items": null,
            "bottom": null,
            "_model_module": "@jupyter-widgets/base",
            "top": null,
            "grid_column": null,
            "overflow_y": null,
            "overflow_x": null,
            "grid_auto_flow": null,
            "grid_area": null,
            "grid_template_columns": null,
            "flex": null,
            "_model_name": "LayoutModel",
            "justify_items": null,
            "grid_row": null,
            "max_height": null,
            "align_content": null,
            "visibility": null,
            "align_self": null,
            "height": null,
            "min_height": null,
            "padding": null,
            "grid_auto_rows": null,
            "grid_gap": null,
            "max_width": null,
            "order": null,
            "_view_module_version": "1.2.0",
            "grid_template_areas": null,
            "object_position": null,
            "object_fit": null,
            "grid_auto_columns": null,
            "margin": null,
            "display": null,
            "left": null
          }
        },
        "efea2c648337492089e107d89d3d8956": {
          "model_module": "@jupyter-widgets/controls",
          "model_name": "ProgressStyleModel",
          "state": {
            "_view_name": "StyleView",
            "_model_name": "ProgressStyleModel",
            "description_width": "",
            "_view_module": "@jupyter-widgets/base",
            "_model_module_version": "1.5.0",
            "_view_count": null,
            "_view_module_version": "1.2.0",
            "bar_color": null,
            "_model_module": "@jupyter-widgets/controls"
          }
        },
        "a609be3657cf413da0bdc1a3c66246bd": {
          "model_module": "@jupyter-widgets/base",
          "model_name": "LayoutModel",
          "state": {
            "_view_name": "LayoutView",
            "grid_template_rows": null,
            "right": null,
            "justify_content": null,
            "_view_module": "@jupyter-widgets/base",
            "overflow": null,
            "_model_module_version": "1.2.0",
            "_view_count": null,
            "flex_flow": null,
            "width": null,
            "min_width": null,
            "border": null,
            "align_items": null,
            "bottom": null,
            "_model_module": "@jupyter-widgets/base",
            "top": null,
            "grid_column": null,
            "overflow_y": null,
            "overflow_x": null,
            "grid_auto_flow": null,
            "grid_area": null,
            "grid_template_columns": null,
            "flex": null,
            "_model_name": "LayoutModel",
            "justify_items": null,
            "grid_row": null,
            "max_height": null,
            "align_content": null,
            "visibility": null,
            "align_self": null,
            "height": null,
            "min_height": null,
            "padding": null,
            "grid_auto_rows": null,
            "grid_gap": null,
            "max_width": null,
            "order": null,
            "_view_module_version": "1.2.0",
            "grid_template_areas": null,
            "object_position": null,
            "object_fit": null,
            "grid_auto_columns": null,
            "margin": null,
            "display": null,
            "left": null
          }
        },
        "6613bdb0c0ac45c3a6b4c31b5869a815": {
          "model_module": "@jupyter-widgets/controls",
          "model_name": "VBoxModel",
          "state": {
            "_view_name": "VBoxView",
            "_dom_classes": [],
            "_model_name": "VBoxModel",
            "_view_module": "@jupyter-widgets/controls",
            "_model_module_version": "1.5.0",
            "_view_count": null,
            "_view_module_version": "1.5.0",
            "box_style": "",
            "layout": "IPY_MODEL_704d5610b80c44f482e2b6676d56fd50",
            "_model_module": "@jupyter-widgets/controls",
            "children": [
              "IPY_MODEL_ff76538928b744efaa5f3c7b5d963257",
              "IPY_MODEL_ec0ff8b9d2d945ab856fbc13d6fd488d"
            ]
          }
        },
        "704d5610b80c44f482e2b6676d56fd50": {
          "model_module": "@jupyter-widgets/base",
          "model_name": "LayoutModel",
          "state": {
            "_view_name": "LayoutView",
            "grid_template_rows": null,
            "right": null,
            "justify_content": null,
            "_view_module": "@jupyter-widgets/base",
            "overflow": null,
            "_model_module_version": "1.2.0",
            "_view_count": null,
            "flex_flow": null,
            "width": null,
            "min_width": null,
            "border": null,
            "align_items": null,
            "bottom": null,
            "_model_module": "@jupyter-widgets/base",
            "top": null,
            "grid_column": null,
            "overflow_y": null,
            "overflow_x": null,
            "grid_auto_flow": null,
            "grid_area": null,
            "grid_template_columns": null,
            "flex": null,
            "_model_name": "LayoutModel",
            "justify_items": null,
            "grid_row": null,
            "max_height": null,
            "align_content": null,
            "visibility": null,
            "align_self": null,
            "height": null,
            "min_height": null,
            "padding": null,
            "grid_auto_rows": null,
            "grid_gap": null,
            "max_width": null,
            "order": null,
            "_view_module_version": "1.2.0",
            "grid_template_areas": null,
            "object_position": null,
            "object_fit": null,
            "grid_auto_columns": null,
            "margin": null,
            "display": null,
            "left": null
          }
        },
        "ff76538928b744efaa5f3c7b5d963257": {
          "model_module": "@jupyter-widgets/controls",
          "model_name": "LabelModel",
          "state": {
            "_view_name": "LabelView",
            "style": "IPY_MODEL_fefbe4fd558f43048b1916ca582d300b",
            "_dom_classes": [],
            "description": "",
            "_model_name": "LabelModel",
            "placeholder": "​",
            "_view_module": "@jupyter-widgets/controls",
            "_model_module_version": "1.5.0",
            "value": " 137.68MB of 137.68MB uploaded (0.00MB deduped)\r",
            "_view_count": null,
            "_view_module_version": "1.5.0",
            "description_tooltip": null,
            "_model_module": "@jupyter-widgets/controls",
            "layout": "IPY_MODEL_39b132e7a1df4386b9084c4ebbb4e9f2"
          }
        },
        "ec0ff8b9d2d945ab856fbc13d6fd488d": {
          "model_module": "@jupyter-widgets/controls",
          "model_name": "FloatProgressModel",
          "state": {
            "_view_name": "ProgressView",
            "style": "IPY_MODEL_1661376cc5dd41f09ebb4e6b3a16e1c0",
            "_dom_classes": [],
            "description": "",
            "_model_name": "FloatProgressModel",
            "bar_style": "",
            "max": 1,
            "_view_module": "@jupyter-widgets/controls",
            "_model_module_version": "1.5.0",
            "value": 1,
            "_view_count": null,
            "_view_module_version": "1.5.0",
            "orientation": "horizontal",
            "min": 0,
            "description_tooltip": null,
            "_model_module": "@jupyter-widgets/controls",
            "layout": "IPY_MODEL_1db2f48684774e439b4e410f8869148b"
          }
        },
        "fefbe4fd558f43048b1916ca582d300b": {
          "model_module": "@jupyter-widgets/controls",
          "model_name": "DescriptionStyleModel",
          "state": {
            "_view_name": "StyleView",
            "_model_name": "DescriptionStyleModel",
            "description_width": "",
            "_view_module": "@jupyter-widgets/base",
            "_model_module_version": "1.5.0",
            "_view_count": null,
            "_view_module_version": "1.2.0",
            "_model_module": "@jupyter-widgets/controls"
          }
        },
        "39b132e7a1df4386b9084c4ebbb4e9f2": {
          "model_module": "@jupyter-widgets/base",
          "model_name": "LayoutModel",
          "state": {
            "_view_name": "LayoutView",
            "grid_template_rows": null,
            "right": null,
            "justify_content": null,
            "_view_module": "@jupyter-widgets/base",
            "overflow": null,
            "_model_module_version": "1.2.0",
            "_view_count": null,
            "flex_flow": null,
            "width": null,
            "min_width": null,
            "border": null,
            "align_items": null,
            "bottom": null,
            "_model_module": "@jupyter-widgets/base",
            "top": null,
            "grid_column": null,
            "overflow_y": null,
            "overflow_x": null,
            "grid_auto_flow": null,
            "grid_area": null,
            "grid_template_columns": null,
            "flex": null,
            "_model_name": "LayoutModel",
            "justify_items": null,
            "grid_row": null,
            "max_height": null,
            "align_content": null,
            "visibility": null,
            "align_self": null,
            "height": null,
            "min_height": null,
            "padding": null,
            "grid_auto_rows": null,
            "grid_gap": null,
            "max_width": null,
            "order": null,
            "_view_module_version": "1.2.0",
            "grid_template_areas": null,
            "object_position": null,
            "object_fit": null,
            "grid_auto_columns": null,
            "margin": null,
            "display": null,
            "left": null
          }
        },
        "1661376cc5dd41f09ebb4e6b3a16e1c0": {
          "model_module": "@jupyter-widgets/controls",
          "model_name": "ProgressStyleModel",
          "state": {
            "_view_name": "StyleView",
            "_model_name": "ProgressStyleModel",
            "description_width": "",
            "_view_module": "@jupyter-widgets/base",
            "_model_module_version": "1.5.0",
            "_view_count": null,
            "_view_module_version": "1.2.0",
            "bar_color": null,
            "_model_module": "@jupyter-widgets/controls"
          }
        },
        "1db2f48684774e439b4e410f8869148b": {
          "model_module": "@jupyter-widgets/base",
          "model_name": "LayoutModel",
          "state": {
            "_view_name": "LayoutView",
            "grid_template_rows": null,
            "right": null,
            "justify_content": null,
            "_view_module": "@jupyter-widgets/base",
            "overflow": null,
            "_model_module_version": "1.2.0",
            "_view_count": null,
            "flex_flow": null,
            "width": null,
            "min_width": null,
            "border": null,
            "align_items": null,
            "bottom": null,
            "_model_module": "@jupyter-widgets/base",
            "top": null,
            "grid_column": null,
            "overflow_y": null,
            "overflow_x": null,
            "grid_auto_flow": null,
            "grid_area": null,
            "grid_template_columns": null,
            "flex": null,
            "_model_name": "LayoutModel",
            "justify_items": null,
            "grid_row": null,
            "max_height": null,
            "align_content": null,
            "visibility": null,
            "align_self": null,
            "height": null,
            "min_height": null,
            "padding": null,
            "grid_auto_rows": null,
            "grid_gap": null,
            "max_width": null,
            "order": null,
            "_view_module_version": "1.2.0",
            "grid_template_areas": null,
            "object_position": null,
            "object_fit": null,
            "grid_auto_columns": null,
            "margin": null,
            "display": null,
            "left": null
          }
        },
        "3ecb8c38c7c840adb8b0ab9693e2c344": {
          "model_module": "@jupyter-widgets/controls",
          "model_name": "VBoxModel",
          "state": {
            "_view_name": "VBoxView",
            "_dom_classes": [],
            "_model_name": "VBoxModel",
            "_view_module": "@jupyter-widgets/controls",
            "_model_module_version": "1.5.0",
            "_view_count": null,
            "_view_module_version": "1.5.0",
            "box_style": "",
            "layout": "IPY_MODEL_35020544b42f4c63a7415d8f8449f12e",
            "_model_module": "@jupyter-widgets/controls",
            "children": [
              "IPY_MODEL_5f07efefd8b04bda95046f119dd3fdd0",
              "IPY_MODEL_1a9ee03a3cf342d2ab71374f70265df3"
            ]
          }
        },
        "35020544b42f4c63a7415d8f8449f12e": {
          "model_module": "@jupyter-widgets/base",
          "model_name": "LayoutModel",
          "state": {
            "_view_name": "LayoutView",
            "grid_template_rows": null,
            "right": null,
            "justify_content": null,
            "_view_module": "@jupyter-widgets/base",
            "overflow": null,
            "_model_module_version": "1.2.0",
            "_view_count": null,
            "flex_flow": null,
            "width": null,
            "min_width": null,
            "border": null,
            "align_items": null,
            "bottom": null,
            "_model_module": "@jupyter-widgets/base",
            "top": null,
            "grid_column": null,
            "overflow_y": null,
            "overflow_x": null,
            "grid_auto_flow": null,
            "grid_area": null,
            "grid_template_columns": null,
            "flex": null,
            "_model_name": "LayoutModel",
            "justify_items": null,
            "grid_row": null,
            "max_height": null,
            "align_content": null,
            "visibility": null,
            "align_self": null,
            "height": null,
            "min_height": null,
            "padding": null,
            "grid_auto_rows": null,
            "grid_gap": null,
            "max_width": null,
            "order": null,
            "_view_module_version": "1.2.0",
            "grid_template_areas": null,
            "object_position": null,
            "object_fit": null,
            "grid_auto_columns": null,
            "margin": null,
            "display": null,
            "left": null
          }
        },
        "5f07efefd8b04bda95046f119dd3fdd0": {
          "model_module": "@jupyter-widgets/controls",
          "model_name": "LabelModel",
          "state": {
            "_view_name": "LabelView",
            "style": "IPY_MODEL_6bdbccac1d2f4321b1a8fa07fe7da775",
            "_dom_classes": [],
            "description": "",
            "_model_name": "LabelModel",
            "placeholder": "​",
            "_view_module": "@jupyter-widgets/controls",
            "_model_module_version": "1.5.0",
            "value": " 212.10MB of 212.10MB uploaded (0.00MB deduped)\r",
            "_view_count": null,
            "_view_module_version": "1.5.0",
            "description_tooltip": null,
            "_model_module": "@jupyter-widgets/controls",
            "layout": "IPY_MODEL_705d559458b540c7a12405c7c1557f54"
          }
        },
        "1a9ee03a3cf342d2ab71374f70265df3": {
          "model_module": "@jupyter-widgets/controls",
          "model_name": "FloatProgressModel",
          "state": {
            "_view_name": "ProgressView",
            "style": "IPY_MODEL_2831e50940b54fe8b05873de4ccc337b",
            "_dom_classes": [],
            "description": "",
            "_model_name": "FloatProgressModel",
            "bar_style": "",
            "max": 1,
            "_view_module": "@jupyter-widgets/controls",
            "_model_module_version": "1.5.0",
            "value": 1,
            "_view_count": null,
            "_view_module_version": "1.5.0",
            "orientation": "horizontal",
            "min": 0,
            "description_tooltip": null,
            "_model_module": "@jupyter-widgets/controls",
            "layout": "IPY_MODEL_713a708ed5024b32878a89cae7160b40"
          }
        },
        "6bdbccac1d2f4321b1a8fa07fe7da775": {
          "model_module": "@jupyter-widgets/controls",
          "model_name": "DescriptionStyleModel",
          "state": {
            "_view_name": "StyleView",
            "_model_name": "DescriptionStyleModel",
            "description_width": "",
            "_view_module": "@jupyter-widgets/base",
            "_model_module_version": "1.5.0",
            "_view_count": null,
            "_view_module_version": "1.2.0",
            "_model_module": "@jupyter-widgets/controls"
          }
        },
        "705d559458b540c7a12405c7c1557f54": {
          "model_module": "@jupyter-widgets/base",
          "model_name": "LayoutModel",
          "state": {
            "_view_name": "LayoutView",
            "grid_template_rows": null,
            "right": null,
            "justify_content": null,
            "_view_module": "@jupyter-widgets/base",
            "overflow": null,
            "_model_module_version": "1.2.0",
            "_view_count": null,
            "flex_flow": null,
            "width": null,
            "min_width": null,
            "border": null,
            "align_items": null,
            "bottom": null,
            "_model_module": "@jupyter-widgets/base",
            "top": null,
            "grid_column": null,
            "overflow_y": null,
            "overflow_x": null,
            "grid_auto_flow": null,
            "grid_area": null,
            "grid_template_columns": null,
            "flex": null,
            "_model_name": "LayoutModel",
            "justify_items": null,
            "grid_row": null,
            "max_height": null,
            "align_content": null,
            "visibility": null,
            "align_self": null,
            "height": null,
            "min_height": null,
            "padding": null,
            "grid_auto_rows": null,
            "grid_gap": null,
            "max_width": null,
            "order": null,
            "_view_module_version": "1.2.0",
            "grid_template_areas": null,
            "object_position": null,
            "object_fit": null,
            "grid_auto_columns": null,
            "margin": null,
            "display": null,
            "left": null
          }
        },
        "2831e50940b54fe8b05873de4ccc337b": {
          "model_module": "@jupyter-widgets/controls",
          "model_name": "ProgressStyleModel",
          "state": {
            "_view_name": "StyleView",
            "_model_name": "ProgressStyleModel",
            "description_width": "",
            "_view_module": "@jupyter-widgets/base",
            "_model_module_version": "1.5.0",
            "_view_count": null,
            "_view_module_version": "1.2.0",
            "bar_color": null,
            "_model_module": "@jupyter-widgets/controls"
          }
        },
        "713a708ed5024b32878a89cae7160b40": {
          "model_module": "@jupyter-widgets/base",
          "model_name": "LayoutModel",
          "state": {
            "_view_name": "LayoutView",
            "grid_template_rows": null,
            "right": null,
            "justify_content": null,
            "_view_module": "@jupyter-widgets/base",
            "overflow": null,
            "_model_module_version": "1.2.0",
            "_view_count": null,
            "flex_flow": null,
            "width": null,
            "min_width": null,
            "border": null,
            "align_items": null,
            "bottom": null,
            "_model_module": "@jupyter-widgets/base",
            "top": null,
            "grid_column": null,
            "overflow_y": null,
            "overflow_x": null,
            "grid_auto_flow": null,
            "grid_area": null,
            "grid_template_columns": null,
            "flex": null,
            "_model_name": "LayoutModel",
            "justify_items": null,
            "grid_row": null,
            "max_height": null,
            "align_content": null,
            "visibility": null,
            "align_self": null,
            "height": null,
            "min_height": null,
            "padding": null,
            "grid_auto_rows": null,
            "grid_gap": null,
            "max_width": null,
            "order": null,
            "_view_module_version": "1.2.0",
            "grid_template_areas": null,
            "object_position": null,
            "object_fit": null,
            "grid_auto_columns": null,
            "margin": null,
            "display": null,
            "left": null
          }
        },
        "66105a6519314b669047e00ac5e25a02": {
          "model_module": "@jupyter-widgets/controls",
          "model_name": "VBoxModel",
          "state": {
            "_view_name": "VBoxView",
            "_dom_classes": [],
            "_model_name": "VBoxModel",
            "_view_module": "@jupyter-widgets/controls",
            "_model_module_version": "1.5.0",
            "_view_count": null,
            "_view_module_version": "1.5.0",
            "box_style": "",
            "layout": "IPY_MODEL_145c869ee12646b583e0e18e2b173a59",
            "_model_module": "@jupyter-widgets/controls",
            "children": [
              "IPY_MODEL_6f2af3fb84b54f4aac5cbdce61eab1a5",
              "IPY_MODEL_f100f891940a4008a365f6cd438e4405"
            ]
          }
        },
        "145c869ee12646b583e0e18e2b173a59": {
          "model_module": "@jupyter-widgets/base",
          "model_name": "LayoutModel",
          "state": {
            "_view_name": "LayoutView",
            "grid_template_rows": null,
            "right": null,
            "justify_content": null,
            "_view_module": "@jupyter-widgets/base",
            "overflow": null,
            "_model_module_version": "1.2.0",
            "_view_count": null,
            "flex_flow": null,
            "width": null,
            "min_width": null,
            "border": null,
            "align_items": null,
            "bottom": null,
            "_model_module": "@jupyter-widgets/base",
            "top": null,
            "grid_column": null,
            "overflow_y": null,
            "overflow_x": null,
            "grid_auto_flow": null,
            "grid_area": null,
            "grid_template_columns": null,
            "flex": null,
            "_model_name": "LayoutModel",
            "justify_items": null,
            "grid_row": null,
            "max_height": null,
            "align_content": null,
            "visibility": null,
            "align_self": null,
            "height": null,
            "min_height": null,
            "padding": null,
            "grid_auto_rows": null,
            "grid_gap": null,
            "max_width": null,
            "order": null,
            "_view_module_version": "1.2.0",
            "grid_template_areas": null,
            "object_position": null,
            "object_fit": null,
            "grid_auto_columns": null,
            "margin": null,
            "display": null,
            "left": null
          }
        },
        "6f2af3fb84b54f4aac5cbdce61eab1a5": {
          "model_module": "@jupyter-widgets/controls",
          "model_name": "LabelModel",
          "state": {
            "_view_name": "LabelView",
            "style": "IPY_MODEL_b0a400ca7ea74fccbf6cbdc5cbe20b0b",
            "_dom_classes": [],
            "description": "",
            "_model_name": "LabelModel",
            "placeholder": "​",
            "_view_module": "@jupyter-widgets/controls",
            "_model_module_version": "1.5.0",
            "value": " 175.85MB of 175.85MB uploaded (0.00MB deduped)\r",
            "_view_count": null,
            "_view_module_version": "1.5.0",
            "description_tooltip": null,
            "_model_module": "@jupyter-widgets/controls",
            "layout": "IPY_MODEL_5795aace67024d31927c0f20e512bf29"
          }
        },
        "f100f891940a4008a365f6cd438e4405": {
          "model_module": "@jupyter-widgets/controls",
          "model_name": "FloatProgressModel",
          "state": {
            "_view_name": "ProgressView",
            "style": "IPY_MODEL_0006f18e4c534a0484112aad5ee5b6c0",
            "_dom_classes": [],
            "description": "",
            "_model_name": "FloatProgressModel",
            "bar_style": "",
            "max": 1,
            "_view_module": "@jupyter-widgets/controls",
            "_model_module_version": "1.5.0",
            "value": 1,
            "_view_count": null,
            "_view_module_version": "1.5.0",
            "orientation": "horizontal",
            "min": 0,
            "description_tooltip": null,
            "_model_module": "@jupyter-widgets/controls",
            "layout": "IPY_MODEL_8505ff9c63f04c299fcf0e198611d57b"
          }
        },
        "b0a400ca7ea74fccbf6cbdc5cbe20b0b": {
          "model_module": "@jupyter-widgets/controls",
          "model_name": "DescriptionStyleModel",
          "state": {
            "_view_name": "StyleView",
            "_model_name": "DescriptionStyleModel",
            "description_width": "",
            "_view_module": "@jupyter-widgets/base",
            "_model_module_version": "1.5.0",
            "_view_count": null,
            "_view_module_version": "1.2.0",
            "_model_module": "@jupyter-widgets/controls"
          }
        },
        "5795aace67024d31927c0f20e512bf29": {
          "model_module": "@jupyter-widgets/base",
          "model_name": "LayoutModel",
          "state": {
            "_view_name": "LayoutView",
            "grid_template_rows": null,
            "right": null,
            "justify_content": null,
            "_view_module": "@jupyter-widgets/base",
            "overflow": null,
            "_model_module_version": "1.2.0",
            "_view_count": null,
            "flex_flow": null,
            "width": null,
            "min_width": null,
            "border": null,
            "align_items": null,
            "bottom": null,
            "_model_module": "@jupyter-widgets/base",
            "top": null,
            "grid_column": null,
            "overflow_y": null,
            "overflow_x": null,
            "grid_auto_flow": null,
            "grid_area": null,
            "grid_template_columns": null,
            "flex": null,
            "_model_name": "LayoutModel",
            "justify_items": null,
            "grid_row": null,
            "max_height": null,
            "align_content": null,
            "visibility": null,
            "align_self": null,
            "height": null,
            "min_height": null,
            "padding": null,
            "grid_auto_rows": null,
            "grid_gap": null,
            "max_width": null,
            "order": null,
            "_view_module_version": "1.2.0",
            "grid_template_areas": null,
            "object_position": null,
            "object_fit": null,
            "grid_auto_columns": null,
            "margin": null,
            "display": null,
            "left": null
          }
        },
        "0006f18e4c534a0484112aad5ee5b6c0": {
          "model_module": "@jupyter-widgets/controls",
          "model_name": "ProgressStyleModel",
          "state": {
            "_view_name": "StyleView",
            "_model_name": "ProgressStyleModel",
            "description_width": "",
            "_view_module": "@jupyter-widgets/base",
            "_model_module_version": "1.5.0",
            "_view_count": null,
            "_view_module_version": "1.2.0",
            "bar_color": null,
            "_model_module": "@jupyter-widgets/controls"
          }
        },
        "8505ff9c63f04c299fcf0e198611d57b": {
          "model_module": "@jupyter-widgets/base",
          "model_name": "LayoutModel",
          "state": {
            "_view_name": "LayoutView",
            "grid_template_rows": null,
            "right": null,
            "justify_content": null,
            "_view_module": "@jupyter-widgets/base",
            "overflow": null,
            "_model_module_version": "1.2.0",
            "_view_count": null,
            "flex_flow": null,
            "width": null,
            "min_width": null,
            "border": null,
            "align_items": null,
            "bottom": null,
            "_model_module": "@jupyter-widgets/base",
            "top": null,
            "grid_column": null,
            "overflow_y": null,
            "overflow_x": null,
            "grid_auto_flow": null,
            "grid_area": null,
            "grid_template_columns": null,
            "flex": null,
            "_model_name": "LayoutModel",
            "justify_items": null,
            "grid_row": null,
            "max_height": null,
            "align_content": null,
            "visibility": null,
            "align_self": null,
            "height": null,
            "min_height": null,
            "padding": null,
            "grid_auto_rows": null,
            "grid_gap": null,
            "max_width": null,
            "order": null,
            "_view_module_version": "1.2.0",
            "grid_template_areas": null,
            "object_position": null,
            "object_fit": null,
            "grid_auto_columns": null,
            "margin": null,
            "display": null,
            "left": null
          }
        },
        "0b6f98e790454d1587395c45fba9f6d2": {
          "model_module": "@jupyter-widgets/controls",
          "model_name": "VBoxModel",
          "state": {
            "_view_name": "VBoxView",
            "_dom_classes": [],
            "_model_name": "VBoxModel",
            "_view_module": "@jupyter-widgets/controls",
            "_model_module_version": "1.5.0",
            "_view_count": null,
            "_view_module_version": "1.5.0",
            "box_style": "",
            "layout": "IPY_MODEL_40916f28115c4abb9103f62f785ba68a",
            "_model_module": "@jupyter-widgets/controls",
            "children": [
              "IPY_MODEL_b8d65037b8644701bf63e4263e947b8f",
              "IPY_MODEL_d9af953d3c8e43729a4d1fa7e1f7ee8f"
            ]
          }
        },
        "40916f28115c4abb9103f62f785ba68a": {
          "model_module": "@jupyter-widgets/base",
          "model_name": "LayoutModel",
          "state": {
            "_view_name": "LayoutView",
            "grid_template_rows": null,
            "right": null,
            "justify_content": null,
            "_view_module": "@jupyter-widgets/base",
            "overflow": null,
            "_model_module_version": "1.2.0",
            "_view_count": null,
            "flex_flow": null,
            "width": null,
            "min_width": null,
            "border": null,
            "align_items": null,
            "bottom": null,
            "_model_module": "@jupyter-widgets/base",
            "top": null,
            "grid_column": null,
            "overflow_y": null,
            "overflow_x": null,
            "grid_auto_flow": null,
            "grid_area": null,
            "grid_template_columns": null,
            "flex": null,
            "_model_name": "LayoutModel",
            "justify_items": null,
            "grid_row": null,
            "max_height": null,
            "align_content": null,
            "visibility": null,
            "align_self": null,
            "height": null,
            "min_height": null,
            "padding": null,
            "grid_auto_rows": null,
            "grid_gap": null,
            "max_width": null,
            "order": null,
            "_view_module_version": "1.2.0",
            "grid_template_areas": null,
            "object_position": null,
            "object_fit": null,
            "grid_auto_columns": null,
            "margin": null,
            "display": null,
            "left": null
          }
        },
        "b8d65037b8644701bf63e4263e947b8f": {
          "model_module": "@jupyter-widgets/controls",
          "model_name": "LabelModel",
          "state": {
            "_view_name": "LabelView",
            "style": "IPY_MODEL_447bc42e7a8a4baf86828bfb3a1ac189",
            "_dom_classes": [],
            "description": "",
            "_model_name": "LabelModel",
            "placeholder": "​",
            "_view_module": "@jupyter-widgets/controls",
            "_model_module_version": "1.5.0",
            "value": " 285.84MB of 285.84MB uploaded (0.00MB deduped)\r",
            "_view_count": null,
            "_view_module_version": "1.5.0",
            "description_tooltip": null,
            "_model_module": "@jupyter-widgets/controls",
            "layout": "IPY_MODEL_55709351dc8449909271df4d5ecc9d3e"
          }
        },
        "d9af953d3c8e43729a4d1fa7e1f7ee8f": {
          "model_module": "@jupyter-widgets/controls",
          "model_name": "FloatProgressModel",
          "state": {
            "_view_name": "ProgressView",
            "style": "IPY_MODEL_fdc7e23ce6a1476d86f0a9f82bfb96fe",
            "_dom_classes": [],
            "description": "",
            "_model_name": "FloatProgressModel",
            "bar_style": "",
            "max": 1,
            "_view_module": "@jupyter-widgets/controls",
            "_model_module_version": "1.5.0",
            "value": 1,
            "_view_count": null,
            "_view_module_version": "1.5.0",
            "orientation": "horizontal",
            "min": 0,
            "description_tooltip": null,
            "_model_module": "@jupyter-widgets/controls",
            "layout": "IPY_MODEL_f01b4b0812ff4ea4acd6fd627d94be27"
          }
        },
        "447bc42e7a8a4baf86828bfb3a1ac189": {
          "model_module": "@jupyter-widgets/controls",
          "model_name": "DescriptionStyleModel",
          "state": {
            "_view_name": "StyleView",
            "_model_name": "DescriptionStyleModel",
            "description_width": "",
            "_view_module": "@jupyter-widgets/base",
            "_model_module_version": "1.5.0",
            "_view_count": null,
            "_view_module_version": "1.2.0",
            "_model_module": "@jupyter-widgets/controls"
          }
        },
        "55709351dc8449909271df4d5ecc9d3e": {
          "model_module": "@jupyter-widgets/base",
          "model_name": "LayoutModel",
          "state": {
            "_view_name": "LayoutView",
            "grid_template_rows": null,
            "right": null,
            "justify_content": null,
            "_view_module": "@jupyter-widgets/base",
            "overflow": null,
            "_model_module_version": "1.2.0",
            "_view_count": null,
            "flex_flow": null,
            "width": null,
            "min_width": null,
            "border": null,
            "align_items": null,
            "bottom": null,
            "_model_module": "@jupyter-widgets/base",
            "top": null,
            "grid_column": null,
            "overflow_y": null,
            "overflow_x": null,
            "grid_auto_flow": null,
            "grid_area": null,
            "grid_template_columns": null,
            "flex": null,
            "_model_name": "LayoutModel",
            "justify_items": null,
            "grid_row": null,
            "max_height": null,
            "align_content": null,
            "visibility": null,
            "align_self": null,
            "height": null,
            "min_height": null,
            "padding": null,
            "grid_auto_rows": null,
            "grid_gap": null,
            "max_width": null,
            "order": null,
            "_view_module_version": "1.2.0",
            "grid_template_areas": null,
            "object_position": null,
            "object_fit": null,
            "grid_auto_columns": null,
            "margin": null,
            "display": null,
            "left": null
          }
        },
        "fdc7e23ce6a1476d86f0a9f82bfb96fe": {
          "model_module": "@jupyter-widgets/controls",
          "model_name": "ProgressStyleModel",
          "state": {
            "_view_name": "StyleView",
            "_model_name": "ProgressStyleModel",
            "description_width": "",
            "_view_module": "@jupyter-widgets/base",
            "_model_module_version": "1.5.0",
            "_view_count": null,
            "_view_module_version": "1.2.0",
            "bar_color": null,
            "_model_module": "@jupyter-widgets/controls"
          }
        },
        "f01b4b0812ff4ea4acd6fd627d94be27": {
          "model_module": "@jupyter-widgets/base",
          "model_name": "LayoutModel",
          "state": {
            "_view_name": "LayoutView",
            "grid_template_rows": null,
            "right": null,
            "justify_content": null,
            "_view_module": "@jupyter-widgets/base",
            "overflow": null,
            "_model_module_version": "1.2.0",
            "_view_count": null,
            "flex_flow": null,
            "width": null,
            "min_width": null,
            "border": null,
            "align_items": null,
            "bottom": null,
            "_model_module": "@jupyter-widgets/base",
            "top": null,
            "grid_column": null,
            "overflow_y": null,
            "overflow_x": null,
            "grid_auto_flow": null,
            "grid_area": null,
            "grid_template_columns": null,
            "flex": null,
            "_model_name": "LayoutModel",
            "justify_items": null,
            "grid_row": null,
            "max_height": null,
            "align_content": null,
            "visibility": null,
            "align_self": null,
            "height": null,
            "min_height": null,
            "padding": null,
            "grid_auto_rows": null,
            "grid_gap": null,
            "max_width": null,
            "order": null,
            "_view_module_version": "1.2.0",
            "grid_template_areas": null,
            "object_position": null,
            "object_fit": null,
            "grid_auto_columns": null,
            "margin": null,
            "display": null,
            "left": null
          }
        },
        "46977389f3eb4cde897e8474320bfda8": {
          "model_module": "@jupyter-widgets/controls",
          "model_name": "VBoxModel",
          "state": {
            "_view_name": "VBoxView",
            "_dom_classes": [],
            "_model_name": "VBoxModel",
            "_view_module": "@jupyter-widgets/controls",
            "_model_module_version": "1.5.0",
            "_view_count": null,
            "_view_module_version": "1.5.0",
            "box_style": "",
            "layout": "IPY_MODEL_e49f4a69d3da493b9daa5df6fa37b051",
            "_model_module": "@jupyter-widgets/controls",
            "children": [
              "IPY_MODEL_f7a04046cc7c4817b914f3d84b8ffc62",
              "IPY_MODEL_a8ac1b425e4a401caf649efbd93013b0"
            ]
          }
        },
        "e49f4a69d3da493b9daa5df6fa37b051": {
          "model_module": "@jupyter-widgets/base",
          "model_name": "LayoutModel",
          "state": {
            "_view_name": "LayoutView",
            "grid_template_rows": null,
            "right": null,
            "justify_content": null,
            "_view_module": "@jupyter-widgets/base",
            "overflow": null,
            "_model_module_version": "1.2.0",
            "_view_count": null,
            "flex_flow": null,
            "width": null,
            "min_width": null,
            "border": null,
            "align_items": null,
            "bottom": null,
            "_model_module": "@jupyter-widgets/base",
            "top": null,
            "grid_column": null,
            "overflow_y": null,
            "overflow_x": null,
            "grid_auto_flow": null,
            "grid_area": null,
            "grid_template_columns": null,
            "flex": null,
            "_model_name": "LayoutModel",
            "justify_items": null,
            "grid_row": null,
            "max_height": null,
            "align_content": null,
            "visibility": null,
            "align_self": null,
            "height": null,
            "min_height": null,
            "padding": null,
            "grid_auto_rows": null,
            "grid_gap": null,
            "max_width": null,
            "order": null,
            "_view_module_version": "1.2.0",
            "grid_template_areas": null,
            "object_position": null,
            "object_fit": null,
            "grid_auto_columns": null,
            "margin": null,
            "display": null,
            "left": null
          }
        },
        "f7a04046cc7c4817b914f3d84b8ffc62": {
          "model_module": "@jupyter-widgets/controls",
          "model_name": "LabelModel",
          "state": {
            "_view_name": "LabelView",
            "style": "IPY_MODEL_c9332066f99c48118dd5724393c4b4d6",
            "_dom_classes": [],
            "description": "",
            "_model_name": "LabelModel",
            "placeholder": "​",
            "_view_module": "@jupyter-widgets/controls",
            "_model_module_version": "1.5.0",
            "value": " 248.95MB of 248.95MB uploaded (0.00MB deduped)\r",
            "_view_count": null,
            "_view_module_version": "1.5.0",
            "description_tooltip": null,
            "_model_module": "@jupyter-widgets/controls",
            "layout": "IPY_MODEL_0ab7bab9efa74fda95d48a93321ead55"
          }
        },
        "a8ac1b425e4a401caf649efbd93013b0": {
          "model_module": "@jupyter-widgets/controls",
          "model_name": "FloatProgressModel",
          "state": {
            "_view_name": "ProgressView",
            "style": "IPY_MODEL_70be7d0c1054449890ad4d2ad2ed7dc1",
            "_dom_classes": [],
            "description": "",
            "_model_name": "FloatProgressModel",
            "bar_style": "",
            "max": 1,
            "_view_module": "@jupyter-widgets/controls",
            "_model_module_version": "1.5.0",
            "value": 1,
            "_view_count": null,
            "_view_module_version": "1.5.0",
            "orientation": "horizontal",
            "min": 0,
            "description_tooltip": null,
            "_model_module": "@jupyter-widgets/controls",
            "layout": "IPY_MODEL_389c9d1bf88048ee89cd67aa766e8e1f"
          }
        },
        "c9332066f99c48118dd5724393c4b4d6": {
          "model_module": "@jupyter-widgets/controls",
          "model_name": "DescriptionStyleModel",
          "state": {
            "_view_name": "StyleView",
            "_model_name": "DescriptionStyleModel",
            "description_width": "",
            "_view_module": "@jupyter-widgets/base",
            "_model_module_version": "1.5.0",
            "_view_count": null,
            "_view_module_version": "1.2.0",
            "_model_module": "@jupyter-widgets/controls"
          }
        },
        "0ab7bab9efa74fda95d48a93321ead55": {
          "model_module": "@jupyter-widgets/base",
          "model_name": "LayoutModel",
          "state": {
            "_view_name": "LayoutView",
            "grid_template_rows": null,
            "right": null,
            "justify_content": null,
            "_view_module": "@jupyter-widgets/base",
            "overflow": null,
            "_model_module_version": "1.2.0",
            "_view_count": null,
            "flex_flow": null,
            "width": null,
            "min_width": null,
            "border": null,
            "align_items": null,
            "bottom": null,
            "_model_module": "@jupyter-widgets/base",
            "top": null,
            "grid_column": null,
            "overflow_y": null,
            "overflow_x": null,
            "grid_auto_flow": null,
            "grid_area": null,
            "grid_template_columns": null,
            "flex": null,
            "_model_name": "LayoutModel",
            "justify_items": null,
            "grid_row": null,
            "max_height": null,
            "align_content": null,
            "visibility": null,
            "align_self": null,
            "height": null,
            "min_height": null,
            "padding": null,
            "grid_auto_rows": null,
            "grid_gap": null,
            "max_width": null,
            "order": null,
            "_view_module_version": "1.2.0",
            "grid_template_areas": null,
            "object_position": null,
            "object_fit": null,
            "grid_auto_columns": null,
            "margin": null,
            "display": null,
            "left": null
          }
        },
        "70be7d0c1054449890ad4d2ad2ed7dc1": {
          "model_module": "@jupyter-widgets/controls",
          "model_name": "ProgressStyleModel",
          "state": {
            "_view_name": "StyleView",
            "_model_name": "ProgressStyleModel",
            "description_width": "",
            "_view_module": "@jupyter-widgets/base",
            "_model_module_version": "1.5.0",
            "_view_count": null,
            "_view_module_version": "1.2.0",
            "bar_color": null,
            "_model_module": "@jupyter-widgets/controls"
          }
        },
        "389c9d1bf88048ee89cd67aa766e8e1f": {
          "model_module": "@jupyter-widgets/base",
          "model_name": "LayoutModel",
          "state": {
            "_view_name": "LayoutView",
            "grid_template_rows": null,
            "right": null,
            "justify_content": null,
            "_view_module": "@jupyter-widgets/base",
            "overflow": null,
            "_model_module_version": "1.2.0",
            "_view_count": null,
            "flex_flow": null,
            "width": null,
            "min_width": null,
            "border": null,
            "align_items": null,
            "bottom": null,
            "_model_module": "@jupyter-widgets/base",
            "top": null,
            "grid_column": null,
            "overflow_y": null,
            "overflow_x": null,
            "grid_auto_flow": null,
            "grid_area": null,
            "grid_template_columns": null,
            "flex": null,
            "_model_name": "LayoutModel",
            "justify_items": null,
            "grid_row": null,
            "max_height": null,
            "align_content": null,
            "visibility": null,
            "align_self": null,
            "height": null,
            "min_height": null,
            "padding": null,
            "grid_auto_rows": null,
            "grid_gap": null,
            "max_width": null,
            "order": null,
            "_view_module_version": "1.2.0",
            "grid_template_areas": null,
            "object_position": null,
            "object_fit": null,
            "grid_auto_columns": null,
            "margin": null,
            "display": null,
            "left": null
          }
        },
        "169abeb74e444f5f8dec547abe9cc140": {
          "model_module": "@jupyter-widgets/controls",
          "model_name": "VBoxModel",
          "state": {
            "_view_name": "VBoxView",
            "_dom_classes": [],
            "_model_name": "VBoxModel",
            "_view_module": "@jupyter-widgets/controls",
            "_model_module_version": "1.5.0",
            "_view_count": null,
            "_view_module_version": "1.5.0",
            "box_style": "",
            "layout": "IPY_MODEL_81a1ba27b5b048558f93df85a206e9fb",
            "_model_module": "@jupyter-widgets/controls",
            "children": [
              "IPY_MODEL_730140e064fc4dbbbdad021e6a7ef575",
              "IPY_MODEL_d0473f5dd61940508dda2440d1185e04"
            ]
          }
        },
        "81a1ba27b5b048558f93df85a206e9fb": {
          "model_module": "@jupyter-widgets/base",
          "model_name": "LayoutModel",
          "state": {
            "_view_name": "LayoutView",
            "grid_template_rows": null,
            "right": null,
            "justify_content": null,
            "_view_module": "@jupyter-widgets/base",
            "overflow": null,
            "_model_module_version": "1.2.0",
            "_view_count": null,
            "flex_flow": null,
            "width": null,
            "min_width": null,
            "border": null,
            "align_items": null,
            "bottom": null,
            "_model_module": "@jupyter-widgets/base",
            "top": null,
            "grid_column": null,
            "overflow_y": null,
            "overflow_x": null,
            "grid_auto_flow": null,
            "grid_area": null,
            "grid_template_columns": null,
            "flex": null,
            "_model_name": "LayoutModel",
            "justify_items": null,
            "grid_row": null,
            "max_height": null,
            "align_content": null,
            "visibility": null,
            "align_self": null,
            "height": null,
            "min_height": null,
            "padding": null,
            "grid_auto_rows": null,
            "grid_gap": null,
            "max_width": null,
            "order": null,
            "_view_module_version": "1.2.0",
            "grid_template_areas": null,
            "object_position": null,
            "object_fit": null,
            "grid_auto_columns": null,
            "margin": null,
            "display": null,
            "left": null
          }
        },
        "730140e064fc4dbbbdad021e6a7ef575": {
          "model_module": "@jupyter-widgets/controls",
          "model_name": "LabelModel",
          "state": {
            "_view_name": "LabelView",
            "style": "IPY_MODEL_312ad6a99c1744c0bc8f3d4ebc8c69f7",
            "_dom_classes": [],
            "description": "",
            "_model_name": "LabelModel",
            "placeholder": "​",
            "_view_module": "@jupyter-widgets/controls",
            "_model_module_version": "1.5.0",
            "value": " 220.41MB of 220.41MB uploaded (0.00MB deduped)\r",
            "_view_count": null,
            "_view_module_version": "1.5.0",
            "description_tooltip": null,
            "_model_module": "@jupyter-widgets/controls",
            "layout": "IPY_MODEL_5de4274df6e342188da16639e0fc2bb4"
          }
        },
        "d0473f5dd61940508dda2440d1185e04": {
          "model_module": "@jupyter-widgets/controls",
          "model_name": "FloatProgressModel",
          "state": {
            "_view_name": "ProgressView",
            "style": "IPY_MODEL_5d8885a90eb04ccf905fd6463f7a2480",
            "_dom_classes": [],
            "description": "",
            "_model_name": "FloatProgressModel",
            "bar_style": "",
            "max": 1,
            "_view_module": "@jupyter-widgets/controls",
            "_model_module_version": "1.5.0",
            "value": 1,
            "_view_count": null,
            "_view_module_version": "1.5.0",
            "orientation": "horizontal",
            "min": 0,
            "description_tooltip": null,
            "_model_module": "@jupyter-widgets/controls",
            "layout": "IPY_MODEL_a2accee4fd224f72b75fe9ff2f3671d1"
          }
        },
        "312ad6a99c1744c0bc8f3d4ebc8c69f7": {
          "model_module": "@jupyter-widgets/controls",
          "model_name": "DescriptionStyleModel",
          "state": {
            "_view_name": "StyleView",
            "_model_name": "DescriptionStyleModel",
            "description_width": "",
            "_view_module": "@jupyter-widgets/base",
            "_model_module_version": "1.5.0",
            "_view_count": null,
            "_view_module_version": "1.2.0",
            "_model_module": "@jupyter-widgets/controls"
          }
        },
        "5de4274df6e342188da16639e0fc2bb4": {
          "model_module": "@jupyter-widgets/base",
          "model_name": "LayoutModel",
          "state": {
            "_view_name": "LayoutView",
            "grid_template_rows": null,
            "right": null,
            "justify_content": null,
            "_view_module": "@jupyter-widgets/base",
            "overflow": null,
            "_model_module_version": "1.2.0",
            "_view_count": null,
            "flex_flow": null,
            "width": null,
            "min_width": null,
            "border": null,
            "align_items": null,
            "bottom": null,
            "_model_module": "@jupyter-widgets/base",
            "top": null,
            "grid_column": null,
            "overflow_y": null,
            "overflow_x": null,
            "grid_auto_flow": null,
            "grid_area": null,
            "grid_template_columns": null,
            "flex": null,
            "_model_name": "LayoutModel",
            "justify_items": null,
            "grid_row": null,
            "max_height": null,
            "align_content": null,
            "visibility": null,
            "align_self": null,
            "height": null,
            "min_height": null,
            "padding": null,
            "grid_auto_rows": null,
            "grid_gap": null,
            "max_width": null,
            "order": null,
            "_view_module_version": "1.2.0",
            "grid_template_areas": null,
            "object_position": null,
            "object_fit": null,
            "grid_auto_columns": null,
            "margin": null,
            "display": null,
            "left": null
          }
        },
        "5d8885a90eb04ccf905fd6463f7a2480": {
          "model_module": "@jupyter-widgets/controls",
          "model_name": "ProgressStyleModel",
          "state": {
            "_view_name": "StyleView",
            "_model_name": "ProgressStyleModel",
            "description_width": "",
            "_view_module": "@jupyter-widgets/base",
            "_model_module_version": "1.5.0",
            "_view_count": null,
            "_view_module_version": "1.2.0",
            "bar_color": null,
            "_model_module": "@jupyter-widgets/controls"
          }
        },
        "a2accee4fd224f72b75fe9ff2f3671d1": {
          "model_module": "@jupyter-widgets/base",
          "model_name": "LayoutModel",
          "state": {
            "_view_name": "LayoutView",
            "grid_template_rows": null,
            "right": null,
            "justify_content": null,
            "_view_module": "@jupyter-widgets/base",
            "overflow": null,
            "_model_module_version": "1.2.0",
            "_view_count": null,
            "flex_flow": null,
            "width": null,
            "min_width": null,
            "border": null,
            "align_items": null,
            "bottom": null,
            "_model_module": "@jupyter-widgets/base",
            "top": null,
            "grid_column": null,
            "overflow_y": null,
            "overflow_x": null,
            "grid_auto_flow": null,
            "grid_area": null,
            "grid_template_columns": null,
            "flex": null,
            "_model_name": "LayoutModel",
            "justify_items": null,
            "grid_row": null,
            "max_height": null,
            "align_content": null,
            "visibility": null,
            "align_self": null,
            "height": null,
            "min_height": null,
            "padding": null,
            "grid_auto_rows": null,
            "grid_gap": null,
            "max_width": null,
            "order": null,
            "_view_module_version": "1.2.0",
            "grid_template_areas": null,
            "object_position": null,
            "object_fit": null,
            "grid_auto_columns": null,
            "margin": null,
            "display": null,
            "left": null
          }
        },
        "48f8b7be1ed040779748cf0fd0bc3672": {
          "model_module": "@jupyter-widgets/controls",
          "model_name": "VBoxModel",
          "state": {
            "_view_name": "VBoxView",
            "_dom_classes": [],
            "_model_name": "VBoxModel",
            "_view_module": "@jupyter-widgets/controls",
            "_model_module_version": "1.5.0",
            "_view_count": null,
            "_view_module_version": "1.5.0",
            "box_style": "",
            "layout": "IPY_MODEL_59bd39d7bda349b999df75fb05c8f9bf",
            "_model_module": "@jupyter-widgets/controls",
            "children": [
              "IPY_MODEL_d96e778eb9ac45cd83bd15c3e129aa8e",
              "IPY_MODEL_cd280d2a657747bfaa61cdf4751e5312"
            ]
          }
        },
        "59bd39d7bda349b999df75fb05c8f9bf": {
          "model_module": "@jupyter-widgets/base",
          "model_name": "LayoutModel",
          "state": {
            "_view_name": "LayoutView",
            "grid_template_rows": null,
            "right": null,
            "justify_content": null,
            "_view_module": "@jupyter-widgets/base",
            "overflow": null,
            "_model_module_version": "1.2.0",
            "_view_count": null,
            "flex_flow": null,
            "width": null,
            "min_width": null,
            "border": null,
            "align_items": null,
            "bottom": null,
            "_model_module": "@jupyter-widgets/base",
            "top": null,
            "grid_column": null,
            "overflow_y": null,
            "overflow_x": null,
            "grid_auto_flow": null,
            "grid_area": null,
            "grid_template_columns": null,
            "flex": null,
            "_model_name": "LayoutModel",
            "justify_items": null,
            "grid_row": null,
            "max_height": null,
            "align_content": null,
            "visibility": null,
            "align_self": null,
            "height": null,
            "min_height": null,
            "padding": null,
            "grid_auto_rows": null,
            "grid_gap": null,
            "max_width": null,
            "order": null,
            "_view_module_version": "1.2.0",
            "grid_template_areas": null,
            "object_position": null,
            "object_fit": null,
            "grid_auto_columns": null,
            "margin": null,
            "display": null,
            "left": null
          }
        },
        "d96e778eb9ac45cd83bd15c3e129aa8e": {
          "model_module": "@jupyter-widgets/controls",
          "model_name": "LabelModel",
          "state": {
            "_view_name": "LabelView",
            "style": "IPY_MODEL_fdd36e572a3845d28e2c899da71395e7",
            "_dom_classes": [],
            "description": "",
            "_model_name": "LabelModel",
            "placeholder": "​",
            "_view_module": "@jupyter-widgets/controls",
            "_model_module_version": "1.5.0",
            "value": " 186.32MB of 186.32MB uploaded (0.00MB deduped)\r",
            "_view_count": null,
            "_view_module_version": "1.5.0",
            "description_tooltip": null,
            "_model_module": "@jupyter-widgets/controls",
            "layout": "IPY_MODEL_e6699f0d311b4b51aaa0f02a95088189"
          }
        },
        "cd280d2a657747bfaa61cdf4751e5312": {
          "model_module": "@jupyter-widgets/controls",
          "model_name": "FloatProgressModel",
          "state": {
            "_view_name": "ProgressView",
            "style": "IPY_MODEL_8b85e20c86ad40c88d583f3511a0bcea",
            "_dom_classes": [],
            "description": "",
            "_model_name": "FloatProgressModel",
            "bar_style": "",
            "max": 1,
            "_view_module": "@jupyter-widgets/controls",
            "_model_module_version": "1.5.0",
            "value": 1,
            "_view_count": null,
            "_view_module_version": "1.5.0",
            "orientation": "horizontal",
            "min": 0,
            "description_tooltip": null,
            "_model_module": "@jupyter-widgets/controls",
            "layout": "IPY_MODEL_411d713da6284862b522aeb7b2b4b42d"
          }
        },
        "fdd36e572a3845d28e2c899da71395e7": {
          "model_module": "@jupyter-widgets/controls",
          "model_name": "DescriptionStyleModel",
          "state": {
            "_view_name": "StyleView",
            "_model_name": "DescriptionStyleModel",
            "description_width": "",
            "_view_module": "@jupyter-widgets/base",
            "_model_module_version": "1.5.0",
            "_view_count": null,
            "_view_module_version": "1.2.0",
            "_model_module": "@jupyter-widgets/controls"
          }
        },
        "e6699f0d311b4b51aaa0f02a95088189": {
          "model_module": "@jupyter-widgets/base",
          "model_name": "LayoutModel",
          "state": {
            "_view_name": "LayoutView",
            "grid_template_rows": null,
            "right": null,
            "justify_content": null,
            "_view_module": "@jupyter-widgets/base",
            "overflow": null,
            "_model_module_version": "1.2.0",
            "_view_count": null,
            "flex_flow": null,
            "width": null,
            "min_width": null,
            "border": null,
            "align_items": null,
            "bottom": null,
            "_model_module": "@jupyter-widgets/base",
            "top": null,
            "grid_column": null,
            "overflow_y": null,
            "overflow_x": null,
            "grid_auto_flow": null,
            "grid_area": null,
            "grid_template_columns": null,
            "flex": null,
            "_model_name": "LayoutModel",
            "justify_items": null,
            "grid_row": null,
            "max_height": null,
            "align_content": null,
            "visibility": null,
            "align_self": null,
            "height": null,
            "min_height": null,
            "padding": null,
            "grid_auto_rows": null,
            "grid_gap": null,
            "max_width": null,
            "order": null,
            "_view_module_version": "1.2.0",
            "grid_template_areas": null,
            "object_position": null,
            "object_fit": null,
            "grid_auto_columns": null,
            "margin": null,
            "display": null,
            "left": null
          }
        },
        "8b85e20c86ad40c88d583f3511a0bcea": {
          "model_module": "@jupyter-widgets/controls",
          "model_name": "ProgressStyleModel",
          "state": {
            "_view_name": "StyleView",
            "_model_name": "ProgressStyleModel",
            "description_width": "",
            "_view_module": "@jupyter-widgets/base",
            "_model_module_version": "1.5.0",
            "_view_count": null,
            "_view_module_version": "1.2.0",
            "bar_color": null,
            "_model_module": "@jupyter-widgets/controls"
          }
        },
        "411d713da6284862b522aeb7b2b4b42d": {
          "model_module": "@jupyter-widgets/base",
          "model_name": "LayoutModel",
          "state": {
            "_view_name": "LayoutView",
            "grid_template_rows": null,
            "right": null,
            "justify_content": null,
            "_view_module": "@jupyter-widgets/base",
            "overflow": null,
            "_model_module_version": "1.2.0",
            "_view_count": null,
            "flex_flow": null,
            "width": null,
            "min_width": null,
            "border": null,
            "align_items": null,
            "bottom": null,
            "_model_module": "@jupyter-widgets/base",
            "top": null,
            "grid_column": null,
            "overflow_y": null,
            "overflow_x": null,
            "grid_auto_flow": null,
            "grid_area": null,
            "grid_template_columns": null,
            "flex": null,
            "_model_name": "LayoutModel",
            "justify_items": null,
            "grid_row": null,
            "max_height": null,
            "align_content": null,
            "visibility": null,
            "align_self": null,
            "height": null,
            "min_height": null,
            "padding": null,
            "grid_auto_rows": null,
            "grid_gap": null,
            "max_width": null,
            "order": null,
            "_view_module_version": "1.2.0",
            "grid_template_areas": null,
            "object_position": null,
            "object_fit": null,
            "grid_auto_columns": null,
            "margin": null,
            "display": null,
            "left": null
          }
        },
        "2ea43d73cab34c6b894b5c2b72844963": {
          "model_module": "@jupyter-widgets/controls",
          "model_name": "VBoxModel",
          "state": {
            "_view_name": "VBoxView",
            "_dom_classes": [],
            "_model_name": "VBoxModel",
            "_view_module": "@jupyter-widgets/controls",
            "_model_module_version": "1.5.0",
            "_view_count": null,
            "_view_module_version": "1.5.0",
            "box_style": "",
            "layout": "IPY_MODEL_3d9db42ac8684b2a88dac58c49a26324",
            "_model_module": "@jupyter-widgets/controls",
            "children": [
              "IPY_MODEL_7daeaee3c41947aea2565a202c748b15",
              "IPY_MODEL_c567ac4593234a969875b128b5855967"
            ]
          }
        },
        "3d9db42ac8684b2a88dac58c49a26324": {
          "model_module": "@jupyter-widgets/base",
          "model_name": "LayoutModel",
          "state": {
            "_view_name": "LayoutView",
            "grid_template_rows": null,
            "right": null,
            "justify_content": null,
            "_view_module": "@jupyter-widgets/base",
            "overflow": null,
            "_model_module_version": "1.2.0",
            "_view_count": null,
            "flex_flow": null,
            "width": null,
            "min_width": null,
            "border": null,
            "align_items": null,
            "bottom": null,
            "_model_module": "@jupyter-widgets/base",
            "top": null,
            "grid_column": null,
            "overflow_y": null,
            "overflow_x": null,
            "grid_auto_flow": null,
            "grid_area": null,
            "grid_template_columns": null,
            "flex": null,
            "_model_name": "LayoutModel",
            "justify_items": null,
            "grid_row": null,
            "max_height": null,
            "align_content": null,
            "visibility": null,
            "align_self": null,
            "height": null,
            "min_height": null,
            "padding": null,
            "grid_auto_rows": null,
            "grid_gap": null,
            "max_width": null,
            "order": null,
            "_view_module_version": "1.2.0",
            "grid_template_areas": null,
            "object_position": null,
            "object_fit": null,
            "grid_auto_columns": null,
            "margin": null,
            "display": null,
            "left": null
          }
        },
        "7daeaee3c41947aea2565a202c748b15": {
          "model_module": "@jupyter-widgets/controls",
          "model_name": "LabelModel",
          "state": {
            "_view_name": "LabelView",
            "style": "IPY_MODEL_1262ace3b2734a9eb7665d73b5c5bdc5",
            "_dom_classes": [],
            "description": "",
            "_model_name": "LabelModel",
            "placeholder": "​",
            "_view_module": "@jupyter-widgets/controls",
            "_model_module_version": "1.5.0",
            "value": " 199.72MB of 199.72MB uploaded (0.00MB deduped)\r",
            "_view_count": null,
            "_view_module_version": "1.5.0",
            "description_tooltip": null,
            "_model_module": "@jupyter-widgets/controls",
            "layout": "IPY_MODEL_b97b7a87f77e499cb44e3cd5a8614b0a"
          }
        },
        "c567ac4593234a969875b128b5855967": {
          "model_module": "@jupyter-widgets/controls",
          "model_name": "FloatProgressModel",
          "state": {
            "_view_name": "ProgressView",
            "style": "IPY_MODEL_1376921c02644424ba605e006e822208",
            "_dom_classes": [],
            "description": "",
            "_model_name": "FloatProgressModel",
            "bar_style": "",
            "max": 1,
            "_view_module": "@jupyter-widgets/controls",
            "_model_module_version": "1.5.0",
            "value": 1,
            "_view_count": null,
            "_view_module_version": "1.5.0",
            "orientation": "horizontal",
            "min": 0,
            "description_tooltip": null,
            "_model_module": "@jupyter-widgets/controls",
            "layout": "IPY_MODEL_12647664e4e1489798ddd8c556092ac3"
          }
        },
        "1262ace3b2734a9eb7665d73b5c5bdc5": {
          "model_module": "@jupyter-widgets/controls",
          "model_name": "DescriptionStyleModel",
          "state": {
            "_view_name": "StyleView",
            "_model_name": "DescriptionStyleModel",
            "description_width": "",
            "_view_module": "@jupyter-widgets/base",
            "_model_module_version": "1.5.0",
            "_view_count": null,
            "_view_module_version": "1.2.0",
            "_model_module": "@jupyter-widgets/controls"
          }
        },
        "b97b7a87f77e499cb44e3cd5a8614b0a": {
          "model_module": "@jupyter-widgets/base",
          "model_name": "LayoutModel",
          "state": {
            "_view_name": "LayoutView",
            "grid_template_rows": null,
            "right": null,
            "justify_content": null,
            "_view_module": "@jupyter-widgets/base",
            "overflow": null,
            "_model_module_version": "1.2.0",
            "_view_count": null,
            "flex_flow": null,
            "width": null,
            "min_width": null,
            "border": null,
            "align_items": null,
            "bottom": null,
            "_model_module": "@jupyter-widgets/base",
            "top": null,
            "grid_column": null,
            "overflow_y": null,
            "overflow_x": null,
            "grid_auto_flow": null,
            "grid_area": null,
            "grid_template_columns": null,
            "flex": null,
            "_model_name": "LayoutModel",
            "justify_items": null,
            "grid_row": null,
            "max_height": null,
            "align_content": null,
            "visibility": null,
            "align_self": null,
            "height": null,
            "min_height": null,
            "padding": null,
            "grid_auto_rows": null,
            "grid_gap": null,
            "max_width": null,
            "order": null,
            "_view_module_version": "1.2.0",
            "grid_template_areas": null,
            "object_position": null,
            "object_fit": null,
            "grid_auto_columns": null,
            "margin": null,
            "display": null,
            "left": null
          }
        },
        "1376921c02644424ba605e006e822208": {
          "model_module": "@jupyter-widgets/controls",
          "model_name": "ProgressStyleModel",
          "state": {
            "_view_name": "StyleView",
            "_model_name": "ProgressStyleModel",
            "description_width": "",
            "_view_module": "@jupyter-widgets/base",
            "_model_module_version": "1.5.0",
            "_view_count": null,
            "_view_module_version": "1.2.0",
            "bar_color": null,
            "_model_module": "@jupyter-widgets/controls"
          }
        },
        "12647664e4e1489798ddd8c556092ac3": {
          "model_module": "@jupyter-widgets/base",
          "model_name": "LayoutModel",
          "state": {
            "_view_name": "LayoutView",
            "grid_template_rows": null,
            "right": null,
            "justify_content": null,
            "_view_module": "@jupyter-widgets/base",
            "overflow": null,
            "_model_module_version": "1.2.0",
            "_view_count": null,
            "flex_flow": null,
            "width": null,
            "min_width": null,
            "border": null,
            "align_items": null,
            "bottom": null,
            "_model_module": "@jupyter-widgets/base",
            "top": null,
            "grid_column": null,
            "overflow_y": null,
            "overflow_x": null,
            "grid_auto_flow": null,
            "grid_area": null,
            "grid_template_columns": null,
            "flex": null,
            "_model_name": "LayoutModel",
            "justify_items": null,
            "grid_row": null,
            "max_height": null,
            "align_content": null,
            "visibility": null,
            "align_self": null,
            "height": null,
            "min_height": null,
            "padding": null,
            "grid_auto_rows": null,
            "grid_gap": null,
            "max_width": null,
            "order": null,
            "_view_module_version": "1.2.0",
            "grid_template_areas": null,
            "object_position": null,
            "object_fit": null,
            "grid_auto_columns": null,
            "margin": null,
            "display": null,
            "left": null
          }
        },
        "d6d3a0e8bec94ac084503f61556c0c7d": {
          "model_module": "@jupyter-widgets/controls",
          "model_name": "VBoxModel",
          "state": {
            "_view_name": "VBoxView",
            "_dom_classes": [],
            "_model_name": "VBoxModel",
            "_view_module": "@jupyter-widgets/controls",
            "_model_module_version": "1.5.0",
            "_view_count": null,
            "_view_module_version": "1.5.0",
            "box_style": "",
            "layout": "IPY_MODEL_f1f7cf6c69244417b82f51822d2289ba",
            "_model_module": "@jupyter-widgets/controls",
            "children": [
              "IPY_MODEL_f8c07bfe8cf04fecba9799afbcfcf20c",
              "IPY_MODEL_a7b4133620fd4642a9834fed8a02232a"
            ]
          }
        },
        "f1f7cf6c69244417b82f51822d2289ba": {
          "model_module": "@jupyter-widgets/base",
          "model_name": "LayoutModel",
          "state": {
            "_view_name": "LayoutView",
            "grid_template_rows": null,
            "right": null,
            "justify_content": null,
            "_view_module": "@jupyter-widgets/base",
            "overflow": null,
            "_model_module_version": "1.2.0",
            "_view_count": null,
            "flex_flow": null,
            "width": null,
            "min_width": null,
            "border": null,
            "align_items": null,
            "bottom": null,
            "_model_module": "@jupyter-widgets/base",
            "top": null,
            "grid_column": null,
            "overflow_y": null,
            "overflow_x": null,
            "grid_auto_flow": null,
            "grid_area": null,
            "grid_template_columns": null,
            "flex": null,
            "_model_name": "LayoutModel",
            "justify_items": null,
            "grid_row": null,
            "max_height": null,
            "align_content": null,
            "visibility": null,
            "align_self": null,
            "height": null,
            "min_height": null,
            "padding": null,
            "grid_auto_rows": null,
            "grid_gap": null,
            "max_width": null,
            "order": null,
            "_view_module_version": "1.2.0",
            "grid_template_areas": null,
            "object_position": null,
            "object_fit": null,
            "grid_auto_columns": null,
            "margin": null,
            "display": null,
            "left": null
          }
        },
        "f8c07bfe8cf04fecba9799afbcfcf20c": {
          "model_module": "@jupyter-widgets/controls",
          "model_name": "LabelModel",
          "state": {
            "_view_name": "LabelView",
            "style": "IPY_MODEL_989e389845c7419b95ad944d40ca9b32",
            "_dom_classes": [],
            "description": "",
            "_model_name": "LabelModel",
            "placeholder": "​",
            "_view_module": "@jupyter-widgets/controls",
            "_model_module_version": "1.5.0",
            "value": " 191.69MB of 191.69MB uploaded (0.00MB deduped)\r",
            "_view_count": null,
            "_view_module_version": "1.5.0",
            "description_tooltip": null,
            "_model_module": "@jupyter-widgets/controls",
            "layout": "IPY_MODEL_073cd20c4219449d8e82a57810acc4d8"
          }
        },
        "a7b4133620fd4642a9834fed8a02232a": {
          "model_module": "@jupyter-widgets/controls",
          "model_name": "FloatProgressModel",
          "state": {
            "_view_name": "ProgressView",
            "style": "IPY_MODEL_70f65bec7bf2497b882841a9cae5fb61",
            "_dom_classes": [],
            "description": "",
            "_model_name": "FloatProgressModel",
            "bar_style": "",
            "max": 1,
            "_view_module": "@jupyter-widgets/controls",
            "_model_module_version": "1.5.0",
            "value": 1,
            "_view_count": null,
            "_view_module_version": "1.5.0",
            "orientation": "horizontal",
            "min": 0,
            "description_tooltip": null,
            "_model_module": "@jupyter-widgets/controls",
            "layout": "IPY_MODEL_7541b15128164867b254313b643a00a1"
          }
        },
        "989e389845c7419b95ad944d40ca9b32": {
          "model_module": "@jupyter-widgets/controls",
          "model_name": "DescriptionStyleModel",
          "state": {
            "_view_name": "StyleView",
            "_model_name": "DescriptionStyleModel",
            "description_width": "",
            "_view_module": "@jupyter-widgets/base",
            "_model_module_version": "1.5.0",
            "_view_count": null,
            "_view_module_version": "1.2.0",
            "_model_module": "@jupyter-widgets/controls"
          }
        },
        "073cd20c4219449d8e82a57810acc4d8": {
          "model_module": "@jupyter-widgets/base",
          "model_name": "LayoutModel",
          "state": {
            "_view_name": "LayoutView",
            "grid_template_rows": null,
            "right": null,
            "justify_content": null,
            "_view_module": "@jupyter-widgets/base",
            "overflow": null,
            "_model_module_version": "1.2.0",
            "_view_count": null,
            "flex_flow": null,
            "width": null,
            "min_width": null,
            "border": null,
            "align_items": null,
            "bottom": null,
            "_model_module": "@jupyter-widgets/base",
            "top": null,
            "grid_column": null,
            "overflow_y": null,
            "overflow_x": null,
            "grid_auto_flow": null,
            "grid_area": null,
            "grid_template_columns": null,
            "flex": null,
            "_model_name": "LayoutModel",
            "justify_items": null,
            "grid_row": null,
            "max_height": null,
            "align_content": null,
            "visibility": null,
            "align_self": null,
            "height": null,
            "min_height": null,
            "padding": null,
            "grid_auto_rows": null,
            "grid_gap": null,
            "max_width": null,
            "order": null,
            "_view_module_version": "1.2.0",
            "grid_template_areas": null,
            "object_position": null,
            "object_fit": null,
            "grid_auto_columns": null,
            "margin": null,
            "display": null,
            "left": null
          }
        },
        "70f65bec7bf2497b882841a9cae5fb61": {
          "model_module": "@jupyter-widgets/controls",
          "model_name": "ProgressStyleModel",
          "state": {
            "_view_name": "StyleView",
            "_model_name": "ProgressStyleModel",
            "description_width": "",
            "_view_module": "@jupyter-widgets/base",
            "_model_module_version": "1.5.0",
            "_view_count": null,
            "_view_module_version": "1.2.0",
            "bar_color": null,
            "_model_module": "@jupyter-widgets/controls"
          }
        },
        "7541b15128164867b254313b643a00a1": {
          "model_module": "@jupyter-widgets/base",
          "model_name": "LayoutModel",
          "state": {
            "_view_name": "LayoutView",
            "grid_template_rows": null,
            "right": null,
            "justify_content": null,
            "_view_module": "@jupyter-widgets/base",
            "overflow": null,
            "_model_module_version": "1.2.0",
            "_view_count": null,
            "flex_flow": null,
            "width": null,
            "min_width": null,
            "border": null,
            "align_items": null,
            "bottom": null,
            "_model_module": "@jupyter-widgets/base",
            "top": null,
            "grid_column": null,
            "overflow_y": null,
            "overflow_x": null,
            "grid_auto_flow": null,
            "grid_area": null,
            "grid_template_columns": null,
            "flex": null,
            "_model_name": "LayoutModel",
            "justify_items": null,
            "grid_row": null,
            "max_height": null,
            "align_content": null,
            "visibility": null,
            "align_self": null,
            "height": null,
            "min_height": null,
            "padding": null,
            "grid_auto_rows": null,
            "grid_gap": null,
            "max_width": null,
            "order": null,
            "_view_module_version": "1.2.0",
            "grid_template_areas": null,
            "object_position": null,
            "object_fit": null,
            "grid_auto_columns": null,
            "margin": null,
            "display": null,
            "left": null
          }
        },
        "4da8bedd8cb345b3bd68d684f304c996": {
          "model_module": "@jupyter-widgets/controls",
          "model_name": "VBoxModel",
          "state": {
            "_view_name": "VBoxView",
            "_dom_classes": [],
            "_model_name": "VBoxModel",
            "_view_module": "@jupyter-widgets/controls",
            "_model_module_version": "1.5.0",
            "_view_count": null,
            "_view_module_version": "1.5.0",
            "box_style": "",
            "layout": "IPY_MODEL_0258c053b5114541b5c1aac3b646ad48",
            "_model_module": "@jupyter-widgets/controls",
            "children": [
              "IPY_MODEL_44f7c709410c4b6ba9fec2f49c9c7c7a",
              "IPY_MODEL_0739ae42cc6a40b3b827ff2348768205"
            ]
          }
        },
        "0258c053b5114541b5c1aac3b646ad48": {
          "model_module": "@jupyter-widgets/base",
          "model_name": "LayoutModel",
          "state": {
            "_view_name": "LayoutView",
            "grid_template_rows": null,
            "right": null,
            "justify_content": null,
            "_view_module": "@jupyter-widgets/base",
            "overflow": null,
            "_model_module_version": "1.2.0",
            "_view_count": null,
            "flex_flow": null,
            "width": null,
            "min_width": null,
            "border": null,
            "align_items": null,
            "bottom": null,
            "_model_module": "@jupyter-widgets/base",
            "top": null,
            "grid_column": null,
            "overflow_y": null,
            "overflow_x": null,
            "grid_auto_flow": null,
            "grid_area": null,
            "grid_template_columns": null,
            "flex": null,
            "_model_name": "LayoutModel",
            "justify_items": null,
            "grid_row": null,
            "max_height": null,
            "align_content": null,
            "visibility": null,
            "align_self": null,
            "height": null,
            "min_height": null,
            "padding": null,
            "grid_auto_rows": null,
            "grid_gap": null,
            "max_width": null,
            "order": null,
            "_view_module_version": "1.2.0",
            "grid_template_areas": null,
            "object_position": null,
            "object_fit": null,
            "grid_auto_columns": null,
            "margin": null,
            "display": null,
            "left": null
          }
        },
        "44f7c709410c4b6ba9fec2f49c9c7c7a": {
          "model_module": "@jupyter-widgets/controls",
          "model_name": "LabelModel",
          "state": {
            "_view_name": "LabelView",
            "style": "IPY_MODEL_210b78b35f26472d9d8d06232198cb34",
            "_dom_classes": [],
            "description": "",
            "_model_name": "LabelModel",
            "placeholder": "​",
            "_view_module": "@jupyter-widgets/controls",
            "_model_module_version": "1.5.0",
            "value": " 308.11MB of 308.11MB uploaded (0.00MB deduped)\r",
            "_view_count": null,
            "_view_module_version": "1.5.0",
            "description_tooltip": null,
            "_model_module": "@jupyter-widgets/controls",
            "layout": "IPY_MODEL_e6a964ab94ba466b97a82e797b8f86b9"
          }
        },
        "0739ae42cc6a40b3b827ff2348768205": {
          "model_module": "@jupyter-widgets/controls",
          "model_name": "FloatProgressModel",
          "state": {
            "_view_name": "ProgressView",
            "style": "IPY_MODEL_25a52376db944df8aeae190bc34a5184",
            "_dom_classes": [],
            "description": "",
            "_model_name": "FloatProgressModel",
            "bar_style": "",
            "max": 1,
            "_view_module": "@jupyter-widgets/controls",
            "_model_module_version": "1.5.0",
            "value": 1,
            "_view_count": null,
            "_view_module_version": "1.5.0",
            "orientation": "horizontal",
            "min": 0,
            "description_tooltip": null,
            "_model_module": "@jupyter-widgets/controls",
            "layout": "IPY_MODEL_8e4e49309db748368b570387fe64f65e"
          }
        },
        "210b78b35f26472d9d8d06232198cb34": {
          "model_module": "@jupyter-widgets/controls",
          "model_name": "DescriptionStyleModel",
          "state": {
            "_view_name": "StyleView",
            "_model_name": "DescriptionStyleModel",
            "description_width": "",
            "_view_module": "@jupyter-widgets/base",
            "_model_module_version": "1.5.0",
            "_view_count": null,
            "_view_module_version": "1.2.0",
            "_model_module": "@jupyter-widgets/controls"
          }
        },
        "e6a964ab94ba466b97a82e797b8f86b9": {
          "model_module": "@jupyter-widgets/base",
          "model_name": "LayoutModel",
          "state": {
            "_view_name": "LayoutView",
            "grid_template_rows": null,
            "right": null,
            "justify_content": null,
            "_view_module": "@jupyter-widgets/base",
            "overflow": null,
            "_model_module_version": "1.2.0",
            "_view_count": null,
            "flex_flow": null,
            "width": null,
            "min_width": null,
            "border": null,
            "align_items": null,
            "bottom": null,
            "_model_module": "@jupyter-widgets/base",
            "top": null,
            "grid_column": null,
            "overflow_y": null,
            "overflow_x": null,
            "grid_auto_flow": null,
            "grid_area": null,
            "grid_template_columns": null,
            "flex": null,
            "_model_name": "LayoutModel",
            "justify_items": null,
            "grid_row": null,
            "max_height": null,
            "align_content": null,
            "visibility": null,
            "align_self": null,
            "height": null,
            "min_height": null,
            "padding": null,
            "grid_auto_rows": null,
            "grid_gap": null,
            "max_width": null,
            "order": null,
            "_view_module_version": "1.2.0",
            "grid_template_areas": null,
            "object_position": null,
            "object_fit": null,
            "grid_auto_columns": null,
            "margin": null,
            "display": null,
            "left": null
          }
        },
        "25a52376db944df8aeae190bc34a5184": {
          "model_module": "@jupyter-widgets/controls",
          "model_name": "ProgressStyleModel",
          "state": {
            "_view_name": "StyleView",
            "_model_name": "ProgressStyleModel",
            "description_width": "",
            "_view_module": "@jupyter-widgets/base",
            "_model_module_version": "1.5.0",
            "_view_count": null,
            "_view_module_version": "1.2.0",
            "bar_color": null,
            "_model_module": "@jupyter-widgets/controls"
          }
        },
        "8e4e49309db748368b570387fe64f65e": {
          "model_module": "@jupyter-widgets/base",
          "model_name": "LayoutModel",
          "state": {
            "_view_name": "LayoutView",
            "grid_template_rows": null,
            "right": null,
            "justify_content": null,
            "_view_module": "@jupyter-widgets/base",
            "overflow": null,
            "_model_module_version": "1.2.0",
            "_view_count": null,
            "flex_flow": null,
            "width": null,
            "min_width": null,
            "border": null,
            "align_items": null,
            "bottom": null,
            "_model_module": "@jupyter-widgets/base",
            "top": null,
            "grid_column": null,
            "overflow_y": null,
            "overflow_x": null,
            "grid_auto_flow": null,
            "grid_area": null,
            "grid_template_columns": null,
            "flex": null,
            "_model_name": "LayoutModel",
            "justify_items": null,
            "grid_row": null,
            "max_height": null,
            "align_content": null,
            "visibility": null,
            "align_self": null,
            "height": null,
            "min_height": null,
            "padding": null,
            "grid_auto_rows": null,
            "grid_gap": null,
            "max_width": null,
            "order": null,
            "_view_module_version": "1.2.0",
            "grid_template_areas": null,
            "object_position": null,
            "object_fit": null,
            "grid_auto_columns": null,
            "margin": null,
            "display": null,
            "left": null
          }
        },
        "93083269801f43be83ace7ae83f64290": {
          "model_module": "@jupyter-widgets/controls",
          "model_name": "VBoxModel",
          "state": {
            "_view_name": "VBoxView",
            "_dom_classes": [],
            "_model_name": "VBoxModel",
            "_view_module": "@jupyter-widgets/controls",
            "_model_module_version": "1.5.0",
            "_view_count": null,
            "_view_module_version": "1.5.0",
            "box_style": "",
            "layout": "IPY_MODEL_b7b1e8273c8d4795a82eec295775d905",
            "_model_module": "@jupyter-widgets/controls",
            "children": [
              "IPY_MODEL_7d38bd1b88ab4f37a38814eae413a9c0",
              "IPY_MODEL_f6da388168d64e6682a29931d9000e8b"
            ]
          }
        },
        "b7b1e8273c8d4795a82eec295775d905": {
          "model_module": "@jupyter-widgets/base",
          "model_name": "LayoutModel",
          "state": {
            "_view_name": "LayoutView",
            "grid_template_rows": null,
            "right": null,
            "justify_content": null,
            "_view_module": "@jupyter-widgets/base",
            "overflow": null,
            "_model_module_version": "1.2.0",
            "_view_count": null,
            "flex_flow": null,
            "width": null,
            "min_width": null,
            "border": null,
            "align_items": null,
            "bottom": null,
            "_model_module": "@jupyter-widgets/base",
            "top": null,
            "grid_column": null,
            "overflow_y": null,
            "overflow_x": null,
            "grid_auto_flow": null,
            "grid_area": null,
            "grid_template_columns": null,
            "flex": null,
            "_model_name": "LayoutModel",
            "justify_items": null,
            "grid_row": null,
            "max_height": null,
            "align_content": null,
            "visibility": null,
            "align_self": null,
            "height": null,
            "min_height": null,
            "padding": null,
            "grid_auto_rows": null,
            "grid_gap": null,
            "max_width": null,
            "order": null,
            "_view_module_version": "1.2.0",
            "grid_template_areas": null,
            "object_position": null,
            "object_fit": null,
            "grid_auto_columns": null,
            "margin": null,
            "display": null,
            "left": null
          }
        },
        "7d38bd1b88ab4f37a38814eae413a9c0": {
          "model_module": "@jupyter-widgets/controls",
          "model_name": "LabelModel",
          "state": {
            "_view_name": "LabelView",
            "style": "IPY_MODEL_cf183cd5d9054b41ac84fba094c88c90",
            "_dom_classes": [],
            "description": "",
            "_model_name": "LabelModel",
            "placeholder": "​",
            "_view_module": "@jupyter-widgets/controls",
            "_model_module_version": "1.5.0",
            "value": " 271.86MB of 271.86MB uploaded (0.00MB deduped)\r",
            "_view_count": null,
            "_view_module_version": "1.5.0",
            "description_tooltip": null,
            "_model_module": "@jupyter-widgets/controls",
            "layout": "IPY_MODEL_0e4d35e64b33437aae4d8ce0b18cfe53"
          }
        },
        "f6da388168d64e6682a29931d9000e8b": {
          "model_module": "@jupyter-widgets/controls",
          "model_name": "FloatProgressModel",
          "state": {
            "_view_name": "ProgressView",
            "style": "IPY_MODEL_d016c32b277e48449b8c124a4550c228",
            "_dom_classes": [],
            "description": "",
            "_model_name": "FloatProgressModel",
            "bar_style": "",
            "max": 1,
            "_view_module": "@jupyter-widgets/controls",
            "_model_module_version": "1.5.0",
            "value": 1,
            "_view_count": null,
            "_view_module_version": "1.5.0",
            "orientation": "horizontal",
            "min": 0,
            "description_tooltip": null,
            "_model_module": "@jupyter-widgets/controls",
            "layout": "IPY_MODEL_88b14be47c88464bbb2265ecefef5aa3"
          }
        },
        "cf183cd5d9054b41ac84fba094c88c90": {
          "model_module": "@jupyter-widgets/controls",
          "model_name": "DescriptionStyleModel",
          "state": {
            "_view_name": "StyleView",
            "_model_name": "DescriptionStyleModel",
            "description_width": "",
            "_view_module": "@jupyter-widgets/base",
            "_model_module_version": "1.5.0",
            "_view_count": null,
            "_view_module_version": "1.2.0",
            "_model_module": "@jupyter-widgets/controls"
          }
        },
        "0e4d35e64b33437aae4d8ce0b18cfe53": {
          "model_module": "@jupyter-widgets/base",
          "model_name": "LayoutModel",
          "state": {
            "_view_name": "LayoutView",
            "grid_template_rows": null,
            "right": null,
            "justify_content": null,
            "_view_module": "@jupyter-widgets/base",
            "overflow": null,
            "_model_module_version": "1.2.0",
            "_view_count": null,
            "flex_flow": null,
            "width": null,
            "min_width": null,
            "border": null,
            "align_items": null,
            "bottom": null,
            "_model_module": "@jupyter-widgets/base",
            "top": null,
            "grid_column": null,
            "overflow_y": null,
            "overflow_x": null,
            "grid_auto_flow": null,
            "grid_area": null,
            "grid_template_columns": null,
            "flex": null,
            "_model_name": "LayoutModel",
            "justify_items": null,
            "grid_row": null,
            "max_height": null,
            "align_content": null,
            "visibility": null,
            "align_self": null,
            "height": null,
            "min_height": null,
            "padding": null,
            "grid_auto_rows": null,
            "grid_gap": null,
            "max_width": null,
            "order": null,
            "_view_module_version": "1.2.0",
            "grid_template_areas": null,
            "object_position": null,
            "object_fit": null,
            "grid_auto_columns": null,
            "margin": null,
            "display": null,
            "left": null
          }
        },
        "d016c32b277e48449b8c124a4550c228": {
          "model_module": "@jupyter-widgets/controls",
          "model_name": "ProgressStyleModel",
          "state": {
            "_view_name": "StyleView",
            "_model_name": "ProgressStyleModel",
            "description_width": "",
            "_view_module": "@jupyter-widgets/base",
            "_model_module_version": "1.5.0",
            "_view_count": null,
            "_view_module_version": "1.2.0",
            "bar_color": null,
            "_model_module": "@jupyter-widgets/controls"
          }
        },
        "88b14be47c88464bbb2265ecefef5aa3": {
          "model_module": "@jupyter-widgets/base",
          "model_name": "LayoutModel",
          "state": {
            "_view_name": "LayoutView",
            "grid_template_rows": null,
            "right": null,
            "justify_content": null,
            "_view_module": "@jupyter-widgets/base",
            "overflow": null,
            "_model_module_version": "1.2.0",
            "_view_count": null,
            "flex_flow": null,
            "width": null,
            "min_width": null,
            "border": null,
            "align_items": null,
            "bottom": null,
            "_model_module": "@jupyter-widgets/base",
            "top": null,
            "grid_column": null,
            "overflow_y": null,
            "overflow_x": null,
            "grid_auto_flow": null,
            "grid_area": null,
            "grid_template_columns": null,
            "flex": null,
            "_model_name": "LayoutModel",
            "justify_items": null,
            "grid_row": null,
            "max_height": null,
            "align_content": null,
            "visibility": null,
            "align_self": null,
            "height": null,
            "min_height": null,
            "padding": null,
            "grid_auto_rows": null,
            "grid_gap": null,
            "max_width": null,
            "order": null,
            "_view_module_version": "1.2.0",
            "grid_template_areas": null,
            "object_position": null,
            "object_fit": null,
            "grid_auto_columns": null,
            "margin": null,
            "display": null,
            "left": null
          }
        },
        "e0b7af86a4144aa4a6dfbaa597cc0a96": {
          "model_module": "@jupyter-widgets/controls",
          "model_name": "VBoxModel",
          "state": {
            "_view_name": "VBoxView",
            "_dom_classes": [],
            "_model_name": "VBoxModel",
            "_view_module": "@jupyter-widgets/controls",
            "_model_module_version": "1.5.0",
            "_view_count": null,
            "_view_module_version": "1.5.0",
            "box_style": "",
            "layout": "IPY_MODEL_ef7a0af799124b4e96706918dad22b3d",
            "_model_module": "@jupyter-widgets/controls",
            "children": [
              "IPY_MODEL_2138f546e794464c95f88f16409994c3",
              "IPY_MODEL_61df9f1d3fe041538608e27c0fa8f012"
            ]
          }
        },
        "ef7a0af799124b4e96706918dad22b3d": {
          "model_module": "@jupyter-widgets/base",
          "model_name": "LayoutModel",
          "state": {
            "_view_name": "LayoutView",
            "grid_template_rows": null,
            "right": null,
            "justify_content": null,
            "_view_module": "@jupyter-widgets/base",
            "overflow": null,
            "_model_module_version": "1.2.0",
            "_view_count": null,
            "flex_flow": null,
            "width": null,
            "min_width": null,
            "border": null,
            "align_items": null,
            "bottom": null,
            "_model_module": "@jupyter-widgets/base",
            "top": null,
            "grid_column": null,
            "overflow_y": null,
            "overflow_x": null,
            "grid_auto_flow": null,
            "grid_area": null,
            "grid_template_columns": null,
            "flex": null,
            "_model_name": "LayoutModel",
            "justify_items": null,
            "grid_row": null,
            "max_height": null,
            "align_content": null,
            "visibility": null,
            "align_self": null,
            "height": null,
            "min_height": null,
            "padding": null,
            "grid_auto_rows": null,
            "grid_gap": null,
            "max_width": null,
            "order": null,
            "_view_module_version": "1.2.0",
            "grid_template_areas": null,
            "object_position": null,
            "object_fit": null,
            "grid_auto_columns": null,
            "margin": null,
            "display": null,
            "left": null
          }
        },
        "2138f546e794464c95f88f16409994c3": {
          "model_module": "@jupyter-widgets/controls",
          "model_name": "LabelModel",
          "state": {
            "_view_name": "LabelView",
            "style": "IPY_MODEL_c33cf190da9f4ba09d0538e31beaa78c",
            "_dom_classes": [],
            "description": "",
            "_model_name": "LabelModel",
            "placeholder": "​",
            "_view_module": "@jupyter-widgets/controls",
            "_model_module_version": "1.5.0",
            "value": " 326.35MB of 326.35MB uploaded (0.00MB deduped)\r",
            "_view_count": null,
            "_view_module_version": "1.5.0",
            "description_tooltip": null,
            "_model_module": "@jupyter-widgets/controls",
            "layout": "IPY_MODEL_877331c8fca7449395d057f8e07c1c93"
          }
        },
        "61df9f1d3fe041538608e27c0fa8f012": {
          "model_module": "@jupyter-widgets/controls",
          "model_name": "FloatProgressModel",
          "state": {
            "_view_name": "ProgressView",
            "style": "IPY_MODEL_1afb50df4d4844a8826f751947591469",
            "_dom_classes": [],
            "description": "",
            "_model_name": "FloatProgressModel",
            "bar_style": "",
            "max": 1,
            "_view_module": "@jupyter-widgets/controls",
            "_model_module_version": "1.5.0",
            "value": 1,
            "_view_count": null,
            "_view_module_version": "1.5.0",
            "orientation": "horizontal",
            "min": 0,
            "description_tooltip": null,
            "_model_module": "@jupyter-widgets/controls",
            "layout": "IPY_MODEL_003ae6a822574f47a776ce2df7623c5b"
          }
        },
        "c33cf190da9f4ba09d0538e31beaa78c": {
          "model_module": "@jupyter-widgets/controls",
          "model_name": "DescriptionStyleModel",
          "state": {
            "_view_name": "StyleView",
            "_model_name": "DescriptionStyleModel",
            "description_width": "",
            "_view_module": "@jupyter-widgets/base",
            "_model_module_version": "1.5.0",
            "_view_count": null,
            "_view_module_version": "1.2.0",
            "_model_module": "@jupyter-widgets/controls"
          }
        },
        "877331c8fca7449395d057f8e07c1c93": {
          "model_module": "@jupyter-widgets/base",
          "model_name": "LayoutModel",
          "state": {
            "_view_name": "LayoutView",
            "grid_template_rows": null,
            "right": null,
            "justify_content": null,
            "_view_module": "@jupyter-widgets/base",
            "overflow": null,
            "_model_module_version": "1.2.0",
            "_view_count": null,
            "flex_flow": null,
            "width": null,
            "min_width": null,
            "border": null,
            "align_items": null,
            "bottom": null,
            "_model_module": "@jupyter-widgets/base",
            "top": null,
            "grid_column": null,
            "overflow_y": null,
            "overflow_x": null,
            "grid_auto_flow": null,
            "grid_area": null,
            "grid_template_columns": null,
            "flex": null,
            "_model_name": "LayoutModel",
            "justify_items": null,
            "grid_row": null,
            "max_height": null,
            "align_content": null,
            "visibility": null,
            "align_self": null,
            "height": null,
            "min_height": null,
            "padding": null,
            "grid_auto_rows": null,
            "grid_gap": null,
            "max_width": null,
            "order": null,
            "_view_module_version": "1.2.0",
            "grid_template_areas": null,
            "object_position": null,
            "object_fit": null,
            "grid_auto_columns": null,
            "margin": null,
            "display": null,
            "left": null
          }
        },
        "1afb50df4d4844a8826f751947591469": {
          "model_module": "@jupyter-widgets/controls",
          "model_name": "ProgressStyleModel",
          "state": {
            "_view_name": "StyleView",
            "_model_name": "ProgressStyleModel",
            "description_width": "",
            "_view_module": "@jupyter-widgets/base",
            "_model_module_version": "1.5.0",
            "_view_count": null,
            "_view_module_version": "1.2.0",
            "bar_color": null,
            "_model_module": "@jupyter-widgets/controls"
          }
        },
        "003ae6a822574f47a776ce2df7623c5b": {
          "model_module": "@jupyter-widgets/base",
          "model_name": "LayoutModel",
          "state": {
            "_view_name": "LayoutView",
            "grid_template_rows": null,
            "right": null,
            "justify_content": null,
            "_view_module": "@jupyter-widgets/base",
            "overflow": null,
            "_model_module_version": "1.2.0",
            "_view_count": null,
            "flex_flow": null,
            "width": null,
            "min_width": null,
            "border": null,
            "align_items": null,
            "bottom": null,
            "_model_module": "@jupyter-widgets/base",
            "top": null,
            "grid_column": null,
            "overflow_y": null,
            "overflow_x": null,
            "grid_auto_flow": null,
            "grid_area": null,
            "grid_template_columns": null,
            "flex": null,
            "_model_name": "LayoutModel",
            "justify_items": null,
            "grid_row": null,
            "max_height": null,
            "align_content": null,
            "visibility": null,
            "align_self": null,
            "height": null,
            "min_height": null,
            "padding": null,
            "grid_auto_rows": null,
            "grid_gap": null,
            "max_width": null,
            "order": null,
            "_view_module_version": "1.2.0",
            "grid_template_areas": null,
            "object_position": null,
            "object_fit": null,
            "grid_auto_columns": null,
            "margin": null,
            "display": null,
            "left": null
          }
        },
        "ee67ec95b4724115847e62262c543265": {
          "model_module": "@jupyter-widgets/controls",
          "model_name": "VBoxModel",
          "state": {
            "_view_name": "VBoxView",
            "_dom_classes": [],
            "_model_name": "VBoxModel",
            "_view_module": "@jupyter-widgets/controls",
            "_model_module_version": "1.5.0",
            "_view_count": null,
            "_view_module_version": "1.5.0",
            "box_style": "",
            "layout": "IPY_MODEL_f209ac08f7ef40e69cfe17e550a81de4",
            "_model_module": "@jupyter-widgets/controls",
            "children": [
              "IPY_MODEL_a9e81e44725e4e0cb9e2cf1c2f0f0953",
              "IPY_MODEL_5b4ea2640e324607912c33ee6d1fbab3"
            ]
          }
        },
        "f209ac08f7ef40e69cfe17e550a81de4": {
          "model_module": "@jupyter-widgets/base",
          "model_name": "LayoutModel",
          "state": {
            "_view_name": "LayoutView",
            "grid_template_rows": null,
            "right": null,
            "justify_content": null,
            "_view_module": "@jupyter-widgets/base",
            "overflow": null,
            "_model_module_version": "1.2.0",
            "_view_count": null,
            "flex_flow": null,
            "width": null,
            "min_width": null,
            "border": null,
            "align_items": null,
            "bottom": null,
            "_model_module": "@jupyter-widgets/base",
            "top": null,
            "grid_column": null,
            "overflow_y": null,
            "overflow_x": null,
            "grid_auto_flow": null,
            "grid_area": null,
            "grid_template_columns": null,
            "flex": null,
            "_model_name": "LayoutModel",
            "justify_items": null,
            "grid_row": null,
            "max_height": null,
            "align_content": null,
            "visibility": null,
            "align_self": null,
            "height": null,
            "min_height": null,
            "padding": null,
            "grid_auto_rows": null,
            "grid_gap": null,
            "max_width": null,
            "order": null,
            "_view_module_version": "1.2.0",
            "grid_template_areas": null,
            "object_position": null,
            "object_fit": null,
            "grid_auto_columns": null,
            "margin": null,
            "display": null,
            "left": null
          }
        },
        "a9e81e44725e4e0cb9e2cf1c2f0f0953": {
          "model_module": "@jupyter-widgets/controls",
          "model_name": "LabelModel",
          "state": {
            "_view_name": "LabelView",
            "style": "IPY_MODEL_eed83147cb1e4f00914c41acc3049c09",
            "_dom_classes": [],
            "description": "",
            "_model_name": "LabelModel",
            "placeholder": "​",
            "_view_module": "@jupyter-widgets/controls",
            "_model_module_version": "1.5.0",
            "value": " 289.46MB of 289.46MB uploaded (0.00MB deduped)\r",
            "_view_count": null,
            "_view_module_version": "1.5.0",
            "description_tooltip": null,
            "_model_module": "@jupyter-widgets/controls",
            "layout": "IPY_MODEL_302b578eb0474dc98c58e4de283dc5d6"
          }
        },
        "5b4ea2640e324607912c33ee6d1fbab3": {
          "model_module": "@jupyter-widgets/controls",
          "model_name": "FloatProgressModel",
          "state": {
            "_view_name": "ProgressView",
            "style": "IPY_MODEL_1bb8a45e8cb84686b0f70686b066b26a",
            "_dom_classes": [],
            "description": "",
            "_model_name": "FloatProgressModel",
            "bar_style": "",
            "max": 1,
            "_view_module": "@jupyter-widgets/controls",
            "_model_module_version": "1.5.0",
            "value": 1,
            "_view_count": null,
            "_view_module_version": "1.5.0",
            "orientation": "horizontal",
            "min": 0,
            "description_tooltip": null,
            "_model_module": "@jupyter-widgets/controls",
            "layout": "IPY_MODEL_e87bb975cff843a4a55e843652bad398"
          }
        },
        "eed83147cb1e4f00914c41acc3049c09": {
          "model_module": "@jupyter-widgets/controls",
          "model_name": "DescriptionStyleModel",
          "state": {
            "_view_name": "StyleView",
            "_model_name": "DescriptionStyleModel",
            "description_width": "",
            "_view_module": "@jupyter-widgets/base",
            "_model_module_version": "1.5.0",
            "_view_count": null,
            "_view_module_version": "1.2.0",
            "_model_module": "@jupyter-widgets/controls"
          }
        },
        "302b578eb0474dc98c58e4de283dc5d6": {
          "model_module": "@jupyter-widgets/base",
          "model_name": "LayoutModel",
          "state": {
            "_view_name": "LayoutView",
            "grid_template_rows": null,
            "right": null,
            "justify_content": null,
            "_view_module": "@jupyter-widgets/base",
            "overflow": null,
            "_model_module_version": "1.2.0",
            "_view_count": null,
            "flex_flow": null,
            "width": null,
            "min_width": null,
            "border": null,
            "align_items": null,
            "bottom": null,
            "_model_module": "@jupyter-widgets/base",
            "top": null,
            "grid_column": null,
            "overflow_y": null,
            "overflow_x": null,
            "grid_auto_flow": null,
            "grid_area": null,
            "grid_template_columns": null,
            "flex": null,
            "_model_name": "LayoutModel",
            "justify_items": null,
            "grid_row": null,
            "max_height": null,
            "align_content": null,
            "visibility": null,
            "align_self": null,
            "height": null,
            "min_height": null,
            "padding": null,
            "grid_auto_rows": null,
            "grid_gap": null,
            "max_width": null,
            "order": null,
            "_view_module_version": "1.2.0",
            "grid_template_areas": null,
            "object_position": null,
            "object_fit": null,
            "grid_auto_columns": null,
            "margin": null,
            "display": null,
            "left": null
          }
        },
        "1bb8a45e8cb84686b0f70686b066b26a": {
          "model_module": "@jupyter-widgets/controls",
          "model_name": "ProgressStyleModel",
          "state": {
            "_view_name": "StyleView",
            "_model_name": "ProgressStyleModel",
            "description_width": "",
            "_view_module": "@jupyter-widgets/base",
            "_model_module_version": "1.5.0",
            "_view_count": null,
            "_view_module_version": "1.2.0",
            "bar_color": null,
            "_model_module": "@jupyter-widgets/controls"
          }
        },
        "e87bb975cff843a4a55e843652bad398": {
          "model_module": "@jupyter-widgets/base",
          "model_name": "LayoutModel",
          "state": {
            "_view_name": "LayoutView",
            "grid_template_rows": null,
            "right": null,
            "justify_content": null,
            "_view_module": "@jupyter-widgets/base",
            "overflow": null,
            "_model_module_version": "1.2.0",
            "_view_count": null,
            "flex_flow": null,
            "width": null,
            "min_width": null,
            "border": null,
            "align_items": null,
            "bottom": null,
            "_model_module": "@jupyter-widgets/base",
            "top": null,
            "grid_column": null,
            "overflow_y": null,
            "overflow_x": null,
            "grid_auto_flow": null,
            "grid_area": null,
            "grid_template_columns": null,
            "flex": null,
            "_model_name": "LayoutModel",
            "justify_items": null,
            "grid_row": null,
            "max_height": null,
            "align_content": null,
            "visibility": null,
            "align_self": null,
            "height": null,
            "min_height": null,
            "padding": null,
            "grid_auto_rows": null,
            "grid_gap": null,
            "max_width": null,
            "order": null,
            "_view_module_version": "1.2.0",
            "grid_template_areas": null,
            "object_position": null,
            "object_fit": null,
            "grid_auto_columns": null,
            "margin": null,
            "display": null,
            "left": null
          }
        },
        "e7c40ddae01d43f08700be2f1f1b2594": {
          "model_module": "@jupyter-widgets/controls",
          "model_name": "VBoxModel",
          "state": {
            "_view_name": "VBoxView",
            "_dom_classes": [],
            "_model_name": "VBoxModel",
            "_view_module": "@jupyter-widgets/controls",
            "_model_module_version": "1.5.0",
            "_view_count": null,
            "_view_module_version": "1.5.0",
            "box_style": "",
            "layout": "IPY_MODEL_47a91872ecf64638b3747df8994deb14",
            "_model_module": "@jupyter-widgets/controls",
            "children": [
              "IPY_MODEL_aaab9bbaf80a4ade9091f0163f71f5d7",
              "IPY_MODEL_fcfc670f52414a8aac362c8a255e258e"
            ]
          }
        },
        "47a91872ecf64638b3747df8994deb14": {
          "model_module": "@jupyter-widgets/base",
          "model_name": "LayoutModel",
          "state": {
            "_view_name": "LayoutView",
            "grid_template_rows": null,
            "right": null,
            "justify_content": null,
            "_view_module": "@jupyter-widgets/base",
            "overflow": null,
            "_model_module_version": "1.2.0",
            "_view_count": null,
            "flex_flow": null,
            "width": null,
            "min_width": null,
            "border": null,
            "align_items": null,
            "bottom": null,
            "_model_module": "@jupyter-widgets/base",
            "top": null,
            "grid_column": null,
            "overflow_y": null,
            "overflow_x": null,
            "grid_auto_flow": null,
            "grid_area": null,
            "grid_template_columns": null,
            "flex": null,
            "_model_name": "LayoutModel",
            "justify_items": null,
            "grid_row": null,
            "max_height": null,
            "align_content": null,
            "visibility": null,
            "align_self": null,
            "height": null,
            "min_height": null,
            "padding": null,
            "grid_auto_rows": null,
            "grid_gap": null,
            "max_width": null,
            "order": null,
            "_view_module_version": "1.2.0",
            "grid_template_areas": null,
            "object_position": null,
            "object_fit": null,
            "grid_auto_columns": null,
            "margin": null,
            "display": null,
            "left": null
          }
        },
        "aaab9bbaf80a4ade9091f0163f71f5d7": {
          "model_module": "@jupyter-widgets/controls",
          "model_name": "LabelModel",
          "state": {
            "_view_name": "LabelView",
            "style": "IPY_MODEL_b22f134e4f4b44898abeb255db2e1542",
            "_dom_classes": [],
            "description": "",
            "_model_name": "LabelModel",
            "placeholder": "​",
            "_view_module": "@jupyter-widgets/controls",
            "_model_module_version": "1.5.0",
            "value": " 316.42MB of 316.42MB uploaded (0.00MB deduped)\r",
            "_view_count": null,
            "_view_module_version": "1.5.0",
            "description_tooltip": null,
            "_model_module": "@jupyter-widgets/controls",
            "layout": "IPY_MODEL_96ea5bb16e2e45b49b46588ae133e775"
          }
        },
        "fcfc670f52414a8aac362c8a255e258e": {
          "model_module": "@jupyter-widgets/controls",
          "model_name": "FloatProgressModel",
          "state": {
            "_view_name": "ProgressView",
            "style": "IPY_MODEL_c646a4be81fb4ea98f1c8530ea98a978",
            "_dom_classes": [],
            "description": "",
            "_model_name": "FloatProgressModel",
            "bar_style": "",
            "max": 1,
            "_view_module": "@jupyter-widgets/controls",
            "_model_module_version": "1.5.0",
            "value": 1,
            "_view_count": null,
            "_view_module_version": "1.5.0",
            "orientation": "horizontal",
            "min": 0,
            "description_tooltip": null,
            "_model_module": "@jupyter-widgets/controls",
            "layout": "IPY_MODEL_4e4397f0a9a249c7a2970da873f425e3"
          }
        },
        "b22f134e4f4b44898abeb255db2e1542": {
          "model_module": "@jupyter-widgets/controls",
          "model_name": "DescriptionStyleModel",
          "state": {
            "_view_name": "StyleView",
            "_model_name": "DescriptionStyleModel",
            "description_width": "",
            "_view_module": "@jupyter-widgets/base",
            "_model_module_version": "1.5.0",
            "_view_count": null,
            "_view_module_version": "1.2.0",
            "_model_module": "@jupyter-widgets/controls"
          }
        },
        "96ea5bb16e2e45b49b46588ae133e775": {
          "model_module": "@jupyter-widgets/base",
          "model_name": "LayoutModel",
          "state": {
            "_view_name": "LayoutView",
            "grid_template_rows": null,
            "right": null,
            "justify_content": null,
            "_view_module": "@jupyter-widgets/base",
            "overflow": null,
            "_model_module_version": "1.2.0",
            "_view_count": null,
            "flex_flow": null,
            "width": null,
            "min_width": null,
            "border": null,
            "align_items": null,
            "bottom": null,
            "_model_module": "@jupyter-widgets/base",
            "top": null,
            "grid_column": null,
            "overflow_y": null,
            "overflow_x": null,
            "grid_auto_flow": null,
            "grid_area": null,
            "grid_template_columns": null,
            "flex": null,
            "_model_name": "LayoutModel",
            "justify_items": null,
            "grid_row": null,
            "max_height": null,
            "align_content": null,
            "visibility": null,
            "align_self": null,
            "height": null,
            "min_height": null,
            "padding": null,
            "grid_auto_rows": null,
            "grid_gap": null,
            "max_width": null,
            "order": null,
            "_view_module_version": "1.2.0",
            "grid_template_areas": null,
            "object_position": null,
            "object_fit": null,
            "grid_auto_columns": null,
            "margin": null,
            "display": null,
            "left": null
          }
        },
        "c646a4be81fb4ea98f1c8530ea98a978": {
          "model_module": "@jupyter-widgets/controls",
          "model_name": "ProgressStyleModel",
          "state": {
            "_view_name": "StyleView",
            "_model_name": "ProgressStyleModel",
            "description_width": "",
            "_view_module": "@jupyter-widgets/base",
            "_model_module_version": "1.5.0",
            "_view_count": null,
            "_view_module_version": "1.2.0",
            "bar_color": null,
            "_model_module": "@jupyter-widgets/controls"
          }
        },
        "4e4397f0a9a249c7a2970da873f425e3": {
          "model_module": "@jupyter-widgets/base",
          "model_name": "LayoutModel",
          "state": {
            "_view_name": "LayoutView",
            "grid_template_rows": null,
            "right": null,
            "justify_content": null,
            "_view_module": "@jupyter-widgets/base",
            "overflow": null,
            "_model_module_version": "1.2.0",
            "_view_count": null,
            "flex_flow": null,
            "width": null,
            "min_width": null,
            "border": null,
            "align_items": null,
            "bottom": null,
            "_model_module": "@jupyter-widgets/base",
            "top": null,
            "grid_column": null,
            "overflow_y": null,
            "overflow_x": null,
            "grid_auto_flow": null,
            "grid_area": null,
            "grid_template_columns": null,
            "flex": null,
            "_model_name": "LayoutModel",
            "justify_items": null,
            "grid_row": null,
            "max_height": null,
            "align_content": null,
            "visibility": null,
            "align_self": null,
            "height": null,
            "min_height": null,
            "padding": null,
            "grid_auto_rows": null,
            "grid_gap": null,
            "max_width": null,
            "order": null,
            "_view_module_version": "1.2.0",
            "grid_template_areas": null,
            "object_position": null,
            "object_fit": null,
            "grid_auto_columns": null,
            "margin": null,
            "display": null,
            "left": null
          }
        },
        "36b25b35c7f74212a1e64184095212de": {
          "model_module": "@jupyter-widgets/controls",
          "model_name": "VBoxModel",
          "state": {
            "_view_name": "VBoxView",
            "_dom_classes": [],
            "_model_name": "VBoxModel",
            "_view_module": "@jupyter-widgets/controls",
            "_model_module_version": "1.5.0",
            "_view_count": null,
            "_view_module_version": "1.5.0",
            "box_style": "",
            "layout": "IPY_MODEL_81227a93bcae4defaf94a4e7c26507c9",
            "_model_module": "@jupyter-widgets/controls",
            "children": [
              "IPY_MODEL_5264454fd201436489e47e0df55ce350",
              "IPY_MODEL_a0d0098b318b4d369a84a2c9ecf1685b"
            ]
          }
        },
        "81227a93bcae4defaf94a4e7c26507c9": {
          "model_module": "@jupyter-widgets/base",
          "model_name": "LayoutModel",
          "state": {
            "_view_name": "LayoutView",
            "grid_template_rows": null,
            "right": null,
            "justify_content": null,
            "_view_module": "@jupyter-widgets/base",
            "overflow": null,
            "_model_module_version": "1.2.0",
            "_view_count": null,
            "flex_flow": null,
            "width": null,
            "min_width": null,
            "border": null,
            "align_items": null,
            "bottom": null,
            "_model_module": "@jupyter-widgets/base",
            "top": null,
            "grid_column": null,
            "overflow_y": null,
            "overflow_x": null,
            "grid_auto_flow": null,
            "grid_area": null,
            "grid_template_columns": null,
            "flex": null,
            "_model_name": "LayoutModel",
            "justify_items": null,
            "grid_row": null,
            "max_height": null,
            "align_content": null,
            "visibility": null,
            "align_self": null,
            "height": null,
            "min_height": null,
            "padding": null,
            "grid_auto_rows": null,
            "grid_gap": null,
            "max_width": null,
            "order": null,
            "_view_module_version": "1.2.0",
            "grid_template_areas": null,
            "object_position": null,
            "object_fit": null,
            "grid_auto_columns": null,
            "margin": null,
            "display": null,
            "left": null
          }
        },
        "5264454fd201436489e47e0df55ce350": {
          "model_module": "@jupyter-widgets/controls",
          "model_name": "LabelModel",
          "state": {
            "_view_name": "LabelView",
            "style": "IPY_MODEL_10a650313ad74869ace98b2c587e1c60",
            "_dom_classes": [],
            "description": "",
            "_model_name": "LabelModel",
            "placeholder": "​",
            "_view_module": "@jupyter-widgets/controls",
            "_model_module_version": "1.5.0",
            "value": " 282.32MB of 282.32MB uploaded (0.00MB deduped)\r",
            "_view_count": null,
            "_view_module_version": "1.5.0",
            "description_tooltip": null,
            "_model_module": "@jupyter-widgets/controls",
            "layout": "IPY_MODEL_9d19a2db07cd438e8db3a04a500da10a"
          }
        },
        "a0d0098b318b4d369a84a2c9ecf1685b": {
          "model_module": "@jupyter-widgets/controls",
          "model_name": "FloatProgressModel",
          "state": {
            "_view_name": "ProgressView",
            "style": "IPY_MODEL_fcf29dff6bd1424095833c98387fcb93",
            "_dom_classes": [],
            "description": "",
            "_model_name": "FloatProgressModel",
            "bar_style": "",
            "max": 1,
            "_view_module": "@jupyter-widgets/controls",
            "_model_module_version": "1.5.0",
            "value": 1,
            "_view_count": null,
            "_view_module_version": "1.5.0",
            "orientation": "horizontal",
            "min": 0,
            "description_tooltip": null,
            "_model_module": "@jupyter-widgets/controls",
            "layout": "IPY_MODEL_6ff5646d6f42413a8eea339a814feaca"
          }
        },
        "10a650313ad74869ace98b2c587e1c60": {
          "model_module": "@jupyter-widgets/controls",
          "model_name": "DescriptionStyleModel",
          "state": {
            "_view_name": "StyleView",
            "_model_name": "DescriptionStyleModel",
            "description_width": "",
            "_view_module": "@jupyter-widgets/base",
            "_model_module_version": "1.5.0",
            "_view_count": null,
            "_view_module_version": "1.2.0",
            "_model_module": "@jupyter-widgets/controls"
          }
        },
        "9d19a2db07cd438e8db3a04a500da10a": {
          "model_module": "@jupyter-widgets/base",
          "model_name": "LayoutModel",
          "state": {
            "_view_name": "LayoutView",
            "grid_template_rows": null,
            "right": null,
            "justify_content": null,
            "_view_module": "@jupyter-widgets/base",
            "overflow": null,
            "_model_module_version": "1.2.0",
            "_view_count": null,
            "flex_flow": null,
            "width": null,
            "min_width": null,
            "border": null,
            "align_items": null,
            "bottom": null,
            "_model_module": "@jupyter-widgets/base",
            "top": null,
            "grid_column": null,
            "overflow_y": null,
            "overflow_x": null,
            "grid_auto_flow": null,
            "grid_area": null,
            "grid_template_columns": null,
            "flex": null,
            "_model_name": "LayoutModel",
            "justify_items": null,
            "grid_row": null,
            "max_height": null,
            "align_content": null,
            "visibility": null,
            "align_self": null,
            "height": null,
            "min_height": null,
            "padding": null,
            "grid_auto_rows": null,
            "grid_gap": null,
            "max_width": null,
            "order": null,
            "_view_module_version": "1.2.0",
            "grid_template_areas": null,
            "object_position": null,
            "object_fit": null,
            "grid_auto_columns": null,
            "margin": null,
            "display": null,
            "left": null
          }
        },
        "fcf29dff6bd1424095833c98387fcb93": {
          "model_module": "@jupyter-widgets/controls",
          "model_name": "ProgressStyleModel",
          "state": {
            "_view_name": "StyleView",
            "_model_name": "ProgressStyleModel",
            "description_width": "",
            "_view_module": "@jupyter-widgets/base",
            "_model_module_version": "1.5.0",
            "_view_count": null,
            "_view_module_version": "1.2.0",
            "bar_color": null,
            "_model_module": "@jupyter-widgets/controls"
          }
        },
        "6ff5646d6f42413a8eea339a814feaca": {
          "model_module": "@jupyter-widgets/base",
          "model_name": "LayoutModel",
          "state": {
            "_view_name": "LayoutView",
            "grid_template_rows": null,
            "right": null,
            "justify_content": null,
            "_view_module": "@jupyter-widgets/base",
            "overflow": null,
            "_model_module_version": "1.2.0",
            "_view_count": null,
            "flex_flow": null,
            "width": null,
            "min_width": null,
            "border": null,
            "align_items": null,
            "bottom": null,
            "_model_module": "@jupyter-widgets/base",
            "top": null,
            "grid_column": null,
            "overflow_y": null,
            "overflow_x": null,
            "grid_auto_flow": null,
            "grid_area": null,
            "grid_template_columns": null,
            "flex": null,
            "_model_name": "LayoutModel",
            "justify_items": null,
            "grid_row": null,
            "max_height": null,
            "align_content": null,
            "visibility": null,
            "align_self": null,
            "height": null,
            "min_height": null,
            "padding": null,
            "grid_auto_rows": null,
            "grid_gap": null,
            "max_width": null,
            "order": null,
            "_view_module_version": "1.2.0",
            "grid_template_areas": null,
            "object_position": null,
            "object_fit": null,
            "grid_auto_columns": null,
            "margin": null,
            "display": null,
            "left": null
          }
        },
        "e39c7125aee64086b7a200132a00554d": {
          "model_module": "@jupyter-widgets/controls",
          "model_name": "VBoxModel",
          "state": {
            "_view_name": "VBoxView",
            "_dom_classes": [],
            "_model_name": "VBoxModel",
            "_view_module": "@jupyter-widgets/controls",
            "_model_module_version": "1.5.0",
            "_view_count": null,
            "_view_module_version": "1.5.0",
            "box_style": "",
            "layout": "IPY_MODEL_49dfbd67a23244818359ba8d55a8e9c9",
            "_model_module": "@jupyter-widgets/controls",
            "children": [
              "IPY_MODEL_26dbde95eab3426296af6a4739049edd",
              "IPY_MODEL_c3a5ab5797d1402cbf25fd68b048aed5"
            ]
          }
        },
        "49dfbd67a23244818359ba8d55a8e9c9": {
          "model_module": "@jupyter-widgets/base",
          "model_name": "LayoutModel",
          "state": {
            "_view_name": "LayoutView",
            "grid_template_rows": null,
            "right": null,
            "justify_content": null,
            "_view_module": "@jupyter-widgets/base",
            "overflow": null,
            "_model_module_version": "1.2.0",
            "_view_count": null,
            "flex_flow": null,
            "width": null,
            "min_width": null,
            "border": null,
            "align_items": null,
            "bottom": null,
            "_model_module": "@jupyter-widgets/base",
            "top": null,
            "grid_column": null,
            "overflow_y": null,
            "overflow_x": null,
            "grid_auto_flow": null,
            "grid_area": null,
            "grid_template_columns": null,
            "flex": null,
            "_model_name": "LayoutModel",
            "justify_items": null,
            "grid_row": null,
            "max_height": null,
            "align_content": null,
            "visibility": null,
            "align_self": null,
            "height": null,
            "min_height": null,
            "padding": null,
            "grid_auto_rows": null,
            "grid_gap": null,
            "max_width": null,
            "order": null,
            "_view_module_version": "1.2.0",
            "grid_template_areas": null,
            "object_position": null,
            "object_fit": null,
            "grid_auto_columns": null,
            "margin": null,
            "display": null,
            "left": null
          }
        },
        "26dbde95eab3426296af6a4739049edd": {
          "model_module": "@jupyter-widgets/controls",
          "model_name": "LabelModel",
          "state": {
            "_view_name": "LabelView",
            "style": "IPY_MODEL_7943a6d11f8c41b586db7f8ff1811d67",
            "_dom_classes": [],
            "description": "",
            "_model_name": "LabelModel",
            "placeholder": "​",
            "_view_module": "@jupyter-widgets/controls",
            "_model_module_version": "1.5.0",
            "value": " 145.77MB of 145.77MB uploaded (0.00MB deduped)\r",
            "_view_count": null,
            "_view_module_version": "1.5.0",
            "description_tooltip": null,
            "_model_module": "@jupyter-widgets/controls",
            "layout": "IPY_MODEL_4282b6fa02a047aea5c36da72c0af0a5"
          }
        },
        "c3a5ab5797d1402cbf25fd68b048aed5": {
          "model_module": "@jupyter-widgets/controls",
          "model_name": "FloatProgressModel",
          "state": {
            "_view_name": "ProgressView",
            "style": "IPY_MODEL_0efdf82ef14a40b3a62e43d767b3796e",
            "_dom_classes": [],
            "description": "",
            "_model_name": "FloatProgressModel",
            "bar_style": "",
            "max": 1,
            "_view_module": "@jupyter-widgets/controls",
            "_model_module_version": "1.5.0",
            "value": 1,
            "_view_count": null,
            "_view_module_version": "1.5.0",
            "orientation": "horizontal",
            "min": 0,
            "description_tooltip": null,
            "_model_module": "@jupyter-widgets/controls",
            "layout": "IPY_MODEL_b8ac9a77cc0b4e55b9eda25f2dddb368"
          }
        },
        "7943a6d11f8c41b586db7f8ff1811d67": {
          "model_module": "@jupyter-widgets/controls",
          "model_name": "DescriptionStyleModel",
          "state": {
            "_view_name": "StyleView",
            "_model_name": "DescriptionStyleModel",
            "description_width": "",
            "_view_module": "@jupyter-widgets/base",
            "_model_module_version": "1.5.0",
            "_view_count": null,
            "_view_module_version": "1.2.0",
            "_model_module": "@jupyter-widgets/controls"
          }
        },
        "4282b6fa02a047aea5c36da72c0af0a5": {
          "model_module": "@jupyter-widgets/base",
          "model_name": "LayoutModel",
          "state": {
            "_view_name": "LayoutView",
            "grid_template_rows": null,
            "right": null,
            "justify_content": null,
            "_view_module": "@jupyter-widgets/base",
            "overflow": null,
            "_model_module_version": "1.2.0",
            "_view_count": null,
            "flex_flow": null,
            "width": null,
            "min_width": null,
            "border": null,
            "align_items": null,
            "bottom": null,
            "_model_module": "@jupyter-widgets/base",
            "top": null,
            "grid_column": null,
            "overflow_y": null,
            "overflow_x": null,
            "grid_auto_flow": null,
            "grid_area": null,
            "grid_template_columns": null,
            "flex": null,
            "_model_name": "LayoutModel",
            "justify_items": null,
            "grid_row": null,
            "max_height": null,
            "align_content": null,
            "visibility": null,
            "align_self": null,
            "height": null,
            "min_height": null,
            "padding": null,
            "grid_auto_rows": null,
            "grid_gap": null,
            "max_width": null,
            "order": null,
            "_view_module_version": "1.2.0",
            "grid_template_areas": null,
            "object_position": null,
            "object_fit": null,
            "grid_auto_columns": null,
            "margin": null,
            "display": null,
            "left": null
          }
        },
        "0efdf82ef14a40b3a62e43d767b3796e": {
          "model_module": "@jupyter-widgets/controls",
          "model_name": "ProgressStyleModel",
          "state": {
            "_view_name": "StyleView",
            "_model_name": "ProgressStyleModel",
            "description_width": "",
            "_view_module": "@jupyter-widgets/base",
            "_model_module_version": "1.5.0",
            "_view_count": null,
            "_view_module_version": "1.2.0",
            "bar_color": null,
            "_model_module": "@jupyter-widgets/controls"
          }
        },
        "b8ac9a77cc0b4e55b9eda25f2dddb368": {
          "model_module": "@jupyter-widgets/base",
          "model_name": "LayoutModel",
          "state": {
            "_view_name": "LayoutView",
            "grid_template_rows": null,
            "right": null,
            "justify_content": null,
            "_view_module": "@jupyter-widgets/base",
            "overflow": null,
            "_model_module_version": "1.2.0",
            "_view_count": null,
            "flex_flow": null,
            "width": null,
            "min_width": null,
            "border": null,
            "align_items": null,
            "bottom": null,
            "_model_module": "@jupyter-widgets/base",
            "top": null,
            "grid_column": null,
            "overflow_y": null,
            "overflow_x": null,
            "grid_auto_flow": null,
            "grid_area": null,
            "grid_template_columns": null,
            "flex": null,
            "_model_name": "LayoutModel",
            "justify_items": null,
            "grid_row": null,
            "max_height": null,
            "align_content": null,
            "visibility": null,
            "align_self": null,
            "height": null,
            "min_height": null,
            "padding": null,
            "grid_auto_rows": null,
            "grid_gap": null,
            "max_width": null,
            "order": null,
            "_view_module_version": "1.2.0",
            "grid_template_areas": null,
            "object_position": null,
            "object_fit": null,
            "grid_auto_columns": null,
            "margin": null,
            "display": null,
            "left": null
          }
        },
        "1490fa26119c4150a91983781f59cb7d": {
          "model_module": "@jupyter-widgets/controls",
          "model_name": "VBoxModel",
          "state": {
            "_view_name": "VBoxView",
            "_dom_classes": [],
            "_model_name": "VBoxModel",
            "_view_module": "@jupyter-widgets/controls",
            "_model_module_version": "1.5.0",
            "_view_count": null,
            "_view_module_version": "1.5.0",
            "box_style": "",
            "layout": "IPY_MODEL_ecc3efdf45744a24a42e0a0809cc9df2",
            "_model_module": "@jupyter-widgets/controls",
            "children": [
              "IPY_MODEL_4879b71a8ce844928eaf14d33c3d3466",
              "IPY_MODEL_81935e762491452b905b674f5f97d519"
            ]
          }
        },
        "ecc3efdf45744a24a42e0a0809cc9df2": {
          "model_module": "@jupyter-widgets/base",
          "model_name": "LayoutModel",
          "state": {
            "_view_name": "LayoutView",
            "grid_template_rows": null,
            "right": null,
            "justify_content": null,
            "_view_module": "@jupyter-widgets/base",
            "overflow": null,
            "_model_module_version": "1.2.0",
            "_view_count": null,
            "flex_flow": null,
            "width": null,
            "min_width": null,
            "border": null,
            "align_items": null,
            "bottom": null,
            "_model_module": "@jupyter-widgets/base",
            "top": null,
            "grid_column": null,
            "overflow_y": null,
            "overflow_x": null,
            "grid_auto_flow": null,
            "grid_area": null,
            "grid_template_columns": null,
            "flex": null,
            "_model_name": "LayoutModel",
            "justify_items": null,
            "grid_row": null,
            "max_height": null,
            "align_content": null,
            "visibility": null,
            "align_self": null,
            "height": null,
            "min_height": null,
            "padding": null,
            "grid_auto_rows": null,
            "grid_gap": null,
            "max_width": null,
            "order": null,
            "_view_module_version": "1.2.0",
            "grid_template_areas": null,
            "object_position": null,
            "object_fit": null,
            "grid_auto_columns": null,
            "margin": null,
            "display": null,
            "left": null
          }
        },
        "4879b71a8ce844928eaf14d33c3d3466": {
          "model_module": "@jupyter-widgets/controls",
          "model_name": "LabelModel",
          "state": {
            "_view_name": "LabelView",
            "style": "IPY_MODEL_ec86b15b11a14d8eb026f2ee0f05fcec",
            "_dom_classes": [],
            "description": "",
            "_model_name": "LabelModel",
            "placeholder": "​",
            "_view_module": "@jupyter-widgets/controls",
            "_model_module_version": "1.5.0",
            "value": " 137.73MB of 137.73MB uploaded (0.00MB deduped)\r",
            "_view_count": null,
            "_view_module_version": "1.5.0",
            "description_tooltip": null,
            "_model_module": "@jupyter-widgets/controls",
            "layout": "IPY_MODEL_8cdb4278b1b64c1f8dd2b4b258072e16"
          }
        },
        "81935e762491452b905b674f5f97d519": {
          "model_module": "@jupyter-widgets/controls",
          "model_name": "FloatProgressModel",
          "state": {
            "_view_name": "ProgressView",
            "style": "IPY_MODEL_537c3d0fbcbe4985a8c4e99e3b88ab10",
            "_dom_classes": [],
            "description": "",
            "_model_name": "FloatProgressModel",
            "bar_style": "",
            "max": 1,
            "_view_module": "@jupyter-widgets/controls",
            "_model_module_version": "1.5.0",
            "value": 1,
            "_view_count": null,
            "_view_module_version": "1.5.0",
            "orientation": "horizontal",
            "min": 0,
            "description_tooltip": null,
            "_model_module": "@jupyter-widgets/controls",
            "layout": "IPY_MODEL_85803733689942528dde99f14e890ab1"
          }
        },
        "ec86b15b11a14d8eb026f2ee0f05fcec": {
          "model_module": "@jupyter-widgets/controls",
          "model_name": "DescriptionStyleModel",
          "state": {
            "_view_name": "StyleView",
            "_model_name": "DescriptionStyleModel",
            "description_width": "",
            "_view_module": "@jupyter-widgets/base",
            "_model_module_version": "1.5.0",
            "_view_count": null,
            "_view_module_version": "1.2.0",
            "_model_module": "@jupyter-widgets/controls"
          }
        },
        "8cdb4278b1b64c1f8dd2b4b258072e16": {
          "model_module": "@jupyter-widgets/base",
          "model_name": "LayoutModel",
          "state": {
            "_view_name": "LayoutView",
            "grid_template_rows": null,
            "right": null,
            "justify_content": null,
            "_view_module": "@jupyter-widgets/base",
            "overflow": null,
            "_model_module_version": "1.2.0",
            "_view_count": null,
            "flex_flow": null,
            "width": null,
            "min_width": null,
            "border": null,
            "align_items": null,
            "bottom": null,
            "_model_module": "@jupyter-widgets/base",
            "top": null,
            "grid_column": null,
            "overflow_y": null,
            "overflow_x": null,
            "grid_auto_flow": null,
            "grid_area": null,
            "grid_template_columns": null,
            "flex": null,
            "_model_name": "LayoutModel",
            "justify_items": null,
            "grid_row": null,
            "max_height": null,
            "align_content": null,
            "visibility": null,
            "align_self": null,
            "height": null,
            "min_height": null,
            "padding": null,
            "grid_auto_rows": null,
            "grid_gap": null,
            "max_width": null,
            "order": null,
            "_view_module_version": "1.2.0",
            "grid_template_areas": null,
            "object_position": null,
            "object_fit": null,
            "grid_auto_columns": null,
            "margin": null,
            "display": null,
            "left": null
          }
        },
        "537c3d0fbcbe4985a8c4e99e3b88ab10": {
          "model_module": "@jupyter-widgets/controls",
          "model_name": "ProgressStyleModel",
          "state": {
            "_view_name": "StyleView",
            "_model_name": "ProgressStyleModel",
            "description_width": "",
            "_view_module": "@jupyter-widgets/base",
            "_model_module_version": "1.5.0",
            "_view_count": null,
            "_view_module_version": "1.2.0",
            "bar_color": null,
            "_model_module": "@jupyter-widgets/controls"
          }
        },
        "85803733689942528dde99f14e890ab1": {
          "model_module": "@jupyter-widgets/base",
          "model_name": "LayoutModel",
          "state": {
            "_view_name": "LayoutView",
            "grid_template_rows": null,
            "right": null,
            "justify_content": null,
            "_view_module": "@jupyter-widgets/base",
            "overflow": null,
            "_model_module_version": "1.2.0",
            "_view_count": null,
            "flex_flow": null,
            "width": null,
            "min_width": null,
            "border": null,
            "align_items": null,
            "bottom": null,
            "_model_module": "@jupyter-widgets/base",
            "top": null,
            "grid_column": null,
            "overflow_y": null,
            "overflow_x": null,
            "grid_auto_flow": null,
            "grid_area": null,
            "grid_template_columns": null,
            "flex": null,
            "_model_name": "LayoutModel",
            "justify_items": null,
            "grid_row": null,
            "max_height": null,
            "align_content": null,
            "visibility": null,
            "align_self": null,
            "height": null,
            "min_height": null,
            "padding": null,
            "grid_auto_rows": null,
            "grid_gap": null,
            "max_width": null,
            "order": null,
            "_view_module_version": "1.2.0",
            "grid_template_areas": null,
            "object_position": null,
            "object_fit": null,
            "grid_auto_columns": null,
            "margin": null,
            "display": null,
            "left": null
          }
        },
        "1eb60eb4bfc74760946d694ffa50defd": {
          "model_module": "@jupyter-widgets/controls",
          "model_name": "VBoxModel",
          "state": {
            "_view_name": "VBoxView",
            "_dom_classes": [],
            "_model_name": "VBoxModel",
            "_view_module": "@jupyter-widgets/controls",
            "_model_module_version": "1.5.0",
            "_view_count": null,
            "_view_module_version": "1.5.0",
            "box_style": "",
            "layout": "IPY_MODEL_33b8b1fc75564ffc9c78c459f0cd5fa4",
            "_model_module": "@jupyter-widgets/controls",
            "children": [
              "IPY_MODEL_751f06118036444986189d321c71e946",
              "IPY_MODEL_0ecf1cabb0de4083b67270df174020c8"
            ]
          }
        },
        "33b8b1fc75564ffc9c78c459f0cd5fa4": {
          "model_module": "@jupyter-widgets/base",
          "model_name": "LayoutModel",
          "state": {
            "_view_name": "LayoutView",
            "grid_template_rows": null,
            "right": null,
            "justify_content": null,
            "_view_module": "@jupyter-widgets/base",
            "overflow": null,
            "_model_module_version": "1.2.0",
            "_view_count": null,
            "flex_flow": null,
            "width": null,
            "min_width": null,
            "border": null,
            "align_items": null,
            "bottom": null,
            "_model_module": "@jupyter-widgets/base",
            "top": null,
            "grid_column": null,
            "overflow_y": null,
            "overflow_x": null,
            "grid_auto_flow": null,
            "grid_area": null,
            "grid_template_columns": null,
            "flex": null,
            "_model_name": "LayoutModel",
            "justify_items": null,
            "grid_row": null,
            "max_height": null,
            "align_content": null,
            "visibility": null,
            "align_self": null,
            "height": null,
            "min_height": null,
            "padding": null,
            "grid_auto_rows": null,
            "grid_gap": null,
            "max_width": null,
            "order": null,
            "_view_module_version": "1.2.0",
            "grid_template_areas": null,
            "object_position": null,
            "object_fit": null,
            "grid_auto_columns": null,
            "margin": null,
            "display": null,
            "left": null
          }
        },
        "751f06118036444986189d321c71e946": {
          "model_module": "@jupyter-widgets/controls",
          "model_name": "LabelModel",
          "state": {
            "_view_name": "LabelView",
            "style": "IPY_MODEL_4206c0d6fee546d8bcc64ebc9bea20c0",
            "_dom_classes": [],
            "description": "",
            "_model_name": "LabelModel",
            "placeholder": "​",
            "_view_module": "@jupyter-widgets/controls",
            "_model_module_version": "1.5.0",
            "value": " 212.16MB of 212.16MB uploaded (0.00MB deduped)\r",
            "_view_count": null,
            "_view_module_version": "1.5.0",
            "description_tooltip": null,
            "_model_module": "@jupyter-widgets/controls",
            "layout": "IPY_MODEL_6187c89c06df49cc80c2a4e8b3d89a60"
          }
        },
        "0ecf1cabb0de4083b67270df174020c8": {
          "model_module": "@jupyter-widgets/controls",
          "model_name": "FloatProgressModel",
          "state": {
            "_view_name": "ProgressView",
            "style": "IPY_MODEL_758c9083186f4e74b18fb5627f56c7bf",
            "_dom_classes": [],
            "description": "",
            "_model_name": "FloatProgressModel",
            "bar_style": "",
            "max": 1,
            "_view_module": "@jupyter-widgets/controls",
            "_model_module_version": "1.5.0",
            "value": 1,
            "_view_count": null,
            "_view_module_version": "1.5.0",
            "orientation": "horizontal",
            "min": 0,
            "description_tooltip": null,
            "_model_module": "@jupyter-widgets/controls",
            "layout": "IPY_MODEL_850245f0dc8941fc8113535a4b80f45e"
          }
        },
        "4206c0d6fee546d8bcc64ebc9bea20c0": {
          "model_module": "@jupyter-widgets/controls",
          "model_name": "DescriptionStyleModel",
          "state": {
            "_view_name": "StyleView",
            "_model_name": "DescriptionStyleModel",
            "description_width": "",
            "_view_module": "@jupyter-widgets/base",
            "_model_module_version": "1.5.0",
            "_view_count": null,
            "_view_module_version": "1.2.0",
            "_model_module": "@jupyter-widgets/controls"
          }
        },
        "6187c89c06df49cc80c2a4e8b3d89a60": {
          "model_module": "@jupyter-widgets/base",
          "model_name": "LayoutModel",
          "state": {
            "_view_name": "LayoutView",
            "grid_template_rows": null,
            "right": null,
            "justify_content": null,
            "_view_module": "@jupyter-widgets/base",
            "overflow": null,
            "_model_module_version": "1.2.0",
            "_view_count": null,
            "flex_flow": null,
            "width": null,
            "min_width": null,
            "border": null,
            "align_items": null,
            "bottom": null,
            "_model_module": "@jupyter-widgets/base",
            "top": null,
            "grid_column": null,
            "overflow_y": null,
            "overflow_x": null,
            "grid_auto_flow": null,
            "grid_area": null,
            "grid_template_columns": null,
            "flex": null,
            "_model_name": "LayoutModel",
            "justify_items": null,
            "grid_row": null,
            "max_height": null,
            "align_content": null,
            "visibility": null,
            "align_self": null,
            "height": null,
            "min_height": null,
            "padding": null,
            "grid_auto_rows": null,
            "grid_gap": null,
            "max_width": null,
            "order": null,
            "_view_module_version": "1.2.0",
            "grid_template_areas": null,
            "object_position": null,
            "object_fit": null,
            "grid_auto_columns": null,
            "margin": null,
            "display": null,
            "left": null
          }
        },
        "758c9083186f4e74b18fb5627f56c7bf": {
          "model_module": "@jupyter-widgets/controls",
          "model_name": "ProgressStyleModel",
          "state": {
            "_view_name": "StyleView",
            "_model_name": "ProgressStyleModel",
            "description_width": "",
            "_view_module": "@jupyter-widgets/base",
            "_model_module_version": "1.5.0",
            "_view_count": null,
            "_view_module_version": "1.2.0",
            "bar_color": null,
            "_model_module": "@jupyter-widgets/controls"
          }
        },
        "850245f0dc8941fc8113535a4b80f45e": {
          "model_module": "@jupyter-widgets/base",
          "model_name": "LayoutModel",
          "state": {
            "_view_name": "LayoutView",
            "grid_template_rows": null,
            "right": null,
            "justify_content": null,
            "_view_module": "@jupyter-widgets/base",
            "overflow": null,
            "_model_module_version": "1.2.0",
            "_view_count": null,
            "flex_flow": null,
            "width": null,
            "min_width": null,
            "border": null,
            "align_items": null,
            "bottom": null,
            "_model_module": "@jupyter-widgets/base",
            "top": null,
            "grid_column": null,
            "overflow_y": null,
            "overflow_x": null,
            "grid_auto_flow": null,
            "grid_area": null,
            "grid_template_columns": null,
            "flex": null,
            "_model_name": "LayoutModel",
            "justify_items": null,
            "grid_row": null,
            "max_height": null,
            "align_content": null,
            "visibility": null,
            "align_self": null,
            "height": null,
            "min_height": null,
            "padding": null,
            "grid_auto_rows": null,
            "grid_gap": null,
            "max_width": null,
            "order": null,
            "_view_module_version": "1.2.0",
            "grid_template_areas": null,
            "object_position": null,
            "object_fit": null,
            "grid_auto_columns": null,
            "margin": null,
            "display": null,
            "left": null
          }
        },
        "91835c9abe364338a7bb8d9fc481b4e6": {
          "model_module": "@jupyter-widgets/controls",
          "model_name": "VBoxModel",
          "state": {
            "_view_name": "VBoxView",
            "_dom_classes": [],
            "_model_name": "VBoxModel",
            "_view_module": "@jupyter-widgets/controls",
            "_model_module_version": "1.5.0",
            "_view_count": null,
            "_view_module_version": "1.5.0",
            "box_style": "",
            "layout": "IPY_MODEL_633fef73df2a4c5b86787e222d452ff7",
            "_model_module": "@jupyter-widgets/controls",
            "children": [
              "IPY_MODEL_d70fb9c00ee94758a450c5cf3d54dec8",
              "IPY_MODEL_29b66e75f8d6483a9010005248b736e1"
            ]
          }
        },
        "633fef73df2a4c5b86787e222d452ff7": {
          "model_module": "@jupyter-widgets/base",
          "model_name": "LayoutModel",
          "state": {
            "_view_name": "LayoutView",
            "grid_template_rows": null,
            "right": null,
            "justify_content": null,
            "_view_module": "@jupyter-widgets/base",
            "overflow": null,
            "_model_module_version": "1.2.0",
            "_view_count": null,
            "flex_flow": null,
            "width": null,
            "min_width": null,
            "border": null,
            "align_items": null,
            "bottom": null,
            "_model_module": "@jupyter-widgets/base",
            "top": null,
            "grid_column": null,
            "overflow_y": null,
            "overflow_x": null,
            "grid_auto_flow": null,
            "grid_area": null,
            "grid_template_columns": null,
            "flex": null,
            "_model_name": "LayoutModel",
            "justify_items": null,
            "grid_row": null,
            "max_height": null,
            "align_content": null,
            "visibility": null,
            "align_self": null,
            "height": null,
            "min_height": null,
            "padding": null,
            "grid_auto_rows": null,
            "grid_gap": null,
            "max_width": null,
            "order": null,
            "_view_module_version": "1.2.0",
            "grid_template_areas": null,
            "object_position": null,
            "object_fit": null,
            "grid_auto_columns": null,
            "margin": null,
            "display": null,
            "left": null
          }
        },
        "d70fb9c00ee94758a450c5cf3d54dec8": {
          "model_module": "@jupyter-widgets/controls",
          "model_name": "LabelModel",
          "state": {
            "_view_name": "LabelView",
            "style": "IPY_MODEL_cf504d547bdd47b1b9969cde0cb7b57c",
            "_dom_classes": [],
            "description": "",
            "_model_name": "LabelModel",
            "placeholder": "​",
            "_view_module": "@jupyter-widgets/controls",
            "_model_module_version": "1.5.0",
            "value": " 175.91MB of 175.91MB uploaded (0.00MB deduped)\r",
            "_view_count": null,
            "_view_module_version": "1.5.0",
            "description_tooltip": null,
            "_model_module": "@jupyter-widgets/controls",
            "layout": "IPY_MODEL_5e4ad164bb9846358f27e757a51b399c"
          }
        },
        "29b66e75f8d6483a9010005248b736e1": {
          "model_module": "@jupyter-widgets/controls",
          "model_name": "FloatProgressModel",
          "state": {
            "_view_name": "ProgressView",
            "style": "IPY_MODEL_42a2f6bc69b64e37b643cea8c5345c12",
            "_dom_classes": [],
            "description": "",
            "_model_name": "FloatProgressModel",
            "bar_style": "",
            "max": 1,
            "_view_module": "@jupyter-widgets/controls",
            "_model_module_version": "1.5.0",
            "value": 1,
            "_view_count": null,
            "_view_module_version": "1.5.0",
            "orientation": "horizontal",
            "min": 0,
            "description_tooltip": null,
            "_model_module": "@jupyter-widgets/controls",
            "layout": "IPY_MODEL_94b51c60635e4f368e5318f4f3d20a89"
          }
        },
        "cf504d547bdd47b1b9969cde0cb7b57c": {
          "model_module": "@jupyter-widgets/controls",
          "model_name": "DescriptionStyleModel",
          "state": {
            "_view_name": "StyleView",
            "_model_name": "DescriptionStyleModel",
            "description_width": "",
            "_view_module": "@jupyter-widgets/base",
            "_model_module_version": "1.5.0",
            "_view_count": null,
            "_view_module_version": "1.2.0",
            "_model_module": "@jupyter-widgets/controls"
          }
        },
        "5e4ad164bb9846358f27e757a51b399c": {
          "model_module": "@jupyter-widgets/base",
          "model_name": "LayoutModel",
          "state": {
            "_view_name": "LayoutView",
            "grid_template_rows": null,
            "right": null,
            "justify_content": null,
            "_view_module": "@jupyter-widgets/base",
            "overflow": null,
            "_model_module_version": "1.2.0",
            "_view_count": null,
            "flex_flow": null,
            "width": null,
            "min_width": null,
            "border": null,
            "align_items": null,
            "bottom": null,
            "_model_module": "@jupyter-widgets/base",
            "top": null,
            "grid_column": null,
            "overflow_y": null,
            "overflow_x": null,
            "grid_auto_flow": null,
            "grid_area": null,
            "grid_template_columns": null,
            "flex": null,
            "_model_name": "LayoutModel",
            "justify_items": null,
            "grid_row": null,
            "max_height": null,
            "align_content": null,
            "visibility": null,
            "align_self": null,
            "height": null,
            "min_height": null,
            "padding": null,
            "grid_auto_rows": null,
            "grid_gap": null,
            "max_width": null,
            "order": null,
            "_view_module_version": "1.2.0",
            "grid_template_areas": null,
            "object_position": null,
            "object_fit": null,
            "grid_auto_columns": null,
            "margin": null,
            "display": null,
            "left": null
          }
        },
        "42a2f6bc69b64e37b643cea8c5345c12": {
          "model_module": "@jupyter-widgets/controls",
          "model_name": "ProgressStyleModel",
          "state": {
            "_view_name": "StyleView",
            "_model_name": "ProgressStyleModel",
            "description_width": "",
            "_view_module": "@jupyter-widgets/base",
            "_model_module_version": "1.5.0",
            "_view_count": null,
            "_view_module_version": "1.2.0",
            "bar_color": null,
            "_model_module": "@jupyter-widgets/controls"
          }
        },
        "94b51c60635e4f368e5318f4f3d20a89": {
          "model_module": "@jupyter-widgets/base",
          "model_name": "LayoutModel",
          "state": {
            "_view_name": "LayoutView",
            "grid_template_rows": null,
            "right": null,
            "justify_content": null,
            "_view_module": "@jupyter-widgets/base",
            "overflow": null,
            "_model_module_version": "1.2.0",
            "_view_count": null,
            "flex_flow": null,
            "width": null,
            "min_width": null,
            "border": null,
            "align_items": null,
            "bottom": null,
            "_model_module": "@jupyter-widgets/base",
            "top": null,
            "grid_column": null,
            "overflow_y": null,
            "overflow_x": null,
            "grid_auto_flow": null,
            "grid_area": null,
            "grid_template_columns": null,
            "flex": null,
            "_model_name": "LayoutModel",
            "justify_items": null,
            "grid_row": null,
            "max_height": null,
            "align_content": null,
            "visibility": null,
            "align_self": null,
            "height": null,
            "min_height": null,
            "padding": null,
            "grid_auto_rows": null,
            "grid_gap": null,
            "max_width": null,
            "order": null,
            "_view_module_version": "1.2.0",
            "grid_template_areas": null,
            "object_position": null,
            "object_fit": null,
            "grid_auto_columns": null,
            "margin": null,
            "display": null,
            "left": null
          }
        },
        "f7810525697d46708e3fe9ff073577f0": {
          "model_module": "@jupyter-widgets/controls",
          "model_name": "VBoxModel",
          "state": {
            "_view_name": "VBoxView",
            "_dom_classes": [],
            "_model_name": "VBoxModel",
            "_view_module": "@jupyter-widgets/controls",
            "_model_module_version": "1.5.0",
            "_view_count": null,
            "_view_module_version": "1.5.0",
            "box_style": "",
            "layout": "IPY_MODEL_20e14efa7f3d44ac9cd2a1c6703cfb30",
            "_model_module": "@jupyter-widgets/controls",
            "children": [
              "IPY_MODEL_ca579d9039594741b5eb67e7281b6490",
              "IPY_MODEL_06697b3b609d45eb81f4ea54ed1d9f7e"
            ]
          }
        },
        "20e14efa7f3d44ac9cd2a1c6703cfb30": {
          "model_module": "@jupyter-widgets/base",
          "model_name": "LayoutModel",
          "state": {
            "_view_name": "LayoutView",
            "grid_template_rows": null,
            "right": null,
            "justify_content": null,
            "_view_module": "@jupyter-widgets/base",
            "overflow": null,
            "_model_module_version": "1.2.0",
            "_view_count": null,
            "flex_flow": null,
            "width": null,
            "min_width": null,
            "border": null,
            "align_items": null,
            "bottom": null,
            "_model_module": "@jupyter-widgets/base",
            "top": null,
            "grid_column": null,
            "overflow_y": null,
            "overflow_x": null,
            "grid_auto_flow": null,
            "grid_area": null,
            "grid_template_columns": null,
            "flex": null,
            "_model_name": "LayoutModel",
            "justify_items": null,
            "grid_row": null,
            "max_height": null,
            "align_content": null,
            "visibility": null,
            "align_self": null,
            "height": null,
            "min_height": null,
            "padding": null,
            "grid_auto_rows": null,
            "grid_gap": null,
            "max_width": null,
            "order": null,
            "_view_module_version": "1.2.0",
            "grid_template_areas": null,
            "object_position": null,
            "object_fit": null,
            "grid_auto_columns": null,
            "margin": null,
            "display": null,
            "left": null
          }
        },
        "ca579d9039594741b5eb67e7281b6490": {
          "model_module": "@jupyter-widgets/controls",
          "model_name": "LabelModel",
          "state": {
            "_view_name": "LabelView",
            "style": "IPY_MODEL_dba7c528ffdb4454b47de3afd7b49d1d",
            "_dom_classes": [],
            "description": "",
            "_model_name": "LabelModel",
            "placeholder": "​",
            "_view_module": "@jupyter-widgets/controls",
            "_model_module_version": "1.5.0",
            "value": " 285.90MB of 285.90MB uploaded (0.00MB deduped)\r",
            "_view_count": null,
            "_view_module_version": "1.5.0",
            "description_tooltip": null,
            "_model_module": "@jupyter-widgets/controls",
            "layout": "IPY_MODEL_a6a5dfb1be7b45cc946eb07ce5c135c2"
          }
        },
        "06697b3b609d45eb81f4ea54ed1d9f7e": {
          "model_module": "@jupyter-widgets/controls",
          "model_name": "FloatProgressModel",
          "state": {
            "_view_name": "ProgressView",
            "style": "IPY_MODEL_154f089671904d95b0116b21f58f2753",
            "_dom_classes": [],
            "description": "",
            "_model_name": "FloatProgressModel",
            "bar_style": "",
            "max": 1,
            "_view_module": "@jupyter-widgets/controls",
            "_model_module_version": "1.5.0",
            "value": 1,
            "_view_count": null,
            "_view_module_version": "1.5.0",
            "orientation": "horizontal",
            "min": 0,
            "description_tooltip": null,
            "_model_module": "@jupyter-widgets/controls",
            "layout": "IPY_MODEL_4340185565bc4acd958415b9d36e30fc"
          }
        },
        "dba7c528ffdb4454b47de3afd7b49d1d": {
          "model_module": "@jupyter-widgets/controls",
          "model_name": "DescriptionStyleModel",
          "state": {
            "_view_name": "StyleView",
            "_model_name": "DescriptionStyleModel",
            "description_width": "",
            "_view_module": "@jupyter-widgets/base",
            "_model_module_version": "1.5.0",
            "_view_count": null,
            "_view_module_version": "1.2.0",
            "_model_module": "@jupyter-widgets/controls"
          }
        },
        "a6a5dfb1be7b45cc946eb07ce5c135c2": {
          "model_module": "@jupyter-widgets/base",
          "model_name": "LayoutModel",
          "state": {
            "_view_name": "LayoutView",
            "grid_template_rows": null,
            "right": null,
            "justify_content": null,
            "_view_module": "@jupyter-widgets/base",
            "overflow": null,
            "_model_module_version": "1.2.0",
            "_view_count": null,
            "flex_flow": null,
            "width": null,
            "min_width": null,
            "border": null,
            "align_items": null,
            "bottom": null,
            "_model_module": "@jupyter-widgets/base",
            "top": null,
            "grid_column": null,
            "overflow_y": null,
            "overflow_x": null,
            "grid_auto_flow": null,
            "grid_area": null,
            "grid_template_columns": null,
            "flex": null,
            "_model_name": "LayoutModel",
            "justify_items": null,
            "grid_row": null,
            "max_height": null,
            "align_content": null,
            "visibility": null,
            "align_self": null,
            "height": null,
            "min_height": null,
            "padding": null,
            "grid_auto_rows": null,
            "grid_gap": null,
            "max_width": null,
            "order": null,
            "_view_module_version": "1.2.0",
            "grid_template_areas": null,
            "object_position": null,
            "object_fit": null,
            "grid_auto_columns": null,
            "margin": null,
            "display": null,
            "left": null
          }
        },
        "154f089671904d95b0116b21f58f2753": {
          "model_module": "@jupyter-widgets/controls",
          "model_name": "ProgressStyleModel",
          "state": {
            "_view_name": "StyleView",
            "_model_name": "ProgressStyleModel",
            "description_width": "",
            "_view_module": "@jupyter-widgets/base",
            "_model_module_version": "1.5.0",
            "_view_count": null,
            "_view_module_version": "1.2.0",
            "bar_color": null,
            "_model_module": "@jupyter-widgets/controls"
          }
        },
        "4340185565bc4acd958415b9d36e30fc": {
          "model_module": "@jupyter-widgets/base",
          "model_name": "LayoutModel",
          "state": {
            "_view_name": "LayoutView",
            "grid_template_rows": null,
            "right": null,
            "justify_content": null,
            "_view_module": "@jupyter-widgets/base",
            "overflow": null,
            "_model_module_version": "1.2.0",
            "_view_count": null,
            "flex_flow": null,
            "width": null,
            "min_width": null,
            "border": null,
            "align_items": null,
            "bottom": null,
            "_model_module": "@jupyter-widgets/base",
            "top": null,
            "grid_column": null,
            "overflow_y": null,
            "overflow_x": null,
            "grid_auto_flow": null,
            "grid_area": null,
            "grid_template_columns": null,
            "flex": null,
            "_model_name": "LayoutModel",
            "justify_items": null,
            "grid_row": null,
            "max_height": null,
            "align_content": null,
            "visibility": null,
            "align_self": null,
            "height": null,
            "min_height": null,
            "padding": null,
            "grid_auto_rows": null,
            "grid_gap": null,
            "max_width": null,
            "order": null,
            "_view_module_version": "1.2.0",
            "grid_template_areas": null,
            "object_position": null,
            "object_fit": null,
            "grid_auto_columns": null,
            "margin": null,
            "display": null,
            "left": null
          }
        },
        "1008159a940d4688b6a2c90a878fbcd8": {
          "model_module": "@jupyter-widgets/controls",
          "model_name": "VBoxModel",
          "state": {
            "_view_name": "VBoxView",
            "_dom_classes": [],
            "_model_name": "VBoxModel",
            "_view_module": "@jupyter-widgets/controls",
            "_model_module_version": "1.5.0",
            "_view_count": null,
            "_view_module_version": "1.5.0",
            "box_style": "",
            "layout": "IPY_MODEL_1d0fc16878f14d3c97252ee51e49691d",
            "_model_module": "@jupyter-widgets/controls",
            "children": [
              "IPY_MODEL_1026081578b448c9926027867cc0b535",
              "IPY_MODEL_3052338e05304a2dbd85036215124770"
            ]
          }
        },
        "1d0fc16878f14d3c97252ee51e49691d": {
          "model_module": "@jupyter-widgets/base",
          "model_name": "LayoutModel",
          "state": {
            "_view_name": "LayoutView",
            "grid_template_rows": null,
            "right": null,
            "justify_content": null,
            "_view_module": "@jupyter-widgets/base",
            "overflow": null,
            "_model_module_version": "1.2.0",
            "_view_count": null,
            "flex_flow": null,
            "width": null,
            "min_width": null,
            "border": null,
            "align_items": null,
            "bottom": null,
            "_model_module": "@jupyter-widgets/base",
            "top": null,
            "grid_column": null,
            "overflow_y": null,
            "overflow_x": null,
            "grid_auto_flow": null,
            "grid_area": null,
            "grid_template_columns": null,
            "flex": null,
            "_model_name": "LayoutModel",
            "justify_items": null,
            "grid_row": null,
            "max_height": null,
            "align_content": null,
            "visibility": null,
            "align_self": null,
            "height": null,
            "min_height": null,
            "padding": null,
            "grid_auto_rows": null,
            "grid_gap": null,
            "max_width": null,
            "order": null,
            "_view_module_version": "1.2.0",
            "grid_template_areas": null,
            "object_position": null,
            "object_fit": null,
            "grid_auto_columns": null,
            "margin": null,
            "display": null,
            "left": null
          }
        },
        "1026081578b448c9926027867cc0b535": {
          "model_module": "@jupyter-widgets/controls",
          "model_name": "LabelModel",
          "state": {
            "_view_name": "LabelView",
            "style": "IPY_MODEL_126977d2a02842e69a7d3fbd1da94253",
            "_dom_classes": [],
            "description": "",
            "_model_name": "LabelModel",
            "placeholder": "​",
            "_view_module": "@jupyter-widgets/controls",
            "_model_module_version": "1.5.0",
            "value": " 249.01MB of 249.01MB uploaded (0.00MB deduped)\r",
            "_view_count": null,
            "_view_module_version": "1.5.0",
            "description_tooltip": null,
            "_model_module": "@jupyter-widgets/controls",
            "layout": "IPY_MODEL_1e1eec222f5e4874b53d848c13dd464c"
          }
        },
        "3052338e05304a2dbd85036215124770": {
          "model_module": "@jupyter-widgets/controls",
          "model_name": "FloatProgressModel",
          "state": {
            "_view_name": "ProgressView",
            "style": "IPY_MODEL_6c1638c8e6bb49bcb3ec5b65766e44ab",
            "_dom_classes": [],
            "description": "",
            "_model_name": "FloatProgressModel",
            "bar_style": "",
            "max": 1,
            "_view_module": "@jupyter-widgets/controls",
            "_model_module_version": "1.5.0",
            "value": 1,
            "_view_count": null,
            "_view_module_version": "1.5.0",
            "orientation": "horizontal",
            "min": 0,
            "description_tooltip": null,
            "_model_module": "@jupyter-widgets/controls",
            "layout": "IPY_MODEL_10a5fdab34864b55a0ac4f3bec6fd5af"
          }
        },
        "126977d2a02842e69a7d3fbd1da94253": {
          "model_module": "@jupyter-widgets/controls",
          "model_name": "DescriptionStyleModel",
          "state": {
            "_view_name": "StyleView",
            "_model_name": "DescriptionStyleModel",
            "description_width": "",
            "_view_module": "@jupyter-widgets/base",
            "_model_module_version": "1.5.0",
            "_view_count": null,
            "_view_module_version": "1.2.0",
            "_model_module": "@jupyter-widgets/controls"
          }
        },
        "1e1eec222f5e4874b53d848c13dd464c": {
          "model_module": "@jupyter-widgets/base",
          "model_name": "LayoutModel",
          "state": {
            "_view_name": "LayoutView",
            "grid_template_rows": null,
            "right": null,
            "justify_content": null,
            "_view_module": "@jupyter-widgets/base",
            "overflow": null,
            "_model_module_version": "1.2.0",
            "_view_count": null,
            "flex_flow": null,
            "width": null,
            "min_width": null,
            "border": null,
            "align_items": null,
            "bottom": null,
            "_model_module": "@jupyter-widgets/base",
            "top": null,
            "grid_column": null,
            "overflow_y": null,
            "overflow_x": null,
            "grid_auto_flow": null,
            "grid_area": null,
            "grid_template_columns": null,
            "flex": null,
            "_model_name": "LayoutModel",
            "justify_items": null,
            "grid_row": null,
            "max_height": null,
            "align_content": null,
            "visibility": null,
            "align_self": null,
            "height": null,
            "min_height": null,
            "padding": null,
            "grid_auto_rows": null,
            "grid_gap": null,
            "max_width": null,
            "order": null,
            "_view_module_version": "1.2.0",
            "grid_template_areas": null,
            "object_position": null,
            "object_fit": null,
            "grid_auto_columns": null,
            "margin": null,
            "display": null,
            "left": null
          }
        },
        "6c1638c8e6bb49bcb3ec5b65766e44ab": {
          "model_module": "@jupyter-widgets/controls",
          "model_name": "ProgressStyleModel",
          "state": {
            "_view_name": "StyleView",
            "_model_name": "ProgressStyleModel",
            "description_width": "",
            "_view_module": "@jupyter-widgets/base",
            "_model_module_version": "1.5.0",
            "_view_count": null,
            "_view_module_version": "1.2.0",
            "bar_color": null,
            "_model_module": "@jupyter-widgets/controls"
          }
        },
        "10a5fdab34864b55a0ac4f3bec6fd5af": {
          "model_module": "@jupyter-widgets/base",
          "model_name": "LayoutModel",
          "state": {
            "_view_name": "LayoutView",
            "grid_template_rows": null,
            "right": null,
            "justify_content": null,
            "_view_module": "@jupyter-widgets/base",
            "overflow": null,
            "_model_module_version": "1.2.0",
            "_view_count": null,
            "flex_flow": null,
            "width": null,
            "min_width": null,
            "border": null,
            "align_items": null,
            "bottom": null,
            "_model_module": "@jupyter-widgets/base",
            "top": null,
            "grid_column": null,
            "overflow_y": null,
            "overflow_x": null,
            "grid_auto_flow": null,
            "grid_area": null,
            "grid_template_columns": null,
            "flex": null,
            "_model_name": "LayoutModel",
            "justify_items": null,
            "grid_row": null,
            "max_height": null,
            "align_content": null,
            "visibility": null,
            "align_self": null,
            "height": null,
            "min_height": null,
            "padding": null,
            "grid_auto_rows": null,
            "grid_gap": null,
            "max_width": null,
            "order": null,
            "_view_module_version": "1.2.0",
            "grid_template_areas": null,
            "object_position": null,
            "object_fit": null,
            "grid_auto_columns": null,
            "margin": null,
            "display": null,
            "left": null
          }
        },
        "fab568ecb130422094b33cce9b5a94ae": {
          "model_module": "@jupyter-widgets/controls",
          "model_name": "VBoxModel",
          "state": {
            "_view_name": "VBoxView",
            "_dom_classes": [],
            "_model_name": "VBoxModel",
            "_view_module": "@jupyter-widgets/controls",
            "_model_module_version": "1.5.0",
            "_view_count": null,
            "_view_module_version": "1.5.0",
            "box_style": "",
            "layout": "IPY_MODEL_af18252d1a314caa9faa37b3816a0b0c",
            "_model_module": "@jupyter-widgets/controls",
            "children": [
              "IPY_MODEL_3c5a9fabbf6f408d9b239e62fa7f7f40",
              "IPY_MODEL_9ee8a28720314570813dd28299a24c81"
            ]
          }
        },
        "af18252d1a314caa9faa37b3816a0b0c": {
          "model_module": "@jupyter-widgets/base",
          "model_name": "LayoutModel",
          "state": {
            "_view_name": "LayoutView",
            "grid_template_rows": null,
            "right": null,
            "justify_content": null,
            "_view_module": "@jupyter-widgets/base",
            "overflow": null,
            "_model_module_version": "1.2.0",
            "_view_count": null,
            "flex_flow": null,
            "width": null,
            "min_width": null,
            "border": null,
            "align_items": null,
            "bottom": null,
            "_model_module": "@jupyter-widgets/base",
            "top": null,
            "grid_column": null,
            "overflow_y": null,
            "overflow_x": null,
            "grid_auto_flow": null,
            "grid_area": null,
            "grid_template_columns": null,
            "flex": null,
            "_model_name": "LayoutModel",
            "justify_items": null,
            "grid_row": null,
            "max_height": null,
            "align_content": null,
            "visibility": null,
            "align_self": null,
            "height": null,
            "min_height": null,
            "padding": null,
            "grid_auto_rows": null,
            "grid_gap": null,
            "max_width": null,
            "order": null,
            "_view_module_version": "1.2.0",
            "grid_template_areas": null,
            "object_position": null,
            "object_fit": null,
            "grid_auto_columns": null,
            "margin": null,
            "display": null,
            "left": null
          }
        },
        "3c5a9fabbf6f408d9b239e62fa7f7f40": {
          "model_module": "@jupyter-widgets/controls",
          "model_name": "LabelModel",
          "state": {
            "_view_name": "LabelView",
            "style": "IPY_MODEL_588b11e091a9439281b2f9d3361f82bd",
            "_dom_classes": [],
            "description": "",
            "_model_name": "LabelModel",
            "placeholder": "​",
            "_view_module": "@jupyter-widgets/controls",
            "_model_module_version": "1.5.0",
            "value": " 220.47MB of 220.47MB uploaded (0.00MB deduped)\r",
            "_view_count": null,
            "_view_module_version": "1.5.0",
            "description_tooltip": null,
            "_model_module": "@jupyter-widgets/controls",
            "layout": "IPY_MODEL_2c6ef4be9a864d72918906bd400642e5"
          }
        },
        "9ee8a28720314570813dd28299a24c81": {
          "model_module": "@jupyter-widgets/controls",
          "model_name": "FloatProgressModel",
          "state": {
            "_view_name": "ProgressView",
            "style": "IPY_MODEL_11da3fd2f2424ca38f1cda059f7ee9db",
            "_dom_classes": [],
            "description": "",
            "_model_name": "FloatProgressModel",
            "bar_style": "",
            "max": 1,
            "_view_module": "@jupyter-widgets/controls",
            "_model_module_version": "1.5.0",
            "value": 1,
            "_view_count": null,
            "_view_module_version": "1.5.0",
            "orientation": "horizontal",
            "min": 0,
            "description_tooltip": null,
            "_model_module": "@jupyter-widgets/controls",
            "layout": "IPY_MODEL_0eab548e9e0949cab8c8bd3decc5c5cd"
          }
        },
        "588b11e091a9439281b2f9d3361f82bd": {
          "model_module": "@jupyter-widgets/controls",
          "model_name": "DescriptionStyleModel",
          "state": {
            "_view_name": "StyleView",
            "_model_name": "DescriptionStyleModel",
            "description_width": "",
            "_view_module": "@jupyter-widgets/base",
            "_model_module_version": "1.5.0",
            "_view_count": null,
            "_view_module_version": "1.2.0",
            "_model_module": "@jupyter-widgets/controls"
          }
        },
        "2c6ef4be9a864d72918906bd400642e5": {
          "model_module": "@jupyter-widgets/base",
          "model_name": "LayoutModel",
          "state": {
            "_view_name": "LayoutView",
            "grid_template_rows": null,
            "right": null,
            "justify_content": null,
            "_view_module": "@jupyter-widgets/base",
            "overflow": null,
            "_model_module_version": "1.2.0",
            "_view_count": null,
            "flex_flow": null,
            "width": null,
            "min_width": null,
            "border": null,
            "align_items": null,
            "bottom": null,
            "_model_module": "@jupyter-widgets/base",
            "top": null,
            "grid_column": null,
            "overflow_y": null,
            "overflow_x": null,
            "grid_auto_flow": null,
            "grid_area": null,
            "grid_template_columns": null,
            "flex": null,
            "_model_name": "LayoutModel",
            "justify_items": null,
            "grid_row": null,
            "max_height": null,
            "align_content": null,
            "visibility": null,
            "align_self": null,
            "height": null,
            "min_height": null,
            "padding": null,
            "grid_auto_rows": null,
            "grid_gap": null,
            "max_width": null,
            "order": null,
            "_view_module_version": "1.2.0",
            "grid_template_areas": null,
            "object_position": null,
            "object_fit": null,
            "grid_auto_columns": null,
            "margin": null,
            "display": null,
            "left": null
          }
        },
        "11da3fd2f2424ca38f1cda059f7ee9db": {
          "model_module": "@jupyter-widgets/controls",
          "model_name": "ProgressStyleModel",
          "state": {
            "_view_name": "StyleView",
            "_model_name": "ProgressStyleModel",
            "description_width": "",
            "_view_module": "@jupyter-widgets/base",
            "_model_module_version": "1.5.0",
            "_view_count": null,
            "_view_module_version": "1.2.0",
            "bar_color": null,
            "_model_module": "@jupyter-widgets/controls"
          }
        },
        "0eab548e9e0949cab8c8bd3decc5c5cd": {
          "model_module": "@jupyter-widgets/base",
          "model_name": "LayoutModel",
          "state": {
            "_view_name": "LayoutView",
            "grid_template_rows": null,
            "right": null,
            "justify_content": null,
            "_view_module": "@jupyter-widgets/base",
            "overflow": null,
            "_model_module_version": "1.2.0",
            "_view_count": null,
            "flex_flow": null,
            "width": null,
            "min_width": null,
            "border": null,
            "align_items": null,
            "bottom": null,
            "_model_module": "@jupyter-widgets/base",
            "top": null,
            "grid_column": null,
            "overflow_y": null,
            "overflow_x": null,
            "grid_auto_flow": null,
            "grid_area": null,
            "grid_template_columns": null,
            "flex": null,
            "_model_name": "LayoutModel",
            "justify_items": null,
            "grid_row": null,
            "max_height": null,
            "align_content": null,
            "visibility": null,
            "align_self": null,
            "height": null,
            "min_height": null,
            "padding": null,
            "grid_auto_rows": null,
            "grid_gap": null,
            "max_width": null,
            "order": null,
            "_view_module_version": "1.2.0",
            "grid_template_areas": null,
            "object_position": null,
            "object_fit": null,
            "grid_auto_columns": null,
            "margin": null,
            "display": null,
            "left": null
          }
        },
        "1d5c3b76d9bb4850a11d606d96a33955": {
          "model_module": "@jupyter-widgets/controls",
          "model_name": "VBoxModel",
          "state": {
            "_view_name": "VBoxView",
            "_dom_classes": [],
            "_model_name": "VBoxModel",
            "_view_module": "@jupyter-widgets/controls",
            "_model_module_version": "1.5.0",
            "_view_count": null,
            "_view_module_version": "1.5.0",
            "box_style": "",
            "layout": "IPY_MODEL_8b53a9070a8c417e99726a851b808390",
            "_model_module": "@jupyter-widgets/controls",
            "children": [
              "IPY_MODEL_9f96a21ba7e642d597ab215ea8b4ad7c",
              "IPY_MODEL_126932e9230342df9c6e8e8d4d04d491"
            ]
          }
        },
        "8b53a9070a8c417e99726a851b808390": {
          "model_module": "@jupyter-widgets/base",
          "model_name": "LayoutModel",
          "state": {
            "_view_name": "LayoutView",
            "grid_template_rows": null,
            "right": null,
            "justify_content": null,
            "_view_module": "@jupyter-widgets/base",
            "overflow": null,
            "_model_module_version": "1.2.0",
            "_view_count": null,
            "flex_flow": null,
            "width": null,
            "min_width": null,
            "border": null,
            "align_items": null,
            "bottom": null,
            "_model_module": "@jupyter-widgets/base",
            "top": null,
            "grid_column": null,
            "overflow_y": null,
            "overflow_x": null,
            "grid_auto_flow": null,
            "grid_area": null,
            "grid_template_columns": null,
            "flex": null,
            "_model_name": "LayoutModel",
            "justify_items": null,
            "grid_row": null,
            "max_height": null,
            "align_content": null,
            "visibility": null,
            "align_self": null,
            "height": null,
            "min_height": null,
            "padding": null,
            "grid_auto_rows": null,
            "grid_gap": null,
            "max_width": null,
            "order": null,
            "_view_module_version": "1.2.0",
            "grid_template_areas": null,
            "object_position": null,
            "object_fit": null,
            "grid_auto_columns": null,
            "margin": null,
            "display": null,
            "left": null
          }
        },
        "9f96a21ba7e642d597ab215ea8b4ad7c": {
          "model_module": "@jupyter-widgets/controls",
          "model_name": "LabelModel",
          "state": {
            "_view_name": "LabelView",
            "style": "IPY_MODEL_ddc125dcb14d45d8b13cee087ca409e3",
            "_dom_classes": [],
            "description": "",
            "_model_name": "LabelModel",
            "placeholder": "​",
            "_view_module": "@jupyter-widgets/controls",
            "_model_module_version": "1.5.0",
            "value": " 186.37MB of 186.37MB uploaded (0.00MB deduped)\r",
            "_view_count": null,
            "_view_module_version": "1.5.0",
            "description_tooltip": null,
            "_model_module": "@jupyter-widgets/controls",
            "layout": "IPY_MODEL_fd57ad2c53fd45819435250889bf0ecf"
          }
        },
        "126932e9230342df9c6e8e8d4d04d491": {
          "model_module": "@jupyter-widgets/controls",
          "model_name": "FloatProgressModel",
          "state": {
            "_view_name": "ProgressView",
            "style": "IPY_MODEL_c16d4d6b6e584c448d962f1d092ab71f",
            "_dom_classes": [],
            "description": "",
            "_model_name": "FloatProgressModel",
            "bar_style": "",
            "max": 1,
            "_view_module": "@jupyter-widgets/controls",
            "_model_module_version": "1.5.0",
            "value": 1,
            "_view_count": null,
            "_view_module_version": "1.5.0",
            "orientation": "horizontal",
            "min": 0,
            "description_tooltip": null,
            "_model_module": "@jupyter-widgets/controls",
            "layout": "IPY_MODEL_88f4edbb01ea47559e6873c3d9eeb680"
          }
        },
        "ddc125dcb14d45d8b13cee087ca409e3": {
          "model_module": "@jupyter-widgets/controls",
          "model_name": "DescriptionStyleModel",
          "state": {
            "_view_name": "StyleView",
            "_model_name": "DescriptionStyleModel",
            "description_width": "",
            "_view_module": "@jupyter-widgets/base",
            "_model_module_version": "1.5.0",
            "_view_count": null,
            "_view_module_version": "1.2.0",
            "_model_module": "@jupyter-widgets/controls"
          }
        },
        "fd57ad2c53fd45819435250889bf0ecf": {
          "model_module": "@jupyter-widgets/base",
          "model_name": "LayoutModel",
          "state": {
            "_view_name": "LayoutView",
            "grid_template_rows": null,
            "right": null,
            "justify_content": null,
            "_view_module": "@jupyter-widgets/base",
            "overflow": null,
            "_model_module_version": "1.2.0",
            "_view_count": null,
            "flex_flow": null,
            "width": null,
            "min_width": null,
            "border": null,
            "align_items": null,
            "bottom": null,
            "_model_module": "@jupyter-widgets/base",
            "top": null,
            "grid_column": null,
            "overflow_y": null,
            "overflow_x": null,
            "grid_auto_flow": null,
            "grid_area": null,
            "grid_template_columns": null,
            "flex": null,
            "_model_name": "LayoutModel",
            "justify_items": null,
            "grid_row": null,
            "max_height": null,
            "align_content": null,
            "visibility": null,
            "align_self": null,
            "height": null,
            "min_height": null,
            "padding": null,
            "grid_auto_rows": null,
            "grid_gap": null,
            "max_width": null,
            "order": null,
            "_view_module_version": "1.2.0",
            "grid_template_areas": null,
            "object_position": null,
            "object_fit": null,
            "grid_auto_columns": null,
            "margin": null,
            "display": null,
            "left": null
          }
        },
        "c16d4d6b6e584c448d962f1d092ab71f": {
          "model_module": "@jupyter-widgets/controls",
          "model_name": "ProgressStyleModel",
          "state": {
            "_view_name": "StyleView",
            "_model_name": "ProgressStyleModel",
            "description_width": "",
            "_view_module": "@jupyter-widgets/base",
            "_model_module_version": "1.5.0",
            "_view_count": null,
            "_view_module_version": "1.2.0",
            "bar_color": null,
            "_model_module": "@jupyter-widgets/controls"
          }
        },
        "88f4edbb01ea47559e6873c3d9eeb680": {
          "model_module": "@jupyter-widgets/base",
          "model_name": "LayoutModel",
          "state": {
            "_view_name": "LayoutView",
            "grid_template_rows": null,
            "right": null,
            "justify_content": null,
            "_view_module": "@jupyter-widgets/base",
            "overflow": null,
            "_model_module_version": "1.2.0",
            "_view_count": null,
            "flex_flow": null,
            "width": null,
            "min_width": null,
            "border": null,
            "align_items": null,
            "bottom": null,
            "_model_module": "@jupyter-widgets/base",
            "top": null,
            "grid_column": null,
            "overflow_y": null,
            "overflow_x": null,
            "grid_auto_flow": null,
            "grid_area": null,
            "grid_template_columns": null,
            "flex": null,
            "_model_name": "LayoutModel",
            "justify_items": null,
            "grid_row": null,
            "max_height": null,
            "align_content": null,
            "visibility": null,
            "align_self": null,
            "height": null,
            "min_height": null,
            "padding": null,
            "grid_auto_rows": null,
            "grid_gap": null,
            "max_width": null,
            "order": null,
            "_view_module_version": "1.2.0",
            "grid_template_areas": null,
            "object_position": null,
            "object_fit": null,
            "grid_auto_columns": null,
            "margin": null,
            "display": null,
            "left": null
          }
        },
        "39a290d3c09940bfb1ee6fc0f1a81d4a": {
          "model_module": "@jupyter-widgets/controls",
          "model_name": "VBoxModel",
          "state": {
            "_view_name": "VBoxView",
            "_dom_classes": [],
            "_model_name": "VBoxModel",
            "_view_module": "@jupyter-widgets/controls",
            "_model_module_version": "1.5.0",
            "_view_count": null,
            "_view_module_version": "1.5.0",
            "box_style": "",
            "layout": "IPY_MODEL_8f8c98f8502d448b9a82c3ef867c8d5e",
            "_model_module": "@jupyter-widgets/controls",
            "children": [
              "IPY_MODEL_e0b8ec5eafef43a4953a420bf2441898",
              "IPY_MODEL_49ad107a174343c580dc9dcd8db4ea86"
            ]
          }
        },
        "8f8c98f8502d448b9a82c3ef867c8d5e": {
          "model_module": "@jupyter-widgets/base",
          "model_name": "LayoutModel",
          "state": {
            "_view_name": "LayoutView",
            "grid_template_rows": null,
            "right": null,
            "justify_content": null,
            "_view_module": "@jupyter-widgets/base",
            "overflow": null,
            "_model_module_version": "1.2.0",
            "_view_count": null,
            "flex_flow": null,
            "width": null,
            "min_width": null,
            "border": null,
            "align_items": null,
            "bottom": null,
            "_model_module": "@jupyter-widgets/base",
            "top": null,
            "grid_column": null,
            "overflow_y": null,
            "overflow_x": null,
            "grid_auto_flow": null,
            "grid_area": null,
            "grid_template_columns": null,
            "flex": null,
            "_model_name": "LayoutModel",
            "justify_items": null,
            "grid_row": null,
            "max_height": null,
            "align_content": null,
            "visibility": null,
            "align_self": null,
            "height": null,
            "min_height": null,
            "padding": null,
            "grid_auto_rows": null,
            "grid_gap": null,
            "max_width": null,
            "order": null,
            "_view_module_version": "1.2.0",
            "grid_template_areas": null,
            "object_position": null,
            "object_fit": null,
            "grid_auto_columns": null,
            "margin": null,
            "display": null,
            "left": null
          }
        },
        "e0b8ec5eafef43a4953a420bf2441898": {
          "model_module": "@jupyter-widgets/controls",
          "model_name": "LabelModel",
          "state": {
            "_view_name": "LabelView",
            "style": "IPY_MODEL_80c4082dda5a4e16979b24e8846a4894",
            "_dom_classes": [],
            "description": "",
            "_model_name": "LabelModel",
            "placeholder": "​",
            "_view_module": "@jupyter-widgets/controls",
            "_model_module_version": "1.5.0",
            "value": " 199.92MB of 199.92MB uploaded (0.00MB deduped)\r",
            "_view_count": null,
            "_view_module_version": "1.5.0",
            "description_tooltip": null,
            "_model_module": "@jupyter-widgets/controls",
            "layout": "IPY_MODEL_c478dab32803430795f1fb2a55c87ebb"
          }
        },
        "49ad107a174343c580dc9dcd8db4ea86": {
          "model_module": "@jupyter-widgets/controls",
          "model_name": "FloatProgressModel",
          "state": {
            "_view_name": "ProgressView",
            "style": "IPY_MODEL_9670a8e0f8a04ae7aacd6c7f37210b6e",
            "_dom_classes": [],
            "description": "",
            "_model_name": "FloatProgressModel",
            "bar_style": "",
            "max": 1,
            "_view_module": "@jupyter-widgets/controls",
            "_model_module_version": "1.5.0",
            "value": 1,
            "_view_count": null,
            "_view_module_version": "1.5.0",
            "orientation": "horizontal",
            "min": 0,
            "description_tooltip": null,
            "_model_module": "@jupyter-widgets/controls",
            "layout": "IPY_MODEL_98671a05560f4e9ba4d702e22f5e9310"
          }
        },
        "80c4082dda5a4e16979b24e8846a4894": {
          "model_module": "@jupyter-widgets/controls",
          "model_name": "DescriptionStyleModel",
          "state": {
            "_view_name": "StyleView",
            "_model_name": "DescriptionStyleModel",
            "description_width": "",
            "_view_module": "@jupyter-widgets/base",
            "_model_module_version": "1.5.0",
            "_view_count": null,
            "_view_module_version": "1.2.0",
            "_model_module": "@jupyter-widgets/controls"
          }
        },
        "c478dab32803430795f1fb2a55c87ebb": {
          "model_module": "@jupyter-widgets/base",
          "model_name": "LayoutModel",
          "state": {
            "_view_name": "LayoutView",
            "grid_template_rows": null,
            "right": null,
            "justify_content": null,
            "_view_module": "@jupyter-widgets/base",
            "overflow": null,
            "_model_module_version": "1.2.0",
            "_view_count": null,
            "flex_flow": null,
            "width": null,
            "min_width": null,
            "border": null,
            "align_items": null,
            "bottom": null,
            "_model_module": "@jupyter-widgets/base",
            "top": null,
            "grid_column": null,
            "overflow_y": null,
            "overflow_x": null,
            "grid_auto_flow": null,
            "grid_area": null,
            "grid_template_columns": null,
            "flex": null,
            "_model_name": "LayoutModel",
            "justify_items": null,
            "grid_row": null,
            "max_height": null,
            "align_content": null,
            "visibility": null,
            "align_self": null,
            "height": null,
            "min_height": null,
            "padding": null,
            "grid_auto_rows": null,
            "grid_gap": null,
            "max_width": null,
            "order": null,
            "_view_module_version": "1.2.0",
            "grid_template_areas": null,
            "object_position": null,
            "object_fit": null,
            "grid_auto_columns": null,
            "margin": null,
            "display": null,
            "left": null
          }
        },
        "9670a8e0f8a04ae7aacd6c7f37210b6e": {
          "model_module": "@jupyter-widgets/controls",
          "model_name": "ProgressStyleModel",
          "state": {
            "_view_name": "StyleView",
            "_model_name": "ProgressStyleModel",
            "description_width": "",
            "_view_module": "@jupyter-widgets/base",
            "_model_module_version": "1.5.0",
            "_view_count": null,
            "_view_module_version": "1.2.0",
            "bar_color": null,
            "_model_module": "@jupyter-widgets/controls"
          }
        },
        "98671a05560f4e9ba4d702e22f5e9310": {
          "model_module": "@jupyter-widgets/base",
          "model_name": "LayoutModel",
          "state": {
            "_view_name": "LayoutView",
            "grid_template_rows": null,
            "right": null,
            "justify_content": null,
            "_view_module": "@jupyter-widgets/base",
            "overflow": null,
            "_model_module_version": "1.2.0",
            "_view_count": null,
            "flex_flow": null,
            "width": null,
            "min_width": null,
            "border": null,
            "align_items": null,
            "bottom": null,
            "_model_module": "@jupyter-widgets/base",
            "top": null,
            "grid_column": null,
            "overflow_y": null,
            "overflow_x": null,
            "grid_auto_flow": null,
            "grid_area": null,
            "grid_template_columns": null,
            "flex": null,
            "_model_name": "LayoutModel",
            "justify_items": null,
            "grid_row": null,
            "max_height": null,
            "align_content": null,
            "visibility": null,
            "align_self": null,
            "height": null,
            "min_height": null,
            "padding": null,
            "grid_auto_rows": null,
            "grid_gap": null,
            "max_width": null,
            "order": null,
            "_view_module_version": "1.2.0",
            "grid_template_areas": null,
            "object_position": null,
            "object_fit": null,
            "grid_auto_columns": null,
            "margin": null,
            "display": null,
            "left": null
          }
        },
        "7db9829a3a3747208ca41a0b084e5692": {
          "model_module": "@jupyter-widgets/controls",
          "model_name": "VBoxModel",
          "state": {
            "_view_name": "VBoxView",
            "_dom_classes": [],
            "_model_name": "VBoxModel",
            "_view_module": "@jupyter-widgets/controls",
            "_model_module_version": "1.5.0",
            "_view_count": null,
            "_view_module_version": "1.5.0",
            "box_style": "",
            "layout": "IPY_MODEL_a86489ac99e54356a71a93f27dec683b",
            "_model_module": "@jupyter-widgets/controls",
            "children": [
              "IPY_MODEL_2611ed36f0c94e4ca919985301a38ba4",
              "IPY_MODEL_2ec373a338f34fed8899bec340ebab86"
            ]
          }
        },
        "a86489ac99e54356a71a93f27dec683b": {
          "model_module": "@jupyter-widgets/base",
          "model_name": "LayoutModel",
          "state": {
            "_view_name": "LayoutView",
            "grid_template_rows": null,
            "right": null,
            "justify_content": null,
            "_view_module": "@jupyter-widgets/base",
            "overflow": null,
            "_model_module_version": "1.2.0",
            "_view_count": null,
            "flex_flow": null,
            "width": null,
            "min_width": null,
            "border": null,
            "align_items": null,
            "bottom": null,
            "_model_module": "@jupyter-widgets/base",
            "top": null,
            "grid_column": null,
            "overflow_y": null,
            "overflow_x": null,
            "grid_auto_flow": null,
            "grid_area": null,
            "grid_template_columns": null,
            "flex": null,
            "_model_name": "LayoutModel",
            "justify_items": null,
            "grid_row": null,
            "max_height": null,
            "align_content": null,
            "visibility": null,
            "align_self": null,
            "height": null,
            "min_height": null,
            "padding": null,
            "grid_auto_rows": null,
            "grid_gap": null,
            "max_width": null,
            "order": null,
            "_view_module_version": "1.2.0",
            "grid_template_areas": null,
            "object_position": null,
            "object_fit": null,
            "grid_auto_columns": null,
            "margin": null,
            "display": null,
            "left": null
          }
        },
        "2611ed36f0c94e4ca919985301a38ba4": {
          "model_module": "@jupyter-widgets/controls",
          "model_name": "LabelModel",
          "state": {
            "_view_name": "LabelView",
            "style": "IPY_MODEL_2d409b8f7fd14e1bbeeaffbb425fc32f",
            "_dom_classes": [],
            "description": "",
            "_model_name": "LabelModel",
            "placeholder": "​",
            "_view_module": "@jupyter-widgets/controls",
            "_model_module_version": "1.5.0",
            "value": " 191.88MB of 191.88MB uploaded (0.00MB deduped)\r",
            "_view_count": null,
            "_view_module_version": "1.5.0",
            "description_tooltip": null,
            "_model_module": "@jupyter-widgets/controls",
            "layout": "IPY_MODEL_c067b3467eca425abbb4ef5d6429efe3"
          }
        },
        "2ec373a338f34fed8899bec340ebab86": {
          "model_module": "@jupyter-widgets/controls",
          "model_name": "FloatProgressModel",
          "state": {
            "_view_name": "ProgressView",
            "style": "IPY_MODEL_8eafd241c77c4510ab88b05709ee3ace",
            "_dom_classes": [],
            "description": "",
            "_model_name": "FloatProgressModel",
            "bar_style": "",
            "max": 1,
            "_view_module": "@jupyter-widgets/controls",
            "_model_module_version": "1.5.0",
            "value": 1,
            "_view_count": null,
            "_view_module_version": "1.5.0",
            "orientation": "horizontal",
            "min": 0,
            "description_tooltip": null,
            "_model_module": "@jupyter-widgets/controls",
            "layout": "IPY_MODEL_8c7ecbeec6824aea9e9beaefaaee6fa3"
          }
        },
        "2d409b8f7fd14e1bbeeaffbb425fc32f": {
          "model_module": "@jupyter-widgets/controls",
          "model_name": "DescriptionStyleModel",
          "state": {
            "_view_name": "StyleView",
            "_model_name": "DescriptionStyleModel",
            "description_width": "",
            "_view_module": "@jupyter-widgets/base",
            "_model_module_version": "1.5.0",
            "_view_count": null,
            "_view_module_version": "1.2.0",
            "_model_module": "@jupyter-widgets/controls"
          }
        },
        "c067b3467eca425abbb4ef5d6429efe3": {
          "model_module": "@jupyter-widgets/base",
          "model_name": "LayoutModel",
          "state": {
            "_view_name": "LayoutView",
            "grid_template_rows": null,
            "right": null,
            "justify_content": null,
            "_view_module": "@jupyter-widgets/base",
            "overflow": null,
            "_model_module_version": "1.2.0",
            "_view_count": null,
            "flex_flow": null,
            "width": null,
            "min_width": null,
            "border": null,
            "align_items": null,
            "bottom": null,
            "_model_module": "@jupyter-widgets/base",
            "top": null,
            "grid_column": null,
            "overflow_y": null,
            "overflow_x": null,
            "grid_auto_flow": null,
            "grid_area": null,
            "grid_template_columns": null,
            "flex": null,
            "_model_name": "LayoutModel",
            "justify_items": null,
            "grid_row": null,
            "max_height": null,
            "align_content": null,
            "visibility": null,
            "align_self": null,
            "height": null,
            "min_height": null,
            "padding": null,
            "grid_auto_rows": null,
            "grid_gap": null,
            "max_width": null,
            "order": null,
            "_view_module_version": "1.2.0",
            "grid_template_areas": null,
            "object_position": null,
            "object_fit": null,
            "grid_auto_columns": null,
            "margin": null,
            "display": null,
            "left": null
          }
        },
        "8eafd241c77c4510ab88b05709ee3ace": {
          "model_module": "@jupyter-widgets/controls",
          "model_name": "ProgressStyleModel",
          "state": {
            "_view_name": "StyleView",
            "_model_name": "ProgressStyleModel",
            "description_width": "",
            "_view_module": "@jupyter-widgets/base",
            "_model_module_version": "1.5.0",
            "_view_count": null,
            "_view_module_version": "1.2.0",
            "bar_color": null,
            "_model_module": "@jupyter-widgets/controls"
          }
        },
        "8c7ecbeec6824aea9e9beaefaaee6fa3": {
          "model_module": "@jupyter-widgets/base",
          "model_name": "LayoutModel",
          "state": {
            "_view_name": "LayoutView",
            "grid_template_rows": null,
            "right": null,
            "justify_content": null,
            "_view_module": "@jupyter-widgets/base",
            "overflow": null,
            "_model_module_version": "1.2.0",
            "_view_count": null,
            "flex_flow": null,
            "width": null,
            "min_width": null,
            "border": null,
            "align_items": null,
            "bottom": null,
            "_model_module": "@jupyter-widgets/base",
            "top": null,
            "grid_column": null,
            "overflow_y": null,
            "overflow_x": null,
            "grid_auto_flow": null,
            "grid_area": null,
            "grid_template_columns": null,
            "flex": null,
            "_model_name": "LayoutModel",
            "justify_items": null,
            "grid_row": null,
            "max_height": null,
            "align_content": null,
            "visibility": null,
            "align_self": null,
            "height": null,
            "min_height": null,
            "padding": null,
            "grid_auto_rows": null,
            "grid_gap": null,
            "max_width": null,
            "order": null,
            "_view_module_version": "1.2.0",
            "grid_template_areas": null,
            "object_position": null,
            "object_fit": null,
            "grid_auto_columns": null,
            "margin": null,
            "display": null,
            "left": null
          }
        },
        "1f80edbce44144a6bca5c846c89f727a": {
          "model_module": "@jupyter-widgets/controls",
          "model_name": "VBoxModel",
          "state": {
            "_view_name": "VBoxView",
            "_dom_classes": [],
            "_model_name": "VBoxModel",
            "_view_module": "@jupyter-widgets/controls",
            "_model_module_version": "1.5.0",
            "_view_count": null,
            "_view_module_version": "1.5.0",
            "box_style": "",
            "layout": "IPY_MODEL_f70c60feb91d41fdad8ef2016b069adb",
            "_model_module": "@jupyter-widgets/controls",
            "children": [
              "IPY_MODEL_1a571fa46056464a9ffe1598fdd4da50",
              "IPY_MODEL_b0d2402e88c34117978d17bd670481d5"
            ]
          }
        },
        "f70c60feb91d41fdad8ef2016b069adb": {
          "model_module": "@jupyter-widgets/base",
          "model_name": "LayoutModel",
          "state": {
            "_view_name": "LayoutView",
            "grid_template_rows": null,
            "right": null,
            "justify_content": null,
            "_view_module": "@jupyter-widgets/base",
            "overflow": null,
            "_model_module_version": "1.2.0",
            "_view_count": null,
            "flex_flow": null,
            "width": null,
            "min_width": null,
            "border": null,
            "align_items": null,
            "bottom": null,
            "_model_module": "@jupyter-widgets/base",
            "top": null,
            "grid_column": null,
            "overflow_y": null,
            "overflow_x": null,
            "grid_auto_flow": null,
            "grid_area": null,
            "grid_template_columns": null,
            "flex": null,
            "_model_name": "LayoutModel",
            "justify_items": null,
            "grid_row": null,
            "max_height": null,
            "align_content": null,
            "visibility": null,
            "align_self": null,
            "height": null,
            "min_height": null,
            "padding": null,
            "grid_auto_rows": null,
            "grid_gap": null,
            "max_width": null,
            "order": null,
            "_view_module_version": "1.2.0",
            "grid_template_areas": null,
            "object_position": null,
            "object_fit": null,
            "grid_auto_columns": null,
            "margin": null,
            "display": null,
            "left": null
          }
        },
        "1a571fa46056464a9ffe1598fdd4da50": {
          "model_module": "@jupyter-widgets/controls",
          "model_name": "LabelModel",
          "state": {
            "_view_name": "LabelView",
            "style": "IPY_MODEL_9a13bfea4be54252a01323af2b3502aa",
            "_dom_classes": [],
            "description": "",
            "_model_name": "LabelModel",
            "placeholder": "​",
            "_view_module": "@jupyter-widgets/controls",
            "_model_module_version": "1.5.0",
            "value": " 308.31MB of 308.31MB uploaded (0.00MB deduped)\r",
            "_view_count": null,
            "_view_module_version": "1.5.0",
            "description_tooltip": null,
            "_model_module": "@jupyter-widgets/controls",
            "layout": "IPY_MODEL_bcda61ae70e644cb81b22b92d8188e7a"
          }
        },
        "b0d2402e88c34117978d17bd670481d5": {
          "model_module": "@jupyter-widgets/controls",
          "model_name": "FloatProgressModel",
          "state": {
            "_view_name": "ProgressView",
            "style": "IPY_MODEL_7ad61cb2204b4e68b9a1a95fc63fdf8f",
            "_dom_classes": [],
            "description": "",
            "_model_name": "FloatProgressModel",
            "bar_style": "",
            "max": 1,
            "_view_module": "@jupyter-widgets/controls",
            "_model_module_version": "1.5.0",
            "value": 1,
            "_view_count": null,
            "_view_module_version": "1.5.0",
            "orientation": "horizontal",
            "min": 0,
            "description_tooltip": null,
            "_model_module": "@jupyter-widgets/controls",
            "layout": "IPY_MODEL_500fec38b9334a62bf84b00adb9ee0f9"
          }
        },
        "9a13bfea4be54252a01323af2b3502aa": {
          "model_module": "@jupyter-widgets/controls",
          "model_name": "DescriptionStyleModel",
          "state": {
            "_view_name": "StyleView",
            "_model_name": "DescriptionStyleModel",
            "description_width": "",
            "_view_module": "@jupyter-widgets/base",
            "_model_module_version": "1.5.0",
            "_view_count": null,
            "_view_module_version": "1.2.0",
            "_model_module": "@jupyter-widgets/controls"
          }
        },
        "bcda61ae70e644cb81b22b92d8188e7a": {
          "model_module": "@jupyter-widgets/base",
          "model_name": "LayoutModel",
          "state": {
            "_view_name": "LayoutView",
            "grid_template_rows": null,
            "right": null,
            "justify_content": null,
            "_view_module": "@jupyter-widgets/base",
            "overflow": null,
            "_model_module_version": "1.2.0",
            "_view_count": null,
            "flex_flow": null,
            "width": null,
            "min_width": null,
            "border": null,
            "align_items": null,
            "bottom": null,
            "_model_module": "@jupyter-widgets/base",
            "top": null,
            "grid_column": null,
            "overflow_y": null,
            "overflow_x": null,
            "grid_auto_flow": null,
            "grid_area": null,
            "grid_template_columns": null,
            "flex": null,
            "_model_name": "LayoutModel",
            "justify_items": null,
            "grid_row": null,
            "max_height": null,
            "align_content": null,
            "visibility": null,
            "align_self": null,
            "height": null,
            "min_height": null,
            "padding": null,
            "grid_auto_rows": null,
            "grid_gap": null,
            "max_width": null,
            "order": null,
            "_view_module_version": "1.2.0",
            "grid_template_areas": null,
            "object_position": null,
            "object_fit": null,
            "grid_auto_columns": null,
            "margin": null,
            "display": null,
            "left": null
          }
        },
        "7ad61cb2204b4e68b9a1a95fc63fdf8f": {
          "model_module": "@jupyter-widgets/controls",
          "model_name": "ProgressStyleModel",
          "state": {
            "_view_name": "StyleView",
            "_model_name": "ProgressStyleModel",
            "description_width": "",
            "_view_module": "@jupyter-widgets/base",
            "_model_module_version": "1.5.0",
            "_view_count": null,
            "_view_module_version": "1.2.0",
            "bar_color": null,
            "_model_module": "@jupyter-widgets/controls"
          }
        },
        "500fec38b9334a62bf84b00adb9ee0f9": {
          "model_module": "@jupyter-widgets/base",
          "model_name": "LayoutModel",
          "state": {
            "_view_name": "LayoutView",
            "grid_template_rows": null,
            "right": null,
            "justify_content": null,
            "_view_module": "@jupyter-widgets/base",
            "overflow": null,
            "_model_module_version": "1.2.0",
            "_view_count": null,
            "flex_flow": null,
            "width": null,
            "min_width": null,
            "border": null,
            "align_items": null,
            "bottom": null,
            "_model_module": "@jupyter-widgets/base",
            "top": null,
            "grid_column": null,
            "overflow_y": null,
            "overflow_x": null,
            "grid_auto_flow": null,
            "grid_area": null,
            "grid_template_columns": null,
            "flex": null,
            "_model_name": "LayoutModel",
            "justify_items": null,
            "grid_row": null,
            "max_height": null,
            "align_content": null,
            "visibility": null,
            "align_self": null,
            "height": null,
            "min_height": null,
            "padding": null,
            "grid_auto_rows": null,
            "grid_gap": null,
            "max_width": null,
            "order": null,
            "_view_module_version": "1.2.0",
            "grid_template_areas": null,
            "object_position": null,
            "object_fit": null,
            "grid_auto_columns": null,
            "margin": null,
            "display": null,
            "left": null
          }
        },
        "b9fcdc422eeb4f34a5994c52751bfa17": {
          "model_module": "@jupyter-widgets/controls",
          "model_name": "VBoxModel",
          "state": {
            "_view_name": "VBoxView",
            "_dom_classes": [],
            "_model_name": "VBoxModel",
            "_view_module": "@jupyter-widgets/controls",
            "_model_module_version": "1.5.0",
            "_view_count": null,
            "_view_module_version": "1.5.0",
            "box_style": "",
            "layout": "IPY_MODEL_d82b7e25e73f4a9590427ab731ea736a",
            "_model_module": "@jupyter-widgets/controls",
            "children": [
              "IPY_MODEL_d66da27b82034d12bcff58d0e328f032",
              "IPY_MODEL_7df25c8913b04aa49d21bd1d6e18f375"
            ]
          }
        },
        "d82b7e25e73f4a9590427ab731ea736a": {
          "model_module": "@jupyter-widgets/base",
          "model_name": "LayoutModel",
          "state": {
            "_view_name": "LayoutView",
            "grid_template_rows": null,
            "right": null,
            "justify_content": null,
            "_view_module": "@jupyter-widgets/base",
            "overflow": null,
            "_model_module_version": "1.2.0",
            "_view_count": null,
            "flex_flow": null,
            "width": null,
            "min_width": null,
            "border": null,
            "align_items": null,
            "bottom": null,
            "_model_module": "@jupyter-widgets/base",
            "top": null,
            "grid_column": null,
            "overflow_y": null,
            "overflow_x": null,
            "grid_auto_flow": null,
            "grid_area": null,
            "grid_template_columns": null,
            "flex": null,
            "_model_name": "LayoutModel",
            "justify_items": null,
            "grid_row": null,
            "max_height": null,
            "align_content": null,
            "visibility": null,
            "align_self": null,
            "height": null,
            "min_height": null,
            "padding": null,
            "grid_auto_rows": null,
            "grid_gap": null,
            "max_width": null,
            "order": null,
            "_view_module_version": "1.2.0",
            "grid_template_areas": null,
            "object_position": null,
            "object_fit": null,
            "grid_auto_columns": null,
            "margin": null,
            "display": null,
            "left": null
          }
        },
        "d66da27b82034d12bcff58d0e328f032": {
          "model_module": "@jupyter-widgets/controls",
          "model_name": "LabelModel",
          "state": {
            "_view_name": "LabelView",
            "style": "IPY_MODEL_d6915551580641598b726d8c7edf2d78",
            "_dom_classes": [],
            "description": "",
            "_model_name": "LabelModel",
            "placeholder": "​",
            "_view_module": "@jupyter-widgets/controls",
            "_model_module_version": "1.5.0",
            "value": " 272.06MB of 272.06MB uploaded (0.00MB deduped)\r",
            "_view_count": null,
            "_view_module_version": "1.5.0",
            "description_tooltip": null,
            "_model_module": "@jupyter-widgets/controls",
            "layout": "IPY_MODEL_75adc8226ca742878c9bf29b34424f30"
          }
        },
        "7df25c8913b04aa49d21bd1d6e18f375": {
          "model_module": "@jupyter-widgets/controls",
          "model_name": "FloatProgressModel",
          "state": {
            "_view_name": "ProgressView",
            "style": "IPY_MODEL_f9d35bb5c1684e94924db636e6d5aa48",
            "_dom_classes": [],
            "description": "",
            "_model_name": "FloatProgressModel",
            "bar_style": "",
            "max": 1,
            "_view_module": "@jupyter-widgets/controls",
            "_model_module_version": "1.5.0",
            "value": 1,
            "_view_count": null,
            "_view_module_version": "1.5.0",
            "orientation": "horizontal",
            "min": 0,
            "description_tooltip": null,
            "_model_module": "@jupyter-widgets/controls",
            "layout": "IPY_MODEL_0ef163c2f2b44dc19c5fcc4ec3e8edf6"
          }
        },
        "d6915551580641598b726d8c7edf2d78": {
          "model_module": "@jupyter-widgets/controls",
          "model_name": "DescriptionStyleModel",
          "state": {
            "_view_name": "StyleView",
            "_model_name": "DescriptionStyleModel",
            "description_width": "",
            "_view_module": "@jupyter-widgets/base",
            "_model_module_version": "1.5.0",
            "_view_count": null,
            "_view_module_version": "1.2.0",
            "_model_module": "@jupyter-widgets/controls"
          }
        },
        "75adc8226ca742878c9bf29b34424f30": {
          "model_module": "@jupyter-widgets/base",
          "model_name": "LayoutModel",
          "state": {
            "_view_name": "LayoutView",
            "grid_template_rows": null,
            "right": null,
            "justify_content": null,
            "_view_module": "@jupyter-widgets/base",
            "overflow": null,
            "_model_module_version": "1.2.0",
            "_view_count": null,
            "flex_flow": null,
            "width": null,
            "min_width": null,
            "border": null,
            "align_items": null,
            "bottom": null,
            "_model_module": "@jupyter-widgets/base",
            "top": null,
            "grid_column": null,
            "overflow_y": null,
            "overflow_x": null,
            "grid_auto_flow": null,
            "grid_area": null,
            "grid_template_columns": null,
            "flex": null,
            "_model_name": "LayoutModel",
            "justify_items": null,
            "grid_row": null,
            "max_height": null,
            "align_content": null,
            "visibility": null,
            "align_self": null,
            "height": null,
            "min_height": null,
            "padding": null,
            "grid_auto_rows": null,
            "grid_gap": null,
            "max_width": null,
            "order": null,
            "_view_module_version": "1.2.0",
            "grid_template_areas": null,
            "object_position": null,
            "object_fit": null,
            "grid_auto_columns": null,
            "margin": null,
            "display": null,
            "left": null
          }
        },
        "f9d35bb5c1684e94924db636e6d5aa48": {
          "model_module": "@jupyter-widgets/controls",
          "model_name": "ProgressStyleModel",
          "state": {
            "_view_name": "StyleView",
            "_model_name": "ProgressStyleModel",
            "description_width": "",
            "_view_module": "@jupyter-widgets/base",
            "_model_module_version": "1.5.0",
            "_view_count": null,
            "_view_module_version": "1.2.0",
            "bar_color": null,
            "_model_module": "@jupyter-widgets/controls"
          }
        },
        "0ef163c2f2b44dc19c5fcc4ec3e8edf6": {
          "model_module": "@jupyter-widgets/base",
          "model_name": "LayoutModel",
          "state": {
            "_view_name": "LayoutView",
            "grid_template_rows": null,
            "right": null,
            "justify_content": null,
            "_view_module": "@jupyter-widgets/base",
            "overflow": null,
            "_model_module_version": "1.2.0",
            "_view_count": null,
            "flex_flow": null,
            "width": null,
            "min_width": null,
            "border": null,
            "align_items": null,
            "bottom": null,
            "_model_module": "@jupyter-widgets/base",
            "top": null,
            "grid_column": null,
            "overflow_y": null,
            "overflow_x": null,
            "grid_auto_flow": null,
            "grid_area": null,
            "grid_template_columns": null,
            "flex": null,
            "_model_name": "LayoutModel",
            "justify_items": null,
            "grid_row": null,
            "max_height": null,
            "align_content": null,
            "visibility": null,
            "align_self": null,
            "height": null,
            "min_height": null,
            "padding": null,
            "grid_auto_rows": null,
            "grid_gap": null,
            "max_width": null,
            "order": null,
            "_view_module_version": "1.2.0",
            "grid_template_areas": null,
            "object_position": null,
            "object_fit": null,
            "grid_auto_columns": null,
            "margin": null,
            "display": null,
            "left": null
          }
        },
        "f8871e13403448ce9ea37037b8fee0b6": {
          "model_module": "@jupyter-widgets/controls",
          "model_name": "VBoxModel",
          "state": {
            "_view_name": "VBoxView",
            "_dom_classes": [],
            "_model_name": "VBoxModel",
            "_view_module": "@jupyter-widgets/controls",
            "_model_module_version": "1.5.0",
            "_view_count": null,
            "_view_module_version": "1.5.0",
            "box_style": "",
            "layout": "IPY_MODEL_19d612b3d73149eb9fbeb2f4e45af8a3",
            "_model_module": "@jupyter-widgets/controls",
            "children": [
              "IPY_MODEL_c59fd889f3ea41bf906f42a57e845281",
              "IPY_MODEL_5e8a6783aea14a5f9bed0f7e0582f69d"
            ]
          }
        },
        "19d612b3d73149eb9fbeb2f4e45af8a3": {
          "model_module": "@jupyter-widgets/base",
          "model_name": "LayoutModel",
          "state": {
            "_view_name": "LayoutView",
            "grid_template_rows": null,
            "right": null,
            "justify_content": null,
            "_view_module": "@jupyter-widgets/base",
            "overflow": null,
            "_model_module_version": "1.2.0",
            "_view_count": null,
            "flex_flow": null,
            "width": null,
            "min_width": null,
            "border": null,
            "align_items": null,
            "bottom": null,
            "_model_module": "@jupyter-widgets/base",
            "top": null,
            "grid_column": null,
            "overflow_y": null,
            "overflow_x": null,
            "grid_auto_flow": null,
            "grid_area": null,
            "grid_template_columns": null,
            "flex": null,
            "_model_name": "LayoutModel",
            "justify_items": null,
            "grid_row": null,
            "max_height": null,
            "align_content": null,
            "visibility": null,
            "align_self": null,
            "height": null,
            "min_height": null,
            "padding": null,
            "grid_auto_rows": null,
            "grid_gap": null,
            "max_width": null,
            "order": null,
            "_view_module_version": "1.2.0",
            "grid_template_areas": null,
            "object_position": null,
            "object_fit": null,
            "grid_auto_columns": null,
            "margin": null,
            "display": null,
            "left": null
          }
        },
        "c59fd889f3ea41bf906f42a57e845281": {
          "model_module": "@jupyter-widgets/controls",
          "model_name": "LabelModel",
          "state": {
            "_view_name": "LabelView",
            "style": "IPY_MODEL_766931e7f68641d1832232f5f7fb89c4",
            "_dom_classes": [],
            "description": "",
            "_model_name": "LabelModel",
            "placeholder": "​",
            "_view_module": "@jupyter-widgets/controls",
            "_model_module_version": "1.5.0",
            "value": " 326.54MB of 326.54MB uploaded (0.00MB deduped)\r",
            "_view_count": null,
            "_view_module_version": "1.5.0",
            "description_tooltip": null,
            "_model_module": "@jupyter-widgets/controls",
            "layout": "IPY_MODEL_d2c59ca91976403a91928bef5393433b"
          }
        },
        "5e8a6783aea14a5f9bed0f7e0582f69d": {
          "model_module": "@jupyter-widgets/controls",
          "model_name": "FloatProgressModel",
          "state": {
            "_view_name": "ProgressView",
            "style": "IPY_MODEL_920023a717d14ede8c46d7e6cbcc2489",
            "_dom_classes": [],
            "description": "",
            "_model_name": "FloatProgressModel",
            "bar_style": "",
            "max": 1,
            "_view_module": "@jupyter-widgets/controls",
            "_model_module_version": "1.5.0",
            "value": 1,
            "_view_count": null,
            "_view_module_version": "1.5.0",
            "orientation": "horizontal",
            "min": 0,
            "description_tooltip": null,
            "_model_module": "@jupyter-widgets/controls",
            "layout": "IPY_MODEL_f404435d2da9406eaf6407589157a16a"
          }
        },
        "766931e7f68641d1832232f5f7fb89c4": {
          "model_module": "@jupyter-widgets/controls",
          "model_name": "DescriptionStyleModel",
          "state": {
            "_view_name": "StyleView",
            "_model_name": "DescriptionStyleModel",
            "description_width": "",
            "_view_module": "@jupyter-widgets/base",
            "_model_module_version": "1.5.0",
            "_view_count": null,
            "_view_module_version": "1.2.0",
            "_model_module": "@jupyter-widgets/controls"
          }
        },
        "d2c59ca91976403a91928bef5393433b": {
          "model_module": "@jupyter-widgets/base",
          "model_name": "LayoutModel",
          "state": {
            "_view_name": "LayoutView",
            "grid_template_rows": null,
            "right": null,
            "justify_content": null,
            "_view_module": "@jupyter-widgets/base",
            "overflow": null,
            "_model_module_version": "1.2.0",
            "_view_count": null,
            "flex_flow": null,
            "width": null,
            "min_width": null,
            "border": null,
            "align_items": null,
            "bottom": null,
            "_model_module": "@jupyter-widgets/base",
            "top": null,
            "grid_column": null,
            "overflow_y": null,
            "overflow_x": null,
            "grid_auto_flow": null,
            "grid_area": null,
            "grid_template_columns": null,
            "flex": null,
            "_model_name": "LayoutModel",
            "justify_items": null,
            "grid_row": null,
            "max_height": null,
            "align_content": null,
            "visibility": null,
            "align_self": null,
            "height": null,
            "min_height": null,
            "padding": null,
            "grid_auto_rows": null,
            "grid_gap": null,
            "max_width": null,
            "order": null,
            "_view_module_version": "1.2.0",
            "grid_template_areas": null,
            "object_position": null,
            "object_fit": null,
            "grid_auto_columns": null,
            "margin": null,
            "display": null,
            "left": null
          }
        },
        "920023a717d14ede8c46d7e6cbcc2489": {
          "model_module": "@jupyter-widgets/controls",
          "model_name": "ProgressStyleModel",
          "state": {
            "_view_name": "StyleView",
            "_model_name": "ProgressStyleModel",
            "description_width": "",
            "_view_module": "@jupyter-widgets/base",
            "_model_module_version": "1.5.0",
            "_view_count": null,
            "_view_module_version": "1.2.0",
            "bar_color": null,
            "_model_module": "@jupyter-widgets/controls"
          }
        },
        "f404435d2da9406eaf6407589157a16a": {
          "model_module": "@jupyter-widgets/base",
          "model_name": "LayoutModel",
          "state": {
            "_view_name": "LayoutView",
            "grid_template_rows": null,
            "right": null,
            "justify_content": null,
            "_view_module": "@jupyter-widgets/base",
            "overflow": null,
            "_model_module_version": "1.2.0",
            "_view_count": null,
            "flex_flow": null,
            "width": null,
            "min_width": null,
            "border": null,
            "align_items": null,
            "bottom": null,
            "_model_module": "@jupyter-widgets/base",
            "top": null,
            "grid_column": null,
            "overflow_y": null,
            "overflow_x": null,
            "grid_auto_flow": null,
            "grid_area": null,
            "grid_template_columns": null,
            "flex": null,
            "_model_name": "LayoutModel",
            "justify_items": null,
            "grid_row": null,
            "max_height": null,
            "align_content": null,
            "visibility": null,
            "align_self": null,
            "height": null,
            "min_height": null,
            "padding": null,
            "grid_auto_rows": null,
            "grid_gap": null,
            "max_width": null,
            "order": null,
            "_view_module_version": "1.2.0",
            "grid_template_areas": null,
            "object_position": null,
            "object_fit": null,
            "grid_auto_columns": null,
            "margin": null,
            "display": null,
            "left": null
          }
        },
        "d9d861bfacaa41a4a061581d2934c2dd": {
          "model_module": "@jupyter-widgets/controls",
          "model_name": "VBoxModel",
          "state": {
            "_view_name": "VBoxView",
            "_dom_classes": [],
            "_model_name": "VBoxModel",
            "_view_module": "@jupyter-widgets/controls",
            "_model_module_version": "1.5.0",
            "_view_count": null,
            "_view_module_version": "1.5.0",
            "box_style": "",
            "layout": "IPY_MODEL_e72a63a37ceb44389a23751f8565be65",
            "_model_module": "@jupyter-widgets/controls",
            "children": [
              "IPY_MODEL_29fac362069a46d2a922d1dbf6614bf7",
              "IPY_MODEL_7a4030a8fdad4a5aa146262e83a6bce4"
            ]
          }
        },
        "e72a63a37ceb44389a23751f8565be65": {
          "model_module": "@jupyter-widgets/base",
          "model_name": "LayoutModel",
          "state": {
            "_view_name": "LayoutView",
            "grid_template_rows": null,
            "right": null,
            "justify_content": null,
            "_view_module": "@jupyter-widgets/base",
            "overflow": null,
            "_model_module_version": "1.2.0",
            "_view_count": null,
            "flex_flow": null,
            "width": null,
            "min_width": null,
            "border": null,
            "align_items": null,
            "bottom": null,
            "_model_module": "@jupyter-widgets/base",
            "top": null,
            "grid_column": null,
            "overflow_y": null,
            "overflow_x": null,
            "grid_auto_flow": null,
            "grid_area": null,
            "grid_template_columns": null,
            "flex": null,
            "_model_name": "LayoutModel",
            "justify_items": null,
            "grid_row": null,
            "max_height": null,
            "align_content": null,
            "visibility": null,
            "align_self": null,
            "height": null,
            "min_height": null,
            "padding": null,
            "grid_auto_rows": null,
            "grid_gap": null,
            "max_width": null,
            "order": null,
            "_view_module_version": "1.2.0",
            "grid_template_areas": null,
            "object_position": null,
            "object_fit": null,
            "grid_auto_columns": null,
            "margin": null,
            "display": null,
            "left": null
          }
        },
        "29fac362069a46d2a922d1dbf6614bf7": {
          "model_module": "@jupyter-widgets/controls",
          "model_name": "LabelModel",
          "state": {
            "_view_name": "LabelView",
            "style": "IPY_MODEL_9fd269ad842648988cf356836669bc0f",
            "_dom_classes": [],
            "description": "",
            "_model_name": "LabelModel",
            "placeholder": "​",
            "_view_module": "@jupyter-widgets/controls",
            "_model_module_version": "1.5.0",
            "value": " 289.65MB of 289.65MB uploaded (0.00MB deduped)\r",
            "_view_count": null,
            "_view_module_version": "1.5.0",
            "description_tooltip": null,
            "_model_module": "@jupyter-widgets/controls",
            "layout": "IPY_MODEL_f4d1dac12ebd4b058758384033b4ab67"
          }
        },
        "7a4030a8fdad4a5aa146262e83a6bce4": {
          "model_module": "@jupyter-widgets/controls",
          "model_name": "FloatProgressModel",
          "state": {
            "_view_name": "ProgressView",
            "style": "IPY_MODEL_d1e86ec91dfa463d9ec4a8ebdf33d572",
            "_dom_classes": [],
            "description": "",
            "_model_name": "FloatProgressModel",
            "bar_style": "",
            "max": 1,
            "_view_module": "@jupyter-widgets/controls",
            "_model_module_version": "1.5.0",
            "value": 1,
            "_view_count": null,
            "_view_module_version": "1.5.0",
            "orientation": "horizontal",
            "min": 0,
            "description_tooltip": null,
            "_model_module": "@jupyter-widgets/controls",
            "layout": "IPY_MODEL_d1547cc94ada4933a30578b07de5cae4"
          }
        },
        "9fd269ad842648988cf356836669bc0f": {
          "model_module": "@jupyter-widgets/controls",
          "model_name": "DescriptionStyleModel",
          "state": {
            "_view_name": "StyleView",
            "_model_name": "DescriptionStyleModel",
            "description_width": "",
            "_view_module": "@jupyter-widgets/base",
            "_model_module_version": "1.5.0",
            "_view_count": null,
            "_view_module_version": "1.2.0",
            "_model_module": "@jupyter-widgets/controls"
          }
        },
        "f4d1dac12ebd4b058758384033b4ab67": {
          "model_module": "@jupyter-widgets/base",
          "model_name": "LayoutModel",
          "state": {
            "_view_name": "LayoutView",
            "grid_template_rows": null,
            "right": null,
            "justify_content": null,
            "_view_module": "@jupyter-widgets/base",
            "overflow": null,
            "_model_module_version": "1.2.0",
            "_view_count": null,
            "flex_flow": null,
            "width": null,
            "min_width": null,
            "border": null,
            "align_items": null,
            "bottom": null,
            "_model_module": "@jupyter-widgets/base",
            "top": null,
            "grid_column": null,
            "overflow_y": null,
            "overflow_x": null,
            "grid_auto_flow": null,
            "grid_area": null,
            "grid_template_columns": null,
            "flex": null,
            "_model_name": "LayoutModel",
            "justify_items": null,
            "grid_row": null,
            "max_height": null,
            "align_content": null,
            "visibility": null,
            "align_self": null,
            "height": null,
            "min_height": null,
            "padding": null,
            "grid_auto_rows": null,
            "grid_gap": null,
            "max_width": null,
            "order": null,
            "_view_module_version": "1.2.0",
            "grid_template_areas": null,
            "object_position": null,
            "object_fit": null,
            "grid_auto_columns": null,
            "margin": null,
            "display": null,
            "left": null
          }
        },
        "d1e86ec91dfa463d9ec4a8ebdf33d572": {
          "model_module": "@jupyter-widgets/controls",
          "model_name": "ProgressStyleModel",
          "state": {
            "_view_name": "StyleView",
            "_model_name": "ProgressStyleModel",
            "description_width": "",
            "_view_module": "@jupyter-widgets/base",
            "_model_module_version": "1.5.0",
            "_view_count": null,
            "_view_module_version": "1.2.0",
            "bar_color": null,
            "_model_module": "@jupyter-widgets/controls"
          }
        },
        "d1547cc94ada4933a30578b07de5cae4": {
          "model_module": "@jupyter-widgets/base",
          "model_name": "LayoutModel",
          "state": {
            "_view_name": "LayoutView",
            "grid_template_rows": null,
            "right": null,
            "justify_content": null,
            "_view_module": "@jupyter-widgets/base",
            "overflow": null,
            "_model_module_version": "1.2.0",
            "_view_count": null,
            "flex_flow": null,
            "width": null,
            "min_width": null,
            "border": null,
            "align_items": null,
            "bottom": null,
            "_model_module": "@jupyter-widgets/base",
            "top": null,
            "grid_column": null,
            "overflow_y": null,
            "overflow_x": null,
            "grid_auto_flow": null,
            "grid_area": null,
            "grid_template_columns": null,
            "flex": null,
            "_model_name": "LayoutModel",
            "justify_items": null,
            "grid_row": null,
            "max_height": null,
            "align_content": null,
            "visibility": null,
            "align_self": null,
            "height": null,
            "min_height": null,
            "padding": null,
            "grid_auto_rows": null,
            "grid_gap": null,
            "max_width": null,
            "order": null,
            "_view_module_version": "1.2.0",
            "grid_template_areas": null,
            "object_position": null,
            "object_fit": null,
            "grid_auto_columns": null,
            "margin": null,
            "display": null,
            "left": null
          }
        },
        "ffe3c609547b48e8943b45932810c0e3": {
          "model_module": "@jupyter-widgets/controls",
          "model_name": "VBoxModel",
          "state": {
            "_view_name": "VBoxView",
            "_dom_classes": [],
            "_model_name": "VBoxModel",
            "_view_module": "@jupyter-widgets/controls",
            "_model_module_version": "1.5.0",
            "_view_count": null,
            "_view_module_version": "1.5.0",
            "box_style": "",
            "layout": "IPY_MODEL_42cb903f9e2b49fd9bc1c0e014a3bd25",
            "_model_module": "@jupyter-widgets/controls",
            "children": [
              "IPY_MODEL_e2dd3aef60c44374a54e492964f54cd6",
              "IPY_MODEL_66d8b51eefa74c65a177db018efcb0de"
            ]
          }
        },
        "42cb903f9e2b49fd9bc1c0e014a3bd25": {
          "model_module": "@jupyter-widgets/base",
          "model_name": "LayoutModel",
          "state": {
            "_view_name": "LayoutView",
            "grid_template_rows": null,
            "right": null,
            "justify_content": null,
            "_view_module": "@jupyter-widgets/base",
            "overflow": null,
            "_model_module_version": "1.2.0",
            "_view_count": null,
            "flex_flow": null,
            "width": null,
            "min_width": null,
            "border": null,
            "align_items": null,
            "bottom": null,
            "_model_module": "@jupyter-widgets/base",
            "top": null,
            "grid_column": null,
            "overflow_y": null,
            "overflow_x": null,
            "grid_auto_flow": null,
            "grid_area": null,
            "grid_template_columns": null,
            "flex": null,
            "_model_name": "LayoutModel",
            "justify_items": null,
            "grid_row": null,
            "max_height": null,
            "align_content": null,
            "visibility": null,
            "align_self": null,
            "height": null,
            "min_height": null,
            "padding": null,
            "grid_auto_rows": null,
            "grid_gap": null,
            "max_width": null,
            "order": null,
            "_view_module_version": "1.2.0",
            "grid_template_areas": null,
            "object_position": null,
            "object_fit": null,
            "grid_auto_columns": null,
            "margin": null,
            "display": null,
            "left": null
          }
        },
        "e2dd3aef60c44374a54e492964f54cd6": {
          "model_module": "@jupyter-widgets/controls",
          "model_name": "LabelModel",
          "state": {
            "_view_name": "LabelView",
            "style": "IPY_MODEL_417b8f8877dc4a1c9ba7ccc051612865",
            "_dom_classes": [],
            "description": "",
            "_model_name": "LabelModel",
            "placeholder": "​",
            "_view_module": "@jupyter-widgets/controls",
            "_model_module_version": "1.5.0",
            "value": " 316.62MB of 316.62MB uploaded (0.00MB deduped)\r",
            "_view_count": null,
            "_view_module_version": "1.5.0",
            "description_tooltip": null,
            "_model_module": "@jupyter-widgets/controls",
            "layout": "IPY_MODEL_429e8e91e2a74002b2b78ad8281abf8e"
          }
        },
        "66d8b51eefa74c65a177db018efcb0de": {
          "model_module": "@jupyter-widgets/controls",
          "model_name": "FloatProgressModel",
          "state": {
            "_view_name": "ProgressView",
            "style": "IPY_MODEL_e7cfd94ff4454e54b43f60cd0b7ffc6e",
            "_dom_classes": [],
            "description": "",
            "_model_name": "FloatProgressModel",
            "bar_style": "",
            "max": 1,
            "_view_module": "@jupyter-widgets/controls",
            "_model_module_version": "1.5.0",
            "value": 1,
            "_view_count": null,
            "_view_module_version": "1.5.0",
            "orientation": "horizontal",
            "min": 0,
            "description_tooltip": null,
            "_model_module": "@jupyter-widgets/controls",
            "layout": "IPY_MODEL_340569a8722a4de58dbd0387d32cfb8a"
          }
        },
        "417b8f8877dc4a1c9ba7ccc051612865": {
          "model_module": "@jupyter-widgets/controls",
          "model_name": "DescriptionStyleModel",
          "state": {
            "_view_name": "StyleView",
            "_model_name": "DescriptionStyleModel",
            "description_width": "",
            "_view_module": "@jupyter-widgets/base",
            "_model_module_version": "1.5.0",
            "_view_count": null,
            "_view_module_version": "1.2.0",
            "_model_module": "@jupyter-widgets/controls"
          }
        },
        "429e8e91e2a74002b2b78ad8281abf8e": {
          "model_module": "@jupyter-widgets/base",
          "model_name": "LayoutModel",
          "state": {
            "_view_name": "LayoutView",
            "grid_template_rows": null,
            "right": null,
            "justify_content": null,
            "_view_module": "@jupyter-widgets/base",
            "overflow": null,
            "_model_module_version": "1.2.0",
            "_view_count": null,
            "flex_flow": null,
            "width": null,
            "min_width": null,
            "border": null,
            "align_items": null,
            "bottom": null,
            "_model_module": "@jupyter-widgets/base",
            "top": null,
            "grid_column": null,
            "overflow_y": null,
            "overflow_x": null,
            "grid_auto_flow": null,
            "grid_area": null,
            "grid_template_columns": null,
            "flex": null,
            "_model_name": "LayoutModel",
            "justify_items": null,
            "grid_row": null,
            "max_height": null,
            "align_content": null,
            "visibility": null,
            "align_self": null,
            "height": null,
            "min_height": null,
            "padding": null,
            "grid_auto_rows": null,
            "grid_gap": null,
            "max_width": null,
            "order": null,
            "_view_module_version": "1.2.0",
            "grid_template_areas": null,
            "object_position": null,
            "object_fit": null,
            "grid_auto_columns": null,
            "margin": null,
            "display": null,
            "left": null
          }
        },
        "e7cfd94ff4454e54b43f60cd0b7ffc6e": {
          "model_module": "@jupyter-widgets/controls",
          "model_name": "ProgressStyleModel",
          "state": {
            "_view_name": "StyleView",
            "_model_name": "ProgressStyleModel",
            "description_width": "",
            "_view_module": "@jupyter-widgets/base",
            "_model_module_version": "1.5.0",
            "_view_count": null,
            "_view_module_version": "1.2.0",
            "bar_color": null,
            "_model_module": "@jupyter-widgets/controls"
          }
        },
        "340569a8722a4de58dbd0387d32cfb8a": {
          "model_module": "@jupyter-widgets/base",
          "model_name": "LayoutModel",
          "state": {
            "_view_name": "LayoutView",
            "grid_template_rows": null,
            "right": null,
            "justify_content": null,
            "_view_module": "@jupyter-widgets/base",
            "overflow": null,
            "_model_module_version": "1.2.0",
            "_view_count": null,
            "flex_flow": null,
            "width": null,
            "min_width": null,
            "border": null,
            "align_items": null,
            "bottom": null,
            "_model_module": "@jupyter-widgets/base",
            "top": null,
            "grid_column": null,
            "overflow_y": null,
            "overflow_x": null,
            "grid_auto_flow": null,
            "grid_area": null,
            "grid_template_columns": null,
            "flex": null,
            "_model_name": "LayoutModel",
            "justify_items": null,
            "grid_row": null,
            "max_height": null,
            "align_content": null,
            "visibility": null,
            "align_self": null,
            "height": null,
            "min_height": null,
            "padding": null,
            "grid_auto_rows": null,
            "grid_gap": null,
            "max_width": null,
            "order": null,
            "_view_module_version": "1.2.0",
            "grid_template_areas": null,
            "object_position": null,
            "object_fit": null,
            "grid_auto_columns": null,
            "margin": null,
            "display": null,
            "left": null
          }
        },
        "7a934cf97e924300b28c551bafdad102": {
          "model_module": "@jupyter-widgets/controls",
          "model_name": "VBoxModel",
          "state": {
            "_view_name": "VBoxView",
            "_dom_classes": [],
            "_model_name": "VBoxModel",
            "_view_module": "@jupyter-widgets/controls",
            "_model_module_version": "1.5.0",
            "_view_count": null,
            "_view_module_version": "1.5.0",
            "box_style": "",
            "layout": "IPY_MODEL_eff04c052884440ca917b081246b0aec",
            "_model_module": "@jupyter-widgets/controls",
            "children": [
              "IPY_MODEL_6010ad8f9a064e6f8d6b880623242953",
              "IPY_MODEL_80b42bbd390d4a958e524ea09dc2b8cf"
            ]
          }
        },
        "eff04c052884440ca917b081246b0aec": {
          "model_module": "@jupyter-widgets/base",
          "model_name": "LayoutModel",
          "state": {
            "_view_name": "LayoutView",
            "grid_template_rows": null,
            "right": null,
            "justify_content": null,
            "_view_module": "@jupyter-widgets/base",
            "overflow": null,
            "_model_module_version": "1.2.0",
            "_view_count": null,
            "flex_flow": null,
            "width": null,
            "min_width": null,
            "border": null,
            "align_items": null,
            "bottom": null,
            "_model_module": "@jupyter-widgets/base",
            "top": null,
            "grid_column": null,
            "overflow_y": null,
            "overflow_x": null,
            "grid_auto_flow": null,
            "grid_area": null,
            "grid_template_columns": null,
            "flex": null,
            "_model_name": "LayoutModel",
            "justify_items": null,
            "grid_row": null,
            "max_height": null,
            "align_content": null,
            "visibility": null,
            "align_self": null,
            "height": null,
            "min_height": null,
            "padding": null,
            "grid_auto_rows": null,
            "grid_gap": null,
            "max_width": null,
            "order": null,
            "_view_module_version": "1.2.0",
            "grid_template_areas": null,
            "object_position": null,
            "object_fit": null,
            "grid_auto_columns": null,
            "margin": null,
            "display": null,
            "left": null
          }
        },
        "6010ad8f9a064e6f8d6b880623242953": {
          "model_module": "@jupyter-widgets/controls",
          "model_name": "LabelModel",
          "state": {
            "_view_name": "LabelView",
            "style": "IPY_MODEL_088003e18bde4e1cabbbe14c9ec1e433",
            "_dom_classes": [],
            "description": "",
            "_model_name": "LabelModel",
            "placeholder": "​",
            "_view_module": "@jupyter-widgets/controls",
            "_model_module_version": "1.5.0",
            "value": " 282.52MB of 282.52MB uploaded (0.00MB deduped)\r",
            "_view_count": null,
            "_view_module_version": "1.5.0",
            "description_tooltip": null,
            "_model_module": "@jupyter-widgets/controls",
            "layout": "IPY_MODEL_65ec6653aa5e410a978a33225d3c95af"
          }
        },
        "80b42bbd390d4a958e524ea09dc2b8cf": {
          "model_module": "@jupyter-widgets/controls",
          "model_name": "FloatProgressModel",
          "state": {
            "_view_name": "ProgressView",
            "style": "IPY_MODEL_c7f77124e998432e992ff80854ab9c11",
            "_dom_classes": [],
            "description": "",
            "_model_name": "FloatProgressModel",
            "bar_style": "",
            "max": 1,
            "_view_module": "@jupyter-widgets/controls",
            "_model_module_version": "1.5.0",
            "value": 1,
            "_view_count": null,
            "_view_module_version": "1.5.0",
            "orientation": "horizontal",
            "min": 0,
            "description_tooltip": null,
            "_model_module": "@jupyter-widgets/controls",
            "layout": "IPY_MODEL_eff401203ef84a749fda25c9ffae2441"
          }
        },
        "088003e18bde4e1cabbbe14c9ec1e433": {
          "model_module": "@jupyter-widgets/controls",
          "model_name": "DescriptionStyleModel",
          "state": {
            "_view_name": "StyleView",
            "_model_name": "DescriptionStyleModel",
            "description_width": "",
            "_view_module": "@jupyter-widgets/base",
            "_model_module_version": "1.5.0",
            "_view_count": null,
            "_view_module_version": "1.2.0",
            "_model_module": "@jupyter-widgets/controls"
          }
        },
        "65ec6653aa5e410a978a33225d3c95af": {
          "model_module": "@jupyter-widgets/base",
          "model_name": "LayoutModel",
          "state": {
            "_view_name": "LayoutView",
            "grid_template_rows": null,
            "right": null,
            "justify_content": null,
            "_view_module": "@jupyter-widgets/base",
            "overflow": null,
            "_model_module_version": "1.2.0",
            "_view_count": null,
            "flex_flow": null,
            "width": null,
            "min_width": null,
            "border": null,
            "align_items": null,
            "bottom": null,
            "_model_module": "@jupyter-widgets/base",
            "top": null,
            "grid_column": null,
            "overflow_y": null,
            "overflow_x": null,
            "grid_auto_flow": null,
            "grid_area": null,
            "grid_template_columns": null,
            "flex": null,
            "_model_name": "LayoutModel",
            "justify_items": null,
            "grid_row": null,
            "max_height": null,
            "align_content": null,
            "visibility": null,
            "align_self": null,
            "height": null,
            "min_height": null,
            "padding": null,
            "grid_auto_rows": null,
            "grid_gap": null,
            "max_width": null,
            "order": null,
            "_view_module_version": "1.2.0",
            "grid_template_areas": null,
            "object_position": null,
            "object_fit": null,
            "grid_auto_columns": null,
            "margin": null,
            "display": null,
            "left": null
          }
        },
        "c7f77124e998432e992ff80854ab9c11": {
          "model_module": "@jupyter-widgets/controls",
          "model_name": "ProgressStyleModel",
          "state": {
            "_view_name": "StyleView",
            "_model_name": "ProgressStyleModel",
            "description_width": "",
            "_view_module": "@jupyter-widgets/base",
            "_model_module_version": "1.5.0",
            "_view_count": null,
            "_view_module_version": "1.2.0",
            "bar_color": null,
            "_model_module": "@jupyter-widgets/controls"
          }
        },
        "eff401203ef84a749fda25c9ffae2441": {
          "model_module": "@jupyter-widgets/base",
          "model_name": "LayoutModel",
          "state": {
            "_view_name": "LayoutView",
            "grid_template_rows": null,
            "right": null,
            "justify_content": null,
            "_view_module": "@jupyter-widgets/base",
            "overflow": null,
            "_model_module_version": "1.2.0",
            "_view_count": null,
            "flex_flow": null,
            "width": null,
            "min_width": null,
            "border": null,
            "align_items": null,
            "bottom": null,
            "_model_module": "@jupyter-widgets/base",
            "top": null,
            "grid_column": null,
            "overflow_y": null,
            "overflow_x": null,
            "grid_auto_flow": null,
            "grid_area": null,
            "grid_template_columns": null,
            "flex": null,
            "_model_name": "LayoutModel",
            "justify_items": null,
            "grid_row": null,
            "max_height": null,
            "align_content": null,
            "visibility": null,
            "align_self": null,
            "height": null,
            "min_height": null,
            "padding": null,
            "grid_auto_rows": null,
            "grid_gap": null,
            "max_width": null,
            "order": null,
            "_view_module_version": "1.2.0",
            "grid_template_areas": null,
            "object_position": null,
            "object_fit": null,
            "grid_auto_columns": null,
            "margin": null,
            "display": null,
            "left": null
          }
        }
      }
    },
    "accelerator": "GPU"
  },
  "cells": [
    {
      "cell_type": "markdown",
      "metadata": {
        "id": "view-in-github",
        "colab_type": "text"
      },
      "source": [
        "<a href=\"https://colab.research.google.com/github/Abhishek672/cs6910_Assignment2/blob/manideep2/DLCNN_2B.ipynb\" target=\"_parent\"><img src=\"https://colab.research.google.com/assets/colab-badge.svg\" alt=\"Open In Colab\"/></a>"
      ]
    },
    {
      "cell_type": "code",
      "metadata": {
        "id": "vSAapVh9lmRM"
      },
      "source": [
        "import os\n",
        "from PIL import Image\n",
        "import numpy as np\n",
        "import pickle\n",
        "\n",
        "import matplotlib.pyplot as plt\n",
        "import matplotlib.image as mpimg\n",
        "from tqdm.notebook import tqdm\n",
        "\n",
        "from keras import backend as k\n",
        "from keras.preprocessing.image import ImageDataGenerator\n",
        "from keras.models import Sequential,Model\n",
        "\n",
        "from keras.applications.vgg16 import VGG16\n",
        "from keras.applications.inception_v3 import InceptionV3\n",
        "from keras.applications.inception_resnet_v2 import InceptionResNetV2\n",
        "from keras.applications.resnet50 import ResNet50\n",
        "from keras.applications.xception import Xception\n",
        "\n",
        "\n",
        "from keras.layers import Dense,Flatten,Conv2D,MaxPooling2D,AveragePooling2D,Dropout,BatchNormalization,Activation\n",
        "from keras.activations import relu,softmax\n",
        "from keras.initializers import he_normal,glorot_normal,random_normal,glorot_uniform\n",
        "from keras.losses import categorical_crossentropy\n",
        "from keras.optimizers import Adadelta,Adam\n",
        "from keras.utils import np_utils\n",
        "\n",
        "import warnings\n",
        "warnings.filterwarnings('ignore')\n"
      ],
      "execution_count": 1,
      "outputs": []
    },
    {
      "cell_type": "code",
      "metadata": {
        "colab": {
          "base_uri": "https://localhost:8080/"
        },
        "id": "yfWoEPdwV9sb",
        "outputId": "88756a1f-5eb0-4385-dbcc-da94d074638b"
      },
      "source": [
        "!nvidia-smi"
      ],
      "execution_count": 19,
      "outputs": [
        {
          "output_type": "stream",
          "text": [
            "Thu Apr  8 12:49:37 2021       \n",
            "+-----------------------------------------------------------------------------+\n",
            "| NVIDIA-SMI 460.67       Driver Version: 460.32.03    CUDA Version: 11.2     |\n",
            "|-------------------------------+----------------------+----------------------+\n",
            "| GPU  Name        Persistence-M| Bus-Id        Disp.A | Volatile Uncorr. ECC |\n",
            "| Fan  Temp  Perf  Pwr:Usage/Cap|         Memory-Usage | GPU-Util  Compute M. |\n",
            "|                               |                      |               MIG M. |\n",
            "|===============================+======================+======================|\n",
            "|   0  Tesla T4            Off  | 00000000:00:04.0 Off |                    0 |\n",
            "| N/A   55C    P0    28W /  70W |   9052MiB / 15109MiB |      0%      Default |\n",
            "|                               |                      |                  N/A |\n",
            "+-------------------------------+----------------------+----------------------+\n",
            "                                                                               \n",
            "+-----------------------------------------------------------------------------+\n",
            "| Processes:                                                                  |\n",
            "|  GPU   GI   CI        PID   Type   Process name                  GPU Memory |\n",
            "|        ID   ID                                                   Usage      |\n",
            "|=============================================================================|\n",
            "+-----------------------------------------------------------------------------+\n"
          ],
          "name": "stdout"
        }
      ]
    },
    {
      "cell_type": "code",
      "metadata": {
        "colab": {
          "base_uri": "https://localhost:8080/",
          "height": 837
        },
        "id": "FxkjNThgWX5F",
        "outputId": "0789d35a-3c59-4c80-906c-68f1a36b6aff"
      },
      "source": [
        "!pip install tensorflow-gpu"
      ],
      "execution_count": 3,
      "outputs": [
        {
          "output_type": "stream",
          "text": [
            "Collecting tensorflow-gpu\n",
            "\u001b[?25l  Downloading https://files.pythonhosted.org/packages/85/cc/a27e73cf8b23f2ce4bdd2b7089a42a7819ce6dd7366dceba406ddc5daa9c/tensorflow_gpu-2.4.1-cp37-cp37m-manylinux2010_x86_64.whl (394.3MB)\n",
            "\u001b[K     |████████████████████████████████| 394.3MB 42kB/s \n",
            "\u001b[?25hRequirement already satisfied: wheel~=0.35 in /usr/local/lib/python3.7/dist-packages (from tensorflow-gpu) (0.36.2)\n",
            "Requirement already satisfied: opt-einsum~=3.3.0 in /usr/local/lib/python3.7/dist-packages (from tensorflow-gpu) (3.3.0)\n",
            "Requirement already satisfied: protobuf>=3.9.2 in /usr/local/lib/python3.7/dist-packages (from tensorflow-gpu) (3.12.4)\n",
            "Requirement already satisfied: wrapt~=1.12.1 in /usr/local/lib/python3.7/dist-packages (from tensorflow-gpu) (1.12.1)\n",
            "Requirement already satisfied: termcolor~=1.1.0 in /usr/local/lib/python3.7/dist-packages (from tensorflow-gpu) (1.1.0)\n",
            "Requirement already satisfied: gast==0.3.3 in /usr/local/lib/python3.7/dist-packages (from tensorflow-gpu) (0.3.3)\n",
            "Requirement already satisfied: typing-extensions~=3.7.4 in /usr/local/lib/python3.7/dist-packages (from tensorflow-gpu) (3.7.4.3)\n",
            "Requirement already satisfied: flatbuffers~=1.12.0 in /usr/local/lib/python3.7/dist-packages (from tensorflow-gpu) (1.12)\n",
            "Requirement already satisfied: keras-preprocessing~=1.1.2 in /usr/local/lib/python3.7/dist-packages (from tensorflow-gpu) (1.1.2)\n",
            "Requirement already satisfied: numpy~=1.19.2 in /usr/local/lib/python3.7/dist-packages (from tensorflow-gpu) (1.19.5)\n",
            "Requirement already satisfied: six~=1.15.0 in /usr/local/lib/python3.7/dist-packages (from tensorflow-gpu) (1.15.0)\n",
            "Requirement already satisfied: tensorboard~=2.4 in /usr/local/lib/python3.7/dist-packages (from tensorflow-gpu) (2.4.1)\n",
            "Requirement already satisfied: google-pasta~=0.2 in /usr/local/lib/python3.7/dist-packages (from tensorflow-gpu) (0.2.0)\n",
            "Requirement already satisfied: absl-py~=0.10 in /usr/local/lib/python3.7/dist-packages (from tensorflow-gpu) (0.12.0)\n",
            "Requirement already satisfied: astunparse~=1.6.3 in /usr/local/lib/python3.7/dist-packages (from tensorflow-gpu) (1.6.3)\n",
            "Requirement already satisfied: h5py~=2.10.0 in /usr/local/lib/python3.7/dist-packages (from tensorflow-gpu) (2.10.0)\n",
            "Requirement already satisfied: tensorflow-estimator<2.5.0,>=2.4.0 in /usr/local/lib/python3.7/dist-packages (from tensorflow-gpu) (2.4.0)\n",
            "Requirement already satisfied: grpcio~=1.32.0 in /usr/local/lib/python3.7/dist-packages (from tensorflow-gpu) (1.32.0)\n",
            "Requirement already satisfied: setuptools in /usr/local/lib/python3.7/dist-packages (from protobuf>=3.9.2->tensorflow-gpu) (54.2.0)\n",
            "Requirement already satisfied: tensorboard-plugin-wit>=1.6.0 in /usr/local/lib/python3.7/dist-packages (from tensorboard~=2.4->tensorflow-gpu) (1.8.0)\n",
            "Requirement already satisfied: requests<3,>=2.21.0 in /usr/local/lib/python3.7/dist-packages (from tensorboard~=2.4->tensorflow-gpu) (2.23.0)\n",
            "Requirement already satisfied: markdown>=2.6.8 in /usr/local/lib/python3.7/dist-packages (from tensorboard~=2.4->tensorflow-gpu) (3.3.4)\n",
            "Requirement already satisfied: google-auth-oauthlib<0.5,>=0.4.1 in /usr/local/lib/python3.7/dist-packages (from tensorboard~=2.4->tensorflow-gpu) (0.4.3)\n",
            "Requirement already satisfied: werkzeug>=0.11.15 in /usr/local/lib/python3.7/dist-packages (from tensorboard~=2.4->tensorflow-gpu) (1.0.1)\n",
            "Requirement already satisfied: google-auth<2,>=1.6.3 in /usr/local/lib/python3.7/dist-packages (from tensorboard~=2.4->tensorflow-gpu) (1.28.0)\n",
            "Requirement already satisfied: certifi>=2017.4.17 in /usr/local/lib/python3.7/dist-packages (from requests<3,>=2.21.0->tensorboard~=2.4->tensorflow-gpu) (2020.12.5)\n",
            "Requirement already satisfied: urllib3!=1.25.0,!=1.25.1,<1.26,>=1.21.1 in /usr/local/lib/python3.7/dist-packages (from requests<3,>=2.21.0->tensorboard~=2.4->tensorflow-gpu) (1.24.3)\n",
            "Requirement already satisfied: chardet<4,>=3.0.2 in /usr/local/lib/python3.7/dist-packages (from requests<3,>=2.21.0->tensorboard~=2.4->tensorflow-gpu) (3.0.4)\n",
            "Requirement already satisfied: idna<3,>=2.5 in /usr/local/lib/python3.7/dist-packages (from requests<3,>=2.21.0->tensorboard~=2.4->tensorflow-gpu) (2.10)\n",
            "Requirement already satisfied: importlib-metadata; python_version < \"3.8\" in /usr/local/lib/python3.7/dist-packages (from markdown>=2.6.8->tensorboard~=2.4->tensorflow-gpu) (3.8.1)\n",
            "Requirement already satisfied: requests-oauthlib>=0.7.0 in /usr/local/lib/python3.7/dist-packages (from google-auth-oauthlib<0.5,>=0.4.1->tensorboard~=2.4->tensorflow-gpu) (1.3.0)\n",
            "Requirement already satisfied: cachetools<5.0,>=2.0.0 in /usr/local/lib/python3.7/dist-packages (from google-auth<2,>=1.6.3->tensorboard~=2.4->tensorflow-gpu) (4.2.1)\n",
            "Requirement already satisfied: pyasn1-modules>=0.2.1 in /usr/local/lib/python3.7/dist-packages (from google-auth<2,>=1.6.3->tensorboard~=2.4->tensorflow-gpu) (0.2.8)\n",
            "Requirement already satisfied: rsa<5,>=3.1.4; python_version >= \"3.6\" in /usr/local/lib/python3.7/dist-packages (from google-auth<2,>=1.6.3->tensorboard~=2.4->tensorflow-gpu) (4.7.2)\n",
            "Requirement already satisfied: zipp>=0.5 in /usr/local/lib/python3.7/dist-packages (from importlib-metadata; python_version < \"3.8\"->markdown>=2.6.8->tensorboard~=2.4->tensorflow-gpu) (3.4.1)\n",
            "Requirement already satisfied: oauthlib>=3.0.0 in /usr/local/lib/python3.7/dist-packages (from requests-oauthlib>=0.7.0->google-auth-oauthlib<0.5,>=0.4.1->tensorboard~=2.4->tensorflow-gpu) (3.1.0)\n",
            "Requirement already satisfied: pyasn1<0.5.0,>=0.4.6 in /usr/local/lib/python3.7/dist-packages (from pyasn1-modules>=0.2.1->google-auth<2,>=1.6.3->tensorboard~=2.4->tensorflow-gpu) (0.4.8)\n",
            "Installing collected packages: tensorflow-gpu\n",
            "Successfully installed tensorflow-gpu-2.4.1\n"
          ],
          "name": "stdout"
        },
        {
          "output_type": "display_data",
          "data": {
            "application/vnd.colab-display-data+json": {
              "pip_warning": {
                "packages": [
                  "tensorflow"
                ]
              }
            }
          },
          "metadata": {
            "tags": []
          }
        }
      ]
    },
    {
      "cell_type": "code",
      "metadata": {
        "colab": {
          "base_uri": "https://localhost:8080/"
        },
        "id": "JCt7xkyllwO5",
        "outputId": "6dd045c7-d1f7-41a3-f4c7-206fa496acc0"
      },
      "source": [
        "from google.colab import drive\n",
        "drive.mount('/content/gdrive')"
      ],
      "execution_count": 4,
      "outputs": [
        {
          "output_type": "stream",
          "text": [
            "Mounted at /content/gdrive\n"
          ],
          "name": "stdout"
        }
      ]
    },
    {
      "cell_type": "code",
      "metadata": {
        "id": "wfXxj2rLyJ0B"
      },
      "source": [
        "class Fine_Tune:\n",
        "\n",
        "  #target_size = (w x h x channel)\n",
        "  def __init__(self,target_size, num_neurons,num_hlayers,pretrained_model,trainable_layers):\n",
        "    self.model = Sequential()\n",
        "    self.target_size = target_size\n",
        "    self.num_neurons = num_neurons\n",
        "    self.num_hlayers = num_hlayers\n",
        "    self.pretrained_model = pretrained_model\n",
        "    self.trainable_layers = trainable_layers\n",
        "\n",
        "  def BUILD_MODEL(self):\n",
        "    if (self.pretrained_model == 'InceptionV3'):\n",
        "      prt = InceptionV3(weights='imagenet',include_top=False,input_shape = self.target_size)\n",
        "      trl = 17\n",
        "      \n",
        "    elif (self.pretrained_model == 'InceptionResnetV2'):\n",
        "      prt = InceptionResNetV2(weights='imagenet',include_top=False,input_shape = self.target_size)\n",
        "      trl = 17\n",
        "\n",
        "    elif (self.pretrained_model == 'ResNet50'):\n",
        "      prt = ResNet50(weights='imagenet',include_top=False,input_shape = self.target_size)\n",
        "      trl = 10\n",
        "\n",
        "    elif (self.pretrained_model == 'Xception') :\n",
        "      prt = Xception(weights='imagenet',include_top=False,input_shape = self.target_size)\n",
        "      trl = 6\n",
        "    else:\n",
        "      raise Exception(\"this model not used!!\")\n",
        "   \n",
        "    if self.trainable_layers == 'No':\n",
        "      for layer in prt.layers:\n",
        "          layer.trainable = False\n",
        "    else:\n",
        "      for layer in prt.layers[:-1*trl]:\n",
        "          layer.trainable = False\n",
        "\n",
        "    self.model.add(prt)\n",
        "\n",
        "    #Add dense layers.. \n",
        "    self.model.add(Flatten())\n",
        "\n",
        "    for i in range(self.num_hlayers):\n",
        "      self.model.add(Dense(units = self.num_neurons))\n",
        "      self.model.add(Activation('relu'))\n",
        "\n",
        "    self.model.add(Dense(units=10))\n",
        "    self.model.add(Activation('softmax'))\n",
        "\n",
        "    self.model.compile(optimizer='Adam',loss='categorical_crossentropy',metrics=['accuracy'])\n",
        "\n",
        "    return\n",
        "\n",
        "\n",
        "  def Fit_Model(self,train_path,epochs,batch_size):\n",
        "    tr_datagen = ImageDataGenerator(rescale=1./255,\n",
        "                                    shear_range=0.2,\n",
        "                                    horizontal_flip=True,\n",
        "                                    validation_split = 0.2)\n",
        "\n",
        "    tr_gen = tr_datagen.flow_from_directory(\n",
        "            directory = train_path,target_size = self.target_size[:2],color_mode = 'rgb',       \n",
        "            batch_size = batch_size,\n",
        "            class_mode = 'categorical',\n",
        "            shuffle = True,\n",
        "            seed = 10,\n",
        "            subset = 'training'\n",
        "            )\n",
        "\n",
        "    val_gen = tr_datagen.flow_from_directory(\n",
        "            directory = train_path,target_size = self.target_size[:2],color_mode = 'rgb',\n",
        "            batch_size = batch_size,\n",
        "            class_mode = 'categorical',\n",
        "            shuffle = True,\n",
        "            seed = 10,\n",
        "            subset = 'validation'\n",
        "            ) \n",
        "   \n",
        "    step_size_train = tr_gen.n//tr_gen.batch_size\n",
        "    step_size_valid = val_gen.n//val_gen.batch_size\n",
        "\n",
        "    self.model.fit_generator(generator = tr_gen,\n",
        "                             steps_per_epoch = step_size_train,\n",
        "                             validation_data = val_gen,\n",
        "                             validation_steps = step_size_valid,\n",
        "                             epochs = epochs,\n",
        "                             #callbacks=[WandbCallback(monitor='val_accuracy',save_model=True)],\n",
        "                             verbose = 1)\n",
        "    return\n",
        "\n",
        "  def Predict_Test(self,test_path):\n",
        "\n",
        "    ts_datagen = ImageDataGenerator(rescale = 1./255)\n",
        "    test_gen = ts_datagen.flow_from_directory(\n",
        "        directory = test_path,\n",
        "        target_size = self.target_size[:2],\n",
        "        color_mode = 'rgb',\n",
        "        batch_size = 1,\n",
        "        class_mode = None,\n",
        "        shuffle = False,\n",
        "        seed=10\n",
        "        )\n",
        "    \n",
        "    step_size_test = test_gen.n//test_gen.batch_size\n",
        "    test_gen.reset()\n",
        "    print('Getting predictions for test data..')\n",
        "    pred = self.model.predict_generator(generator = test_gen,\n",
        "                                  steps = step_size_test,\n",
        "                                  verbose = 1\n",
        "                                  )\n",
        "    ytrue = test_gen.classes ; ypred = np.argmax(pred,axis=1)\n",
        "    return np.sum(ytrue == ypred)/len(ytrue)"
      ],
      "execution_count": 7,
      "outputs": []
    },
    {
      "cell_type": "code",
      "metadata": {
        "colab": {
          "base_uri": "https://localhost:8080/"
        },
        "id": "q9-xq6rnYQfN",
        "outputId": "ee73062e-45bf-4750-f05c-aaff5d53ec0c"
      },
      "source": [
        "!pip install wandb -qqq\n",
        "import wandb\n",
        "wandb.login()"
      ],
      "execution_count": 9,
      "outputs": [
        {
          "output_type": "stream",
          "text": [
            "\u001b[34m\u001b[1mwandb\u001b[0m: Currently logged in as: \u001b[33mmanideepladi\u001b[0m (use `wandb login --relogin` to force relogin)\n"
          ],
          "name": "stderr"
        },
        {
          "output_type": "execute_result",
          "data": {
            "text/plain": [
              "True"
            ]
          },
          "metadata": {
            "tags": []
          },
          "execution_count": 9
        }
      ]
    },
    {
      "cell_type": "markdown",
      "metadata": {
        "id": "YtM7z_3MiH62"
      },
      "source": [
        "**Question 2 (5 Marks)\n",
        "You will notice that InceptionV3, InceptionResNetV2, ResNet50, Xception are very huge models as compared to the simple model that you implemented in Part A. Even fine-tuning on a small training data may be very expensive. What is a common trick used to keep the training tractable (you will have to read up a bit on this)? Try different variants of this trick and fine-tune the model using the iNaturalist dataset. For example, '___'ing all layers except the last layer, '___'ing upto k layers and '___'ing the rest. Read up on pre-training and fine-tuning to understand what exactly these terms mean.**\n",
        "\n",
        "**Write down the different strategies that you tried (simple bullet points would be fine).**"
      ]
    },
    {
      "cell_type": "code",
      "metadata": {
        "colab": {
          "base_uri": "https://localhost:8080/"
        },
        "id": "N3mjIJeHYlQh",
        "outputId": "88c79e7f-1be9-4aeb-9c5a-61a8171f8366"
      },
      "source": [
        "sweep_config = {\n",
        "  'name': 'Sweep for Assignment PartB',\n",
        "  'method': 'grid',\n",
        "  'metric': {\n",
        "      'name': 'accuracy',\n",
        "      'goal': 'maximize'   \n",
        "    },\n",
        "  'parameters': {\n",
        "        'num_neurons': {\n",
        "            'values': [64,128]\n",
        "        },\n",
        "        'num_hlayers':{\n",
        "            'values':[1,2]\n",
        "        },\n",
        "        'pretrained_model':{\n",
        "            'values':['InceptionV3','Xception','InceptionResnetV2','ResNet50']\n",
        "        },\n",
        "        'trainable_layers':{\n",
        "            'values':['Yes','No']\n",
        "        }\n",
        "\n",
        "    }\n",
        "}\n",
        "\n",
        "sweep_id = wandb.sweep(sweep_config, project='CNN_PartB', entity='manideepladi')"
      ],
      "execution_count": 16,
      "outputs": [
        {
          "output_type": "stream",
          "text": [
            "Create sweep with ID: u8v89osp\n",
            "Sweep URL: https://wandb.ai/manideepladi/CNN_PartB/sweeps/u8v89osp\n"
          ],
          "name": "stdout"
        }
      ]
    },
    {
      "cell_type": "code",
      "metadata": {
        "id": "VG8ss6kNp9Xd"
      },
      "source": [
        "import wandb\n",
        "from wandb.keras import WandbCallback"
      ],
      "execution_count": 17,
      "outputs": []
    },
    {
      "cell_type": "code",
      "metadata": {
        "id": "u7uq76sYBTMM",
        "colab": {
          "base_uri": "https://localhost:8080/",
          "height": 1000,
          "referenced_widgets": [
            "a32405241855442f81fe799f8f6cf458",
            "0b2fccb7d660460f825fb1092a7a1924",
            "724e74259c5340f2a02c1ba56ef59f3d",
            "9bd630ed626b4765aefe8ed0a6750b43",
            "a6c8aff9ab6b452592ad0399d60b152d",
            "d1c7cf2626304b36b7b9dfe9d103f8c8",
            "efea2c648337492089e107d89d3d8956",
            "a609be3657cf413da0bdc1a3c66246bd",
            "6613bdb0c0ac45c3a6b4c31b5869a815",
            "704d5610b80c44f482e2b6676d56fd50",
            "ff76538928b744efaa5f3c7b5d963257",
            "ec0ff8b9d2d945ab856fbc13d6fd488d",
            "fefbe4fd558f43048b1916ca582d300b",
            "39b132e7a1df4386b9084c4ebbb4e9f2",
            "1661376cc5dd41f09ebb4e6b3a16e1c0",
            "1db2f48684774e439b4e410f8869148b",
            "3ecb8c38c7c840adb8b0ab9693e2c344",
            "35020544b42f4c63a7415d8f8449f12e",
            "5f07efefd8b04bda95046f119dd3fdd0",
            "1a9ee03a3cf342d2ab71374f70265df3",
            "6bdbccac1d2f4321b1a8fa07fe7da775",
            "705d559458b540c7a12405c7c1557f54",
            "2831e50940b54fe8b05873de4ccc337b",
            "713a708ed5024b32878a89cae7160b40",
            "66105a6519314b669047e00ac5e25a02",
            "145c869ee12646b583e0e18e2b173a59",
            "6f2af3fb84b54f4aac5cbdce61eab1a5",
            "f100f891940a4008a365f6cd438e4405",
            "b0a400ca7ea74fccbf6cbdc5cbe20b0b",
            "5795aace67024d31927c0f20e512bf29",
            "0006f18e4c534a0484112aad5ee5b6c0",
            "8505ff9c63f04c299fcf0e198611d57b",
            "0b6f98e790454d1587395c45fba9f6d2",
            "40916f28115c4abb9103f62f785ba68a",
            "b8d65037b8644701bf63e4263e947b8f",
            "d9af953d3c8e43729a4d1fa7e1f7ee8f",
            "447bc42e7a8a4baf86828bfb3a1ac189",
            "55709351dc8449909271df4d5ecc9d3e",
            "fdc7e23ce6a1476d86f0a9f82bfb96fe",
            "f01b4b0812ff4ea4acd6fd627d94be27",
            "46977389f3eb4cde897e8474320bfda8",
            "e49f4a69d3da493b9daa5df6fa37b051",
            "f7a04046cc7c4817b914f3d84b8ffc62",
            "a8ac1b425e4a401caf649efbd93013b0",
            "c9332066f99c48118dd5724393c4b4d6",
            "0ab7bab9efa74fda95d48a93321ead55",
            "70be7d0c1054449890ad4d2ad2ed7dc1",
            "389c9d1bf88048ee89cd67aa766e8e1f",
            "169abeb74e444f5f8dec547abe9cc140",
            "81a1ba27b5b048558f93df85a206e9fb",
            "730140e064fc4dbbbdad021e6a7ef575",
            "d0473f5dd61940508dda2440d1185e04",
            "312ad6a99c1744c0bc8f3d4ebc8c69f7",
            "5de4274df6e342188da16639e0fc2bb4",
            "5d8885a90eb04ccf905fd6463f7a2480",
            "a2accee4fd224f72b75fe9ff2f3671d1",
            "48f8b7be1ed040779748cf0fd0bc3672",
            "59bd39d7bda349b999df75fb05c8f9bf",
            "d96e778eb9ac45cd83bd15c3e129aa8e",
            "cd280d2a657747bfaa61cdf4751e5312",
            "fdd36e572a3845d28e2c899da71395e7",
            "e6699f0d311b4b51aaa0f02a95088189",
            "8b85e20c86ad40c88d583f3511a0bcea",
            "411d713da6284862b522aeb7b2b4b42d",
            "2ea43d73cab34c6b894b5c2b72844963",
            "3d9db42ac8684b2a88dac58c49a26324",
            "7daeaee3c41947aea2565a202c748b15",
            "c567ac4593234a969875b128b5855967",
            "1262ace3b2734a9eb7665d73b5c5bdc5",
            "b97b7a87f77e499cb44e3cd5a8614b0a",
            "1376921c02644424ba605e006e822208",
            "12647664e4e1489798ddd8c556092ac3",
            "d6d3a0e8bec94ac084503f61556c0c7d",
            "f1f7cf6c69244417b82f51822d2289ba",
            "f8c07bfe8cf04fecba9799afbcfcf20c",
            "a7b4133620fd4642a9834fed8a02232a",
            "989e389845c7419b95ad944d40ca9b32",
            "073cd20c4219449d8e82a57810acc4d8",
            "70f65bec7bf2497b882841a9cae5fb61",
            "7541b15128164867b254313b643a00a1",
            "4da8bedd8cb345b3bd68d684f304c996",
            "0258c053b5114541b5c1aac3b646ad48",
            "44f7c709410c4b6ba9fec2f49c9c7c7a",
            "0739ae42cc6a40b3b827ff2348768205",
            "210b78b35f26472d9d8d06232198cb34",
            "e6a964ab94ba466b97a82e797b8f86b9",
            "25a52376db944df8aeae190bc34a5184",
            "8e4e49309db748368b570387fe64f65e",
            "93083269801f43be83ace7ae83f64290",
            "b7b1e8273c8d4795a82eec295775d905",
            "7d38bd1b88ab4f37a38814eae413a9c0",
            "f6da388168d64e6682a29931d9000e8b",
            "cf183cd5d9054b41ac84fba094c88c90",
            "0e4d35e64b33437aae4d8ce0b18cfe53",
            "d016c32b277e48449b8c124a4550c228",
            "88b14be47c88464bbb2265ecefef5aa3",
            "e0b7af86a4144aa4a6dfbaa597cc0a96",
            "ef7a0af799124b4e96706918dad22b3d",
            "2138f546e794464c95f88f16409994c3",
            "61df9f1d3fe041538608e27c0fa8f012",
            "c33cf190da9f4ba09d0538e31beaa78c",
            "877331c8fca7449395d057f8e07c1c93",
            "1afb50df4d4844a8826f751947591469",
            "003ae6a822574f47a776ce2df7623c5b",
            "ee67ec95b4724115847e62262c543265",
            "f209ac08f7ef40e69cfe17e550a81de4",
            "a9e81e44725e4e0cb9e2cf1c2f0f0953",
            "5b4ea2640e324607912c33ee6d1fbab3",
            "eed83147cb1e4f00914c41acc3049c09",
            "302b578eb0474dc98c58e4de283dc5d6",
            "1bb8a45e8cb84686b0f70686b066b26a",
            "e87bb975cff843a4a55e843652bad398",
            "e7c40ddae01d43f08700be2f1f1b2594",
            "47a91872ecf64638b3747df8994deb14",
            "aaab9bbaf80a4ade9091f0163f71f5d7",
            "fcfc670f52414a8aac362c8a255e258e",
            "b22f134e4f4b44898abeb255db2e1542",
            "96ea5bb16e2e45b49b46588ae133e775",
            "c646a4be81fb4ea98f1c8530ea98a978",
            "4e4397f0a9a249c7a2970da873f425e3",
            "36b25b35c7f74212a1e64184095212de",
            "81227a93bcae4defaf94a4e7c26507c9",
            "5264454fd201436489e47e0df55ce350",
            "a0d0098b318b4d369a84a2c9ecf1685b",
            "10a650313ad74869ace98b2c587e1c60",
            "9d19a2db07cd438e8db3a04a500da10a",
            "fcf29dff6bd1424095833c98387fcb93",
            "6ff5646d6f42413a8eea339a814feaca",
            "e39c7125aee64086b7a200132a00554d",
            "49dfbd67a23244818359ba8d55a8e9c9",
            "26dbde95eab3426296af6a4739049edd",
            "c3a5ab5797d1402cbf25fd68b048aed5",
            "7943a6d11f8c41b586db7f8ff1811d67",
            "4282b6fa02a047aea5c36da72c0af0a5",
            "0efdf82ef14a40b3a62e43d767b3796e",
            "b8ac9a77cc0b4e55b9eda25f2dddb368",
            "1490fa26119c4150a91983781f59cb7d",
            "ecc3efdf45744a24a42e0a0809cc9df2",
            "4879b71a8ce844928eaf14d33c3d3466",
            "81935e762491452b905b674f5f97d519",
            "ec86b15b11a14d8eb026f2ee0f05fcec",
            "8cdb4278b1b64c1f8dd2b4b258072e16",
            "537c3d0fbcbe4985a8c4e99e3b88ab10",
            "85803733689942528dde99f14e890ab1",
            "1eb60eb4bfc74760946d694ffa50defd",
            "33b8b1fc75564ffc9c78c459f0cd5fa4",
            "751f06118036444986189d321c71e946",
            "0ecf1cabb0de4083b67270df174020c8",
            "4206c0d6fee546d8bcc64ebc9bea20c0",
            "6187c89c06df49cc80c2a4e8b3d89a60",
            "758c9083186f4e74b18fb5627f56c7bf",
            "850245f0dc8941fc8113535a4b80f45e",
            "91835c9abe364338a7bb8d9fc481b4e6",
            "633fef73df2a4c5b86787e222d452ff7",
            "d70fb9c00ee94758a450c5cf3d54dec8",
            "29b66e75f8d6483a9010005248b736e1",
            "cf504d547bdd47b1b9969cde0cb7b57c",
            "5e4ad164bb9846358f27e757a51b399c",
            "42a2f6bc69b64e37b643cea8c5345c12",
            "94b51c60635e4f368e5318f4f3d20a89",
            "f7810525697d46708e3fe9ff073577f0",
            "20e14efa7f3d44ac9cd2a1c6703cfb30",
            "ca579d9039594741b5eb67e7281b6490",
            "06697b3b609d45eb81f4ea54ed1d9f7e",
            "dba7c528ffdb4454b47de3afd7b49d1d",
            "a6a5dfb1be7b45cc946eb07ce5c135c2",
            "154f089671904d95b0116b21f58f2753",
            "4340185565bc4acd958415b9d36e30fc",
            "1008159a940d4688b6a2c90a878fbcd8",
            "1d0fc16878f14d3c97252ee51e49691d",
            "1026081578b448c9926027867cc0b535",
            "3052338e05304a2dbd85036215124770",
            "126977d2a02842e69a7d3fbd1da94253",
            "1e1eec222f5e4874b53d848c13dd464c",
            "6c1638c8e6bb49bcb3ec5b65766e44ab",
            "10a5fdab34864b55a0ac4f3bec6fd5af",
            "fab568ecb130422094b33cce9b5a94ae",
            "af18252d1a314caa9faa37b3816a0b0c",
            "3c5a9fabbf6f408d9b239e62fa7f7f40",
            "9ee8a28720314570813dd28299a24c81",
            "588b11e091a9439281b2f9d3361f82bd",
            "2c6ef4be9a864d72918906bd400642e5",
            "11da3fd2f2424ca38f1cda059f7ee9db",
            "0eab548e9e0949cab8c8bd3decc5c5cd",
            "1d5c3b76d9bb4850a11d606d96a33955",
            "8b53a9070a8c417e99726a851b808390",
            "9f96a21ba7e642d597ab215ea8b4ad7c",
            "126932e9230342df9c6e8e8d4d04d491",
            "ddc125dcb14d45d8b13cee087ca409e3",
            "fd57ad2c53fd45819435250889bf0ecf",
            "c16d4d6b6e584c448d962f1d092ab71f",
            "88f4edbb01ea47559e6873c3d9eeb680",
            "39a290d3c09940bfb1ee6fc0f1a81d4a",
            "8f8c98f8502d448b9a82c3ef867c8d5e",
            "e0b8ec5eafef43a4953a420bf2441898",
            "49ad107a174343c580dc9dcd8db4ea86",
            "80c4082dda5a4e16979b24e8846a4894",
            "c478dab32803430795f1fb2a55c87ebb",
            "9670a8e0f8a04ae7aacd6c7f37210b6e",
            "98671a05560f4e9ba4d702e22f5e9310",
            "7db9829a3a3747208ca41a0b084e5692",
            "a86489ac99e54356a71a93f27dec683b",
            "2611ed36f0c94e4ca919985301a38ba4",
            "2ec373a338f34fed8899bec340ebab86",
            "2d409b8f7fd14e1bbeeaffbb425fc32f",
            "c067b3467eca425abbb4ef5d6429efe3",
            "8eafd241c77c4510ab88b05709ee3ace",
            "8c7ecbeec6824aea9e9beaefaaee6fa3",
            "1f80edbce44144a6bca5c846c89f727a",
            "f70c60feb91d41fdad8ef2016b069adb",
            "1a571fa46056464a9ffe1598fdd4da50",
            "b0d2402e88c34117978d17bd670481d5",
            "9a13bfea4be54252a01323af2b3502aa",
            "bcda61ae70e644cb81b22b92d8188e7a",
            "7ad61cb2204b4e68b9a1a95fc63fdf8f",
            "500fec38b9334a62bf84b00adb9ee0f9",
            "b9fcdc422eeb4f34a5994c52751bfa17",
            "d82b7e25e73f4a9590427ab731ea736a",
            "d66da27b82034d12bcff58d0e328f032",
            "7df25c8913b04aa49d21bd1d6e18f375",
            "d6915551580641598b726d8c7edf2d78",
            "75adc8226ca742878c9bf29b34424f30",
            "f9d35bb5c1684e94924db636e6d5aa48",
            "0ef163c2f2b44dc19c5fcc4ec3e8edf6",
            "f8871e13403448ce9ea37037b8fee0b6",
            "19d612b3d73149eb9fbeb2f4e45af8a3",
            "c59fd889f3ea41bf906f42a57e845281",
            "5e8a6783aea14a5f9bed0f7e0582f69d",
            "766931e7f68641d1832232f5f7fb89c4",
            "d2c59ca91976403a91928bef5393433b",
            "920023a717d14ede8c46d7e6cbcc2489",
            "f404435d2da9406eaf6407589157a16a",
            "d9d861bfacaa41a4a061581d2934c2dd",
            "e72a63a37ceb44389a23751f8565be65",
            "29fac362069a46d2a922d1dbf6614bf7",
            "7a4030a8fdad4a5aa146262e83a6bce4",
            "9fd269ad842648988cf356836669bc0f",
            "f4d1dac12ebd4b058758384033b4ab67",
            "d1e86ec91dfa463d9ec4a8ebdf33d572",
            "d1547cc94ada4933a30578b07de5cae4",
            "ffe3c609547b48e8943b45932810c0e3",
            "42cb903f9e2b49fd9bc1c0e014a3bd25",
            "e2dd3aef60c44374a54e492964f54cd6",
            "66d8b51eefa74c65a177db018efcb0de",
            "417b8f8877dc4a1c9ba7ccc051612865",
            "429e8e91e2a74002b2b78ad8281abf8e",
            "e7cfd94ff4454e54b43f60cd0b7ffc6e",
            "340569a8722a4de58dbd0387d32cfb8a",
            "7a934cf97e924300b28c551bafdad102",
            "eff04c052884440ca917b081246b0aec",
            "6010ad8f9a064e6f8d6b880623242953",
            "80b42bbd390d4a958e524ea09dc2b8cf",
            "088003e18bde4e1cabbbe14c9ec1e433",
            "65ec6653aa5e410a978a33225d3c95af",
            "c7f77124e998432e992ff80854ab9c11",
            "eff401203ef84a749fda25c9ffae2441"
          ]
        },
        "outputId": "7692599a-e844-4703-f0db-f7b9f41f0b32"
      },
      "source": [
        "def train():\n",
        "  run = wandb.init()\n",
        "  config = run.config\n",
        "\n",
        "  train_path = '/content/gdrive/MyDrive/inaturalist_12K_subset/train'\n",
        "\n",
        "  target_size = (256,256,3)\n",
        "\n",
        "  obj1 = Fine_Tune(target_size=target_size ,\n",
        "                   pretrained_model = config.pretrained_model,\n",
        "                   num_neurons = config.num_neurons,\n",
        "                   num_hlayers = config.num_hlayers,\n",
        "                   trainable_layers=config.trainable_layers) \n",
        "                       \n",
        "  obj1.BUILD_MODEL()\n",
        "  obj1.Fit_Model(train_path,epochs=10,batch_size=32)\n",
        "\n",
        "wandb.agent(sweep_id=sweep_id, function=train )\n"
      ],
      "execution_count": 18,
      "outputs": [
        {
          "output_type": "stream",
          "text": [
            "\u001b[34m\u001b[1mwandb\u001b[0m: Agent Starting Run: anebgb96 with config:\n",
            "\u001b[34m\u001b[1mwandb\u001b[0m: \tnum_hlayers: 1\n",
            "\u001b[34m\u001b[1mwandb\u001b[0m: \tnum_neurons: 64\n",
            "\u001b[34m\u001b[1mwandb\u001b[0m: \tpretrained_model: InceptionV3\n",
            "\u001b[34m\u001b[1mwandb\u001b[0m: \ttrainable_layers: Yes\n"
          ],
          "name": "stderr"
        },
        {
          "output_type": "display_data",
          "data": {
            "text/html": [
              "\n",
              "                Tracking run with wandb version 0.10.25<br/>\n",
              "                Syncing run <strong style=\"color:#cdcd00\">clear-sweep-1</strong> to <a href=\"https://wandb.ai\" target=\"_blank\">Weights & Biases</a> <a href=\"https://docs.wandb.com/integrations/jupyter.html\" target=\"_blank\">(Documentation)</a>.<br/>\n",
              "                Project page: <a href=\"https://wandb.ai/manideepladi/CNN_PartB\" target=\"_blank\">https://wandb.ai/manideepladi/CNN_PartB</a><br/>\n",
              "                Sweep page: <a href=\"https://wandb.ai/manideepladi/CNN_PartB/sweeps/u8v89osp\" target=\"_blank\">https://wandb.ai/manideepladi/CNN_PartB/sweeps/u8v89osp</a><br/>\n",
              "Run page: <a href=\"https://wandb.ai/manideepladi/CNN_PartB/runs/anebgb96\" target=\"_blank\">https://wandb.ai/manideepladi/CNN_PartB/runs/anebgb96</a><br/>\n",
              "                Run data is saved locally in <code>/content/wandb/run-20210408_073448-anebgb96</code><br/><br/>\n",
              "            "
            ],
            "text/plain": [
              "<IPython.core.display.HTML object>"
            ]
          },
          "metadata": {
            "tags": []
          }
        },
        {
          "output_type": "stream",
          "text": [
            "Found 1600 images belonging to 10 classes.\n",
            "Found 400 images belonging to 10 classes.\n",
            "Epoch 1/10\n",
            "50/50 [==============================] - 712s 14s/step - loss: 4.4352 - accuracy: 0.3109 - val_loss: 1.5942 - val_accuracy: 0.5234\n",
            "Epoch 2/10\n",
            "50/50 [==============================] - 53s 1s/step - loss: 0.9674 - accuracy: 0.6904 - val_loss: 1.2215 - val_accuracy: 0.6667\n",
            "Epoch 3/10\n",
            "50/50 [==============================] - 52s 1s/step - loss: 0.6280 - accuracy: 0.8043 - val_loss: 1.2594 - val_accuracy: 0.6953\n",
            "Epoch 4/10\n",
            "50/50 [==============================] - 52s 1s/step - loss: 0.4147 - accuracy: 0.8654 - val_loss: 1.4873 - val_accuracy: 0.6536\n",
            "Epoch 5/10\n",
            "50/50 [==============================] - 52s 1s/step - loss: 0.3636 - accuracy: 0.8643 - val_loss: 1.4369 - val_accuracy: 0.7135\n",
            "Epoch 6/10\n",
            "50/50 [==============================] - 52s 1s/step - loss: 0.1974 - accuracy: 0.9335 - val_loss: 1.4520 - val_accuracy: 0.6979\n",
            "Epoch 7/10\n",
            "50/50 [==============================] - 52s 1s/step - loss: 0.2152 - accuracy: 0.9343 - val_loss: 1.5380 - val_accuracy: 0.7292\n",
            "Epoch 8/10\n",
            "50/50 [==============================] - 52s 1s/step - loss: 0.1281 - accuracy: 0.9632 - val_loss: 1.7838 - val_accuracy: 0.7083\n",
            "Epoch 9/10\n",
            "50/50 [==============================] - 52s 1s/step - loss: 0.0860 - accuracy: 0.9690 - val_loss: 1.7802 - val_accuracy: 0.7344\n",
            "Epoch 10/10\n",
            "50/50 [==============================] - 51s 1s/step - loss: 0.0769 - accuracy: 0.9733 - val_loss: 1.8823 - val_accuracy: 0.7214\n"
          ],
          "name": "stdout"
        },
        {
          "output_type": "display_data",
          "data": {
            "text/html": [
              "<br/>Waiting for W&B process to finish, PID 620<br/>Program ended successfully."
            ],
            "text/plain": [
              "<IPython.core.display.HTML object>"
            ]
          },
          "metadata": {
            "tags": []
          }
        },
        {
          "output_type": "display_data",
          "data": {
            "application/vnd.jupyter.widget-view+json": {
              "model_id": "a32405241855442f81fe799f8f6cf458",
              "version_minor": 0,
              "version_major": 2
            },
            "text/plain": [
              "VBox(children=(Label(value=' 145.71MB of 145.71MB uploaded (0.00MB deduped)\\r'), FloatProgress(value=1.0, max=…"
            ]
          },
          "metadata": {
            "tags": []
          }
        },
        {
          "output_type": "display_data",
          "data": {
            "text/html": [
              "Find user logs for this run at: <code>/content/wandb/run-20210408_073448-anebgb96/logs/debug.log</code>"
            ],
            "text/plain": [
              "<IPython.core.display.HTML object>"
            ]
          },
          "metadata": {
            "tags": []
          }
        },
        {
          "output_type": "display_data",
          "data": {
            "text/html": [
              "Find internal logs for this run at: <code>/content/wandb/run-20210408_073448-anebgb96/logs/debug-internal.log</code>"
            ],
            "text/plain": [
              "<IPython.core.display.HTML object>"
            ]
          },
          "metadata": {
            "tags": []
          }
        },
        {
          "output_type": "display_data",
          "data": {
            "text/html": [
              "<h3>Run summary:</h3><br/><style>\n",
              "    table.wandb td:nth-child(1) { padding: 0 10px; text-align: right }\n",
              "    </style><table class=\"wandb\">\n",
              "<tr><td>epoch</td><td>9</td></tr><tr><td>loss</td><td>0.09884</td></tr><tr><td>accuracy</td><td>0.97062</td></tr><tr><td>val_loss</td><td>1.8823</td></tr><tr><td>val_accuracy</td><td>0.72135</td></tr><tr><td>_runtime</td><td>1200</td></tr><tr><td>_timestamp</td><td>1617868488</td></tr><tr><td>_step</td><td>9</td></tr><tr><td>best_val_accuracy</td><td>0.73438</td></tr><tr><td>best_epoch</td><td>8</td></tr></table>"
            ],
            "text/plain": [
              "<IPython.core.display.HTML object>"
            ]
          },
          "metadata": {
            "tags": []
          }
        },
        {
          "output_type": "display_data",
          "data": {
            "text/html": [
              "<h3>Run history:</h3><br/><style>\n",
              "    table.wandb td:nth-child(1) { padding: 0 10px; text-align: right }\n",
              "    </style><table class=\"wandb\">\n",
              "<tr><td>epoch</td><td>▁▂▃▃▄▅▆▆▇█</td></tr><tr><td>loss</td><td>█▃▂▂▂▁▁▁▁▁</td></tr><tr><td>accuracy</td><td>▁▅▆▇▇▇████</td></tr><tr><td>val_loss</td><td>▅▁▁▄▃▃▄▇▇█</td></tr><tr><td>val_accuracy</td><td>▁▆▇▅▇▇█▇██</td></tr><tr><td>_runtime</td><td>▁▂▃▃▄▅▆▆▇█</td></tr><tr><td>_timestamp</td><td>▁▂▃▃▄▅▆▆▇█</td></tr><tr><td>_step</td><td>▁▂▃▃▄▅▆▆▇█</td></tr></table><br/>"
            ],
            "text/plain": [
              "<IPython.core.display.HTML object>"
            ]
          },
          "metadata": {
            "tags": []
          }
        },
        {
          "output_type": "display_data",
          "data": {
            "text/html": [
              "Synced 5 W&B file(s), 1 media file(s), 0 artifact file(s) and 1 other file(s)"
            ],
            "text/plain": [
              "<IPython.core.display.HTML object>"
            ]
          },
          "metadata": {
            "tags": []
          }
        },
        {
          "output_type": "display_data",
          "data": {
            "text/html": [
              "\n",
              "                    <br/>Synced <strong style=\"color:#cdcd00\">clear-sweep-1</strong>: <a href=\"https://wandb.ai/manideepladi/CNN_PartB/runs/anebgb96\" target=\"_blank\">https://wandb.ai/manideepladi/CNN_PartB/runs/anebgb96</a><br/>\n",
              "                "
            ],
            "text/plain": [
              "<IPython.core.display.HTML object>"
            ]
          },
          "metadata": {
            "tags": []
          }
        },
        {
          "output_type": "stream",
          "text": [
            "\u001b[34m\u001b[1mwandb\u001b[0m: Agent Starting Run: 46egltko with config:\n",
            "\u001b[34m\u001b[1mwandb\u001b[0m: \tnum_hlayers: 1\n",
            "\u001b[34m\u001b[1mwandb\u001b[0m: \tnum_neurons: 64\n",
            "\u001b[34m\u001b[1mwandb\u001b[0m: \tpretrained_model: InceptionV3\n",
            "\u001b[34m\u001b[1mwandb\u001b[0m: \ttrainable_layers: No\n"
          ],
          "name": "stderr"
        },
        {
          "output_type": "display_data",
          "data": {
            "text/html": [
              "\n",
              "                Tracking run with wandb version 0.10.25<br/>\n",
              "                Syncing run <strong style=\"color:#cdcd00\">twilight-sweep-2</strong> to <a href=\"https://wandb.ai\" target=\"_blank\">Weights & Biases</a> <a href=\"https://docs.wandb.com/integrations/jupyter.html\" target=\"_blank\">(Documentation)</a>.<br/>\n",
              "                Project page: <a href=\"https://wandb.ai/manideepladi/CNN_PartB\" target=\"_blank\">https://wandb.ai/manideepladi/CNN_PartB</a><br/>\n",
              "                Sweep page: <a href=\"https://wandb.ai/manideepladi/CNN_PartB/sweeps/u8v89osp\" target=\"_blank\">https://wandb.ai/manideepladi/CNN_PartB/sweeps/u8v89osp</a><br/>\n",
              "Run page: <a href=\"https://wandb.ai/manideepladi/CNN_PartB/runs/46egltko\" target=\"_blank\">https://wandb.ai/manideepladi/CNN_PartB/runs/46egltko</a><br/>\n",
              "                Run data is saved locally in <code>/content/wandb/run-20210408_075454-46egltko</code><br/><br/>\n",
              "            "
            ],
            "text/plain": [
              "<IPython.core.display.HTML object>"
            ]
          },
          "metadata": {
            "tags": []
          }
        },
        {
          "output_type": "stream",
          "text": [
            "Found 1600 images belonging to 10 classes.\n",
            "Found 400 images belonging to 10 classes.\n",
            "Epoch 1/10\n",
            "50/50 [==============================] - 60s 1s/step - loss: 10.6023 - accuracy: 0.2886 - val_loss: 1.3171 - val_accuracy: 0.5755\n",
            "Epoch 2/10\n",
            "50/50 [==============================] - 52s 1s/step - loss: 0.9865 - accuracy: 0.7060 - val_loss: 1.2396 - val_accuracy: 0.6536\n",
            "Epoch 3/10\n",
            "50/50 [==============================] - 52s 1s/step - loss: 0.6039 - accuracy: 0.8171 - val_loss: 1.3748 - val_accuracy: 0.6615\n",
            "Epoch 4/10\n",
            "50/50 [==============================] - 52s 1s/step - loss: 0.3842 - accuracy: 0.8744 - val_loss: 1.3228 - val_accuracy: 0.6693\n",
            "Epoch 5/10\n",
            "50/50 [==============================] - 52s 1s/step - loss: 0.2902 - accuracy: 0.9048 - val_loss: 1.3737 - val_accuracy: 0.7005\n",
            "Epoch 6/10\n",
            "50/50 [==============================] - 52s 1s/step - loss: 0.3063 - accuracy: 0.9149 - val_loss: 1.4161 - val_accuracy: 0.7005\n",
            "Epoch 7/10\n",
            "50/50 [==============================] - 52s 1s/step - loss: 0.1762 - accuracy: 0.9504 - val_loss: 1.5246 - val_accuracy: 0.6823\n",
            "Epoch 8/10\n",
            "50/50 [==============================] - 52s 1s/step - loss: 0.1314 - accuracy: 0.9621 - val_loss: 1.6882 - val_accuracy: 0.6875\n",
            "Epoch 9/10\n",
            "50/50 [==============================] - 52s 1s/step - loss: 0.1179 - accuracy: 0.9649 - val_loss: 1.7786 - val_accuracy: 0.6875\n",
            "Epoch 10/10\n",
            "50/50 [==============================] - 52s 1s/step - loss: 0.1601 - accuracy: 0.9522 - val_loss: 1.7055 - val_accuracy: 0.6719\n"
          ],
          "name": "stdout"
        },
        {
          "output_type": "display_data",
          "data": {
            "text/html": [
              "<br/>Waiting for W&B process to finish, PID 875<br/>Program ended successfully."
            ],
            "text/plain": [
              "<IPython.core.display.HTML object>"
            ]
          },
          "metadata": {
            "tags": []
          }
        },
        {
          "output_type": "display_data",
          "data": {
            "application/vnd.jupyter.widget-view+json": {
              "model_id": "6613bdb0c0ac45c3a6b4c31b5869a815",
              "version_minor": 0,
              "version_major": 2
            },
            "text/plain": [
              "VBox(children=(Label(value=' 18.16MB of 18.16MB uploaded (0.00MB deduped)\\r'), FloatProgress(value=1.0, max=1.…"
            ]
          },
          "metadata": {
            "tags": []
          }
        },
        {
          "output_type": "display_data",
          "data": {
            "text/html": [
              "Find user logs for this run at: <code>/content/wandb/run-20210408_075454-46egltko/logs/debug.log</code>"
            ],
            "text/plain": [
              "<IPython.core.display.HTML object>"
            ]
          },
          "metadata": {
            "tags": []
          }
        },
        {
          "output_type": "display_data",
          "data": {
            "text/html": [
              "Find internal logs for this run at: <code>/content/wandb/run-20210408_075454-46egltko/logs/debug-internal.log</code>"
            ],
            "text/plain": [
              "<IPython.core.display.HTML object>"
            ]
          },
          "metadata": {
            "tags": []
          }
        },
        {
          "output_type": "display_data",
          "data": {
            "text/html": [
              "<h3>Run summary:</h3><br/><style>\n",
              "    table.wandb td:nth-child(1) { padding: 0 10px; text-align: right }\n",
              "    </style><table class=\"wandb\">\n",
              "<tr><td>epoch</td><td>9</td></tr><tr><td>loss</td><td>0.14374</td></tr><tr><td>accuracy</td><td>0.95625</td></tr><tr><td>val_loss</td><td>1.70547</td></tr><tr><td>val_accuracy</td><td>0.67188</td></tr><tr><td>_runtime</td><td>536</td></tr><tr><td>_timestamp</td><td>1617869030</td></tr><tr><td>_step</td><td>9</td></tr><tr><td>best_val_accuracy</td><td>0.70052</td></tr><tr><td>best_epoch</td><td>4</td></tr></table>"
            ],
            "text/plain": [
              "<IPython.core.display.HTML object>"
            ]
          },
          "metadata": {
            "tags": []
          }
        },
        {
          "output_type": "display_data",
          "data": {
            "text/html": [
              "<h3>Run history:</h3><br/><style>\n",
              "    table.wandb td:nth-child(1) { padding: 0 10px; text-align: right }\n",
              "    </style><table class=\"wandb\">\n",
              "<tr><td>epoch</td><td>▁▂▃▃▄▅▆▆▇█</td></tr><tr><td>loss</td><td>█▂▂▁▁▁▁▁▁▁</td></tr><tr><td>accuracy</td><td>▁▅▆▇▇▇████</td></tr><tr><td>val_loss</td><td>▂▁▃▂▃▃▅▇█▇</td></tr><tr><td>val_accuracy</td><td>▁▅▆▆██▇▇▇▆</td></tr><tr><td>_runtime</td><td>▁▂▃▃▄▅▆▆▇█</td></tr><tr><td>_timestamp</td><td>▁▂▃▃▄▅▆▆▇█</td></tr><tr><td>_step</td><td>▁▂▃▃▄▅▆▆▇█</td></tr></table><br/>"
            ],
            "text/plain": [
              "<IPython.core.display.HTML object>"
            ]
          },
          "metadata": {
            "tags": []
          }
        },
        {
          "output_type": "display_data",
          "data": {
            "text/html": [
              "Synced 5 W&B file(s), 1 media file(s), 0 artifact file(s) and 1 other file(s)"
            ],
            "text/plain": [
              "<IPython.core.display.HTML object>"
            ]
          },
          "metadata": {
            "tags": []
          }
        },
        {
          "output_type": "display_data",
          "data": {
            "text/html": [
              "\n",
              "                    <br/>Synced <strong style=\"color:#cdcd00\">twilight-sweep-2</strong>: <a href=\"https://wandb.ai/manideepladi/CNN_PartB/runs/46egltko\" target=\"_blank\">https://wandb.ai/manideepladi/CNN_PartB/runs/46egltko</a><br/>\n",
              "                "
            ],
            "text/plain": [
              "<IPython.core.display.HTML object>"
            ]
          },
          "metadata": {
            "tags": []
          }
        },
        {
          "output_type": "stream",
          "text": [
            "\u001b[34m\u001b[1mwandb\u001b[0m: Sweep Agent: Waiting for job.\n",
            "\u001b[34m\u001b[1mwandb\u001b[0m: Job received.\n",
            "\u001b[34m\u001b[1mwandb\u001b[0m: Agent Starting Run: iy1rooiy with config:\n",
            "\u001b[34m\u001b[1mwandb\u001b[0m: \tnum_hlayers: 1\n",
            "\u001b[34m\u001b[1mwandb\u001b[0m: \tnum_neurons: 64\n",
            "\u001b[34m\u001b[1mwandb\u001b[0m: \tpretrained_model: Xception\n",
            "\u001b[34m\u001b[1mwandb\u001b[0m: \ttrainable_layers: Yes\n"
          ],
          "name": "stderr"
        },
        {
          "output_type": "display_data",
          "data": {
            "text/html": [
              "\n",
              "                Tracking run with wandb version 0.10.25<br/>\n",
              "                Syncing run <strong style=\"color:#cdcd00\">distinctive-sweep-3</strong> to <a href=\"https://wandb.ai\" target=\"_blank\">Weights & Biases</a> <a href=\"https://docs.wandb.com/integrations/jupyter.html\" target=\"_blank\">(Documentation)</a>.<br/>\n",
              "                Project page: <a href=\"https://wandb.ai/manideepladi/CNN_PartB\" target=\"_blank\">https://wandb.ai/manideepladi/CNN_PartB</a><br/>\n",
              "                Sweep page: <a href=\"https://wandb.ai/manideepladi/CNN_PartB/sweeps/u8v89osp\" target=\"_blank\">https://wandb.ai/manideepladi/CNN_PartB/sweeps/u8v89osp</a><br/>\n",
              "Run page: <a href=\"https://wandb.ai/manideepladi/CNN_PartB/runs/iy1rooiy\" target=\"_blank\">https://wandb.ai/manideepladi/CNN_PartB/runs/iy1rooiy</a><br/>\n",
              "                Run data is saved locally in <code>/content/wandb/run-20210408_080406-iy1rooiy</code><br/><br/>\n",
              "            "
            ],
            "text/plain": [
              "<IPython.core.display.HTML object>"
            ]
          },
          "metadata": {
            "tags": []
          }
        },
        {
          "output_type": "stream",
          "text": [
            "Found 1600 images belonging to 10 classes.\n",
            "Found 400 images belonging to 10 classes.\n",
            "Epoch 1/10\n",
            "50/50 [==============================] - 59s 1s/step - loss: 2.7762 - accuracy: 0.4277 - val_loss: 1.0081 - val_accuracy: 0.7161\n",
            "Epoch 2/10\n",
            "50/50 [==============================] - 54s 1s/step - loss: 0.5989 - accuracy: 0.8171 - val_loss: 1.4402 - val_accuracy: 0.6823\n",
            "Epoch 3/10\n",
            "50/50 [==============================] - 53s 1s/step - loss: 0.3353 - accuracy: 0.9019 - val_loss: 1.2251 - val_accuracy: 0.7083\n",
            "Epoch 4/10\n",
            "50/50 [==============================] - 54s 1s/step - loss: 0.2431 - accuracy: 0.9188 - val_loss: 1.4647 - val_accuracy: 0.6953\n",
            "Epoch 5/10\n",
            "50/50 [==============================] - 54s 1s/step - loss: 0.1812 - accuracy: 0.9432 - val_loss: 1.3035 - val_accuracy: 0.7240\n",
            "Epoch 6/10\n",
            "50/50 [==============================] - 54s 1s/step - loss: 0.0567 - accuracy: 0.9786 - val_loss: 1.5278 - val_accuracy: 0.7318\n",
            "Epoch 7/10\n",
            "50/50 [==============================] - 54s 1s/step - loss: 0.1355 - accuracy: 0.9629 - val_loss: 1.8332 - val_accuracy: 0.6823\n",
            "Epoch 8/10\n",
            "50/50 [==============================] - 53s 1s/step - loss: 0.1026 - accuracy: 0.9675 - val_loss: 1.6545 - val_accuracy: 0.6979\n",
            "Epoch 9/10\n",
            "50/50 [==============================] - 54s 1s/step - loss: 0.1224 - accuracy: 0.9660 - val_loss: 1.8846 - val_accuracy: 0.7214\n",
            "Epoch 10/10\n",
            "50/50 [==============================] - 53s 1s/step - loss: 0.1719 - accuracy: 0.9532 - val_loss: 1.9449 - val_accuracy: 0.7083\n"
          ],
          "name": "stdout"
        },
        {
          "output_type": "display_data",
          "data": {
            "text/html": [
              "<br/>Waiting for W&B process to finish, PID 1034<br/>Program ended successfully."
            ],
            "text/plain": [
              "<IPython.core.display.HTML object>"
            ]
          },
          "metadata": {
            "tags": []
          }
        },
        {
          "output_type": "display_data",
          "data": {
            "application/vnd.jupyter.widget-view+json": {
              "model_id": "3ecb8c38c7c840adb8b0ab9693e2c344",
              "version_minor": 0,
              "version_major": 2
            },
            "text/plain": [
              "VBox(children=(Label(value=' 32.09MB of 32.09MB uploaded (0.00MB deduped)\\r'), FloatProgress(value=1.0, max=1.…"
            ]
          },
          "metadata": {
            "tags": []
          }
        },
        {
          "output_type": "display_data",
          "data": {
            "text/html": [
              "Find user logs for this run at: <code>/content/wandb/run-20210408_080406-iy1rooiy/logs/debug.log</code>"
            ],
            "text/plain": [
              "<IPython.core.display.HTML object>"
            ]
          },
          "metadata": {
            "tags": []
          }
        },
        {
          "output_type": "display_data",
          "data": {
            "text/html": [
              "Find internal logs for this run at: <code>/content/wandb/run-20210408_080406-iy1rooiy/logs/debug-internal.log</code>"
            ],
            "text/plain": [
              "<IPython.core.display.HTML object>"
            ]
          },
          "metadata": {
            "tags": []
          }
        },
        {
          "output_type": "display_data",
          "data": {
            "text/html": [
              "<h3>Run summary:</h3><br/><style>\n",
              "    table.wandb td:nth-child(1) { padding: 0 10px; text-align: right }\n",
              "    </style><table class=\"wandb\">\n",
              "<tr><td>epoch</td><td>9</td></tr><tr><td>loss</td><td>0.16461</td></tr><tr><td>accuracy</td><td>0.95812</td></tr><tr><td>val_loss</td><td>1.94485</td></tr><tr><td>val_accuracy</td><td>0.70833</td></tr><tr><td>_runtime</td><td>550</td></tr><tr><td>_timestamp</td><td>1617869596</td></tr><tr><td>_step</td><td>9</td></tr><tr><td>best_val_accuracy</td><td>0.73177</td></tr><tr><td>best_epoch</td><td>5</td></tr></table>"
            ],
            "text/plain": [
              "<IPython.core.display.HTML object>"
            ]
          },
          "metadata": {
            "tags": []
          }
        },
        {
          "output_type": "display_data",
          "data": {
            "text/html": [
              "<h3>Run history:</h3><br/><style>\n",
              "    table.wandb td:nth-child(1) { padding: 0 10px; text-align: right }\n",
              "    </style><table class=\"wandb\">\n",
              "<tr><td>epoch</td><td>▁▂▃▃▄▅▆▆▇█</td></tr><tr><td>loss</td><td>█▃▂▂▁▁▁▁▁▁</td></tr><tr><td>accuracy</td><td>▁▅▆▇▇█████</td></tr><tr><td>val_loss</td><td>▁▄▃▄▃▅▇▆██</td></tr><tr><td>val_accuracy</td><td>▆▁▅▃▇█▁▃▇▅</td></tr><tr><td>_runtime</td><td>▁▂▃▃▄▅▆▆▇█</td></tr><tr><td>_timestamp</td><td>▁▂▃▃▄▅▆▆▇█</td></tr><tr><td>_step</td><td>▁▂▃▃▄▅▆▆▇█</td></tr></table><br/>"
            ],
            "text/plain": [
              "<IPython.core.display.HTML object>"
            ]
          },
          "metadata": {
            "tags": []
          }
        },
        {
          "output_type": "display_data",
          "data": {
            "text/html": [
              "Synced 5 W&B file(s), 1 media file(s), 0 artifact file(s) and 1 other file(s)"
            ],
            "text/plain": [
              "<IPython.core.display.HTML object>"
            ]
          },
          "metadata": {
            "tags": []
          }
        },
        {
          "output_type": "display_data",
          "data": {
            "text/html": [
              "\n",
              "                    <br/>Synced <strong style=\"color:#cdcd00\">distinctive-sweep-3</strong>: <a href=\"https://wandb.ai/manideepladi/CNN_PartB/runs/iy1rooiy\" target=\"_blank\">https://wandb.ai/manideepladi/CNN_PartB/runs/iy1rooiy</a><br/>\n",
              "                "
            ],
            "text/plain": [
              "<IPython.core.display.HTML object>"
            ]
          },
          "metadata": {
            "tags": []
          }
        },
        {
          "output_type": "stream",
          "text": [
            "\u001b[34m\u001b[1mwandb\u001b[0m: Sweep Agent: Waiting for job.\n",
            "\u001b[34m\u001b[1mwandb\u001b[0m: Job received.\n",
            "\u001b[34m\u001b[1mwandb\u001b[0m: Agent Starting Run: ca6lvbmc with config:\n",
            "\u001b[34m\u001b[1mwandb\u001b[0m: \tnum_hlayers: 1\n",
            "\u001b[34m\u001b[1mwandb\u001b[0m: \tnum_neurons: 64\n",
            "\u001b[34m\u001b[1mwandb\u001b[0m: \tpretrained_model: Xception\n",
            "\u001b[34m\u001b[1mwandb\u001b[0m: \ttrainable_layers: No\n"
          ],
          "name": "stderr"
        },
        {
          "output_type": "display_data",
          "data": {
            "text/html": [
              "\n",
              "                Tracking run with wandb version 0.10.25<br/>\n",
              "                Syncing run <strong style=\"color:#cdcd00\">restful-sweep-4</strong> to <a href=\"https://wandb.ai\" target=\"_blank\">Weights & Biases</a> <a href=\"https://docs.wandb.com/integrations/jupyter.html\" target=\"_blank\">(Documentation)</a>.<br/>\n",
              "                Project page: <a href=\"https://wandb.ai/manideepladi/CNN_PartB\" target=\"_blank\">https://wandb.ai/manideepladi/CNN_PartB</a><br/>\n",
              "                Sweep page: <a href=\"https://wandb.ai/manideepladi/CNN_PartB/sweeps/u8v89osp\" target=\"_blank\">https://wandb.ai/manideepladi/CNN_PartB/sweeps/u8v89osp</a><br/>\n",
              "Run page: <a href=\"https://wandb.ai/manideepladi/CNN_PartB/runs/ca6lvbmc\" target=\"_blank\">https://wandb.ai/manideepladi/CNN_PartB/runs/ca6lvbmc</a><br/>\n",
              "                Run data is saved locally in <code>/content/wandb/run-20210408_081343-ca6lvbmc</code><br/><br/>\n",
              "            "
            ],
            "text/plain": [
              "<IPython.core.display.HTML object>"
            ]
          },
          "metadata": {
            "tags": []
          }
        },
        {
          "output_type": "stream",
          "text": [
            "Found 1600 images belonging to 10 classes.\n",
            "Found 400 images belonging to 10 classes.\n",
            "Epoch 1/10\n",
            "50/50 [==============================] - 58s 1s/step - loss: 5.2653 - accuracy: 0.2599 - val_loss: 1.5157 - val_accuracy: 0.4818\n",
            "Epoch 2/10\n",
            "50/50 [==============================] - 53s 1s/step - loss: 1.2874 - accuracy: 0.5501 - val_loss: 1.3488 - val_accuracy: 0.6328\n",
            "Epoch 3/10\n",
            "50/50 [==============================] - 53s 1s/step - loss: 0.8556 - accuracy: 0.7013 - val_loss: 1.2801 - val_accuracy: 0.6458\n",
            "Epoch 4/10\n",
            "50/50 [==============================] - 53s 1s/step - loss: 0.6479 - accuracy: 0.7784 - val_loss: 1.4301 - val_accuracy: 0.6823\n",
            "Epoch 5/10\n",
            "50/50 [==============================] - 53s 1s/step - loss: 0.5521 - accuracy: 0.8008 - val_loss: 1.4183 - val_accuracy: 0.6797\n",
            "Epoch 6/10\n",
            "50/50 [==============================] - 51s 1s/step - loss: 0.3917 - accuracy: 0.8676 - val_loss: 1.3895 - val_accuracy: 0.6849\n",
            "Epoch 7/10\n",
            "50/50 [==============================] - 50s 1s/step - loss: 0.3224 - accuracy: 0.8833 - val_loss: 1.4438 - val_accuracy: 0.6771\n",
            "Epoch 8/10\n",
            "50/50 [==============================] - 50s 1s/step - loss: 0.2982 - accuracy: 0.8919 - val_loss: 1.6189 - val_accuracy: 0.6693\n",
            "Epoch 9/10\n",
            "50/50 [==============================] - 50s 1s/step - loss: 0.2970 - accuracy: 0.8995 - val_loss: 1.6581 - val_accuracy: 0.6849\n",
            "Epoch 10/10\n",
            "50/50 [==============================] - 51s 1s/step - loss: 0.2452 - accuracy: 0.9102 - val_loss: 1.6786 - val_accuracy: 0.6875\n"
          ],
          "name": "stdout"
        },
        {
          "output_type": "display_data",
          "data": {
            "text/html": [
              "<br/>Waiting for W&B process to finish, PID 1217<br/>Program ended successfully."
            ],
            "text/plain": [
              "<IPython.core.display.HTML object>"
            ]
          },
          "metadata": {
            "tags": []
          }
        },
        {
          "output_type": "display_data",
          "data": {
            "application/vnd.jupyter.widget-view+json": {
              "model_id": "66105a6519314b669047e00ac5e25a02",
              "version_minor": 0,
              "version_major": 2
            },
            "text/plain": [
              "VBox(children=(Label(value=' 32.09MB of 32.09MB uploaded (0.00MB deduped)\\r'), FloatProgress(value=1.0, max=1.…"
            ]
          },
          "metadata": {
            "tags": []
          }
        },
        {
          "output_type": "display_data",
          "data": {
            "text/html": [
              "Find user logs for this run at: <code>/content/wandb/run-20210408_081343-ca6lvbmc/logs/debug.log</code>"
            ],
            "text/plain": [
              "<IPython.core.display.HTML object>"
            ]
          },
          "metadata": {
            "tags": []
          }
        },
        {
          "output_type": "display_data",
          "data": {
            "text/html": [
              "Find internal logs for this run at: <code>/content/wandb/run-20210408_081343-ca6lvbmc/logs/debug-internal.log</code>"
            ],
            "text/plain": [
              "<IPython.core.display.HTML object>"
            ]
          },
          "metadata": {
            "tags": []
          }
        },
        {
          "output_type": "display_data",
          "data": {
            "text/html": [
              "<h3>Run summary:</h3><br/><style>\n",
              "    table.wandb td:nth-child(1) { padding: 0 10px; text-align: right }\n",
              "    </style><table class=\"wandb\">\n",
              "<tr><td>epoch</td><td>9</td></tr><tr><td>loss</td><td>0.22585</td></tr><tr><td>accuracy</td><td>0.91562</td></tr><tr><td>val_loss</td><td>1.67864</td></tr><tr><td>val_accuracy</td><td>0.6875</td></tr><tr><td>_runtime</td><td>531</td></tr><tr><td>_timestamp</td><td>1617870154</td></tr><tr><td>_step</td><td>9</td></tr><tr><td>best_val_accuracy</td><td>0.6875</td></tr><tr><td>best_epoch</td><td>9</td></tr></table>"
            ],
            "text/plain": [
              "<IPython.core.display.HTML object>"
            ]
          },
          "metadata": {
            "tags": []
          }
        },
        {
          "output_type": "display_data",
          "data": {
            "text/html": [
              "<h3>Run history:</h3><br/><style>\n",
              "    table.wandb td:nth-child(1) { padding: 0 10px; text-align: right }\n",
              "    </style><table class=\"wandb\">\n",
              "<tr><td>epoch</td><td>▁▂▃▃▄▅▆▆▇█</td></tr><tr><td>loss</td><td>█▄▃▂▂▂▁▁▁▁</td></tr><tr><td>accuracy</td><td>▁▄▆▆▇▇████</td></tr><tr><td>val_loss</td><td>▅▂▁▄▃▃▄▇██</td></tr><tr><td>val_accuracy</td><td>▁▆▇████▇██</td></tr><tr><td>_runtime</td><td>▁▂▃▃▄▅▆▆▇█</td></tr><tr><td>_timestamp</td><td>▁▂▃▃▄▅▆▆▇█</td></tr><tr><td>_step</td><td>▁▂▃▃▄▅▆▆▇█</td></tr></table><br/>"
            ],
            "text/plain": [
              "<IPython.core.display.HTML object>"
            ]
          },
          "metadata": {
            "tags": []
          }
        },
        {
          "output_type": "display_data",
          "data": {
            "text/html": [
              "Synced 5 W&B file(s), 1 media file(s), 0 artifact file(s) and 1 other file(s)"
            ],
            "text/plain": [
              "<IPython.core.display.HTML object>"
            ]
          },
          "metadata": {
            "tags": []
          }
        },
        {
          "output_type": "display_data",
          "data": {
            "text/html": [
              "\n",
              "                    <br/>Synced <strong style=\"color:#cdcd00\">restful-sweep-4</strong>: <a href=\"https://wandb.ai/manideepladi/CNN_PartB/runs/ca6lvbmc\" target=\"_blank\">https://wandb.ai/manideepladi/CNN_PartB/runs/ca6lvbmc</a><br/>\n",
              "                "
            ],
            "text/plain": [
              "<IPython.core.display.HTML object>"
            ]
          },
          "metadata": {
            "tags": []
          }
        },
        {
          "output_type": "stream",
          "text": [
            "\u001b[34m\u001b[1mwandb\u001b[0m: Agent Starting Run: opgzqs4x with config:\n",
            "\u001b[34m\u001b[1mwandb\u001b[0m: \tnum_hlayers: 1\n",
            "\u001b[34m\u001b[1mwandb\u001b[0m: \tnum_neurons: 64\n",
            "\u001b[34m\u001b[1mwandb\u001b[0m: \tpretrained_model: InceptionResnetV2\n",
            "\u001b[34m\u001b[1mwandb\u001b[0m: \ttrainable_layers: Yes\n"
          ],
          "name": "stderr"
        },
        {
          "output_type": "display_data",
          "data": {
            "text/html": [
              "\n",
              "                Tracking run with wandb version 0.10.25<br/>\n",
              "                Syncing run <strong style=\"color:#cdcd00\">resilient-sweep-5</strong> to <a href=\"https://wandb.ai\" target=\"_blank\">Weights & Biases</a> <a href=\"https://docs.wandb.com/integrations/jupyter.html\" target=\"_blank\">(Documentation)</a>.<br/>\n",
              "                Project page: <a href=\"https://wandb.ai/manideepladi/CNN_PartB\" target=\"_blank\">https://wandb.ai/manideepladi/CNN_PartB</a><br/>\n",
              "                Sweep page: <a href=\"https://wandb.ai/manideepladi/CNN_PartB/sweeps/u8v89osp\" target=\"_blank\">https://wandb.ai/manideepladi/CNN_PartB/sweeps/u8v89osp</a><br/>\n",
              "Run page: <a href=\"https://wandb.ai/manideepladi/CNN_PartB/runs/opgzqs4x\" target=\"_blank\">https://wandb.ai/manideepladi/CNN_PartB/runs/opgzqs4x</a><br/>\n",
              "                Run data is saved locally in <code>/content/wandb/run-20210408_082241-opgzqs4x</code><br/><br/>\n",
              "            "
            ],
            "text/plain": [
              "<IPython.core.display.HTML object>"
            ]
          },
          "metadata": {
            "tags": []
          }
        },
        {
          "output_type": "stream",
          "text": [
            "Downloading data from https://storage.googleapis.com/tensorflow/keras-applications/inception_resnet_v2/inception_resnet_v2_weights_tf_dim_ordering_tf_kernels_notop.h5\n",
            "219062272/219055592 [==============================] - 1s 0us/step\n",
            "Found 1600 images belonging to 10 classes.\n",
            "Found 400 images belonging to 10 classes.\n",
            "Epoch 1/10\n",
            "50/50 [==============================] - 68s 1s/step - loss: 4.6495 - accuracy: 0.4184 - val_loss: 1.9270 - val_accuracy: 0.6094\n",
            "Epoch 2/10\n",
            "50/50 [==============================] - 55s 1s/step - loss: 0.6142 - accuracy: 0.8061 - val_loss: 1.7575 - val_accuracy: 0.6823\n",
            "Epoch 3/10\n",
            "50/50 [==============================] - 55s 1s/step - loss: 0.3221 - accuracy: 0.8959 - val_loss: 1.8083 - val_accuracy: 0.6771\n",
            "Epoch 4/10\n",
            "50/50 [==============================] - 55s 1s/step - loss: 0.3140 - accuracy: 0.8980 - val_loss: 1.7346 - val_accuracy: 0.7318\n",
            "Epoch 5/10\n",
            "50/50 [==============================] - 55s 1s/step - loss: 0.2014 - accuracy: 0.9482 - val_loss: 3.2088 - val_accuracy: 0.6823\n",
            "Epoch 6/10\n",
            "50/50 [==============================] - 55s 1s/step - loss: 0.2105 - accuracy: 0.9334 - val_loss: 1.7403 - val_accuracy: 0.7031\n",
            "Epoch 7/10\n",
            "50/50 [==============================] - 54s 1s/step - loss: 0.1755 - accuracy: 0.9460 - val_loss: 1.5026 - val_accuracy: 0.7083\n",
            "Epoch 8/10\n",
            "50/50 [==============================] - 54s 1s/step - loss: 0.1637 - accuracy: 0.9539 - val_loss: 1.6397 - val_accuracy: 0.7552\n",
            "Epoch 9/10\n",
            "50/50 [==============================] - 55s 1s/step - loss: 0.1072 - accuracy: 0.9721 - val_loss: 1.7246 - val_accuracy: 0.7214\n",
            "Epoch 10/10\n",
            "50/50 [==============================] - 55s 1s/step - loss: 0.0911 - accuracy: 0.9740 - val_loss: 2.7475 - val_accuracy: 0.7109\n"
          ],
          "name": "stdout"
        },
        {
          "output_type": "display_data",
          "data": {
            "text/html": [
              "<br/>Waiting for W&B process to finish, PID 1354<br/>Program ended successfully."
            ],
            "text/plain": [
              "<IPython.core.display.HTML object>"
            ]
          },
          "metadata": {
            "tags": []
          }
        },
        {
          "output_type": "display_data",
          "data": {
            "application/vnd.jupyter.widget-view+json": {
              "model_id": "0b6f98e790454d1587395c45fba9f6d2",
              "version_minor": 0,
              "version_major": 2
            },
            "text/plain": [
              "VBox(children=(Label(value=' 103.69MB of 103.69MB uploaded (0.00MB deduped)\\r'), FloatProgress(value=1.0, max=…"
            ]
          },
          "metadata": {
            "tags": []
          }
        },
        {
          "output_type": "display_data",
          "data": {
            "text/html": [
              "Find user logs for this run at: <code>/content/wandb/run-20210408_082241-opgzqs4x/logs/debug.log</code>"
            ],
            "text/plain": [
              "<IPython.core.display.HTML object>"
            ]
          },
          "metadata": {
            "tags": []
          }
        },
        {
          "output_type": "display_data",
          "data": {
            "text/html": [
              "Find internal logs for this run at: <code>/content/wandb/run-20210408_082241-opgzqs4x/logs/debug-internal.log</code>"
            ],
            "text/plain": [
              "<IPython.core.display.HTML object>"
            ]
          },
          "metadata": {
            "tags": []
          }
        },
        {
          "output_type": "display_data",
          "data": {
            "text/html": [
              "<h3>Run summary:</h3><br/><style>\n",
              "    table.wandb td:nth-child(1) { padding: 0 10px; text-align: right }\n",
              "    </style><table class=\"wandb\">\n",
              "<tr><td>epoch</td><td>9</td></tr><tr><td>loss</td><td>0.12504</td></tr><tr><td>accuracy</td><td>0.96</td></tr><tr><td>val_loss</td><td>2.74747</td></tr><tr><td>val_accuracy</td><td>0.71094</td></tr><tr><td>_runtime</td><td>580</td></tr><tr><td>_timestamp</td><td>1617870741</td></tr><tr><td>_step</td><td>9</td></tr><tr><td>best_val_accuracy</td><td>0.75521</td></tr><tr><td>best_epoch</td><td>7</td></tr></table>"
            ],
            "text/plain": [
              "<IPython.core.display.HTML object>"
            ]
          },
          "metadata": {
            "tags": []
          }
        },
        {
          "output_type": "display_data",
          "data": {
            "text/html": [
              "<h3>Run history:</h3><br/><style>\n",
              "    table.wandb td:nth-child(1) { padding: 0 10px; text-align: right }\n",
              "    </style><table class=\"wandb\">\n",
              "<tr><td>epoch</td><td>▁▂▃▃▄▅▆▆▇█</td></tr><tr><td>loss</td><td>█▂▂▁▁▁▁▁▁▁</td></tr><tr><td>accuracy</td><td>▁▅▆▇█▇████</td></tr><tr><td>val_loss</td><td>▃▂▂▂█▂▁▂▂▆</td></tr><tr><td>val_accuracy</td><td>▁▅▄▇▅▆▆█▆▆</td></tr><tr><td>_runtime</td><td>▁▂▃▃▄▅▆▆▇█</td></tr><tr><td>_timestamp</td><td>▁▂▃▃▄▅▆▆▇█</td></tr><tr><td>_step</td><td>▁▂▃▃▄▅▆▆▇█</td></tr></table><br/>"
            ],
            "text/plain": [
              "<IPython.core.display.HTML object>"
            ]
          },
          "metadata": {
            "tags": []
          }
        },
        {
          "output_type": "display_data",
          "data": {
            "text/html": [
              "Synced 5 W&B file(s), 1 media file(s), 0 artifact file(s) and 1 other file(s)"
            ],
            "text/plain": [
              "<IPython.core.display.HTML object>"
            ]
          },
          "metadata": {
            "tags": []
          }
        },
        {
          "output_type": "display_data",
          "data": {
            "text/html": [
              "\n",
              "                    <br/>Synced <strong style=\"color:#cdcd00\">resilient-sweep-5</strong>: <a href=\"https://wandb.ai/manideepladi/CNN_PartB/runs/opgzqs4x\" target=\"_blank\">https://wandb.ai/manideepladi/CNN_PartB/runs/opgzqs4x</a><br/>\n",
              "                "
            ],
            "text/plain": [
              "<IPython.core.display.HTML object>"
            ]
          },
          "metadata": {
            "tags": []
          }
        },
        {
          "output_type": "stream",
          "text": [
            "\u001b[34m\u001b[1mwandb\u001b[0m: Sweep Agent: Waiting for job.\n",
            "\u001b[34m\u001b[1mwandb\u001b[0m: Job received.\n",
            "\u001b[34m\u001b[1mwandb\u001b[0m: Agent Starting Run: 9nucnuq2 with config:\n",
            "\u001b[34m\u001b[1mwandb\u001b[0m: \tnum_hlayers: 1\n",
            "\u001b[34m\u001b[1mwandb\u001b[0m: \tnum_neurons: 64\n",
            "\u001b[34m\u001b[1mwandb\u001b[0m: \tpretrained_model: InceptionResnetV2\n",
            "\u001b[34m\u001b[1mwandb\u001b[0m: \ttrainable_layers: No\n"
          ],
          "name": "stderr"
        },
        {
          "output_type": "display_data",
          "data": {
            "text/html": [
              "\n",
              "                Tracking run with wandb version 0.10.25<br/>\n",
              "                Syncing run <strong style=\"color:#cdcd00\">ethereal-sweep-6</strong> to <a href=\"https://wandb.ai\" target=\"_blank\">Weights & Biases</a> <a href=\"https://docs.wandb.com/integrations/jupyter.html\" target=\"_blank\">(Documentation)</a>.<br/>\n",
              "                Project page: <a href=\"https://wandb.ai/manideepladi/CNN_PartB\" target=\"_blank\">https://wandb.ai/manideepladi/CNN_PartB</a><br/>\n",
              "                Sweep page: <a href=\"https://wandb.ai/manideepladi/CNN_PartB/sweeps/u8v89osp\" target=\"_blank\">https://wandb.ai/manideepladi/CNN_PartB/sweeps/u8v89osp</a><br/>\n",
              "Run page: <a href=\"https://wandb.ai/manideepladi/CNN_PartB/runs/9nucnuq2\" target=\"_blank\">https://wandb.ai/manideepladi/CNN_PartB/runs/9nucnuq2</a><br/>\n",
              "                Run data is saved locally in <code>/content/wandb/run-20210408_083239-9nucnuq2</code><br/><br/>\n",
              "            "
            ],
            "text/plain": [
              "<IPython.core.display.HTML object>"
            ]
          },
          "metadata": {
            "tags": []
          }
        },
        {
          "output_type": "stream",
          "text": [
            "Found 1600 images belonging to 10 classes.\n",
            "Found 400 images belonging to 10 classes.\n",
            "Epoch 1/10\n",
            "50/50 [==============================] - 69s 1s/step - loss: 5.5867 - accuracy: 0.3770 - val_loss: 1.4455 - val_accuracy: 0.6120\n",
            "Epoch 2/10\n",
            "50/50 [==============================] - 55s 1s/step - loss: 1.2147 - accuracy: 0.6215 - val_loss: 1.3265 - val_accuracy: 0.6094\n",
            "Epoch 3/10\n",
            "50/50 [==============================] - 55s 1s/step - loss: 0.8510 - accuracy: 0.7454 - val_loss: 1.4541 - val_accuracy: 0.6615\n",
            "Epoch 4/10\n",
            "50/50 [==============================] - 55s 1s/step - loss: 0.8215 - accuracy: 0.7653 - val_loss: 1.1180 - val_accuracy: 0.7370\n",
            "Epoch 5/10\n",
            "50/50 [==============================] - 54s 1s/step - loss: 0.5554 - accuracy: 0.8236 - val_loss: 1.2433 - val_accuracy: 0.6875\n",
            "Epoch 6/10\n",
            "50/50 [==============================] - 54s 1s/step - loss: 0.5335 - accuracy: 0.8272 - val_loss: 1.3698 - val_accuracy: 0.7448\n",
            "Epoch 7/10\n",
            "50/50 [==============================] - 55s 1s/step - loss: 0.4027 - accuracy: 0.8665 - val_loss: 1.3604 - val_accuracy: 0.7474\n",
            "Epoch 8/10\n",
            "50/50 [==============================] - 55s 1s/step - loss: 0.3884 - accuracy: 0.8742 - val_loss: 1.4005 - val_accuracy: 0.7292\n",
            "Epoch 9/10\n",
            "50/50 [==============================] - 54s 1s/step - loss: 0.3198 - accuracy: 0.8947 - val_loss: 1.3165 - val_accuracy: 0.7266\n",
            "Epoch 10/10\n",
            "50/50 [==============================] - 55s 1s/step - loss: 0.2690 - accuracy: 0.9209 - val_loss: 1.5434 - val_accuracy: 0.7188\n"
          ],
          "name": "stdout"
        },
        {
          "output_type": "display_data",
          "data": {
            "text/html": [
              "<br/>Waiting for W&B process to finish, PID 1465<br/>Program ended successfully."
            ],
            "text/plain": [
              "<IPython.core.display.HTML object>"
            ]
          },
          "metadata": {
            "tags": []
          }
        },
        {
          "output_type": "display_data",
          "data": {
            "application/vnd.jupyter.widget-view+json": {
              "model_id": "46977389f3eb4cde897e8474320bfda8",
              "version_minor": 0,
              "version_major": 2
            },
            "text/plain": [
              "VBox(children=(Label(value=' 248.94MB of 248.94MB uploaded (0.00MB deduped)\\r'), FloatProgress(value=1.0, max=…"
            ]
          },
          "metadata": {
            "tags": []
          }
        },
        {
          "output_type": "display_data",
          "data": {
            "text/html": [
              "Find user logs for this run at: <code>/content/wandb/run-20210408_083239-9nucnuq2/logs/debug.log</code>"
            ],
            "text/plain": [
              "<IPython.core.display.HTML object>"
            ]
          },
          "metadata": {
            "tags": []
          }
        },
        {
          "output_type": "display_data",
          "data": {
            "text/html": [
              "Find internal logs for this run at: <code>/content/wandb/run-20210408_083239-9nucnuq2/logs/debug-internal.log</code>"
            ],
            "text/plain": [
              "<IPython.core.display.HTML object>"
            ]
          },
          "metadata": {
            "tags": []
          }
        },
        {
          "output_type": "display_data",
          "data": {
            "text/html": [
              "<h3>Run summary:</h3><br/><style>\n",
              "    table.wandb td:nth-child(1) { padding: 0 10px; text-align: right }\n",
              "    </style><table class=\"wandb\">\n",
              "<tr><td>epoch</td><td>9</td></tr><tr><td>loss</td><td>0.29706</td></tr><tr><td>accuracy</td><td>0.90938</td></tr><tr><td>val_loss</td><td>1.54335</td></tr><tr><td>val_accuracy</td><td>0.71875</td></tr><tr><td>_runtime</td><td>578</td></tr><tr><td>_timestamp</td><td>1617871337</td></tr><tr><td>_step</td><td>9</td></tr><tr><td>best_val_accuracy</td><td>0.7474</td></tr><tr><td>best_epoch</td><td>6</td></tr></table>"
            ],
            "text/plain": [
              "<IPython.core.display.HTML object>"
            ]
          },
          "metadata": {
            "tags": []
          }
        },
        {
          "output_type": "display_data",
          "data": {
            "text/html": [
              "<h3>Run history:</h3><br/><style>\n",
              "    table.wandb td:nth-child(1) { padding: 0 10px; text-align: right }\n",
              "    </style><table class=\"wandb\">\n",
              "<tr><td>epoch</td><td>▁▂▃▃▄▅▆▆▇█</td></tr><tr><td>loss</td><td>█▃▃▂▂▂▁▁▁▁</td></tr><tr><td>accuracy</td><td>▁▄▅▆▇▇▇▇██</td></tr><tr><td>val_loss</td><td>▆▄▇▁▃▅▅▆▄█</td></tr><tr><td>val_accuracy</td><td>▁▁▄▇▅██▇▇▇</td></tr><tr><td>_runtime</td><td>▁▂▃▃▄▅▆▆▇█</td></tr><tr><td>_timestamp</td><td>▁▂▃▃▄▅▆▆▇█</td></tr><tr><td>_step</td><td>▁▂▃▃▄▅▆▆▇█</td></tr></table><br/>"
            ],
            "text/plain": [
              "<IPython.core.display.HTML object>"
            ]
          },
          "metadata": {
            "tags": []
          }
        },
        {
          "output_type": "display_data",
          "data": {
            "text/html": [
              "Synced 5 W&B file(s), 1 media file(s), 0 artifact file(s) and 1 other file(s)"
            ],
            "text/plain": [
              "<IPython.core.display.HTML object>"
            ]
          },
          "metadata": {
            "tags": []
          }
        },
        {
          "output_type": "display_data",
          "data": {
            "text/html": [
              "\n",
              "                    <br/>Synced <strong style=\"color:#cdcd00\">ethereal-sweep-6</strong>: <a href=\"https://wandb.ai/manideepladi/CNN_PartB/runs/9nucnuq2\" target=\"_blank\">https://wandb.ai/manideepladi/CNN_PartB/runs/9nucnuq2</a><br/>\n",
              "                "
            ],
            "text/plain": [
              "<IPython.core.display.HTML object>"
            ]
          },
          "metadata": {
            "tags": []
          }
        },
        {
          "output_type": "stream",
          "text": [
            "\u001b[34m\u001b[1mwandb\u001b[0m: Sweep Agent: Waiting for job.\n",
            "\u001b[34m\u001b[1mwandb\u001b[0m: Job received.\n",
            "\u001b[34m\u001b[1mwandb\u001b[0m: Agent Starting Run: nzipbqs1 with config:\n",
            "\u001b[34m\u001b[1mwandb\u001b[0m: \tnum_hlayers: 1\n",
            "\u001b[34m\u001b[1mwandb\u001b[0m: \tnum_neurons: 64\n",
            "\u001b[34m\u001b[1mwandb\u001b[0m: \tpretrained_model: ResNet50\n",
            "\u001b[34m\u001b[1mwandb\u001b[0m: \ttrainable_layers: Yes\n"
          ],
          "name": "stderr"
        },
        {
          "output_type": "display_data",
          "data": {
            "text/html": [
              "\n",
              "                Tracking run with wandb version 0.10.25<br/>\n",
              "                Syncing run <strong style=\"color:#cdcd00\">different-sweep-7</strong> to <a href=\"https://wandb.ai\" target=\"_blank\">Weights & Biases</a> <a href=\"https://docs.wandb.com/integrations/jupyter.html\" target=\"_blank\">(Documentation)</a>.<br/>\n",
              "                Project page: <a href=\"https://wandb.ai/manideepladi/CNN_PartB\" target=\"_blank\">https://wandb.ai/manideepladi/CNN_PartB</a><br/>\n",
              "                Sweep page: <a href=\"https://wandb.ai/manideepladi/CNN_PartB/sweeps/u8v89osp\" target=\"_blank\">https://wandb.ai/manideepladi/CNN_PartB/sweeps/u8v89osp</a><br/>\n",
              "Run page: <a href=\"https://wandb.ai/manideepladi/CNN_PartB/runs/nzipbqs1\" target=\"_blank\">https://wandb.ai/manideepladi/CNN_PartB/runs/nzipbqs1</a><br/>\n",
              "                Run data is saved locally in <code>/content/wandb/run-20210408_084234-nzipbqs1</code><br/><br/>\n",
              "            "
            ],
            "text/plain": [
              "<IPython.core.display.HTML object>"
            ]
          },
          "metadata": {
            "tags": []
          }
        },
        {
          "output_type": "stream",
          "text": [
            "Downloading data from https://storage.googleapis.com/tensorflow/keras-applications/resnet/resnet50_weights_tf_dim_ordering_tf_kernels_notop.h5\n",
            "94773248/94765736 [==============================] - 1s 0us/step\n",
            "Found 1600 images belonging to 10 classes.\n",
            "Found 400 images belonging to 10 classes.\n",
            "Epoch 1/10\n",
            "50/50 [==============================] - 58s 1s/step - loss: 11.0208 - accuracy: 0.0864 - val_loss: 2.3026 - val_accuracy: 0.0990\n",
            "Epoch 2/10\n",
            "50/50 [==============================] - 53s 1s/step - loss: 2.3026 - accuracy: 0.1013 - val_loss: 2.3026 - val_accuracy: 0.1016\n",
            "Epoch 3/10\n",
            "50/50 [==============================] - 52s 1s/step - loss: 2.3026 - accuracy: 0.0834 - val_loss: 2.3025 - val_accuracy: 0.1042\n",
            "Epoch 4/10\n",
            "50/50 [==============================] - 52s 1s/step - loss: 2.3026 - accuracy: 0.0918 - val_loss: 2.3026 - val_accuracy: 0.0990\n",
            "Epoch 5/10\n",
            "50/50 [==============================] - 52s 1s/step - loss: 2.3027 - accuracy: 0.0783 - val_loss: 2.3026 - val_accuracy: 0.0990\n",
            "Epoch 6/10\n",
            "50/50 [==============================] - 51s 1s/step - loss: 2.3027 - accuracy: 0.1012 - val_loss: 2.3026 - val_accuracy: 0.1042\n",
            "Epoch 7/10\n",
            "50/50 [==============================] - 52s 1s/step - loss: 2.3027 - accuracy: 0.1096 - val_loss: 2.3026 - val_accuracy: 0.0938\n",
            "Epoch 8/10\n",
            "50/50 [==============================] - 52s 1s/step - loss: 2.3027 - accuracy: 0.0803 - val_loss: 2.3026 - val_accuracy: 0.0964\n",
            "Epoch 9/10\n",
            "50/50 [==============================] - 52s 1s/step - loss: 2.3027 - accuracy: 0.1065 - val_loss: 2.3026 - val_accuracy: 0.1016\n",
            "Epoch 10/10\n",
            "50/50 [==============================] - 52s 1s/step - loss: 2.3027 - accuracy: 0.0945 - val_loss: 2.3026 - val_accuracy: 0.0990\n"
          ],
          "name": "stdout"
        },
        {
          "output_type": "display_data",
          "data": {
            "text/html": [
              "<br/>Waiting for W&B process to finish, PID 1623<br/>Program ended successfully."
            ],
            "text/plain": [
              "<IPython.core.display.HTML object>"
            ]
          },
          "metadata": {
            "tags": []
          }
        },
        {
          "output_type": "display_data",
          "data": {
            "application/vnd.jupyter.widget-view+json": {
              "model_id": "169abeb74e444f5f8dec547abe9cc140",
              "version_minor": 0,
              "version_major": 2
            },
            "text/plain": [
              "VBox(children=(Label(value=' 122.29MB of 122.29MB uploaded (0.00MB deduped)\\r'), FloatProgress(value=1.0, max=…"
            ]
          },
          "metadata": {
            "tags": []
          }
        },
        {
          "output_type": "display_data",
          "data": {
            "text/html": [
              "Find user logs for this run at: <code>/content/wandb/run-20210408_084234-nzipbqs1/logs/debug.log</code>"
            ],
            "text/plain": [
              "<IPython.core.display.HTML object>"
            ]
          },
          "metadata": {
            "tags": []
          }
        },
        {
          "output_type": "display_data",
          "data": {
            "text/html": [
              "Find internal logs for this run at: <code>/content/wandb/run-20210408_084234-nzipbqs1/logs/debug-internal.log</code>"
            ],
            "text/plain": [
              "<IPython.core.display.HTML object>"
            ]
          },
          "metadata": {
            "tags": []
          }
        },
        {
          "output_type": "display_data",
          "data": {
            "text/html": [
              "<h3>Run summary:</h3><br/><style>\n",
              "    table.wandb td:nth-child(1) { padding: 0 10px; text-align: right }\n",
              "    </style><table class=\"wandb\">\n",
              "<tr><td>epoch</td><td>9</td></tr><tr><td>loss</td><td>2.30271</td></tr><tr><td>accuracy</td><td>0.09437</td></tr><tr><td>val_loss</td><td>2.30258</td></tr><tr><td>val_accuracy</td><td>0.09896</td></tr><tr><td>_runtime</td><td>535</td></tr><tr><td>_timestamp</td><td>1617871890</td></tr><tr><td>_step</td><td>9</td></tr><tr><td>best_val_accuracy</td><td>0.10417</td></tr><tr><td>best_epoch</td><td>2</td></tr></table>"
            ],
            "text/plain": [
              "<IPython.core.display.HTML object>"
            ]
          },
          "metadata": {
            "tags": []
          }
        },
        {
          "output_type": "display_data",
          "data": {
            "text/html": [
              "<h3>Run history:</h3><br/><style>\n",
              "    table.wandb td:nth-child(1) { padding: 0 10px; text-align: right }\n",
              "    </style><table class=\"wandb\">\n",
              "<tr><td>epoch</td><td>▁▂▃▃▄▅▆▆▇█</td></tr><tr><td>loss</td><td>█▁▁▁▁▁▁▁▁▁</td></tr><tr><td>accuracy</td><td>▅█▂▆▁▇█▃█▆</td></tr><tr><td>val_loss</td><td>▇▅▁▄▄▄██▅▄</td></tr><tr><td>val_accuracy</td><td>▅▆█▅▅█▁▃▆▅</td></tr><tr><td>_runtime</td><td>▁▂▃▃▄▅▆▆▇█</td></tr><tr><td>_timestamp</td><td>▁▂▃▃▄▅▆▆▇█</td></tr><tr><td>_step</td><td>▁▂▃▃▄▅▆▆▇█</td></tr></table><br/>"
            ],
            "text/plain": [
              "<IPython.core.display.HTML object>"
            ]
          },
          "metadata": {
            "tags": []
          }
        },
        {
          "output_type": "display_data",
          "data": {
            "text/html": [
              "Synced 5 W&B file(s), 1 media file(s), 0 artifact file(s) and 1 other file(s)"
            ],
            "text/plain": [
              "<IPython.core.display.HTML object>"
            ]
          },
          "metadata": {
            "tags": []
          }
        },
        {
          "output_type": "display_data",
          "data": {
            "text/html": [
              "\n",
              "                    <br/>Synced <strong style=\"color:#cdcd00\">different-sweep-7</strong>: <a href=\"https://wandb.ai/manideepladi/CNN_PartB/runs/nzipbqs1\" target=\"_blank\">https://wandb.ai/manideepladi/CNN_PartB/runs/nzipbqs1</a><br/>\n",
              "                "
            ],
            "text/plain": [
              "<IPython.core.display.HTML object>"
            ]
          },
          "metadata": {
            "tags": []
          }
        },
        {
          "output_type": "stream",
          "text": [
            "\u001b[34m\u001b[1mwandb\u001b[0m: Agent Starting Run: bqthyqbr with config:\n",
            "\u001b[34m\u001b[1mwandb\u001b[0m: \tnum_hlayers: 1\n",
            "\u001b[34m\u001b[1mwandb\u001b[0m: \tnum_neurons: 64\n",
            "\u001b[34m\u001b[1mwandb\u001b[0m: \tpretrained_model: ResNet50\n",
            "\u001b[34m\u001b[1mwandb\u001b[0m: \ttrainable_layers: No\n"
          ],
          "name": "stderr"
        },
        {
          "output_type": "display_data",
          "data": {
            "text/html": [
              "\n",
              "                Tracking run with wandb version 0.10.25<br/>\n",
              "                Syncing run <strong style=\"color:#cdcd00\">astral-sweep-8</strong> to <a href=\"https://wandb.ai\" target=\"_blank\">Weights & Biases</a> <a href=\"https://docs.wandb.com/integrations/jupyter.html\" target=\"_blank\">(Documentation)</a>.<br/>\n",
              "                Project page: <a href=\"https://wandb.ai/manideepladi/CNN_PartB\" target=\"_blank\">https://wandb.ai/manideepladi/CNN_PartB</a><br/>\n",
              "                Sweep page: <a href=\"https://wandb.ai/manideepladi/CNN_PartB/sweeps/u8v89osp\" target=\"_blank\">https://wandb.ai/manideepladi/CNN_PartB/sweeps/u8v89osp</a><br/>\n",
              "Run page: <a href=\"https://wandb.ai/manideepladi/CNN_PartB/runs/bqthyqbr\" target=\"_blank\">https://wandb.ai/manideepladi/CNN_PartB/runs/bqthyqbr</a><br/>\n",
              "                Run data is saved locally in <code>/content/wandb/run-20210408_085137-bqthyqbr</code><br/><br/>\n",
              "            "
            ],
            "text/plain": [
              "<IPython.core.display.HTML object>"
            ]
          },
          "metadata": {
            "tags": []
          }
        },
        {
          "output_type": "stream",
          "text": [
            "Found 1600 images belonging to 10 classes.\n",
            "Found 400 images belonging to 10 classes.\n",
            "Epoch 1/10\n",
            "50/50 [==============================] - 57s 1s/step - loss: 9.6355 - accuracy: 0.1100 - val_loss: 2.3027 - val_accuracy: 0.1016\n",
            "Epoch 2/10\n",
            "50/50 [==============================] - 53s 1s/step - loss: 2.3063 - accuracy: 0.1035 - val_loss: 2.3030 - val_accuracy: 0.0911\n",
            "Epoch 3/10\n",
            "50/50 [==============================] - 52s 1s/step - loss: 2.3025 - accuracy: 0.1102 - val_loss: 2.3025 - val_accuracy: 0.1042\n",
            "Epoch 4/10\n",
            "50/50 [==============================] - 52s 1s/step - loss: 2.3025 - accuracy: 0.0999 - val_loss: 2.3026 - val_accuracy: 0.1016\n",
            "Epoch 5/10\n",
            "50/50 [==============================] - 52s 1s/step - loss: 2.5144 - accuracy: 0.0900 - val_loss: 2.3026 - val_accuracy: 0.0990\n",
            "Epoch 6/10\n",
            "50/50 [==============================] - 48s 964ms/step - loss: 2.3029 - accuracy: 0.0912 - val_loss: 2.3027 - val_accuracy: 0.0990\n",
            "Epoch 7/10\n",
            "50/50 [==============================] - 51s 1s/step - loss: 2.3027 - accuracy: 0.0933 - val_loss: 2.3025 - val_accuracy: 0.0990\n",
            "Epoch 8/10\n",
            "50/50 [==============================] - 52s 1s/step - loss: 2.3029 - accuracy: 0.1032 - val_loss: 2.3027 - val_accuracy: 0.1016\n",
            "Epoch 9/10\n",
            "50/50 [==============================] - 52s 1s/step - loss: 2.3026 - accuracy: 0.1113 - val_loss: 2.3026 - val_accuracy: 0.1042\n",
            "Epoch 10/10\n",
            "50/50 [==============================] - 52s 1s/step - loss: 2.3024 - accuracy: 0.1158 - val_loss: 2.3025 - val_accuracy: 0.1042\n"
          ],
          "name": "stdout"
        },
        {
          "output_type": "display_data",
          "data": {
            "text/html": [
              "<br/>Waiting for W&B process to finish, PID 1734<br/>Program ended successfully."
            ],
            "text/plain": [
              "<IPython.core.display.HTML object>"
            ]
          },
          "metadata": {
            "tags": []
          }
        },
        {
          "output_type": "display_data",
          "data": {
            "application/vnd.jupyter.widget-view+json": {
              "model_id": "48f8b7be1ed040779748cf0fd0bc3672",
              "version_minor": 0,
              "version_major": 2
            },
            "text/plain": [
              "VBox(children=(Label(value=' 186.31MB of 186.31MB uploaded (0.00MB deduped)\\r'), FloatProgress(value=1.0, max=…"
            ]
          },
          "metadata": {
            "tags": []
          }
        },
        {
          "output_type": "display_data",
          "data": {
            "text/html": [
              "Find user logs for this run at: <code>/content/wandb/run-20210408_085137-bqthyqbr/logs/debug.log</code>"
            ],
            "text/plain": [
              "<IPython.core.display.HTML object>"
            ]
          },
          "metadata": {
            "tags": []
          }
        },
        {
          "output_type": "display_data",
          "data": {
            "text/html": [
              "Find internal logs for this run at: <code>/content/wandb/run-20210408_085137-bqthyqbr/logs/debug-internal.log</code>"
            ],
            "text/plain": [
              "<IPython.core.display.HTML object>"
            ]
          },
          "metadata": {
            "tags": []
          }
        },
        {
          "output_type": "display_data",
          "data": {
            "text/html": [
              "<h3>Run summary:</h3><br/><style>\n",
              "    table.wandb td:nth-child(1) { padding: 0 10px; text-align: right }\n",
              "    </style><table class=\"wandb\">\n",
              "<tr><td>epoch</td><td>9</td></tr><tr><td>loss</td><td>2.30271</td></tr><tr><td>accuracy</td><td>0.1</td></tr><tr><td>val_loss</td><td>2.30246</td></tr><tr><td>val_accuracy</td><td>0.10417</td></tr><tr><td>_runtime</td><td>528</td></tr><tr><td>_timestamp</td><td>1617872425</td></tr><tr><td>_step</td><td>9</td></tr><tr><td>best_val_accuracy</td><td>0.10417</td></tr><tr><td>best_epoch</td><td>2</td></tr></table>"
            ],
            "text/plain": [
              "<IPython.core.display.HTML object>"
            ]
          },
          "metadata": {
            "tags": []
          }
        },
        {
          "output_type": "display_data",
          "data": {
            "text/html": [
              "<h3>Run history:</h3><br/><style>\n",
              "    table.wandb td:nth-child(1) { padding: 0 10px; text-align: right }\n",
              "    </style><table class=\"wandb\">\n",
              "<tr><td>epoch</td><td>▁▂▃▃▄▅▆▆▇█</td></tr><tr><td>loss</td><td>█▁▁▁▁▁▁▁▁▁</td></tr><tr><td>accuracy</td><td>█▄▃▃▃▃▁▂▃▃</td></tr><tr><td>val_loss</td><td>▄█▁▂▂▄▂▄▃▁</td></tr><tr><td>val_accuracy</td><td>▇▁█▇▅▅▅▇██</td></tr><tr><td>_runtime</td><td>▁▂▃▃▄▅▆▆▇█</td></tr><tr><td>_timestamp</td><td>▁▂▃▃▄▅▆▆▇█</td></tr><tr><td>_step</td><td>▁▂▃▃▄▅▆▆▇█</td></tr></table><br/>"
            ],
            "text/plain": [
              "<IPython.core.display.HTML object>"
            ]
          },
          "metadata": {
            "tags": []
          }
        },
        {
          "output_type": "display_data",
          "data": {
            "text/html": [
              "Synced 5 W&B file(s), 1 media file(s), 0 artifact file(s) and 1 other file(s)"
            ],
            "text/plain": [
              "<IPython.core.display.HTML object>"
            ]
          },
          "metadata": {
            "tags": []
          }
        },
        {
          "output_type": "display_data",
          "data": {
            "text/html": [
              "\n",
              "                    <br/>Synced <strong style=\"color:#cdcd00\">astral-sweep-8</strong>: <a href=\"https://wandb.ai/manideepladi/CNN_PartB/runs/bqthyqbr\" target=\"_blank\">https://wandb.ai/manideepladi/CNN_PartB/runs/bqthyqbr</a><br/>\n",
              "                "
            ],
            "text/plain": [
              "<IPython.core.display.HTML object>"
            ]
          },
          "metadata": {
            "tags": []
          }
        },
        {
          "output_type": "stream",
          "text": [
            "\u001b[34m\u001b[1mwandb\u001b[0m: Agent Starting Run: gvs2lko1 with config:\n",
            "\u001b[34m\u001b[1mwandb\u001b[0m: \tnum_hlayers: 1\n",
            "\u001b[34m\u001b[1mwandb\u001b[0m: \tnum_neurons: 128\n",
            "\u001b[34m\u001b[1mwandb\u001b[0m: \tpretrained_model: InceptionV3\n",
            "\u001b[34m\u001b[1mwandb\u001b[0m: \ttrainable_layers: Yes\n"
          ],
          "name": "stderr"
        },
        {
          "output_type": "display_data",
          "data": {
            "text/html": [
              "\n",
              "                Tracking run with wandb version 0.10.25<br/>\n",
              "                Syncing run <strong style=\"color:#cdcd00\">fluent-sweep-9</strong> to <a href=\"https://wandb.ai\" target=\"_blank\">Weights & Biases</a> <a href=\"https://docs.wandb.com/integrations/jupyter.html\" target=\"_blank\">(Documentation)</a>.<br/>\n",
              "                Project page: <a href=\"https://wandb.ai/manideepladi/CNN_PartB\" target=\"_blank\">https://wandb.ai/manideepladi/CNN_PartB</a><br/>\n",
              "                Sweep page: <a href=\"https://wandb.ai/manideepladi/CNN_PartB/sweeps/u8v89osp\" target=\"_blank\">https://wandb.ai/manideepladi/CNN_PartB/sweeps/u8v89osp</a><br/>\n",
              "Run page: <a href=\"https://wandb.ai/manideepladi/CNN_PartB/runs/gvs2lko1\" target=\"_blank\">https://wandb.ai/manideepladi/CNN_PartB/runs/gvs2lko1</a><br/>\n",
              "                Run data is saved locally in <code>/content/wandb/run-20210408_090032-gvs2lko1</code><br/><br/>\n",
              "            "
            ],
            "text/plain": [
              "<IPython.core.display.HTML object>"
            ]
          },
          "metadata": {
            "tags": []
          }
        },
        {
          "output_type": "stream",
          "text": [
            "Found 1600 images belonging to 10 classes.\n",
            "Found 400 images belonging to 10 classes.\n",
            "Epoch 1/10\n",
            "50/50 [==============================] - 58s 1s/step - loss: 9.6890 - accuracy: 0.3731 - val_loss: 1.2947 - val_accuracy: 0.6875\n",
            "Epoch 2/10\n",
            "50/50 [==============================] - 53s 1s/step - loss: 0.7947 - accuracy: 0.7818 - val_loss: 1.3568 - val_accuracy: 0.7161\n",
            "Epoch 3/10\n",
            "50/50 [==============================] - 52s 1s/step - loss: 0.3927 - accuracy: 0.8762 - val_loss: 1.4808 - val_accuracy: 0.7188\n",
            "Epoch 4/10\n",
            "50/50 [==============================] - 52s 1s/step - loss: 0.2283 - accuracy: 0.9378 - val_loss: 1.8497 - val_accuracy: 0.6979\n",
            "Epoch 5/10\n",
            "50/50 [==============================] - 52s 1s/step - loss: 0.1322 - accuracy: 0.9550 - val_loss: 1.6527 - val_accuracy: 0.7292\n",
            "Epoch 6/10\n",
            "50/50 [==============================] - 52s 1s/step - loss: 0.1017 - accuracy: 0.9655 - val_loss: 1.7474 - val_accuracy: 0.7109\n",
            "Epoch 7/10\n",
            "50/50 [==============================] - 52s 1s/step - loss: 0.0973 - accuracy: 0.9757 - val_loss: 1.7269 - val_accuracy: 0.7109\n",
            "Epoch 8/10\n",
            "50/50 [==============================] - 53s 1s/step - loss: 0.0578 - accuracy: 0.9821 - val_loss: 1.8635 - val_accuracy: 0.7448\n",
            "Epoch 9/10\n",
            "50/50 [==============================] - 53s 1s/step - loss: 0.0469 - accuracy: 0.9889 - val_loss: 2.0444 - val_accuracy: 0.7135\n",
            "Epoch 10/10\n",
            "50/50 [==============================] - 52s 1s/step - loss: 0.0523 - accuracy: 0.9846 - val_loss: 1.7745 - val_accuracy: 0.7370\n"
          ],
          "name": "stdout"
        },
        {
          "output_type": "display_data",
          "data": {
            "text/html": [
              "<br/>Waiting for W&B process to finish, PID 1839<br/>Program ended successfully."
            ],
            "text/plain": [
              "<IPython.core.display.HTML object>"
            ]
          },
          "metadata": {
            "tags": []
          }
        },
        {
          "output_type": "display_data",
          "data": {
            "application/vnd.jupyter.widget-view+json": {
              "model_id": "2ea43d73cab34c6b894b5c2b72844963",
              "version_minor": 0,
              "version_major": 2
            },
            "text/plain": [
              "VBox(children=(Label(value=' 199.72MB of 199.72MB uploaded (0.00MB deduped)\\r'), FloatProgress(value=1.0, max=…"
            ]
          },
          "metadata": {
            "tags": []
          }
        },
        {
          "output_type": "display_data",
          "data": {
            "text/html": [
              "Find user logs for this run at: <code>/content/wandb/run-20210408_090032-gvs2lko1/logs/debug.log</code>"
            ],
            "text/plain": [
              "<IPython.core.display.HTML object>"
            ]
          },
          "metadata": {
            "tags": []
          }
        },
        {
          "output_type": "display_data",
          "data": {
            "text/html": [
              "Find internal logs for this run at: <code>/content/wandb/run-20210408_090032-gvs2lko1/logs/debug-internal.log</code>"
            ],
            "text/plain": [
              "<IPython.core.display.HTML object>"
            ]
          },
          "metadata": {
            "tags": []
          }
        },
        {
          "output_type": "display_data",
          "data": {
            "text/html": [
              "<h3>Run summary:</h3><br/><style>\n",
              "    table.wandb td:nth-child(1) { padding: 0 10px; text-align: right }\n",
              "    </style><table class=\"wandb\">\n",
              "<tr><td>epoch</td><td>9</td></tr><tr><td>loss</td><td>0.05564</td></tr><tr><td>accuracy</td><td>0.98062</td></tr><tr><td>val_loss</td><td>1.77455</td></tr><tr><td>val_accuracy</td><td>0.73698</td></tr><tr><td>_runtime</td><td>538</td></tr><tr><td>_timestamp</td><td>1617872970</td></tr><tr><td>_step</td><td>9</td></tr><tr><td>best_val_accuracy</td><td>0.74479</td></tr><tr><td>best_epoch</td><td>7</td></tr></table>"
            ],
            "text/plain": [
              "<IPython.core.display.HTML object>"
            ]
          },
          "metadata": {
            "tags": []
          }
        },
        {
          "output_type": "display_data",
          "data": {
            "text/html": [
              "<h3>Run history:</h3><br/><style>\n",
              "    table.wandb td:nth-child(1) { padding: 0 10px; text-align: right }\n",
              "    </style><table class=\"wandb\">\n",
              "<tr><td>epoch</td><td>▁▂▃▃▄▅▆▆▇█</td></tr><tr><td>loss</td><td>█▂▁▁▁▁▁▁▁▁</td></tr><tr><td>accuracy</td><td>▁▅▆▇▇█████</td></tr><tr><td>val_loss</td><td>▁▂▃▆▄▅▅▆█▅</td></tr><tr><td>val_accuracy</td><td>▁▄▅▂▆▄▄█▄▇</td></tr><tr><td>_runtime</td><td>▁▂▃▃▄▅▆▆▇█</td></tr><tr><td>_timestamp</td><td>▁▂▃▃▄▅▆▆▇█</td></tr><tr><td>_step</td><td>▁▂▃▃▄▅▆▆▇█</td></tr></table><br/>"
            ],
            "text/plain": [
              "<IPython.core.display.HTML object>"
            ]
          },
          "metadata": {
            "tags": []
          }
        },
        {
          "output_type": "display_data",
          "data": {
            "text/html": [
              "Synced 5 W&B file(s), 1 media file(s), 0 artifact file(s) and 1 other file(s)"
            ],
            "text/plain": [
              "<IPython.core.display.HTML object>"
            ]
          },
          "metadata": {
            "tags": []
          }
        },
        {
          "output_type": "display_data",
          "data": {
            "text/html": [
              "\n",
              "                    <br/>Synced <strong style=\"color:#cdcd00\">fluent-sweep-9</strong>: <a href=\"https://wandb.ai/manideepladi/CNN_PartB/runs/gvs2lko1\" target=\"_blank\">https://wandb.ai/manideepladi/CNN_PartB/runs/gvs2lko1</a><br/>\n",
              "                "
            ],
            "text/plain": [
              "<IPython.core.display.HTML object>"
            ]
          },
          "metadata": {
            "tags": []
          }
        },
        {
          "output_type": "stream",
          "text": [
            "\u001b[34m\u001b[1mwandb\u001b[0m: Agent Starting Run: rn964wra with config:\n",
            "\u001b[34m\u001b[1mwandb\u001b[0m: \tnum_hlayers: 1\n",
            "\u001b[34m\u001b[1mwandb\u001b[0m: \tnum_neurons: 128\n",
            "\u001b[34m\u001b[1mwandb\u001b[0m: \tpretrained_model: InceptionV3\n",
            "\u001b[34m\u001b[1mwandb\u001b[0m: \ttrainable_layers: No\n"
          ],
          "name": "stderr"
        },
        {
          "output_type": "display_data",
          "data": {
            "text/html": [
              "\n",
              "                Tracking run with wandb version 0.10.25<br/>\n",
              "                Syncing run <strong style=\"color:#cdcd00\">summer-sweep-10</strong> to <a href=\"https://wandb.ai\" target=\"_blank\">Weights & Biases</a> <a href=\"https://docs.wandb.com/integrations/jupyter.html\" target=\"_blank\">(Documentation)</a>.<br/>\n",
              "                Project page: <a href=\"https://wandb.ai/manideepladi/CNN_PartB\" target=\"_blank\">https://wandb.ai/manideepladi/CNN_PartB</a><br/>\n",
              "                Sweep page: <a href=\"https://wandb.ai/manideepladi/CNN_PartB/sweeps/u8v89osp\" target=\"_blank\">https://wandb.ai/manideepladi/CNN_PartB/sweeps/u8v89osp</a><br/>\n",
              "Run page: <a href=\"https://wandb.ai/manideepladi/CNN_PartB/runs/rn964wra\" target=\"_blank\">https://wandb.ai/manideepladi/CNN_PartB/runs/rn964wra</a><br/>\n",
              "                Run data is saved locally in <code>/content/wandb/run-20210408_090936-rn964wra</code><br/><br/>\n",
              "            "
            ],
            "text/plain": [
              "<IPython.core.display.HTML object>"
            ]
          },
          "metadata": {
            "tags": []
          }
        },
        {
          "output_type": "stream",
          "text": [
            "Found 1600 images belonging to 10 classes.\n",
            "Found 400 images belonging to 10 classes.\n",
            "Epoch 1/10\n",
            "50/50 [==============================] - 59s 1s/step - loss: 12.8531 - accuracy: 0.2791 - val_loss: 1.4544 - val_accuracy: 0.5599\n",
            "Epoch 2/10\n",
            "50/50 [==============================] - 53s 1s/step - loss: 1.0828 - accuracy: 0.6754 - val_loss: 1.2299 - val_accuracy: 0.6875\n",
            "Epoch 3/10\n",
            "50/50 [==============================] - 52s 1s/step - loss: 0.5669 - accuracy: 0.8160 - val_loss: 1.2148 - val_accuracy: 0.6667\n",
            "Epoch 4/10\n",
            "50/50 [==============================] - 52s 1s/step - loss: 0.3685 - accuracy: 0.8742 - val_loss: 1.5216 - val_accuracy: 0.6797\n",
            "Epoch 5/10\n",
            "50/50 [==============================] - 52s 1s/step - loss: 0.2738 - accuracy: 0.9151 - val_loss: 1.5066 - val_accuracy: 0.6771\n",
            "Epoch 6/10\n",
            "50/50 [==============================] - 51s 1s/step - loss: 0.1376 - accuracy: 0.9589 - val_loss: 1.2202 - val_accuracy: 0.7240\n",
            "Epoch 7/10\n",
            "50/50 [==============================] - 52s 1s/step - loss: 0.1063 - accuracy: 0.9609 - val_loss: 1.3865 - val_accuracy: 0.7031\n",
            "Epoch 8/10\n",
            "50/50 [==============================] - 52s 1s/step - loss: 0.0547 - accuracy: 0.9897 - val_loss: 1.5454 - val_accuracy: 0.7057\n",
            "Epoch 9/10\n",
            "50/50 [==============================] - 51s 1s/step - loss: 0.0621 - accuracy: 0.9830 - val_loss: 1.4707 - val_accuracy: 0.7135\n",
            "Epoch 10/10\n",
            "50/50 [==============================] - 52s 1s/step - loss: 0.0328 - accuracy: 0.9906 - val_loss: 1.3973 - val_accuracy: 0.7214\n"
          ],
          "name": "stdout"
        },
        {
          "output_type": "display_data",
          "data": {
            "text/html": [
              "<br/>Waiting for W&B process to finish, PID 1940<br/>Program ended successfully."
            ],
            "text/plain": [
              "<IPython.core.display.HTML object>"
            ]
          },
          "metadata": {
            "tags": []
          }
        },
        {
          "output_type": "display_data",
          "data": {
            "application/vnd.jupyter.widget-view+json": {
              "model_id": "d6d3a0e8bec94ac084503f61556c0c7d",
              "version_minor": 0,
              "version_major": 2
            },
            "text/plain": [
              "VBox(children=(Label(value=' 191.68MB of 191.68MB uploaded (0.00MB deduped)\\r'), FloatProgress(value=1.0, max=…"
            ]
          },
          "metadata": {
            "tags": []
          }
        },
        {
          "output_type": "display_data",
          "data": {
            "text/html": [
              "Find user logs for this run at: <code>/content/wandb/run-20210408_090936-rn964wra/logs/debug.log</code>"
            ],
            "text/plain": [
              "<IPython.core.display.HTML object>"
            ]
          },
          "metadata": {
            "tags": []
          }
        },
        {
          "output_type": "display_data",
          "data": {
            "text/html": [
              "Find internal logs for this run at: <code>/content/wandb/run-20210408_090936-rn964wra/logs/debug-internal.log</code>"
            ],
            "text/plain": [
              "<IPython.core.display.HTML object>"
            ]
          },
          "metadata": {
            "tags": []
          }
        },
        {
          "output_type": "display_data",
          "data": {
            "text/html": [
              "<h3>Run summary:</h3><br/><style>\n",
              "    table.wandb td:nth-child(1) { padding: 0 10px; text-align: right }\n",
              "    </style><table class=\"wandb\">\n",
              "<tr><td>epoch</td><td>9</td></tr><tr><td>loss</td><td>0.0318</td></tr><tr><td>accuracy</td><td>0.9925</td></tr><tr><td>val_loss</td><td>1.39725</td></tr><tr><td>val_accuracy</td><td>0.72135</td></tr><tr><td>_runtime</td><td>534</td></tr><tr><td>_timestamp</td><td>1617873510</td></tr><tr><td>_step</td><td>9</td></tr><tr><td>best_val_accuracy</td><td>0.72396</td></tr><tr><td>best_epoch</td><td>5</td></tr></table>"
            ],
            "text/plain": [
              "<IPython.core.display.HTML object>"
            ]
          },
          "metadata": {
            "tags": []
          }
        },
        {
          "output_type": "display_data",
          "data": {
            "text/html": [
              "<h3>Run history:</h3><br/><style>\n",
              "    table.wandb td:nth-child(1) { padding: 0 10px; text-align: right }\n",
              "    </style><table class=\"wandb\">\n",
              "<tr><td>epoch</td><td>▁▂▃▃▄▅▆▆▇█</td></tr><tr><td>loss</td><td>█▂▂▁▁▁▁▁▁▁</td></tr><tr><td>accuracy</td><td>▁▅▆▇▇█████</td></tr><tr><td>val_loss</td><td>▆▁▁▇▇▁▅█▆▅</td></tr><tr><td>val_accuracy</td><td>▁▆▆▆▆█▇▇██</td></tr><tr><td>_runtime</td><td>▁▂▃▃▄▅▆▆▇█</td></tr><tr><td>_timestamp</td><td>▁▂▃▃▄▅▆▆▇█</td></tr><tr><td>_step</td><td>▁▂▃▃▄▅▆▆▇█</td></tr></table><br/>"
            ],
            "text/plain": [
              "<IPython.core.display.HTML object>"
            ]
          },
          "metadata": {
            "tags": []
          }
        },
        {
          "output_type": "display_data",
          "data": {
            "text/html": [
              "Synced 5 W&B file(s), 1 media file(s), 0 artifact file(s) and 1 other file(s)"
            ],
            "text/plain": [
              "<IPython.core.display.HTML object>"
            ]
          },
          "metadata": {
            "tags": []
          }
        },
        {
          "output_type": "display_data",
          "data": {
            "text/html": [
              "\n",
              "                    <br/>Synced <strong style=\"color:#cdcd00\">summer-sweep-10</strong>: <a href=\"https://wandb.ai/manideepladi/CNN_PartB/runs/rn964wra\" target=\"_blank\">https://wandb.ai/manideepladi/CNN_PartB/runs/rn964wra</a><br/>\n",
              "                "
            ],
            "text/plain": [
              "<IPython.core.display.HTML object>"
            ]
          },
          "metadata": {
            "tags": []
          }
        },
        {
          "output_type": "stream",
          "text": [
            "\u001b[34m\u001b[1mwandb\u001b[0m: Agent Starting Run: ymxrh37c with config:\n",
            "\u001b[34m\u001b[1mwandb\u001b[0m: \tnum_hlayers: 1\n",
            "\u001b[34m\u001b[1mwandb\u001b[0m: \tnum_neurons: 128\n",
            "\u001b[34m\u001b[1mwandb\u001b[0m: \tpretrained_model: Xception\n",
            "\u001b[34m\u001b[1mwandb\u001b[0m: \ttrainable_layers: Yes\n"
          ],
          "name": "stderr"
        },
        {
          "output_type": "display_data",
          "data": {
            "text/html": [
              "\n",
              "                Tracking run with wandb version 0.10.25<br/>\n",
              "                Syncing run <strong style=\"color:#cdcd00\">confused-sweep-11</strong> to <a href=\"https://wandb.ai\" target=\"_blank\">Weights & Biases</a> <a href=\"https://docs.wandb.com/integrations/jupyter.html\" target=\"_blank\">(Documentation)</a>.<br/>\n",
              "                Project page: <a href=\"https://wandb.ai/manideepladi/CNN_PartB\" target=\"_blank\">https://wandb.ai/manideepladi/CNN_PartB</a><br/>\n",
              "                Sweep page: <a href=\"https://wandb.ai/manideepladi/CNN_PartB/sweeps/u8v89osp\" target=\"_blank\">https://wandb.ai/manideepladi/CNN_PartB/sweeps/u8v89osp</a><br/>\n",
              "Run page: <a href=\"https://wandb.ai/manideepladi/CNN_PartB/runs/ymxrh37c\" target=\"_blank\">https://wandb.ai/manideepladi/CNN_PartB/runs/ymxrh37c</a><br/>\n",
              "                Run data is saved locally in <code>/content/wandb/run-20210408_091838-ymxrh37c</code><br/><br/>\n",
              "            "
            ],
            "text/plain": [
              "<IPython.core.display.HTML object>"
            ]
          },
          "metadata": {
            "tags": []
          }
        },
        {
          "output_type": "stream",
          "text": [
            "Found 1600 images belonging to 10 classes.\n",
            "Found 400 images belonging to 10 classes.\n",
            "Epoch 1/10\n",
            "50/50 [==============================] - 58s 1s/step - loss: 3.4289 - accuracy: 0.4688 - val_loss: 0.8847 - val_accuracy: 0.7370\n",
            "Epoch 2/10\n",
            "50/50 [==============================] - 54s 1s/step - loss: 0.4440 - accuracy: 0.8789 - val_loss: 1.1642 - val_accuracy: 0.7188\n",
            "Epoch 3/10\n",
            "50/50 [==============================] - 54s 1s/step - loss: 0.2471 - accuracy: 0.9280 - val_loss: 1.1179 - val_accuracy: 0.7214\n",
            "Epoch 4/10\n",
            "50/50 [==============================] - 54s 1s/step - loss: 0.1521 - accuracy: 0.9570 - val_loss: 1.3938 - val_accuracy: 0.7292\n",
            "Epoch 5/10\n",
            "50/50 [==============================] - 54s 1s/step - loss: 0.2065 - accuracy: 0.9423 - val_loss: 1.3977 - val_accuracy: 0.7318\n",
            "Epoch 6/10\n",
            "50/50 [==============================] - 54s 1s/step - loss: 0.1128 - accuracy: 0.9718 - val_loss: 1.4250 - val_accuracy: 0.7318\n",
            "Epoch 7/10\n",
            "50/50 [==============================] - 54s 1s/step - loss: 0.0976 - accuracy: 0.9698 - val_loss: 1.6084 - val_accuracy: 0.7031\n",
            "Epoch 8/10\n",
            "50/50 [==============================] - 54s 1s/step - loss: 0.0905 - accuracy: 0.9757 - val_loss: 1.7267 - val_accuracy: 0.7344\n",
            "Epoch 9/10\n",
            "50/50 [==============================] - 54s 1s/step - loss: 0.0755 - accuracy: 0.9787 - val_loss: 1.4875 - val_accuracy: 0.7240\n",
            "Epoch 10/10\n",
            "50/50 [==============================] - 55s 1s/step - loss: 0.1578 - accuracy: 0.9605 - val_loss: 1.8852 - val_accuracy: 0.7135\n"
          ],
          "name": "stdout"
        },
        {
          "output_type": "display_data",
          "data": {
            "text/html": [
              "<br/>Waiting for W&B process to finish, PID 2045<br/>Program ended successfully."
            ],
            "text/plain": [
              "<IPython.core.display.HTML object>"
            ]
          },
          "metadata": {
            "tags": []
          }
        },
        {
          "output_type": "display_data",
          "data": {
            "application/vnd.jupyter.widget-view+json": {
              "model_id": "4da8bedd8cb345b3bd68d684f304c996",
              "version_minor": 0,
              "version_major": 2
            },
            "text/plain": [
              "VBox(children=(Label(value=' 0.00MB of 0.00MB uploaded (0.00MB deduped)\\r'), FloatProgress(value=1.0, max=1.0)…"
            ]
          },
          "metadata": {
            "tags": []
          }
        },
        {
          "output_type": "display_data",
          "data": {
            "text/html": [
              "Find user logs for this run at: <code>/content/wandb/run-20210408_091838-ymxrh37c/logs/debug.log</code>"
            ],
            "text/plain": [
              "<IPython.core.display.HTML object>"
            ]
          },
          "metadata": {
            "tags": []
          }
        },
        {
          "output_type": "display_data",
          "data": {
            "text/html": [
              "Find internal logs for this run at: <code>/content/wandb/run-20210408_091838-ymxrh37c/logs/debug-internal.log</code>"
            ],
            "text/plain": [
              "<IPython.core.display.HTML object>"
            ]
          },
          "metadata": {
            "tags": []
          }
        },
        {
          "output_type": "display_data",
          "data": {
            "text/html": [
              "<h3>Run summary:</h3><br/><style>\n",
              "    table.wandb td:nth-child(1) { padding: 0 10px; text-align: right }\n",
              "    </style><table class=\"wandb\">\n",
              "<tr><td>epoch</td><td>9</td></tr><tr><td>loss</td><td>0.13519</td></tr><tr><td>accuracy</td><td>0.96438</td></tr><tr><td>val_loss</td><td>1.88524</td></tr><tr><td>val_accuracy</td><td>0.71354</td></tr><tr><td>_runtime</td><td>550</td></tr><tr><td>_timestamp</td><td>1617874068</td></tr><tr><td>_step</td><td>9</td></tr><tr><td>best_val_accuracy</td><td>0.73698</td></tr><tr><td>best_epoch</td><td>0</td></tr></table>"
            ],
            "text/plain": [
              "<IPython.core.display.HTML object>"
            ]
          },
          "metadata": {
            "tags": []
          }
        },
        {
          "output_type": "display_data",
          "data": {
            "text/html": [
              "<h3>Run history:</h3><br/><style>\n",
              "    table.wandb td:nth-child(1) { padding: 0 10px; text-align: right }\n",
              "    </style><table class=\"wandb\">\n",
              "<tr><td>epoch</td><td>▁▂▃▃▄▅▆▆▇█</td></tr><tr><td>loss</td><td>█▂▂▁▂▁▁▁▁▁</td></tr><tr><td>accuracy</td><td>▁▆▇▇▇█████</td></tr><tr><td>val_loss</td><td>▁▃▃▅▅▅▆▇▅█</td></tr><tr><td>val_accuracy</td><td>█▄▅▆▇▇▁▇▅▃</td></tr><tr><td>_runtime</td><td>▁▂▃▃▄▅▆▆▇█</td></tr><tr><td>_timestamp</td><td>▁▂▃▃▄▅▆▆▇█</td></tr><tr><td>_step</td><td>▁▂▃▃▄▅▆▆▇█</td></tr></table><br/>"
            ],
            "text/plain": [
              "<IPython.core.display.HTML object>"
            ]
          },
          "metadata": {
            "tags": []
          }
        },
        {
          "output_type": "display_data",
          "data": {
            "text/html": [
              "Synced 5 W&B file(s), 1 media file(s), 0 artifact file(s) and 1 other file(s)"
            ],
            "text/plain": [
              "<IPython.core.display.HTML object>"
            ]
          },
          "metadata": {
            "tags": []
          }
        },
        {
          "output_type": "display_data",
          "data": {
            "text/html": [
              "\n",
              "                    <br/>Synced <strong style=\"color:#cdcd00\">confused-sweep-11</strong>: <a href=\"https://wandb.ai/manideepladi/CNN_PartB/runs/ymxrh37c\" target=\"_blank\">https://wandb.ai/manideepladi/CNN_PartB/runs/ymxrh37c</a><br/>\n",
              "                "
            ],
            "text/plain": [
              "<IPython.core.display.HTML object>"
            ]
          },
          "metadata": {
            "tags": []
          }
        },
        {
          "output_type": "stream",
          "text": [
            "\u001b[34m\u001b[1mwandb\u001b[0m: Agent Starting Run: husaofbm with config:\n",
            "\u001b[34m\u001b[1mwandb\u001b[0m: \tnum_hlayers: 1\n",
            "\u001b[34m\u001b[1mwandb\u001b[0m: \tnum_neurons: 128\n",
            "\u001b[34m\u001b[1mwandb\u001b[0m: \tpretrained_model: Xception\n",
            "\u001b[34m\u001b[1mwandb\u001b[0m: \ttrainable_layers: No\n"
          ],
          "name": "stderr"
        },
        {
          "output_type": "display_data",
          "data": {
            "text/html": [
              "\n",
              "                Tracking run with wandb version 0.10.25<br/>\n",
              "                Syncing run <strong style=\"color:#cdcd00\">effortless-sweep-12</strong> to <a href=\"https://wandb.ai\" target=\"_blank\">Weights & Biases</a> <a href=\"https://docs.wandb.com/integrations/jupyter.html\" target=\"_blank\">(Documentation)</a>.<br/>\n",
              "                Project page: <a href=\"https://wandb.ai/manideepladi/CNN_PartB\" target=\"_blank\">https://wandb.ai/manideepladi/CNN_PartB</a><br/>\n",
              "                Sweep page: <a href=\"https://wandb.ai/manideepladi/CNN_PartB/sweeps/u8v89osp\" target=\"_blank\">https://wandb.ai/manideepladi/CNN_PartB/sweeps/u8v89osp</a><br/>\n",
              "Run page: <a href=\"https://wandb.ai/manideepladi/CNN_PartB/runs/husaofbm\" target=\"_blank\">https://wandb.ai/manideepladi/CNN_PartB/runs/husaofbm</a><br/>\n",
              "                Run data is saved locally in <code>/content/wandb/run-20210408_092756-husaofbm</code><br/><br/>\n",
              "            "
            ],
            "text/plain": [
              "<IPython.core.display.HTML object>"
            ]
          },
          "metadata": {
            "tags": []
          }
        },
        {
          "output_type": "stream",
          "text": [
            "Found 1600 images belonging to 10 classes.\n",
            "Found 400 images belonging to 10 classes.\n",
            "Epoch 1/10\n",
            "50/50 [==============================] - 60s 1s/step - loss: 8.1370 - accuracy: 0.3712 - val_loss: 1.1275 - val_accuracy: 0.6302\n",
            "Epoch 2/10\n",
            "50/50 [==============================] - 55s 1s/step - loss: 0.8444 - accuracy: 0.7371 - val_loss: 1.1894 - val_accuracy: 0.6927\n",
            "Epoch 3/10\n",
            "50/50 [==============================] - 55s 1s/step - loss: 0.5708 - accuracy: 0.8269 - val_loss: 1.1628 - val_accuracy: 0.6953\n",
            "Epoch 4/10\n",
            "50/50 [==============================] - 54s 1s/step - loss: 0.4200 - accuracy: 0.8602 - val_loss: 1.1862 - val_accuracy: 0.6927\n",
            "Epoch 5/10\n",
            "50/50 [==============================] - 54s 1s/step - loss: 0.3967 - accuracy: 0.8635 - val_loss: 1.2479 - val_accuracy: 0.6771\n",
            "Epoch 6/10\n",
            "50/50 [==============================] - 54s 1s/step - loss: 0.2674 - accuracy: 0.9090 - val_loss: 1.3093 - val_accuracy: 0.7266\n",
            "Epoch 7/10\n",
            "50/50 [==============================] - 56s 1s/step - loss: 0.1787 - accuracy: 0.9427 - val_loss: 1.4178 - val_accuracy: 0.6927\n",
            "Epoch 8/10\n",
            "50/50 [==============================] - 55s 1s/step - loss: 0.0968 - accuracy: 0.9707 - val_loss: 1.3950 - val_accuracy: 0.7031\n",
            "Epoch 9/10\n",
            "50/50 [==============================] - 55s 1s/step - loss: 0.0744 - accuracy: 0.9784 - val_loss: 1.5197 - val_accuracy: 0.7057\n",
            "Epoch 10/10\n",
            "50/50 [==============================] - 55s 1s/step - loss: 0.0942 - accuracy: 0.9648 - val_loss: 1.2665 - val_accuracy: 0.7240\n"
          ],
          "name": "stdout"
        },
        {
          "output_type": "display_data",
          "data": {
            "text/html": [
              "<br/>Waiting for W&B process to finish, PID 2156<br/>Program ended successfully."
            ],
            "text/plain": [
              "<IPython.core.display.HTML object>"
            ]
          },
          "metadata": {
            "tags": []
          }
        },
        {
          "output_type": "display_data",
          "data": {
            "application/vnd.jupyter.widget-view+json": {
              "model_id": "93083269801f43be83ace7ae83f64290",
              "version_minor": 0,
              "version_major": 2
            },
            "text/plain": [
              "VBox(children=(Label(value=' 64.09MB of 64.09MB uploaded (0.00MB deduped)\\r'), FloatProgress(value=1.0, max=1.…"
            ]
          },
          "metadata": {
            "tags": []
          }
        },
        {
          "output_type": "display_data",
          "data": {
            "text/html": [
              "Find user logs for this run at: <code>/content/wandb/run-20210408_092756-husaofbm/logs/debug.log</code>"
            ],
            "text/plain": [
              "<IPython.core.display.HTML object>"
            ]
          },
          "metadata": {
            "tags": []
          }
        },
        {
          "output_type": "display_data",
          "data": {
            "text/html": [
              "Find internal logs for this run at: <code>/content/wandb/run-20210408_092756-husaofbm/logs/debug-internal.log</code>"
            ],
            "text/plain": [
              "<IPython.core.display.HTML object>"
            ]
          },
          "metadata": {
            "tags": []
          }
        },
        {
          "output_type": "display_data",
          "data": {
            "text/html": [
              "<h3>Run summary:</h3><br/><style>\n",
              "    table.wandb td:nth-child(1) { padding: 0 10px; text-align: right }\n",
              "    </style><table class=\"wandb\">\n",
              "<tr><td>epoch</td><td>9</td></tr><tr><td>loss</td><td>0.09741</td></tr><tr><td>accuracy</td><td>0.96562</td></tr><tr><td>val_loss</td><td>1.26651</td></tr><tr><td>val_accuracy</td><td>0.72396</td></tr><tr><td>_runtime</td><td>562</td></tr><tr><td>_timestamp</td><td>1617874638</td></tr><tr><td>_step</td><td>9</td></tr><tr><td>best_val_accuracy</td><td>0.72656</td></tr><tr><td>best_epoch</td><td>5</td></tr></table>"
            ],
            "text/plain": [
              "<IPython.core.display.HTML object>"
            ]
          },
          "metadata": {
            "tags": []
          }
        },
        {
          "output_type": "display_data",
          "data": {
            "text/html": [
              "<h3>Run history:</h3><br/><style>\n",
              "    table.wandb td:nth-child(1) { padding: 0 10px; text-align: right }\n",
              "    </style><table class=\"wandb\">\n",
              "<tr><td>epoch</td><td>▁▂▃▃▄▅▆▆▇█</td></tr><tr><td>loss</td><td>█▂▂▂▁▁▁▁▁▁</td></tr><tr><td>accuracy</td><td>▁▅▆▆▇▇████</td></tr><tr><td>val_loss</td><td>▁▂▂▂▃▄▆▆█▃</td></tr><tr><td>val_accuracy</td><td>▁▆▆▆▄█▆▆▆█</td></tr><tr><td>_runtime</td><td>▁▂▃▃▄▅▆▆▇█</td></tr><tr><td>_timestamp</td><td>▁▂▃▃▄▅▆▆▇█</td></tr><tr><td>_step</td><td>▁▂▃▃▄▅▆▆▇█</td></tr></table><br/>"
            ],
            "text/plain": [
              "<IPython.core.display.HTML object>"
            ]
          },
          "metadata": {
            "tags": []
          }
        },
        {
          "output_type": "display_data",
          "data": {
            "text/html": [
              "Synced 5 W&B file(s), 1 media file(s), 0 artifact file(s) and 1 other file(s)"
            ],
            "text/plain": [
              "<IPython.core.display.HTML object>"
            ]
          },
          "metadata": {
            "tags": []
          }
        },
        {
          "output_type": "display_data",
          "data": {
            "text/html": [
              "\n",
              "                    <br/>Synced <strong style=\"color:#cdcd00\">effortless-sweep-12</strong>: <a href=\"https://wandb.ai/manideepladi/CNN_PartB/runs/husaofbm\" target=\"_blank\">https://wandb.ai/manideepladi/CNN_PartB/runs/husaofbm</a><br/>\n",
              "                "
            ],
            "text/plain": [
              "<IPython.core.display.HTML object>"
            ]
          },
          "metadata": {
            "tags": []
          }
        },
        {
          "output_type": "stream",
          "text": [
            "\u001b[34m\u001b[1mwandb\u001b[0m: Agent Starting Run: 5q3tc055 with config:\n",
            "\u001b[34m\u001b[1mwandb\u001b[0m: \tnum_hlayers: 1\n",
            "\u001b[34m\u001b[1mwandb\u001b[0m: \tnum_neurons: 128\n",
            "\u001b[34m\u001b[1mwandb\u001b[0m: \tpretrained_model: InceptionResnetV2\n",
            "\u001b[34m\u001b[1mwandb\u001b[0m: \ttrainable_layers: Yes\n"
          ],
          "name": "stderr"
        },
        {
          "output_type": "display_data",
          "data": {
            "text/html": [
              "\n",
              "                Tracking run with wandb version 0.10.25<br/>\n",
              "                Syncing run <strong style=\"color:#cdcd00\">cerulean-sweep-13</strong> to <a href=\"https://wandb.ai\" target=\"_blank\">Weights & Biases</a> <a href=\"https://docs.wandb.com/integrations/jupyter.html\" target=\"_blank\">(Documentation)</a>.<br/>\n",
              "                Project page: <a href=\"https://wandb.ai/manideepladi/CNN_PartB\" target=\"_blank\">https://wandb.ai/manideepladi/CNN_PartB</a><br/>\n",
              "                Sweep page: <a href=\"https://wandb.ai/manideepladi/CNN_PartB/sweeps/u8v89osp\" target=\"_blank\">https://wandb.ai/manideepladi/CNN_PartB/sweeps/u8v89osp</a><br/>\n",
              "Run page: <a href=\"https://wandb.ai/manideepladi/CNN_PartB/runs/5q3tc055\" target=\"_blank\">https://wandb.ai/manideepladi/CNN_PartB/runs/5q3tc055</a><br/>\n",
              "                Run data is saved locally in <code>/content/wandb/run-20210408_093727-5q3tc055</code><br/><br/>\n",
              "            "
            ],
            "text/plain": [
              "<IPython.core.display.HTML object>"
            ]
          },
          "metadata": {
            "tags": []
          }
        },
        {
          "output_type": "stream",
          "text": [
            "Found 1600 images belonging to 10 classes.\n",
            "Found 400 images belonging to 10 classes.\n",
            "Epoch 1/10\n",
            "50/50 [==============================] - 70s 1s/step - loss: 6.3708 - accuracy: 0.4227 - val_loss: 1.4715 - val_accuracy: 0.6771\n",
            "Epoch 2/10\n",
            "50/50 [==============================] - 55s 1s/step - loss: 0.6737 - accuracy: 0.8034 - val_loss: 1.3147 - val_accuracy: 0.7344\n",
            "Epoch 3/10\n",
            "50/50 [==============================] - 56s 1s/step - loss: 0.3409 - accuracy: 0.8940 - val_loss: 1.2837 - val_accuracy: 0.7292\n",
            "Epoch 4/10\n",
            "50/50 [==============================] - 56s 1s/step - loss: 0.1948 - accuracy: 0.9459 - val_loss: 1.5400 - val_accuracy: 0.7318\n",
            "Epoch 5/10\n",
            "50/50 [==============================] - 57s 1s/step - loss: 0.1830 - accuracy: 0.9533 - val_loss: 1.5687 - val_accuracy: 0.6979\n",
            "Epoch 6/10\n",
            "50/50 [==============================] - 56s 1s/step - loss: 0.1885 - accuracy: 0.9458 - val_loss: 8.6131 - val_accuracy: 0.5469\n",
            "Epoch 7/10\n",
            "50/50 [==============================] - 56s 1s/step - loss: 0.1721 - accuracy: 0.9522 - val_loss: 2.2126 - val_accuracy: 0.6589\n",
            "Epoch 8/10\n",
            "50/50 [==============================] - 56s 1s/step - loss: 0.1505 - accuracy: 0.9478 - val_loss: 2.2462 - val_accuracy: 0.7031\n",
            "Epoch 9/10\n",
            "50/50 [==============================] - 56s 1s/step - loss: 0.1726 - accuracy: 0.9565 - val_loss: 1.5489 - val_accuracy: 0.7240\n",
            "Epoch 10/10\n",
            "50/50 [==============================] - 55s 1s/step - loss: 0.1013 - accuracy: 0.9741 - val_loss: 1.2971 - val_accuracy: 0.7656\n"
          ],
          "name": "stdout"
        },
        {
          "output_type": "display_data",
          "data": {
            "text/html": [
              "<br/>Waiting for W&B process to finish, PID 2259<br/>Program ended successfully."
            ],
            "text/plain": [
              "<IPython.core.display.HTML object>"
            ]
          },
          "metadata": {
            "tags": []
          }
        },
        {
          "output_type": "display_data",
          "data": {
            "application/vnd.jupyter.widget-view+json": {
              "model_id": "e0b7af86a4144aa4a6dfbaa597cc0a96",
              "version_minor": 0,
              "version_major": 2
            },
            "text/plain": [
              "VBox(children=(Label(value=' 47.59MB of 47.59MB uploaded (0.00MB deduped)\\r'), FloatProgress(value=1.0, max=1.…"
            ]
          },
          "metadata": {
            "tags": []
          }
        },
        {
          "output_type": "display_data",
          "data": {
            "text/html": [
              "Find user logs for this run at: <code>/content/wandb/run-20210408_093727-5q3tc055/logs/debug.log</code>"
            ],
            "text/plain": [
              "<IPython.core.display.HTML object>"
            ]
          },
          "metadata": {
            "tags": []
          }
        },
        {
          "output_type": "display_data",
          "data": {
            "text/html": [
              "Find internal logs for this run at: <code>/content/wandb/run-20210408_093727-5q3tc055/logs/debug-internal.log</code>"
            ],
            "text/plain": [
              "<IPython.core.display.HTML object>"
            ]
          },
          "metadata": {
            "tags": []
          }
        },
        {
          "output_type": "display_data",
          "data": {
            "text/html": [
              "<h3>Run summary:</h3><br/><style>\n",
              "    table.wandb td:nth-child(1) { padding: 0 10px; text-align: right }\n",
              "    </style><table class=\"wandb\">\n",
              "<tr><td>epoch</td><td>9</td></tr><tr><td>loss</td><td>0.09907</td></tr><tr><td>accuracy</td><td>0.97562</td></tr><tr><td>val_loss</td><td>1.29715</td></tr><tr><td>val_accuracy</td><td>0.76562</td></tr><tr><td>_runtime</td><td>588</td></tr><tr><td>_timestamp</td><td>1617875235</td></tr><tr><td>_step</td><td>9</td></tr><tr><td>best_val_accuracy</td><td>0.76562</td></tr><tr><td>best_epoch</td><td>9</td></tr></table>"
            ],
            "text/plain": [
              "<IPython.core.display.HTML object>"
            ]
          },
          "metadata": {
            "tags": []
          }
        },
        {
          "output_type": "display_data",
          "data": {
            "text/html": [
              "<h3>Run history:</h3><br/><style>\n",
              "    table.wandb td:nth-child(1) { padding: 0 10px; text-align: right }\n",
              "    </style><table class=\"wandb\">\n",
              "<tr><td>epoch</td><td>▁▂▃▃▄▅▆▆▇█</td></tr><tr><td>loss</td><td>█▂▂▁▁▁▁▁▁▁</td></tr><tr><td>accuracy</td><td>▁▅▆█▇▇▇▇██</td></tr><tr><td>val_loss</td><td>▁▁▁▁▁█▂▂▁▁</td></tr><tr><td>val_accuracy</td><td>▅▇▇▇▆▁▅▆▇█</td></tr><tr><td>_runtime</td><td>▁▂▃▃▄▅▆▆▇█</td></tr><tr><td>_timestamp</td><td>▁▂▃▃▄▅▆▆▇█</td></tr><tr><td>_step</td><td>▁▂▃▃▄▅▆▆▇█</td></tr></table><br/>"
            ],
            "text/plain": [
              "<IPython.core.display.HTML object>"
            ]
          },
          "metadata": {
            "tags": []
          }
        },
        {
          "output_type": "display_data",
          "data": {
            "text/html": [
              "Synced 5 W&B file(s), 1 media file(s), 0 artifact file(s) and 1 other file(s)"
            ],
            "text/plain": [
              "<IPython.core.display.HTML object>"
            ]
          },
          "metadata": {
            "tags": []
          }
        },
        {
          "output_type": "display_data",
          "data": {
            "text/html": [
              "\n",
              "                    <br/>Synced <strong style=\"color:#cdcd00\">cerulean-sweep-13</strong>: <a href=\"https://wandb.ai/manideepladi/CNN_PartB/runs/5q3tc055\" target=\"_blank\">https://wandb.ai/manideepladi/CNN_PartB/runs/5q3tc055</a><br/>\n",
              "                "
            ],
            "text/plain": [
              "<IPython.core.display.HTML object>"
            ]
          },
          "metadata": {
            "tags": []
          }
        },
        {
          "output_type": "stream",
          "text": [
            "\u001b[34m\u001b[1mwandb\u001b[0m: Agent Starting Run: 4ocmua3y with config:\n",
            "\u001b[34m\u001b[1mwandb\u001b[0m: \tnum_hlayers: 1\n",
            "\u001b[34m\u001b[1mwandb\u001b[0m: \tnum_neurons: 128\n",
            "\u001b[34m\u001b[1mwandb\u001b[0m: \tpretrained_model: InceptionResnetV2\n",
            "\u001b[34m\u001b[1mwandb\u001b[0m: \ttrainable_layers: No\n"
          ],
          "name": "stderr"
        },
        {
          "output_type": "display_data",
          "data": {
            "text/html": [
              "\n",
              "                Tracking run with wandb version 0.10.25<br/>\n",
              "                Syncing run <strong style=\"color:#cdcd00\">comfy-sweep-14</strong> to <a href=\"https://wandb.ai\" target=\"_blank\">Weights & Biases</a> <a href=\"https://docs.wandb.com/integrations/jupyter.html\" target=\"_blank\">(Documentation)</a>.<br/>\n",
              "                Project page: <a href=\"https://wandb.ai/manideepladi/CNN_PartB\" target=\"_blank\">https://wandb.ai/manideepladi/CNN_PartB</a><br/>\n",
              "                Sweep page: <a href=\"https://wandb.ai/manideepladi/CNN_PartB/sweeps/u8v89osp\" target=\"_blank\">https://wandb.ai/manideepladi/CNN_PartB/sweeps/u8v89osp</a><br/>\n",
              "Run page: <a href=\"https://wandb.ai/manideepladi/CNN_PartB/runs/4ocmua3y\" target=\"_blank\">https://wandb.ai/manideepladi/CNN_PartB/runs/4ocmua3y</a><br/>\n",
              "                Run data is saved locally in <code>/content/wandb/run-20210408_094727-4ocmua3y</code><br/><br/>\n",
              "            "
            ],
            "text/plain": [
              "<IPython.core.display.HTML object>"
            ]
          },
          "metadata": {
            "tags": []
          }
        },
        {
          "output_type": "stream",
          "text": [
            "Found 1600 images belonging to 10 classes.\n",
            "Found 400 images belonging to 10 classes.\n",
            "Epoch 1/10\n",
            "50/50 [==============================] - 71s 1s/step - loss: 9.4420 - accuracy: 0.3092 - val_loss: 1.1734 - val_accuracy: 0.6823\n",
            "Epoch 2/10\n",
            "50/50 [==============================] - 56s 1s/step - loss: 0.9615 - accuracy: 0.7159 - val_loss: 1.0425 - val_accuracy: 0.6927\n",
            "Epoch 3/10\n",
            "50/50 [==============================] - 57s 1s/step - loss: 0.6776 - accuracy: 0.7896 - val_loss: 1.0376 - val_accuracy: 0.7161\n",
            "Epoch 4/10\n",
            "50/50 [==============================] - 56s 1s/step - loss: 0.5569 - accuracy: 0.8237 - val_loss: 0.9619 - val_accuracy: 0.7448\n",
            "Epoch 5/10\n",
            "50/50 [==============================] - 55s 1s/step - loss: 0.4459 - accuracy: 0.8408 - val_loss: 1.0769 - val_accuracy: 0.7396\n",
            "Epoch 6/10\n",
            "50/50 [==============================] - 55s 1s/step - loss: 0.3205 - accuracy: 0.8912 - val_loss: 0.9822 - val_accuracy: 0.7578\n",
            "Epoch 7/10\n",
            "50/50 [==============================] - 55s 1s/step - loss: 0.2653 - accuracy: 0.9083 - val_loss: 1.1196 - val_accuracy: 0.7630\n",
            "Epoch 8/10\n",
            "50/50 [==============================] - 55s 1s/step - loss: 0.2171 - accuracy: 0.9251 - val_loss: 1.1574 - val_accuracy: 0.7370\n",
            "Epoch 9/10\n",
            "50/50 [==============================] - 55s 1s/step - loss: 0.2214 - accuracy: 0.9257 - val_loss: 1.1789 - val_accuracy: 0.7708\n",
            "Epoch 10/10\n",
            "50/50 [==============================] - 55s 1s/step - loss: 0.1826 - accuracy: 0.9367 - val_loss: 1.2779 - val_accuracy: 0.7630\n"
          ],
          "name": "stdout"
        },
        {
          "output_type": "display_data",
          "data": {
            "text/html": [
              "<br/>Waiting for W&B process to finish, PID 2367<br/>Program ended successfully."
            ],
            "text/plain": [
              "<IPython.core.display.HTML object>"
            ]
          },
          "metadata": {
            "tags": []
          }
        },
        {
          "output_type": "display_data",
          "data": {
            "application/vnd.jupyter.widget-view+json": {
              "model_id": "ee67ec95b4724115847e62262c543265",
              "version_minor": 0,
              "version_major": 2
            },
            "text/plain": [
              "VBox(children=(Label(value=' 27.39MB of 27.39MB uploaded (0.00MB deduped)\\r'), FloatProgress(value=1.0, max=1.…"
            ]
          },
          "metadata": {
            "tags": []
          }
        },
        {
          "output_type": "display_data",
          "data": {
            "text/html": [
              "Find user logs for this run at: <code>/content/wandb/run-20210408_094727-4ocmua3y/logs/debug.log</code>"
            ],
            "text/plain": [
              "<IPython.core.display.HTML object>"
            ]
          },
          "metadata": {
            "tags": []
          }
        },
        {
          "output_type": "display_data",
          "data": {
            "text/html": [
              "Find internal logs for this run at: <code>/content/wandb/run-20210408_094727-4ocmua3y/logs/debug-internal.log</code>"
            ],
            "text/plain": [
              "<IPython.core.display.HTML object>"
            ]
          },
          "metadata": {
            "tags": []
          }
        },
        {
          "output_type": "display_data",
          "data": {
            "text/html": [
              "<h3>Run summary:</h3><br/><style>\n",
              "    table.wandb td:nth-child(1) { padding: 0 10px; text-align: right }\n",
              "    </style><table class=\"wandb\">\n",
              "<tr><td>epoch</td><td>9</td></tr><tr><td>loss</td><td>0.17412</td></tr><tr><td>accuracy</td><td>0.93875</td></tr><tr><td>val_loss</td><td>1.27792</td></tr><tr><td>val_accuracy</td><td>0.76302</td></tr><tr><td>_runtime</td><td>593</td></tr><tr><td>_timestamp</td><td>1617875840</td></tr><tr><td>_step</td><td>9</td></tr><tr><td>best_val_accuracy</td><td>0.77083</td></tr><tr><td>best_epoch</td><td>8</td></tr></table>"
            ],
            "text/plain": [
              "<IPython.core.display.HTML object>"
            ]
          },
          "metadata": {
            "tags": []
          }
        },
        {
          "output_type": "display_data",
          "data": {
            "text/html": [
              "<h3>Run history:</h3><br/><style>\n",
              "    table.wandb td:nth-child(1) { padding: 0 10px; text-align: right }\n",
              "    </style><table class=\"wandb\">\n",
              "<tr><td>epoch</td><td>▁▂▃▃▄▅▆▆▇█</td></tr><tr><td>loss</td><td>█▂▂▂▁▁▁▁▁▁</td></tr><tr><td>accuracy</td><td>▁▅▆▆▇▇████</td></tr><tr><td>val_loss</td><td>▆▃▃▁▄▁▄▅▆█</td></tr><tr><td>val_accuracy</td><td>▁▂▄▆▆▇▇▅█▇</td></tr><tr><td>_runtime</td><td>▁▂▃▃▄▅▆▆▇█</td></tr><tr><td>_timestamp</td><td>▁▂▃▃▄▅▆▆▇█</td></tr><tr><td>_step</td><td>▁▂▃▃▄▅▆▆▇█</td></tr></table><br/>"
            ],
            "text/plain": [
              "<IPython.core.display.HTML object>"
            ]
          },
          "metadata": {
            "tags": []
          }
        },
        {
          "output_type": "display_data",
          "data": {
            "text/html": [
              "Synced 5 W&B file(s), 1 media file(s), 0 artifact file(s) and 1 other file(s)"
            ],
            "text/plain": [
              "<IPython.core.display.HTML object>"
            ]
          },
          "metadata": {
            "tags": []
          }
        },
        {
          "output_type": "display_data",
          "data": {
            "text/html": [
              "\n",
              "                    <br/>Synced <strong style=\"color:#cdcd00\">comfy-sweep-14</strong>: <a href=\"https://wandb.ai/manideepladi/CNN_PartB/runs/4ocmua3y\" target=\"_blank\">https://wandb.ai/manideepladi/CNN_PartB/runs/4ocmua3y</a><br/>\n",
              "                "
            ],
            "text/plain": [
              "<IPython.core.display.HTML object>"
            ]
          },
          "metadata": {
            "tags": []
          }
        },
        {
          "output_type": "stream",
          "text": [
            "\u001b[34m\u001b[1mwandb\u001b[0m: Sweep Agent: Waiting for job.\n",
            "\u001b[34m\u001b[1mwandb\u001b[0m: Job received.\n",
            "\u001b[34m\u001b[1mwandb\u001b[0m: Agent Starting Run: 071vx2bq with config:\n",
            "\u001b[34m\u001b[1mwandb\u001b[0m: \tnum_hlayers: 1\n",
            "\u001b[34m\u001b[1mwandb\u001b[0m: \tnum_neurons: 128\n",
            "\u001b[34m\u001b[1mwandb\u001b[0m: \tpretrained_model: ResNet50\n",
            "\u001b[34m\u001b[1mwandb\u001b[0m: \ttrainable_layers: Yes\n"
          ],
          "name": "stderr"
        },
        {
          "output_type": "display_data",
          "data": {
            "text/html": [
              "\n",
              "                Tracking run with wandb version 0.10.25<br/>\n",
              "                Syncing run <strong style=\"color:#cdcd00\">daily-sweep-15</strong> to <a href=\"https://wandb.ai\" target=\"_blank\">Weights & Biases</a> <a href=\"https://docs.wandb.com/integrations/jupyter.html\" target=\"_blank\">(Documentation)</a>.<br/>\n",
              "                Project page: <a href=\"https://wandb.ai/manideepladi/CNN_PartB\" target=\"_blank\">https://wandb.ai/manideepladi/CNN_PartB</a><br/>\n",
              "                Sweep page: <a href=\"https://wandb.ai/manideepladi/CNN_PartB/sweeps/u8v89osp\" target=\"_blank\">https://wandb.ai/manideepladi/CNN_PartB/sweeps/u8v89osp</a><br/>\n",
              "Run page: <a href=\"https://wandb.ai/manideepladi/CNN_PartB/runs/071vx2bq\" target=\"_blank\">https://wandb.ai/manideepladi/CNN_PartB/runs/071vx2bq</a><br/>\n",
              "                Run data is saved locally in <code>/content/wandb/run-20210408_095748-071vx2bq</code><br/><br/>\n",
              "            "
            ],
            "text/plain": [
              "<IPython.core.display.HTML object>"
            ]
          },
          "metadata": {
            "tags": []
          }
        },
        {
          "output_type": "stream",
          "text": [
            "Found 1600 images belonging to 10 classes.\n",
            "Found 400 images belonging to 10 classes.\n",
            "Epoch 1/10\n",
            "50/50 [==============================] - 58s 1s/step - loss: 12.2036 - accuracy: 0.0936 - val_loss: 21.3385 - val_accuracy: 0.1016\n",
            "Epoch 2/10\n",
            "50/50 [==============================] - 54s 1s/step - loss: 2.3182 - accuracy: 0.1007 - val_loss: 2.3066 - val_accuracy: 0.1198\n",
            "Epoch 3/10\n",
            "50/50 [==============================] - 53s 1s/step - loss: 2.3027 - accuracy: 0.0943 - val_loss: 2.3026 - val_accuracy: 0.0990\n",
            "Epoch 4/10\n",
            "50/50 [==============================] - 54s 1s/step - loss: 2.3027 - accuracy: 0.0906 - val_loss: 2.3026 - val_accuracy: 0.1016\n",
            "Epoch 5/10\n",
            "50/50 [==============================] - 53s 1s/step - loss: 2.3025 - accuracy: 0.1105 - val_loss: 2.3026 - val_accuracy: 0.0990\n",
            "Epoch 6/10\n",
            "50/50 [==============================] - 54s 1s/step - loss: 2.3026 - accuracy: 0.0950 - val_loss: 2.3026 - val_accuracy: 0.1016\n",
            "Epoch 7/10\n",
            "50/50 [==============================] - 53s 1s/step - loss: 2.3026 - accuracy: 0.1010 - val_loss: 2.3026 - val_accuracy: 0.0938\n",
            "Epoch 8/10\n",
            "50/50 [==============================] - 53s 1s/step - loss: 2.3026 - accuracy: 0.0979 - val_loss: 2.3026 - val_accuracy: 0.0990\n",
            "Epoch 9/10\n",
            "50/50 [==============================] - 53s 1s/step - loss: 2.3027 - accuracy: 0.1065 - val_loss: 2.3026 - val_accuracy: 0.1016\n",
            "Epoch 10/10\n",
            "50/50 [==============================] - 53s 1s/step - loss: 2.3027 - accuracy: 0.1033 - val_loss: 2.3026 - val_accuracy: 0.0964\n"
          ],
          "name": "stdout"
        },
        {
          "output_type": "display_data",
          "data": {
            "text/html": [
              "<br/>Waiting for W&B process to finish, PID 2476<br/>Program ended successfully."
            ],
            "text/plain": [
              "<IPython.core.display.HTML object>"
            ]
          },
          "metadata": {
            "tags": []
          }
        },
        {
          "output_type": "display_data",
          "data": {
            "application/vnd.jupyter.widget-view+json": {
              "model_id": "e7c40ddae01d43f08700be2f1f1b2594",
              "version_minor": 0,
              "version_major": 2
            },
            "text/plain": [
              "VBox(children=(Label(value=' 316.41MB of 316.41MB uploaded (0.00MB deduped)\\r'), FloatProgress(value=1.0, max=…"
            ]
          },
          "metadata": {
            "tags": []
          }
        },
        {
          "output_type": "display_data",
          "data": {
            "text/html": [
              "Find user logs for this run at: <code>/content/wandb/run-20210408_095748-071vx2bq/logs/debug.log</code>"
            ],
            "text/plain": [
              "<IPython.core.display.HTML object>"
            ]
          },
          "metadata": {
            "tags": []
          }
        },
        {
          "output_type": "display_data",
          "data": {
            "text/html": [
              "Find internal logs for this run at: <code>/content/wandb/run-20210408_095748-071vx2bq/logs/debug-internal.log</code>"
            ],
            "text/plain": [
              "<IPython.core.display.HTML object>"
            ]
          },
          "metadata": {
            "tags": []
          }
        },
        {
          "output_type": "display_data",
          "data": {
            "text/html": [
              "<h3>Run summary:</h3><br/><style>\n",
              "    table.wandb td:nth-child(1) { padding: 0 10px; text-align: right }\n",
              "    </style><table class=\"wandb\">\n",
              "<tr><td>epoch</td><td>9</td></tr><tr><td>loss</td><td>2.30275</td></tr><tr><td>accuracy</td><td>0.1</td></tr><tr><td>val_loss</td><td>2.30262</td></tr><tr><td>val_accuracy</td><td>0.09635</td></tr><tr><td>_runtime</td><td>547</td></tr><tr><td>_timestamp</td><td>1617876415</td></tr><tr><td>_step</td><td>9</td></tr><tr><td>best_val_accuracy</td><td>0.11979</td></tr><tr><td>best_epoch</td><td>1</td></tr></table>"
            ],
            "text/plain": [
              "<IPython.core.display.HTML object>"
            ]
          },
          "metadata": {
            "tags": []
          }
        },
        {
          "output_type": "display_data",
          "data": {
            "text/html": [
              "<h3>Run history:</h3><br/><style>\n",
              "    table.wandb td:nth-child(1) { padding: 0 10px; text-align: right }\n",
              "    </style><table class=\"wandb\">\n",
              "<tr><td>epoch</td><td>▁▂▃▃▄▅▆▆▇█</td></tr><tr><td>loss</td><td>█▁▁▁▁▁▁▁▁▁</td></tr><tr><td>accuracy</td><td>███████▁██</td></tr><tr><td>val_loss</td><td>█▁▁▁▁▁▁▁▁▁</td></tr><tr><td>val_accuracy</td><td>▃█▂▃▂▃▁▂▃▂</td></tr><tr><td>_runtime</td><td>▁▂▃▃▄▅▆▆▇█</td></tr><tr><td>_timestamp</td><td>▁▂▃▃▄▅▆▆▇█</td></tr><tr><td>_step</td><td>▁▂▃▃▄▅▆▆▇█</td></tr></table><br/>"
            ],
            "text/plain": [
              "<IPython.core.display.HTML object>"
            ]
          },
          "metadata": {
            "tags": []
          }
        },
        {
          "output_type": "display_data",
          "data": {
            "text/html": [
              "Synced 5 W&B file(s), 1 media file(s), 0 artifact file(s) and 1 other file(s)"
            ],
            "text/plain": [
              "<IPython.core.display.HTML object>"
            ]
          },
          "metadata": {
            "tags": []
          }
        },
        {
          "output_type": "display_data",
          "data": {
            "text/html": [
              "\n",
              "                    <br/>Synced <strong style=\"color:#cdcd00\">daily-sweep-15</strong>: <a href=\"https://wandb.ai/manideepladi/CNN_PartB/runs/071vx2bq\" target=\"_blank\">https://wandb.ai/manideepladi/CNN_PartB/runs/071vx2bq</a><br/>\n",
              "                "
            ],
            "text/plain": [
              "<IPython.core.display.HTML object>"
            ]
          },
          "metadata": {
            "tags": []
          }
        },
        {
          "output_type": "stream",
          "text": [
            "\u001b[34m\u001b[1mwandb\u001b[0m: Sweep Agent: Waiting for job.\n",
            "\u001b[34m\u001b[1mwandb\u001b[0m: Job received.\n",
            "\u001b[34m\u001b[1mwandb\u001b[0m: Agent Starting Run: 5w63cqql with config:\n",
            "\u001b[34m\u001b[1mwandb\u001b[0m: \tnum_hlayers: 1\n",
            "\u001b[34m\u001b[1mwandb\u001b[0m: \tnum_neurons: 128\n",
            "\u001b[34m\u001b[1mwandb\u001b[0m: \tpretrained_model: ResNet50\n",
            "\u001b[34m\u001b[1mwandb\u001b[0m: \ttrainable_layers: No\n"
          ],
          "name": "stderr"
        },
        {
          "output_type": "display_data",
          "data": {
            "text/html": [
              "\n",
              "                Tracking run with wandb version 0.10.25<br/>\n",
              "                Syncing run <strong style=\"color:#cdcd00\">fearless-sweep-16</strong> to <a href=\"https://wandb.ai\" target=\"_blank\">Weights & Biases</a> <a href=\"https://docs.wandb.com/integrations/jupyter.html\" target=\"_blank\">(Documentation)</a>.<br/>\n",
              "                Project page: <a href=\"https://wandb.ai/manideepladi/CNN_PartB\" target=\"_blank\">https://wandb.ai/manideepladi/CNN_PartB</a><br/>\n",
              "                Sweep page: <a href=\"https://wandb.ai/manideepladi/CNN_PartB/sweeps/u8v89osp\" target=\"_blank\">https://wandb.ai/manideepladi/CNN_PartB/sweeps/u8v89osp</a><br/>\n",
              "Run page: <a href=\"https://wandb.ai/manideepladi/CNN_PartB/runs/5w63cqql\" target=\"_blank\">https://wandb.ai/manideepladi/CNN_PartB/runs/5w63cqql</a><br/>\n",
              "                Run data is saved locally in <code>/content/wandb/run-20210408_100727-5w63cqql</code><br/><br/>\n",
              "            "
            ],
            "text/plain": [
              "<IPython.core.display.HTML object>"
            ]
          },
          "metadata": {
            "tags": []
          }
        },
        {
          "output_type": "stream",
          "text": [
            "Found 1600 images belonging to 10 classes.\n",
            "Found 400 images belonging to 10 classes.\n",
            "Epoch 1/10\n",
            "50/50 [==============================] - 58s 1s/step - loss: 14.4442 - accuracy: 0.0980 - val_loss: 2.9564 - val_accuracy: 0.1302\n",
            "Epoch 2/10\n",
            "50/50 [==============================] - 54s 1s/step - loss: 2.5714 - accuracy: 0.1650 - val_loss: 2.3345 - val_accuracy: 0.1458\n",
            "Epoch 3/10\n",
            "50/50 [==============================] - 53s 1s/step - loss: 2.2613 - accuracy: 0.1473 - val_loss: 2.3020 - val_accuracy: 0.0964\n",
            "Epoch 4/10\n",
            "50/50 [==============================] - 53s 1s/step - loss: 2.3023 - accuracy: 0.0752 - val_loss: 2.3020 - val_accuracy: 0.1016\n",
            "Epoch 5/10\n",
            "50/50 [==============================] - 53s 1s/step - loss: 2.3012 - accuracy: 0.0948 - val_loss: 2.3013 - val_accuracy: 0.0990\n",
            "Epoch 6/10\n",
            "50/50 [==============================] - 53s 1s/step - loss: 2.2979 - accuracy: 0.0975 - val_loss: 2.2979 - val_accuracy: 0.1042\n",
            "Epoch 7/10\n",
            "50/50 [==============================] - 53s 1s/step - loss: 2.2960 - accuracy: 0.0945 - val_loss: 2.3027 - val_accuracy: 0.0938\n",
            "Epoch 8/10\n",
            "50/50 [==============================] - 52s 1s/step - loss: 2.3005 - accuracy: 0.0898 - val_loss: 2.3027 - val_accuracy: 0.0990\n",
            "Epoch 9/10\n",
            "50/50 [==============================] - 53s 1s/step - loss: 2.3021 - accuracy: 0.0880 - val_loss: 2.3025 - val_accuracy: 0.1016\n",
            "Epoch 10/10\n",
            "50/50 [==============================] - 53s 1s/step - loss: 2.3010 - accuracy: 0.0997 - val_loss: 2.3027 - val_accuracy: 0.0938\n"
          ],
          "name": "stdout"
        },
        {
          "output_type": "display_data",
          "data": {
            "text/html": [
              "<br/>Waiting for W&B process to finish, PID 2579<br/>Program ended successfully."
            ],
            "text/plain": [
              "<IPython.core.display.HTML object>"
            ]
          },
          "metadata": {
            "tags": []
          }
        },
        {
          "output_type": "display_data",
          "data": {
            "application/vnd.jupyter.widget-view+json": {
              "model_id": "36b25b35c7f74212a1e64184095212de",
              "version_minor": 0,
              "version_major": 2
            },
            "text/plain": [
              "VBox(children=(Label(value=' 0.00MB of 0.00MB uploaded (0.00MB deduped)\\r'), FloatProgress(value=1.0, max=1.0)…"
            ]
          },
          "metadata": {
            "tags": []
          }
        },
        {
          "output_type": "display_data",
          "data": {
            "text/html": [
              "Find user logs for this run at: <code>/content/wandb/run-20210408_100727-5w63cqql/logs/debug.log</code>"
            ],
            "text/plain": [
              "<IPython.core.display.HTML object>"
            ]
          },
          "metadata": {
            "tags": []
          }
        },
        {
          "output_type": "display_data",
          "data": {
            "text/html": [
              "Find internal logs for this run at: <code>/content/wandb/run-20210408_100727-5w63cqql/logs/debug-internal.log</code>"
            ],
            "text/plain": [
              "<IPython.core.display.HTML object>"
            ]
          },
          "metadata": {
            "tags": []
          }
        },
        {
          "output_type": "display_data",
          "data": {
            "text/html": [
              "<h3>Run summary:</h3><br/><style>\n",
              "    table.wandb td:nth-child(1) { padding: 0 10px; text-align: right }\n",
              "    </style><table class=\"wandb\">\n",
              "<tr><td>epoch</td><td>9</td></tr><tr><td>loss</td><td>2.30121</td></tr><tr><td>accuracy</td><td>0.09625</td></tr><tr><td>val_loss</td><td>2.30269</td></tr><tr><td>val_accuracy</td><td>0.09375</td></tr><tr><td>_runtime</td><td>544</td></tr><tr><td>_timestamp</td><td>1617876991</td></tr><tr><td>_step</td><td>9</td></tr><tr><td>best_val_accuracy</td><td>0.14583</td></tr><tr><td>best_epoch</td><td>1</td></tr></table>"
            ],
            "text/plain": [
              "<IPython.core.display.HTML object>"
            ]
          },
          "metadata": {
            "tags": []
          }
        },
        {
          "output_type": "display_data",
          "data": {
            "text/html": [
              "<h3>Run history:</h3><br/><style>\n",
              "    table.wandb td:nth-child(1) { padding: 0 10px; text-align: right }\n",
              "    </style><table class=\"wandb\">\n",
              "<tr><td>epoch</td><td>▁▂▃▃▄▅▆▆▇█</td></tr><tr><td>loss</td><td>█▁▁▁▁▁▁▁▁▁</td></tr><tr><td>accuracy</td><td>▃█▅▁▃▃▂▂▁▂</td></tr><tr><td>val_loss</td><td>█▁▁▁▁▁▁▁▁▁</td></tr><tr><td>val_accuracy</td><td>▆█▁▂▂▂▁▂▂▁</td></tr><tr><td>_runtime</td><td>▁▂▃▃▄▅▆▆▇█</td></tr><tr><td>_timestamp</td><td>▁▂▃▃▄▅▆▆▇█</td></tr><tr><td>_step</td><td>▁▂▃▃▄▅▆▆▇█</td></tr></table><br/>"
            ],
            "text/plain": [
              "<IPython.core.display.HTML object>"
            ]
          },
          "metadata": {
            "tags": []
          }
        },
        {
          "output_type": "display_data",
          "data": {
            "text/html": [
              "Synced 5 W&B file(s), 1 media file(s), 0 artifact file(s) and 1 other file(s)"
            ],
            "text/plain": [
              "<IPython.core.display.HTML object>"
            ]
          },
          "metadata": {
            "tags": []
          }
        },
        {
          "output_type": "display_data",
          "data": {
            "text/html": [
              "\n",
              "                    <br/>Synced <strong style=\"color:#cdcd00\">fearless-sweep-16</strong>: <a href=\"https://wandb.ai/manideepladi/CNN_PartB/runs/5w63cqql\" target=\"_blank\">https://wandb.ai/manideepladi/CNN_PartB/runs/5w63cqql</a><br/>\n",
              "                "
            ],
            "text/plain": [
              "<IPython.core.display.HTML object>"
            ]
          },
          "metadata": {
            "tags": []
          }
        },
        {
          "output_type": "stream",
          "text": [
            "\u001b[34m\u001b[1mwandb\u001b[0m: Agent Starting Run: 3c6whmzh with config:\n",
            "\u001b[34m\u001b[1mwandb\u001b[0m: \tnum_hlayers: 2\n",
            "\u001b[34m\u001b[1mwandb\u001b[0m: \tnum_neurons: 64\n",
            "\u001b[34m\u001b[1mwandb\u001b[0m: \tpretrained_model: InceptionV3\n",
            "\u001b[34m\u001b[1mwandb\u001b[0m: \ttrainable_layers: Yes\n"
          ],
          "name": "stderr"
        },
        {
          "output_type": "display_data",
          "data": {
            "text/html": [
              "\n",
              "                Tracking run with wandb version 0.10.25<br/>\n",
              "                Syncing run <strong style=\"color:#cdcd00\">fiery-sweep-17</strong> to <a href=\"https://wandb.ai\" target=\"_blank\">Weights & Biases</a> <a href=\"https://docs.wandb.com/integrations/jupyter.html\" target=\"_blank\">(Documentation)</a>.<br/>\n",
              "                Project page: <a href=\"https://wandb.ai/manideepladi/CNN_PartB\" target=\"_blank\">https://wandb.ai/manideepladi/CNN_PartB</a><br/>\n",
              "                Sweep page: <a href=\"https://wandb.ai/manideepladi/CNN_PartB/sweeps/u8v89osp\" target=\"_blank\">https://wandb.ai/manideepladi/CNN_PartB/sweeps/u8v89osp</a><br/>\n",
              "Run page: <a href=\"https://wandb.ai/manideepladi/CNN_PartB/runs/3c6whmzh\" target=\"_blank\">https://wandb.ai/manideepladi/CNN_PartB/runs/3c6whmzh</a><br/>\n",
              "                Run data is saved locally in <code>/content/wandb/run-20210408_101641-3c6whmzh</code><br/><br/>\n",
              "            "
            ],
            "text/plain": [
              "<IPython.core.display.HTML object>"
            ]
          },
          "metadata": {
            "tags": []
          }
        },
        {
          "output_type": "stream",
          "text": [
            "Found 1600 images belonging to 10 classes.\n",
            "Found 400 images belonging to 10 classes.\n",
            "Epoch 1/10\n",
            "50/50 [==============================] - 59s 1s/step - loss: 4.5552 - accuracy: 0.3749 - val_loss: 1.6303 - val_accuracy: 0.6276\n",
            "Epoch 2/10\n",
            "50/50 [==============================] - 52s 1s/step - loss: 0.7442 - accuracy: 0.7776 - val_loss: 1.3380 - val_accuracy: 0.7083\n",
            "Epoch 3/10\n",
            "50/50 [==============================] - 52s 1s/step - loss: 0.3819 - accuracy: 0.8678 - val_loss: 1.1591 - val_accuracy: 0.7318\n",
            "Epoch 4/10\n",
            "50/50 [==============================] - 53s 1s/step - loss: 0.2315 - accuracy: 0.9285 - val_loss: 1.3326 - val_accuracy: 0.7161\n",
            "Epoch 5/10\n",
            "50/50 [==============================] - 53s 1s/step - loss: 0.1333 - accuracy: 0.9519 - val_loss: 1.6301 - val_accuracy: 0.7057\n",
            "Epoch 6/10\n",
            "50/50 [==============================] - 53s 1s/step - loss: 0.1703 - accuracy: 0.9451 - val_loss: 1.3944 - val_accuracy: 0.7266\n",
            "Epoch 7/10\n",
            "50/50 [==============================] - 53s 1s/step - loss: 0.1510 - accuracy: 0.9446 - val_loss: 1.7511 - val_accuracy: 0.7135\n",
            "Epoch 8/10\n",
            "50/50 [==============================] - 53s 1s/step - loss: 0.0893 - accuracy: 0.9708 - val_loss: 2.0473 - val_accuracy: 0.7292\n",
            "Epoch 9/10\n",
            "50/50 [==============================] - 53s 1s/step - loss: 0.0941 - accuracy: 0.9715 - val_loss: 2.2059 - val_accuracy: 0.7188\n",
            "Epoch 10/10\n",
            "50/50 [==============================] - 53s 1s/step - loss: 0.1016 - accuracy: 0.9662 - val_loss: 2.0962 - val_accuracy: 0.7005\n"
          ],
          "name": "stdout"
        },
        {
          "output_type": "display_data",
          "data": {
            "text/html": [
              "<br/>Waiting for W&B process to finish, PID 2684<br/>Program ended successfully."
            ],
            "text/plain": [
              "<IPython.core.display.HTML object>"
            ]
          },
          "metadata": {
            "tags": []
          }
        },
        {
          "output_type": "display_data",
          "data": {
            "application/vnd.jupyter.widget-view+json": {
              "model_id": "e39c7125aee64086b7a200132a00554d",
              "version_minor": 0,
              "version_major": 2
            },
            "text/plain": [
              "VBox(children=(Label(value=' 91.29MB of 91.29MB uploaded (0.00MB deduped)\\r'), FloatProgress(value=1.0, max=1.…"
            ]
          },
          "metadata": {
            "tags": []
          }
        },
        {
          "output_type": "display_data",
          "data": {
            "text/html": [
              "Find user logs for this run at: <code>/content/wandb/run-20210408_101641-3c6whmzh/logs/debug.log</code>"
            ],
            "text/plain": [
              "<IPython.core.display.HTML object>"
            ]
          },
          "metadata": {
            "tags": []
          }
        },
        {
          "output_type": "display_data",
          "data": {
            "text/html": [
              "Find internal logs for this run at: <code>/content/wandb/run-20210408_101641-3c6whmzh/logs/debug-internal.log</code>"
            ],
            "text/plain": [
              "<IPython.core.display.HTML object>"
            ]
          },
          "metadata": {
            "tags": []
          }
        },
        {
          "output_type": "display_data",
          "data": {
            "text/html": [
              "<h3>Run summary:</h3><br/><style>\n",
              "    table.wandb td:nth-child(1) { padding: 0 10px; text-align: right }\n",
              "    </style><table class=\"wandb\">\n",
              "<tr><td>epoch</td><td>9</td></tr><tr><td>loss</td><td>0.09035</td></tr><tr><td>accuracy</td><td>0.9725</td></tr><tr><td>val_loss</td><td>2.09615</td></tr><tr><td>val_accuracy</td><td>0.70052</td></tr><tr><td>_runtime</td><td>544</td></tr><tr><td>_timestamp</td><td>1617877545</td></tr><tr><td>_step</td><td>9</td></tr><tr><td>best_val_accuracy</td><td>0.73177</td></tr><tr><td>best_epoch</td><td>2</td></tr></table>"
            ],
            "text/plain": [
              "<IPython.core.display.HTML object>"
            ]
          },
          "metadata": {
            "tags": []
          }
        },
        {
          "output_type": "display_data",
          "data": {
            "text/html": [
              "<h3>Run history:</h3><br/><style>\n",
              "    table.wandb td:nth-child(1) { padding: 0 10px; text-align: right }\n",
              "    </style><table class=\"wandb\">\n",
              "<tr><td>epoch</td><td>▁▂▃▃▄▅▆▆▇█</td></tr><tr><td>loss</td><td>█▃▂▁▁▁▁▁▁▁</td></tr><tr><td>accuracy</td><td>▁▅▇▇██████</td></tr><tr><td>val_loss</td><td>▄▂▁▂▄▃▅▇█▇</td></tr><tr><td>val_accuracy</td><td>▁▆█▇▆█▇█▇▆</td></tr><tr><td>_runtime</td><td>▁▂▃▃▄▅▆▆▇█</td></tr><tr><td>_timestamp</td><td>▁▂▃▃▄▅▆▆▇█</td></tr><tr><td>_step</td><td>▁▂▃▃▄▅▆▆▇█</td></tr></table><br/>"
            ],
            "text/plain": [
              "<IPython.core.display.HTML object>"
            ]
          },
          "metadata": {
            "tags": []
          }
        },
        {
          "output_type": "display_data",
          "data": {
            "text/html": [
              "Synced 5 W&B file(s), 1 media file(s), 0 artifact file(s) and 1 other file(s)"
            ],
            "text/plain": [
              "<IPython.core.display.HTML object>"
            ]
          },
          "metadata": {
            "tags": []
          }
        },
        {
          "output_type": "display_data",
          "data": {
            "text/html": [
              "\n",
              "                    <br/>Synced <strong style=\"color:#cdcd00\">fiery-sweep-17</strong>: <a href=\"https://wandb.ai/manideepladi/CNN_PartB/runs/3c6whmzh\" target=\"_blank\">https://wandb.ai/manideepladi/CNN_PartB/runs/3c6whmzh</a><br/>\n",
              "                "
            ],
            "text/plain": [
              "<IPython.core.display.HTML object>"
            ]
          },
          "metadata": {
            "tags": []
          }
        },
        {
          "output_type": "stream",
          "text": [
            "\u001b[34m\u001b[1mwandb\u001b[0m: Agent Starting Run: zruop4m0 with config:\n",
            "\u001b[34m\u001b[1mwandb\u001b[0m: \tnum_hlayers: 2\n",
            "\u001b[34m\u001b[1mwandb\u001b[0m: \tnum_neurons: 64\n",
            "\u001b[34m\u001b[1mwandb\u001b[0m: \tpretrained_model: InceptionV3\n",
            "\u001b[34m\u001b[1mwandb\u001b[0m: \ttrainable_layers: No\n"
          ],
          "name": "stderr"
        },
        {
          "output_type": "display_data",
          "data": {
            "text/html": [
              "\n",
              "                Tracking run with wandb version 0.10.25<br/>\n",
              "                Syncing run <strong style=\"color:#cdcd00\">sweepy-sweep-18</strong> to <a href=\"https://wandb.ai\" target=\"_blank\">Weights & Biases</a> <a href=\"https://docs.wandb.com/integrations/jupyter.html\" target=\"_blank\">(Documentation)</a>.<br/>\n",
              "                Project page: <a href=\"https://wandb.ai/manideepladi/CNN_PartB\" target=\"_blank\">https://wandb.ai/manideepladi/CNN_PartB</a><br/>\n",
              "                Sweep page: <a href=\"https://wandb.ai/manideepladi/CNN_PartB/sweeps/u8v89osp\" target=\"_blank\">https://wandb.ai/manideepladi/CNN_PartB/sweeps/u8v89osp</a><br/>\n",
              "Run page: <a href=\"https://wandb.ai/manideepladi/CNN_PartB/runs/zruop4m0\" target=\"_blank\">https://wandb.ai/manideepladi/CNN_PartB/runs/zruop4m0</a><br/>\n",
              "                Run data is saved locally in <code>/content/wandb/run-20210408_102552-zruop4m0</code><br/><br/>\n",
              "            "
            ],
            "text/plain": [
              "<IPython.core.display.HTML object>"
            ]
          },
          "metadata": {
            "tags": []
          }
        },
        {
          "output_type": "stream",
          "text": [
            "Found 1600 images belonging to 10 classes.\n",
            "Found 400 images belonging to 10 classes.\n",
            "Epoch 1/10\n",
            "50/50 [==============================] - 60s 1s/step - loss: 5.8926 - accuracy: 0.2679 - val_loss: 1.2169 - val_accuracy: 0.6328\n",
            "Epoch 2/10\n",
            "50/50 [==============================] - 53s 1s/step - loss: 0.8195 - accuracy: 0.7716 - val_loss: 1.0850 - val_accuracy: 0.6927\n",
            "Epoch 3/10\n",
            "50/50 [==============================] - 53s 1s/step - loss: 0.4092 - accuracy: 0.8811 - val_loss: 1.3229 - val_accuracy: 0.6719\n",
            "Epoch 4/10\n",
            "50/50 [==============================] - 53s 1s/step - loss: 0.2801 - accuracy: 0.9150 - val_loss: 1.2256 - val_accuracy: 0.7005\n",
            "Epoch 5/10\n",
            "50/50 [==============================] - 53s 1s/step - loss: 0.2325 - accuracy: 0.9298 - val_loss: 1.3811 - val_accuracy: 0.7057\n",
            "Epoch 6/10\n",
            "50/50 [==============================] - 53s 1s/step - loss: 0.1506 - accuracy: 0.9570 - val_loss: 1.1577 - val_accuracy: 0.7422\n",
            "Epoch 7/10\n",
            "50/50 [==============================] - 53s 1s/step - loss: 0.1360 - accuracy: 0.9524 - val_loss: 1.2840 - val_accuracy: 0.7214\n",
            "Epoch 8/10\n",
            "50/50 [==============================] - 53s 1s/step - loss: 0.1208 - accuracy: 0.9619 - val_loss: 1.3425 - val_accuracy: 0.7240\n",
            "Epoch 9/10\n",
            "50/50 [==============================] - 53s 1s/step - loss: 0.0668 - accuracy: 0.9844 - val_loss: 1.4413 - val_accuracy: 0.7214\n",
            "Epoch 10/10\n",
            "50/50 [==============================] - 51s 1s/step - loss: 0.0342 - accuracy: 0.9895 - val_loss: 1.4665 - val_accuracy: 0.7448\n"
          ],
          "name": "stdout"
        },
        {
          "output_type": "display_data",
          "data": {
            "text/html": [
              "<br/>Waiting for W&B process to finish, PID 2795<br/>Program ended successfully."
            ],
            "text/plain": [
              "<IPython.core.display.HTML object>"
            ]
          },
          "metadata": {
            "tags": []
          }
        },
        {
          "output_type": "display_data",
          "data": {
            "application/vnd.jupyter.widget-view+json": {
              "model_id": "1490fa26119c4150a91983781f59cb7d",
              "version_minor": 0,
              "version_major": 2
            },
            "text/plain": [
              "VBox(children=(Label(value=' 137.72MB of 137.72MB uploaded (0.00MB deduped)\\r'), FloatProgress(value=1.0, max=…"
            ]
          },
          "metadata": {
            "tags": []
          }
        },
        {
          "output_type": "display_data",
          "data": {
            "text/html": [
              "Find user logs for this run at: <code>/content/wandb/run-20210408_102552-zruop4m0/logs/debug.log</code>"
            ],
            "text/plain": [
              "<IPython.core.display.HTML object>"
            ]
          },
          "metadata": {
            "tags": []
          }
        },
        {
          "output_type": "display_data",
          "data": {
            "text/html": [
              "Find internal logs for this run at: <code>/content/wandb/run-20210408_102552-zruop4m0/logs/debug-internal.log</code>"
            ],
            "text/plain": [
              "<IPython.core.display.HTML object>"
            ]
          },
          "metadata": {
            "tags": []
          }
        },
        {
          "output_type": "display_data",
          "data": {
            "text/html": [
              "<h3>Run summary:</h3><br/><style>\n",
              "    table.wandb td:nth-child(1) { padding: 0 10px; text-align: right }\n",
              "    </style><table class=\"wandb\">\n",
              "<tr><td>epoch</td><td>9</td></tr><tr><td>loss</td><td>0.04283</td></tr><tr><td>accuracy</td><td>0.98625</td></tr><tr><td>val_loss</td><td>1.46646</td></tr><tr><td>val_accuracy</td><td>0.74479</td></tr><tr><td>_runtime</td><td>544</td></tr><tr><td>_timestamp</td><td>1617878096</td></tr><tr><td>_step</td><td>9</td></tr><tr><td>best_val_accuracy</td><td>0.74479</td></tr><tr><td>best_epoch</td><td>9</td></tr></table>"
            ],
            "text/plain": [
              "<IPython.core.display.HTML object>"
            ]
          },
          "metadata": {
            "tags": []
          }
        },
        {
          "output_type": "display_data",
          "data": {
            "text/html": [
              "<h3>Run history:</h3><br/><style>\n",
              "    table.wandb td:nth-child(1) { padding: 0 10px; text-align: right }\n",
              "    </style><table class=\"wandb\">\n",
              "<tr><td>epoch</td><td>▁▂▃▃▄▅▆▆▇█</td></tr><tr><td>loss</td><td>█▃▂▁▁▁▁▁▁▁</td></tr><tr><td>accuracy</td><td>▁▅▆▇▇█████</td></tr><tr><td>val_loss</td><td>▃▁▅▄▆▂▅▆██</td></tr><tr><td>val_accuracy</td><td>▁▅▃▅▆█▇▇▇█</td></tr><tr><td>_runtime</td><td>▁▂▃▃▄▅▆▆▇█</td></tr><tr><td>_timestamp</td><td>▁▂▃▃▄▅▆▆▇█</td></tr><tr><td>_step</td><td>▁▂▃▃▄▅▆▆▇█</td></tr></table><br/>"
            ],
            "text/plain": [
              "<IPython.core.display.HTML object>"
            ]
          },
          "metadata": {
            "tags": []
          }
        },
        {
          "output_type": "display_data",
          "data": {
            "text/html": [
              "Synced 5 W&B file(s), 1 media file(s), 0 artifact file(s) and 1 other file(s)"
            ],
            "text/plain": [
              "<IPython.core.display.HTML object>"
            ]
          },
          "metadata": {
            "tags": []
          }
        },
        {
          "output_type": "display_data",
          "data": {
            "text/html": [
              "\n",
              "                    <br/>Synced <strong style=\"color:#cdcd00\">sweepy-sweep-18</strong>: <a href=\"https://wandb.ai/manideepladi/CNN_PartB/runs/zruop4m0\" target=\"_blank\">https://wandb.ai/manideepladi/CNN_PartB/runs/zruop4m0</a><br/>\n",
              "                "
            ],
            "text/plain": [
              "<IPython.core.display.HTML object>"
            ]
          },
          "metadata": {
            "tags": []
          }
        },
        {
          "output_type": "stream",
          "text": [
            "\u001b[34m\u001b[1mwandb\u001b[0m: Agent Starting Run: z99u3znx with config:\n",
            "\u001b[34m\u001b[1mwandb\u001b[0m: \tnum_hlayers: 2\n",
            "\u001b[34m\u001b[1mwandb\u001b[0m: \tnum_neurons: 64\n",
            "\u001b[34m\u001b[1mwandb\u001b[0m: \tpretrained_model: Xception\n",
            "\u001b[34m\u001b[1mwandb\u001b[0m: \ttrainable_layers: Yes\n"
          ],
          "name": "stderr"
        },
        {
          "output_type": "display_data",
          "data": {
            "text/html": [
              "\n",
              "                Tracking run with wandb version 0.10.25<br/>\n",
              "                Syncing run <strong style=\"color:#cdcd00\">vivid-sweep-19</strong> to <a href=\"https://wandb.ai\" target=\"_blank\">Weights & Biases</a> <a href=\"https://docs.wandb.com/integrations/jupyter.html\" target=\"_blank\">(Documentation)</a>.<br/>\n",
              "                Project page: <a href=\"https://wandb.ai/manideepladi/CNN_PartB\" target=\"_blank\">https://wandb.ai/manideepladi/CNN_PartB</a><br/>\n",
              "                Sweep page: <a href=\"https://wandb.ai/manideepladi/CNN_PartB/sweeps/u8v89osp\" target=\"_blank\">https://wandb.ai/manideepladi/CNN_PartB/sweeps/u8v89osp</a><br/>\n",
              "Run page: <a href=\"https://wandb.ai/manideepladi/CNN_PartB/runs/z99u3znx\" target=\"_blank\">https://wandb.ai/manideepladi/CNN_PartB/runs/z99u3znx</a><br/>\n",
              "                Run data is saved locally in <code>/content/wandb/run-20210408_103505-z99u3znx</code><br/><br/>\n",
              "            "
            ],
            "text/plain": [
              "<IPython.core.display.HTML object>"
            ]
          },
          "metadata": {
            "tags": []
          }
        },
        {
          "output_type": "stream",
          "text": [
            "Found 1600 images belonging to 10 classes.\n",
            "Found 400 images belonging to 10 classes.\n",
            "Epoch 1/10\n",
            "50/50 [==============================] - 59s 1s/step - loss: 2.2718 - accuracy: 0.4371 - val_loss: 1.0968 - val_accuracy: 0.7292\n",
            "Epoch 2/10\n",
            "50/50 [==============================] - 56s 1s/step - loss: 0.5489 - accuracy: 0.8187 - val_loss: 0.9931 - val_accuracy: 0.7422\n",
            "Epoch 3/10\n",
            "50/50 [==============================] - 55s 1s/step - loss: 0.2989 - accuracy: 0.9046 - val_loss: 1.2946 - val_accuracy: 0.7240\n",
            "Epoch 4/10\n",
            "50/50 [==============================] - 53s 1s/step - loss: 0.1933 - accuracy: 0.9351 - val_loss: 1.4257 - val_accuracy: 0.7083\n",
            "Epoch 5/10\n",
            "50/50 [==============================] - 55s 1s/step - loss: 0.1398 - accuracy: 0.9520 - val_loss: 1.9970 - val_accuracy: 0.6953\n",
            "Epoch 6/10\n",
            "50/50 [==============================] - 54s 1s/step - loss: 0.2124 - accuracy: 0.9394 - val_loss: 1.4560 - val_accuracy: 0.7005\n",
            "Epoch 7/10\n",
            "50/50 [==============================] - 54s 1s/step - loss: 0.1581 - accuracy: 0.9507 - val_loss: 1.4205 - val_accuracy: 0.7292\n",
            "Epoch 8/10\n",
            "50/50 [==============================] - 55s 1s/step - loss: 0.0991 - accuracy: 0.9791 - val_loss: 1.4308 - val_accuracy: 0.7161\n",
            "Epoch 9/10\n",
            "50/50 [==============================] - 54s 1s/step - loss: 0.0488 - accuracy: 0.9873 - val_loss: 1.4857 - val_accuracy: 0.7656\n",
            "Epoch 10/10\n",
            "50/50 [==============================] - 55s 1s/step - loss: 0.0607 - accuracy: 0.9847 - val_loss: 2.3686 - val_accuracy: 0.6927\n"
          ],
          "name": "stdout"
        },
        {
          "output_type": "display_data",
          "data": {
            "text/html": [
              "<br/>Waiting for W&B process to finish, PID 2898<br/>Program ended successfully."
            ],
            "text/plain": [
              "<IPython.core.display.HTML object>"
            ]
          },
          "metadata": {
            "tags": []
          }
        },
        {
          "output_type": "display_data",
          "data": {
            "application/vnd.jupyter.widget-view+json": {
              "model_id": "1eb60eb4bfc74760946d694ffa50defd",
              "version_minor": 0,
              "version_major": 2
            },
            "text/plain": [
              "VBox(children=(Label(value=' 212.15MB of 212.15MB uploaded (0.00MB deduped)\\r'), FloatProgress(value=1.0, max=…"
            ]
          },
          "metadata": {
            "tags": []
          }
        },
        {
          "output_type": "display_data",
          "data": {
            "text/html": [
              "Find user logs for this run at: <code>/content/wandb/run-20210408_103505-z99u3znx/logs/debug.log</code>"
            ],
            "text/plain": [
              "<IPython.core.display.HTML object>"
            ]
          },
          "metadata": {
            "tags": []
          }
        },
        {
          "output_type": "display_data",
          "data": {
            "text/html": [
              "Find internal logs for this run at: <code>/content/wandb/run-20210408_103505-z99u3znx/logs/debug-internal.log</code>"
            ],
            "text/plain": [
              "<IPython.core.display.HTML object>"
            ]
          },
          "metadata": {
            "tags": []
          }
        },
        {
          "output_type": "display_data",
          "data": {
            "text/html": [
              "<h3>Run summary:</h3><br/><style>\n",
              "    table.wandb td:nth-child(1) { padding: 0 10px; text-align: right }\n",
              "    </style><table class=\"wandb\">\n",
              "<tr><td>epoch</td><td>9</td></tr><tr><td>loss</td><td>0.09119</td></tr><tr><td>accuracy</td><td>0.98</td></tr><tr><td>val_loss</td><td>2.36855</td></tr><tr><td>val_accuracy</td><td>0.69271</td></tr><tr><td>_runtime</td><td>557</td></tr><tr><td>_timestamp</td><td>1617878662</td></tr><tr><td>_step</td><td>9</td></tr><tr><td>best_val_accuracy</td><td>0.76562</td></tr><tr><td>best_epoch</td><td>8</td></tr></table>"
            ],
            "text/plain": [
              "<IPython.core.display.HTML object>"
            ]
          },
          "metadata": {
            "tags": []
          }
        },
        {
          "output_type": "display_data",
          "data": {
            "text/html": [
              "<h3>Run history:</h3><br/><style>\n",
              "    table.wandb td:nth-child(1) { padding: 0 10px; text-align: right }\n",
              "    </style><table class=\"wandb\">\n",
              "<tr><td>epoch</td><td>▁▂▃▃▄▅▆▆▇█</td></tr><tr><td>loss</td><td>█▃▂▂▂▂▂▁▁▁</td></tr><tr><td>accuracy</td><td>▁▅▆▇▇▇▇███</td></tr><tr><td>val_loss</td><td>▂▁▃▃▆▃▃▃▄█</td></tr><tr><td>val_accuracy</td><td>▅▆▄▂▁▂▅▃█▁</td></tr><tr><td>_runtime</td><td>▁▂▃▃▄▅▆▆▇█</td></tr><tr><td>_timestamp</td><td>▁▂▃▃▄▅▆▆▇█</td></tr><tr><td>_step</td><td>▁▂▃▃▄▅▆▆▇█</td></tr></table><br/>"
            ],
            "text/plain": [
              "<IPython.core.display.HTML object>"
            ]
          },
          "metadata": {
            "tags": []
          }
        },
        {
          "output_type": "display_data",
          "data": {
            "text/html": [
              "Synced 5 W&B file(s), 1 media file(s), 0 artifact file(s) and 1 other file(s)"
            ],
            "text/plain": [
              "<IPython.core.display.HTML object>"
            ]
          },
          "metadata": {
            "tags": []
          }
        },
        {
          "output_type": "display_data",
          "data": {
            "text/html": [
              "\n",
              "                    <br/>Synced <strong style=\"color:#cdcd00\">vivid-sweep-19</strong>: <a href=\"https://wandb.ai/manideepladi/CNN_PartB/runs/z99u3znx\" target=\"_blank\">https://wandb.ai/manideepladi/CNN_PartB/runs/z99u3znx</a><br/>\n",
              "                "
            ],
            "text/plain": [
              "<IPython.core.display.HTML object>"
            ]
          },
          "metadata": {
            "tags": []
          }
        },
        {
          "output_type": "stream",
          "text": [
            "\u001b[34m\u001b[1mwandb\u001b[0m: Agent Starting Run: jkxfop8u with config:\n",
            "\u001b[34m\u001b[1mwandb\u001b[0m: \tnum_hlayers: 2\n",
            "\u001b[34m\u001b[1mwandb\u001b[0m: \tnum_neurons: 64\n",
            "\u001b[34m\u001b[1mwandb\u001b[0m: \tpretrained_model: Xception\n",
            "\u001b[34m\u001b[1mwandb\u001b[0m: \ttrainable_layers: No\n"
          ],
          "name": "stderr"
        },
        {
          "output_type": "display_data",
          "data": {
            "text/html": [
              "\n",
              "                Tracking run with wandb version 0.10.25<br/>\n",
              "                Syncing run <strong style=\"color:#cdcd00\">magic-sweep-20</strong> to <a href=\"https://wandb.ai\" target=\"_blank\">Weights & Biases</a> <a href=\"https://docs.wandb.com/integrations/jupyter.html\" target=\"_blank\">(Documentation)</a>.<br/>\n",
              "                Project page: <a href=\"https://wandb.ai/manideepladi/CNN_PartB\" target=\"_blank\">https://wandb.ai/manideepladi/CNN_PartB</a><br/>\n",
              "                Sweep page: <a href=\"https://wandb.ai/manideepladi/CNN_PartB/sweeps/u8v89osp\" target=\"_blank\">https://wandb.ai/manideepladi/CNN_PartB/sweeps/u8v89osp</a><br/>\n",
              "Run page: <a href=\"https://wandb.ai/manideepladi/CNN_PartB/runs/jkxfop8u\" target=\"_blank\">https://wandb.ai/manideepladi/CNN_PartB/runs/jkxfop8u</a><br/>\n",
              "                Run data is saved locally in <code>/content/wandb/run-20210408_104430-jkxfop8u</code><br/><br/>\n",
              "            "
            ],
            "text/plain": [
              "<IPython.core.display.HTML object>"
            ]
          },
          "metadata": {
            "tags": []
          }
        },
        {
          "output_type": "stream",
          "text": [
            "Found 1600 images belonging to 10 classes.\n",
            "Found 400 images belonging to 10 classes.\n",
            "Epoch 1/10\n",
            "50/50 [==============================] - 58s 1s/step - loss: 4.7161 - accuracy: 0.3443 - val_loss: 1.4813 - val_accuracy: 0.6771\n",
            "Epoch 2/10\n",
            "50/50 [==============================] - 54s 1s/step - loss: 0.9987 - accuracy: 0.7757 - val_loss: 1.5456 - val_accuracy: 0.6901\n",
            "Epoch 3/10\n",
            "50/50 [==============================] - 53s 1s/step - loss: 0.6666 - accuracy: 0.8275 - val_loss: 1.4527 - val_accuracy: 0.6719\n",
            "Epoch 4/10\n",
            "50/50 [==============================] - 55s 1s/step - loss: 0.3967 - accuracy: 0.8832 - val_loss: 1.2546 - val_accuracy: 0.6953\n",
            "Epoch 5/10\n",
            "50/50 [==============================] - 53s 1s/step - loss: 0.1758 - accuracy: 0.9477 - val_loss: 1.4054 - val_accuracy: 0.6953\n",
            "Epoch 6/10\n",
            "50/50 [==============================] - 53s 1s/step - loss: 0.1657 - accuracy: 0.9497 - val_loss: 1.4073 - val_accuracy: 0.6849\n",
            "Epoch 7/10\n",
            "50/50 [==============================] - 53s 1s/step - loss: 0.1153 - accuracy: 0.9649 - val_loss: 1.4333 - val_accuracy: 0.6979\n",
            "Epoch 8/10\n",
            "50/50 [==============================] - 54s 1s/step - loss: 0.1072 - accuracy: 0.9659 - val_loss: 1.6485 - val_accuracy: 0.6953\n",
            "Epoch 9/10\n",
            "50/50 [==============================] - 54s 1s/step - loss: 0.1438 - accuracy: 0.9566 - val_loss: 1.5734 - val_accuracy: 0.6823\n",
            "Epoch 10/10\n",
            "50/50 [==============================] - 53s 1s/step - loss: 0.0979 - accuracy: 0.9650 - val_loss: 1.7155 - val_accuracy: 0.7161\n"
          ],
          "name": "stdout"
        },
        {
          "output_type": "display_data",
          "data": {
            "text/html": [
              "<br/>Waiting for W&B process to finish, PID 3003<br/>Program ended successfully."
            ],
            "text/plain": [
              "<IPython.core.display.HTML object>"
            ]
          },
          "metadata": {
            "tags": []
          }
        },
        {
          "output_type": "display_data",
          "data": {
            "application/vnd.jupyter.widget-view+json": {
              "model_id": "91835c9abe364338a7bb8d9fc481b4e6",
              "version_minor": 0,
              "version_major": 2
            },
            "text/plain": [
              "VBox(children=(Label(value=' 175.90MB of 175.90MB uploaded (0.00MB deduped)\\r'), FloatProgress(value=1.0, max=…"
            ]
          },
          "metadata": {
            "tags": []
          }
        },
        {
          "output_type": "display_data",
          "data": {
            "text/html": [
              "Find user logs for this run at: <code>/content/wandb/run-20210408_104430-jkxfop8u/logs/debug.log</code>"
            ],
            "text/plain": [
              "<IPython.core.display.HTML object>"
            ]
          },
          "metadata": {
            "tags": []
          }
        },
        {
          "output_type": "display_data",
          "data": {
            "text/html": [
              "Find internal logs for this run at: <code>/content/wandb/run-20210408_104430-jkxfop8u/logs/debug-internal.log</code>"
            ],
            "text/plain": [
              "<IPython.core.display.HTML object>"
            ]
          },
          "metadata": {
            "tags": []
          }
        },
        {
          "output_type": "display_data",
          "data": {
            "text/html": [
              "<h3>Run summary:</h3><br/><style>\n",
              "    table.wandb td:nth-child(1) { padding: 0 10px; text-align: right }\n",
              "    </style><table class=\"wandb\">\n",
              "<tr><td>epoch</td><td>9</td></tr><tr><td>loss</td><td>0.07807</td></tr><tr><td>accuracy</td><td>0.97312</td></tr><tr><td>val_loss</td><td>1.71554</td></tr><tr><td>val_accuracy</td><td>0.71615</td></tr><tr><td>_runtime</td><td>548</td></tr><tr><td>_timestamp</td><td>1617879218</td></tr><tr><td>_step</td><td>9</td></tr><tr><td>best_val_accuracy</td><td>0.71615</td></tr><tr><td>best_epoch</td><td>9</td></tr></table>"
            ],
            "text/plain": [
              "<IPython.core.display.HTML object>"
            ]
          },
          "metadata": {
            "tags": []
          }
        },
        {
          "output_type": "display_data",
          "data": {
            "text/html": [
              "<h3>Run history:</h3><br/><style>\n",
              "    table.wandb td:nth-child(1) { padding: 0 10px; text-align: right }\n",
              "    </style><table class=\"wandb\">\n",
              "<tr><td>epoch</td><td>▁▂▃▃▄▅▆▆▇█</td></tr><tr><td>loss</td><td>█▃▂▂▁▁▁▁▁▁</td></tr><tr><td>accuracy</td><td>▁▅▆▇▇█████</td></tr><tr><td>val_loss</td><td>▄▅▄▁▃▃▄▇▆█</td></tr><tr><td>val_accuracy</td><td>▂▄▁▅▅▃▅▅▃█</td></tr><tr><td>_runtime</td><td>▁▂▃▃▄▅▆▆▇█</td></tr><tr><td>_timestamp</td><td>▁▂▃▃▄▅▆▆▇█</td></tr><tr><td>_step</td><td>▁▂▃▃▄▅▆▆▇█</td></tr></table><br/>"
            ],
            "text/plain": [
              "<IPython.core.display.HTML object>"
            ]
          },
          "metadata": {
            "tags": []
          }
        },
        {
          "output_type": "display_data",
          "data": {
            "text/html": [
              "Synced 5 W&B file(s), 1 media file(s), 0 artifact file(s) and 1 other file(s)"
            ],
            "text/plain": [
              "<IPython.core.display.HTML object>"
            ]
          },
          "metadata": {
            "tags": []
          }
        },
        {
          "output_type": "display_data",
          "data": {
            "text/html": [
              "\n",
              "                    <br/>Synced <strong style=\"color:#cdcd00\">magic-sweep-20</strong>: <a href=\"https://wandb.ai/manideepladi/CNN_PartB/runs/jkxfop8u\" target=\"_blank\">https://wandb.ai/manideepladi/CNN_PartB/runs/jkxfop8u</a><br/>\n",
              "                "
            ],
            "text/plain": [
              "<IPython.core.display.HTML object>"
            ]
          },
          "metadata": {
            "tags": []
          }
        },
        {
          "output_type": "stream",
          "text": [
            "\u001b[34m\u001b[1mwandb\u001b[0m: Agent Starting Run: 60mcqc9j with config:\n",
            "\u001b[34m\u001b[1mwandb\u001b[0m: \tnum_hlayers: 2\n",
            "\u001b[34m\u001b[1mwandb\u001b[0m: \tnum_neurons: 64\n",
            "\u001b[34m\u001b[1mwandb\u001b[0m: \tpretrained_model: InceptionResnetV2\n",
            "\u001b[34m\u001b[1mwandb\u001b[0m: \ttrainable_layers: Yes\n"
          ],
          "name": "stderr"
        },
        {
          "output_type": "display_data",
          "data": {
            "text/html": [
              "\n",
              "                Tracking run with wandb version 0.10.25<br/>\n",
              "                Syncing run <strong style=\"color:#cdcd00\">faithful-sweep-21</strong> to <a href=\"https://wandb.ai\" target=\"_blank\">Weights & Biases</a> <a href=\"https://docs.wandb.com/integrations/jupyter.html\" target=\"_blank\">(Documentation)</a>.<br/>\n",
              "                Project page: <a href=\"https://wandb.ai/manideepladi/CNN_PartB\" target=\"_blank\">https://wandb.ai/manideepladi/CNN_PartB</a><br/>\n",
              "                Sweep page: <a href=\"https://wandb.ai/manideepladi/CNN_PartB/sweeps/u8v89osp\" target=\"_blank\">https://wandb.ai/manideepladi/CNN_PartB/sweeps/u8v89osp</a><br/>\n",
              "Run page: <a href=\"https://wandb.ai/manideepladi/CNN_PartB/runs/60mcqc9j\" target=\"_blank\">https://wandb.ai/manideepladi/CNN_PartB/runs/60mcqc9j</a><br/>\n",
              "                Run data is saved locally in <code>/content/wandb/run-20210408_105348-60mcqc9j</code><br/><br/>\n",
              "            "
            ],
            "text/plain": [
              "<IPython.core.display.HTML object>"
            ]
          },
          "metadata": {
            "tags": []
          }
        },
        {
          "output_type": "stream",
          "text": [
            "Found 1600 images belonging to 10 classes.\n",
            "Found 400 images belonging to 10 classes.\n",
            "Epoch 1/10\n",
            "50/50 [==============================] - 69s 1s/step - loss: 3.6418 - accuracy: 0.3835 - val_loss: 1.5471 - val_accuracy: 0.7031\n",
            "Epoch 2/10\n",
            "50/50 [==============================] - 57s 1s/step - loss: 0.5832 - accuracy: 0.8446 - val_loss: 1.1196 - val_accuracy: 0.7344\n",
            "Epoch 3/10\n",
            "50/50 [==============================] - 56s 1s/step - loss: 0.3030 - accuracy: 0.9085 - val_loss: 1.6361 - val_accuracy: 0.6510\n",
            "Epoch 4/10\n",
            "50/50 [==============================] - 56s 1s/step - loss: 0.2788 - accuracy: 0.9013 - val_loss: 2.6876 - val_accuracy: 0.6589\n",
            "Epoch 5/10\n",
            "50/50 [==============================] - 55s 1s/step - loss: 0.2268 - accuracy: 0.9257 - val_loss: 2.7121 - val_accuracy: 0.6172\n",
            "Epoch 6/10\n",
            "50/50 [==============================] - 56s 1s/step - loss: 0.2434 - accuracy: 0.9233 - val_loss: 3.4603 - val_accuracy: 0.5938\n",
            "Epoch 7/10\n",
            "50/50 [==============================] - 55s 1s/step - loss: 0.1693 - accuracy: 0.9569 - val_loss: 1.5107 - val_accuracy: 0.7318\n",
            "Epoch 8/10\n",
            "50/50 [==============================] - 55s 1s/step - loss: 0.0989 - accuracy: 0.9722 - val_loss: 1.5910 - val_accuracy: 0.7370\n",
            "Epoch 9/10\n",
            "50/50 [==============================] - 55s 1s/step - loss: 0.1283 - accuracy: 0.9709 - val_loss: 1.7123 - val_accuracy: 0.7318\n",
            "Epoch 10/10\n",
            "50/50 [==============================] - 55s 1s/step - loss: 0.1166 - accuracy: 0.9625 - val_loss: 2.8565 - val_accuracy: 0.6120\n"
          ],
          "name": "stdout"
        },
        {
          "output_type": "display_data",
          "data": {
            "text/html": [
              "<br/>Waiting for W&B process to finish, PID 3106<br/>Program ended successfully."
            ],
            "text/plain": [
              "<IPython.core.display.HTML object>"
            ]
          },
          "metadata": {
            "tags": []
          }
        },
        {
          "output_type": "display_data",
          "data": {
            "application/vnd.jupyter.widget-view+json": {
              "model_id": "f7810525697d46708e3fe9ff073577f0",
              "version_minor": 0,
              "version_major": 2
            },
            "text/plain": [
              "VBox(children=(Label(value=' 285.89MB of 285.89MB uploaded (0.00MB deduped)\\r'), FloatProgress(value=1.0, max=…"
            ]
          },
          "metadata": {
            "tags": []
          }
        },
        {
          "output_type": "display_data",
          "data": {
            "text/html": [
              "Find user logs for this run at: <code>/content/wandb/run-20210408_105348-60mcqc9j/logs/debug.log</code>"
            ],
            "text/plain": [
              "<IPython.core.display.HTML object>"
            ]
          },
          "metadata": {
            "tags": []
          }
        },
        {
          "output_type": "display_data",
          "data": {
            "text/html": [
              "Find internal logs for this run at: <code>/content/wandb/run-20210408_105348-60mcqc9j/logs/debug-internal.log</code>"
            ],
            "text/plain": [
              "<IPython.core.display.HTML object>"
            ]
          },
          "metadata": {
            "tags": []
          }
        },
        {
          "output_type": "display_data",
          "data": {
            "text/html": [
              "<h3>Run summary:</h3><br/><style>\n",
              "    table.wandb td:nth-child(1) { padding: 0 10px; text-align: right }\n",
              "    </style><table class=\"wandb\">\n",
              "<tr><td>epoch</td><td>9</td></tr><tr><td>loss</td><td>0.17306</td></tr><tr><td>accuracy</td><td>0.9475</td></tr><tr><td>val_loss</td><td>2.85649</td></tr><tr><td>val_accuracy</td><td>0.61198</td></tr><tr><td>_runtime</td><td>584</td></tr><tr><td>_timestamp</td><td>1617879812</td></tr><tr><td>_step</td><td>9</td></tr><tr><td>best_val_accuracy</td><td>0.73698</td></tr><tr><td>best_epoch</td><td>7</td></tr></table>"
            ],
            "text/plain": [
              "<IPython.core.display.HTML object>"
            ]
          },
          "metadata": {
            "tags": []
          }
        },
        {
          "output_type": "display_data",
          "data": {
            "text/html": [
              "<h3>Run history:</h3><br/><style>\n",
              "    table.wandb td:nth-child(1) { padding: 0 10px; text-align: right }\n",
              "    </style><table class=\"wandb\">\n",
              "<tr><td>epoch</td><td>▁▂▃▃▄▅▆▆▇█</td></tr><tr><td>loss</td><td>█▃▂▁▁▁▁▁▁▁</td></tr><tr><td>accuracy</td><td>▁▆▇▇▇▇████</td></tr><tr><td>val_loss</td><td>▂▁▃▆▆█▂▂▃▆</td></tr><tr><td>val_accuracy</td><td>▆█▄▄▂▁███▂</td></tr><tr><td>_runtime</td><td>▁▂▃▃▄▅▆▆▇█</td></tr><tr><td>_timestamp</td><td>▁▂▃▃▄▅▆▆▇█</td></tr><tr><td>_step</td><td>▁▂▃▃▄▅▆▆▇█</td></tr></table><br/>"
            ],
            "text/plain": [
              "<IPython.core.display.HTML object>"
            ]
          },
          "metadata": {
            "tags": []
          }
        },
        {
          "output_type": "display_data",
          "data": {
            "text/html": [
              "Synced 5 W&B file(s), 1 media file(s), 0 artifact file(s) and 1 other file(s)"
            ],
            "text/plain": [
              "<IPython.core.display.HTML object>"
            ]
          },
          "metadata": {
            "tags": []
          }
        },
        {
          "output_type": "display_data",
          "data": {
            "text/html": [
              "\n",
              "                    <br/>Synced <strong style=\"color:#cdcd00\">faithful-sweep-21</strong>: <a href=\"https://wandb.ai/manideepladi/CNN_PartB/runs/60mcqc9j\" target=\"_blank\">https://wandb.ai/manideepladi/CNN_PartB/runs/60mcqc9j</a><br/>\n",
              "                "
            ],
            "text/plain": [
              "<IPython.core.display.HTML object>"
            ]
          },
          "metadata": {
            "tags": []
          }
        },
        {
          "output_type": "stream",
          "text": [
            "\u001b[34m\u001b[1mwandb\u001b[0m: Sweep Agent: Waiting for job.\n",
            "\u001b[34m\u001b[1mwandb\u001b[0m: Job received.\n",
            "\u001b[34m\u001b[1mwandb\u001b[0m: Agent Starting Run: wioesisc with config:\n",
            "\u001b[34m\u001b[1mwandb\u001b[0m: \tnum_hlayers: 2\n",
            "\u001b[34m\u001b[1mwandb\u001b[0m: \tnum_neurons: 64\n",
            "\u001b[34m\u001b[1mwandb\u001b[0m: \tpretrained_model: InceptionResnetV2\n",
            "\u001b[34m\u001b[1mwandb\u001b[0m: \ttrainable_layers: No\n"
          ],
          "name": "stderr"
        },
        {
          "output_type": "display_data",
          "data": {
            "text/html": [
              "\n",
              "                Tracking run with wandb version 0.10.25<br/>\n",
              "                Syncing run <strong style=\"color:#cdcd00\">resilient-sweep-22</strong> to <a href=\"https://wandb.ai\" target=\"_blank\">Weights & Biases</a> <a href=\"https://docs.wandb.com/integrations/jupyter.html\" target=\"_blank\">(Documentation)</a>.<br/>\n",
              "                Project page: <a href=\"https://wandb.ai/manideepladi/CNN_PartB\" target=\"_blank\">https://wandb.ai/manideepladi/CNN_PartB</a><br/>\n",
              "                Sweep page: <a href=\"https://wandb.ai/manideepladi/CNN_PartB/sweeps/u8v89osp\" target=\"_blank\">https://wandb.ai/manideepladi/CNN_PartB/sweeps/u8v89osp</a><br/>\n",
              "Run page: <a href=\"https://wandb.ai/manideepladi/CNN_PartB/runs/wioesisc\" target=\"_blank\">https://wandb.ai/manideepladi/CNN_PartB/runs/wioesisc</a><br/>\n",
              "                Run data is saved locally in <code>/content/wandb/run-20210408_110401-wioesisc</code><br/><br/>\n",
              "            "
            ],
            "text/plain": [
              "<IPython.core.display.HTML object>"
            ]
          },
          "metadata": {
            "tags": []
          }
        },
        {
          "output_type": "stream",
          "text": [
            "Found 1600 images belonging to 10 classes.\n",
            "Found 400 images belonging to 10 classes.\n",
            "Epoch 1/10\n",
            "50/50 [==============================] - 68s 1s/step - loss: 5.9931 - accuracy: 0.3155 - val_loss: 1.0905 - val_accuracy: 0.6693\n",
            "Epoch 2/10\n",
            "50/50 [==============================] - 55s 1s/step - loss: 0.8994 - accuracy: 0.7222 - val_loss: 1.0844 - val_accuracy: 0.6927\n",
            "Epoch 3/10\n",
            "50/50 [==============================] - 55s 1s/step - loss: 0.6463 - accuracy: 0.8153 - val_loss: 1.0495 - val_accuracy: 0.7135\n",
            "Epoch 4/10\n",
            "50/50 [==============================] - 55s 1s/step - loss: 0.4678 - accuracy: 0.8463 - val_loss: 1.1104 - val_accuracy: 0.7292\n",
            "Epoch 5/10\n",
            "50/50 [==============================] - 55s 1s/step - loss: 0.3324 - accuracy: 0.8997 - val_loss: 1.2084 - val_accuracy: 0.7266\n",
            "Epoch 6/10\n",
            "50/50 [==============================] - 55s 1s/step - loss: 0.2716 - accuracy: 0.9156 - val_loss: 1.2165 - val_accuracy: 0.7474\n",
            "Epoch 7/10\n",
            "50/50 [==============================] - 55s 1s/step - loss: 0.2721 - accuracy: 0.9179 - val_loss: 1.0708 - val_accuracy: 0.7474\n",
            "Epoch 8/10\n",
            "50/50 [==============================] - 55s 1s/step - loss: 0.2023 - accuracy: 0.9433 - val_loss: 1.3306 - val_accuracy: 0.7604\n",
            "Epoch 9/10\n",
            "50/50 [==============================] - 56s 1s/step - loss: 0.1326 - accuracy: 0.9548 - val_loss: 1.2723 - val_accuracy: 0.7500\n",
            "Epoch 10/10\n",
            "50/50 [==============================] - 56s 1s/step - loss: 0.1117 - accuracy: 0.9616 - val_loss: 1.1834 - val_accuracy: 0.7448\n"
          ],
          "name": "stdout"
        },
        {
          "output_type": "display_data",
          "data": {
            "text/html": [
              "<br/>Waiting for W&B process to finish, PID 3219<br/>Program ended successfully."
            ],
            "text/plain": [
              "<IPython.core.display.HTML object>"
            ]
          },
          "metadata": {
            "tags": []
          }
        },
        {
          "output_type": "display_data",
          "data": {
            "application/vnd.jupyter.widget-view+json": {
              "model_id": "1008159a940d4688b6a2c90a878fbcd8",
              "version_minor": 0,
              "version_major": 2
            },
            "text/plain": [
              "VBox(children=(Label(value=' 52.66MB of 52.66MB uploaded (0.00MB deduped)\\r'), FloatProgress(value=1.0, max=1.…"
            ]
          },
          "metadata": {
            "tags": []
          }
        },
        {
          "output_type": "display_data",
          "data": {
            "text/html": [
              "Find user logs for this run at: <code>/content/wandb/run-20210408_110401-wioesisc/logs/debug.log</code>"
            ],
            "text/plain": [
              "<IPython.core.display.HTML object>"
            ]
          },
          "metadata": {
            "tags": []
          }
        },
        {
          "output_type": "display_data",
          "data": {
            "text/html": [
              "Find internal logs for this run at: <code>/content/wandb/run-20210408_110401-wioesisc/logs/debug-internal.log</code>"
            ],
            "text/plain": [
              "<IPython.core.display.HTML object>"
            ]
          },
          "metadata": {
            "tags": []
          }
        },
        {
          "output_type": "display_data",
          "data": {
            "text/html": [
              "<h3>Run summary:</h3><br/><style>\n",
              "    table.wandb td:nth-child(1) { padding: 0 10px; text-align: right }\n",
              "    </style><table class=\"wandb\">\n",
              "<tr><td>epoch</td><td>9</td></tr><tr><td>loss</td><td>0.09796</td></tr><tr><td>accuracy</td><td>0.96562</td></tr><tr><td>val_loss</td><td>1.18337</td></tr><tr><td>val_accuracy</td><td>0.74479</td></tr><tr><td>_runtime</td><td>586</td></tr><tr><td>_timestamp</td><td>1617880427</td></tr><tr><td>_step</td><td>9</td></tr><tr><td>best_val_accuracy</td><td>0.76042</td></tr><tr><td>best_epoch</td><td>7</td></tr></table>"
            ],
            "text/plain": [
              "<IPython.core.display.HTML object>"
            ]
          },
          "metadata": {
            "tags": []
          }
        },
        {
          "output_type": "display_data",
          "data": {
            "text/html": [
              "<h3>Run history:</h3><br/><style>\n",
              "    table.wandb td:nth-child(1) { padding: 0 10px; text-align: right }\n",
              "    </style><table class=\"wandb\">\n",
              "<tr><td>epoch</td><td>▁▂▃▃▄▅▆▆▇█</td></tr><tr><td>loss</td><td>█▃▂▂▁▁▁▁▁▁</td></tr><tr><td>accuracy</td><td>▁▅▆▆▇▇▇███</td></tr><tr><td>val_loss</td><td>▂▂▁▃▅▅▂█▇▄</td></tr><tr><td>val_accuracy</td><td>▁▃▄▆▅▇▇█▇▇</td></tr><tr><td>_runtime</td><td>▁▂▃▃▄▅▆▆▇█</td></tr><tr><td>_timestamp</td><td>▁▂▃▃▄▅▆▆▇█</td></tr><tr><td>_step</td><td>▁▂▃▃▄▅▆▆▇█</td></tr></table><br/>"
            ],
            "text/plain": [
              "<IPython.core.display.HTML object>"
            ]
          },
          "metadata": {
            "tags": []
          }
        },
        {
          "output_type": "display_data",
          "data": {
            "text/html": [
              "Synced 5 W&B file(s), 1 media file(s), 0 artifact file(s) and 1 other file(s)"
            ],
            "text/plain": [
              "<IPython.core.display.HTML object>"
            ]
          },
          "metadata": {
            "tags": []
          }
        },
        {
          "output_type": "display_data",
          "data": {
            "text/html": [
              "\n",
              "                    <br/>Synced <strong style=\"color:#cdcd00\">resilient-sweep-22</strong>: <a href=\"https://wandb.ai/manideepladi/CNN_PartB/runs/wioesisc\" target=\"_blank\">https://wandb.ai/manideepladi/CNN_PartB/runs/wioesisc</a><br/>\n",
              "                "
            ],
            "text/plain": [
              "<IPython.core.display.HTML object>"
            ]
          },
          "metadata": {
            "tags": []
          }
        },
        {
          "output_type": "stream",
          "text": [
            "\u001b[34m\u001b[1mwandb\u001b[0m: Agent Starting Run: yssdakim with config:\n",
            "\u001b[34m\u001b[1mwandb\u001b[0m: \tnum_hlayers: 2\n",
            "\u001b[34m\u001b[1mwandb\u001b[0m: \tnum_neurons: 64\n",
            "\u001b[34m\u001b[1mwandb\u001b[0m: \tpretrained_model: ResNet50\n",
            "\u001b[34m\u001b[1mwandb\u001b[0m: \ttrainable_layers: Yes\n"
          ],
          "name": "stderr"
        },
        {
          "output_type": "display_data",
          "data": {
            "text/html": [
              "\n",
              "                Tracking run with wandb version 0.10.25<br/>\n",
              "                Syncing run <strong style=\"color:#cdcd00\">dandy-sweep-23</strong> to <a href=\"https://wandb.ai\" target=\"_blank\">Weights & Biases</a> <a href=\"https://docs.wandb.com/integrations/jupyter.html\" target=\"_blank\">(Documentation)</a>.<br/>\n",
              "                Project page: <a href=\"https://wandb.ai/manideepladi/CNN_PartB\" target=\"_blank\">https://wandb.ai/manideepladi/CNN_PartB</a><br/>\n",
              "                Sweep page: <a href=\"https://wandb.ai/manideepladi/CNN_PartB/sweeps/u8v89osp\" target=\"_blank\">https://wandb.ai/manideepladi/CNN_PartB/sweeps/u8v89osp</a><br/>\n",
              "Run page: <a href=\"https://wandb.ai/manideepladi/CNN_PartB/runs/yssdakim\" target=\"_blank\">https://wandb.ai/manideepladi/CNN_PartB/runs/yssdakim</a><br/>\n",
              "                Run data is saved locally in <code>/content/wandb/run-20210408_111358-yssdakim</code><br/><br/>\n",
              "            "
            ],
            "text/plain": [
              "<IPython.core.display.HTML object>"
            ]
          },
          "metadata": {
            "tags": []
          }
        },
        {
          "output_type": "stream",
          "text": [
            "Found 1600 images belonging to 10 classes.\n",
            "Found 400 images belonging to 10 classes.\n",
            "Epoch 1/10\n",
            "50/50 [==============================] - 58s 1s/step - loss: 4.4928 - accuracy: 0.0886 - val_loss: 2.3027 - val_accuracy: 0.0990\n",
            "Epoch 2/10\n",
            "50/50 [==============================] - 53s 1s/step - loss: 2.3021 - accuracy: 0.1029 - val_loss: 2.3025 - val_accuracy: 0.1016\n",
            "Epoch 3/10\n",
            "50/50 [==============================] - 52s 1s/step - loss: 2.3026 - accuracy: 0.1103 - val_loss: 2.3027 - val_accuracy: 0.1042\n",
            "Epoch 4/10\n",
            "50/50 [==============================] - 53s 1s/step - loss: 2.3024 - accuracy: 0.1038 - val_loss: 2.3026 - val_accuracy: 0.0990\n",
            "Epoch 5/10\n",
            "50/50 [==============================] - 52s 1s/step - loss: 2.3027 - accuracy: 0.0988 - val_loss: 2.3027 - val_accuracy: 0.1016\n",
            "Epoch 6/10\n",
            "50/50 [==============================] - 54s 1s/step - loss: 2.3026 - accuracy: 0.0979 - val_loss: 2.3025 - val_accuracy: 0.1042\n",
            "Epoch 7/10\n",
            "50/50 [==============================] - 54s 1s/step - loss: 2.3028 - accuracy: 0.0906 - val_loss: 2.3026 - val_accuracy: 0.0938\n",
            "Epoch 8/10\n",
            "50/50 [==============================] - 54s 1s/step - loss: 2.3025 - accuracy: 0.0795 - val_loss: 2.3026 - val_accuracy: 0.1016\n",
            "Epoch 9/10\n",
            "50/50 [==============================] - 54s 1s/step - loss: 2.3026 - accuracy: 0.0981 - val_loss: 2.3026 - val_accuracy: 0.1016\n",
            "Epoch 10/10\n",
            "50/50 [==============================] - 55s 1s/step - loss: 2.3027 - accuracy: 0.0918 - val_loss: 2.3026 - val_accuracy: 0.1016\n"
          ],
          "name": "stdout"
        },
        {
          "output_type": "display_data",
          "data": {
            "text/html": [
              "<br/>Waiting for W&B process to finish, PID 3327<br/>Program ended successfully."
            ],
            "text/plain": [
              "<IPython.core.display.HTML object>"
            ]
          },
          "metadata": {
            "tags": []
          }
        },
        {
          "output_type": "display_data",
          "data": {
            "application/vnd.jupyter.widget-view+json": {
              "model_id": "fab568ecb130422094b33cce9b5a94ae",
              "version_minor": 0,
              "version_major": 2
            },
            "text/plain": [
              "VBox(children=(Label(value=' 0.00MB of 0.00MB uploaded (0.00MB deduped)\\r'), FloatProgress(value=1.0, max=1.0)…"
            ]
          },
          "metadata": {
            "tags": []
          }
        },
        {
          "output_type": "display_data",
          "data": {
            "text/html": [
              "Find user logs for this run at: <code>/content/wandb/run-20210408_111358-yssdakim/logs/debug.log</code>"
            ],
            "text/plain": [
              "<IPython.core.display.HTML object>"
            ]
          },
          "metadata": {
            "tags": []
          }
        },
        {
          "output_type": "display_data",
          "data": {
            "text/html": [
              "Find internal logs for this run at: <code>/content/wandb/run-20210408_111358-yssdakim/logs/debug-internal.log</code>"
            ],
            "text/plain": [
              "<IPython.core.display.HTML object>"
            ]
          },
          "metadata": {
            "tags": []
          }
        },
        {
          "output_type": "display_data",
          "data": {
            "text/html": [
              "<h3>Run summary:</h3><br/><style>\n",
              "    table.wandb td:nth-child(1) { padding: 0 10px; text-align: right }\n",
              "    </style><table class=\"wandb\">\n",
              "<tr><td>epoch</td><td>9</td></tr><tr><td>loss</td><td>2.30284</td></tr><tr><td>accuracy</td><td>0.095</td></tr><tr><td>val_loss</td><td>2.30259</td></tr><tr><td>val_accuracy</td><td>0.10156</td></tr><tr><td>_runtime</td><td>548</td></tr><tr><td>_timestamp</td><td>1617880986</td></tr><tr><td>_step</td><td>9</td></tr><tr><td>best_val_accuracy</td><td>0.10417</td></tr><tr><td>best_epoch</td><td>2</td></tr></table>"
            ],
            "text/plain": [
              "<IPython.core.display.HTML object>"
            ]
          },
          "metadata": {
            "tags": []
          }
        },
        {
          "output_type": "display_data",
          "data": {
            "text/html": [
              "<h3>Run history:</h3><br/><style>\n",
              "    table.wandb td:nth-child(1) { padding: 0 10px; text-align: right }\n",
              "    </style><table class=\"wandb\">\n",
              "<tr><td>epoch</td><td>▁▂▃▃▄▅▆▆▇█</td></tr><tr><td>loss</td><td>█▁▁▁▁▁▁▁▁▁</td></tr><tr><td>accuracy</td><td>▅▇█▅▆▅▆▁▅▆</td></tr><tr><td>val_loss</td><td>▇▂▇▅█▁▃▃▄▄</td></tr><tr><td>val_accuracy</td><td>▅▆█▅▆█▁▆▆▆</td></tr><tr><td>_runtime</td><td>▁▂▃▃▄▅▆▆▇█</td></tr><tr><td>_timestamp</td><td>▁▂▃▃▄▅▆▆▇█</td></tr><tr><td>_step</td><td>▁▂▃▃▄▅▆▆▇█</td></tr></table><br/>"
            ],
            "text/plain": [
              "<IPython.core.display.HTML object>"
            ]
          },
          "metadata": {
            "tags": []
          }
        },
        {
          "output_type": "display_data",
          "data": {
            "text/html": [
              "Synced 5 W&B file(s), 1 media file(s), 0 artifact file(s) and 1 other file(s)"
            ],
            "text/plain": [
              "<IPython.core.display.HTML object>"
            ]
          },
          "metadata": {
            "tags": []
          }
        },
        {
          "output_type": "display_data",
          "data": {
            "text/html": [
              "\n",
              "                    <br/>Synced <strong style=\"color:#cdcd00\">dandy-sweep-23</strong>: <a href=\"https://wandb.ai/manideepladi/CNN_PartB/runs/yssdakim\" target=\"_blank\">https://wandb.ai/manideepladi/CNN_PartB/runs/yssdakim</a><br/>\n",
              "                "
            ],
            "text/plain": [
              "<IPython.core.display.HTML object>"
            ]
          },
          "metadata": {
            "tags": []
          }
        },
        {
          "output_type": "stream",
          "text": [
            "\u001b[34m\u001b[1mwandb\u001b[0m: Agent Starting Run: gi85r523 with config:\n",
            "\u001b[34m\u001b[1mwandb\u001b[0m: \tnum_hlayers: 2\n",
            "\u001b[34m\u001b[1mwandb\u001b[0m: \tnum_neurons: 64\n",
            "\u001b[34m\u001b[1mwandb\u001b[0m: \tpretrained_model: ResNet50\n",
            "\u001b[34m\u001b[1mwandb\u001b[0m: \ttrainable_layers: No\n"
          ],
          "name": "stderr"
        },
        {
          "output_type": "display_data",
          "data": {
            "text/html": [
              "\n",
              "                Tracking run with wandb version 0.10.25<br/>\n",
              "                Syncing run <strong style=\"color:#cdcd00\">sparkling-sweep-24</strong> to <a href=\"https://wandb.ai\" target=\"_blank\">Weights & Biases</a> <a href=\"https://docs.wandb.com/integrations/jupyter.html\" target=\"_blank\">(Documentation)</a>.<br/>\n",
              "                Project page: <a href=\"https://wandb.ai/manideepladi/CNN_PartB\" target=\"_blank\">https://wandb.ai/manideepladi/CNN_PartB</a><br/>\n",
              "                Sweep page: <a href=\"https://wandb.ai/manideepladi/CNN_PartB/sweeps/u8v89osp\" target=\"_blank\">https://wandb.ai/manideepladi/CNN_PartB/sweeps/u8v89osp</a><br/>\n",
              "Run page: <a href=\"https://wandb.ai/manideepladi/CNN_PartB/runs/gi85r523\" target=\"_blank\">https://wandb.ai/manideepladi/CNN_PartB/runs/gi85r523</a><br/>\n",
              "                Run data is saved locally in <code>/content/wandb/run-20210408_112316-gi85r523</code><br/><br/>\n",
              "            "
            ],
            "text/plain": [
              "<IPython.core.display.HTML object>"
            ]
          },
          "metadata": {
            "tags": []
          }
        },
        {
          "output_type": "stream",
          "text": [
            "Found 1600 images belonging to 10 classes.\n",
            "Found 400 images belonging to 10 classes.\n",
            "Epoch 1/10\n",
            "50/50 [==============================] - 59s 1s/step - loss: 4.6495 - accuracy: 0.1119 - val_loss: 2.3837 - val_accuracy: 0.1120\n",
            "Epoch 2/10\n",
            "50/50 [==============================] - 55s 1s/step - loss: 2.4302 - accuracy: 0.0983 - val_loss: 2.4757 - val_accuracy: 0.1068\n",
            "Epoch 3/10\n",
            "50/50 [==============================] - 53s 1s/step - loss: 2.4947 - accuracy: 0.1342 - val_loss: 2.4745 - val_accuracy: 0.1745\n",
            "Epoch 4/10\n",
            "50/50 [==============================] - 54s 1s/step - loss: 2.4646 - accuracy: 0.1724 - val_loss: 2.5064 - val_accuracy: 0.1016\n",
            "Epoch 5/10\n",
            "50/50 [==============================] - 54s 1s/step - loss: 2.3660 - accuracy: 0.1289 - val_loss: 2.2793 - val_accuracy: 0.1432\n",
            "Epoch 6/10\n",
            "50/50 [==============================] - 54s 1s/step - loss: 2.1900 - accuracy: 0.2056 - val_loss: 2.5137 - val_accuracy: 0.1484\n",
            "Epoch 7/10\n",
            "50/50 [==============================] - 54s 1s/step - loss: 2.2238 - accuracy: 0.1897 - val_loss: 2.2851 - val_accuracy: 0.1536\n",
            "Epoch 8/10\n",
            "50/50 [==============================] - 54s 1s/step - loss: 2.2079 - accuracy: 0.1915 - val_loss: 2.5058 - val_accuracy: 0.2109\n",
            "Epoch 9/10\n",
            "50/50 [==============================] - 54s 1s/step - loss: 2.2395 - accuracy: 0.1936 - val_loss: 2.2911 - val_accuracy: 0.1224\n",
            "Epoch 10/10\n",
            "50/50 [==============================] - 53s 1s/step - loss: 2.3057 - accuracy: 0.2089 - val_loss: 2.3309 - val_accuracy: 0.1484\n"
          ],
          "name": "stdout"
        },
        {
          "output_type": "display_data",
          "data": {
            "text/html": [
              "<br/>Waiting for W&B process to finish, PID 3430<br/>Program ended successfully."
            ],
            "text/plain": [
              "<IPython.core.display.HTML object>"
            ]
          },
          "metadata": {
            "tags": []
          }
        },
        {
          "output_type": "display_data",
          "data": {
            "application/vnd.jupyter.widget-view+json": {
              "model_id": "1d5c3b76d9bb4850a11d606d96a33955",
              "version_minor": 0,
              "version_major": 2
            },
            "text/plain": [
              "VBox(children=(Label(value=' 186.36MB of 186.36MB uploaded (0.00MB deduped)\\r'), FloatProgress(value=1.0, max=…"
            ]
          },
          "metadata": {
            "tags": []
          }
        },
        {
          "output_type": "display_data",
          "data": {
            "text/html": [
              "Find user logs for this run at: <code>/content/wandb/run-20210408_112316-gi85r523/logs/debug.log</code>"
            ],
            "text/plain": [
              "<IPython.core.display.HTML object>"
            ]
          },
          "metadata": {
            "tags": []
          }
        },
        {
          "output_type": "display_data",
          "data": {
            "text/html": [
              "Find internal logs for this run at: <code>/content/wandb/run-20210408_112316-gi85r523/logs/debug-internal.log</code>"
            ],
            "text/plain": [
              "<IPython.core.display.HTML object>"
            ]
          },
          "metadata": {
            "tags": []
          }
        },
        {
          "output_type": "display_data",
          "data": {
            "text/html": [
              "<h3>Run summary:</h3><br/><style>\n",
              "    table.wandb td:nth-child(1) { padding: 0 10px; text-align: right }\n",
              "    </style><table class=\"wandb\">\n",
              "<tr><td>epoch</td><td>9</td></tr><tr><td>loss</td><td>2.31471</td></tr><tr><td>accuracy</td><td>0.20812</td></tr><tr><td>val_loss</td><td>2.33093</td></tr><tr><td>val_accuracy</td><td>0.14844</td></tr><tr><td>_runtime</td><td>554</td></tr><tr><td>_timestamp</td><td>1617881551</td></tr><tr><td>_step</td><td>9</td></tr><tr><td>best_val_accuracy</td><td>0.21094</td></tr><tr><td>best_epoch</td><td>7</td></tr></table>"
            ],
            "text/plain": [
              "<IPython.core.display.HTML object>"
            ]
          },
          "metadata": {
            "tags": []
          }
        },
        {
          "output_type": "display_data",
          "data": {
            "text/html": [
              "<h3>Run history:</h3><br/><style>\n",
              "    table.wandb td:nth-child(1) { padding: 0 10px; text-align: right }\n",
              "    </style><table class=\"wandb\">\n",
              "<tr><td>epoch</td><td>▁▂▃▃▄▅▆▆▇█</td></tr><tr><td>loss</td><td>█▂▂▂▁▁▁▁▁▂</td></tr><tr><td>accuracy</td><td>▂▁▄▄▄▇▆▆▇█</td></tr><tr><td>val_loss</td><td>▄▇▇█▁█▁█▁▃</td></tr><tr><td>val_accuracy</td><td>▂▁▆▁▄▄▄█▂▄</td></tr><tr><td>_runtime</td><td>▁▂▃▃▄▅▆▆▇█</td></tr><tr><td>_timestamp</td><td>▁▂▃▃▄▅▆▆▇█</td></tr><tr><td>_step</td><td>▁▂▃▃▄▅▆▆▇█</td></tr></table><br/>"
            ],
            "text/plain": [
              "<IPython.core.display.HTML object>"
            ]
          },
          "metadata": {
            "tags": []
          }
        },
        {
          "output_type": "display_data",
          "data": {
            "text/html": [
              "Synced 5 W&B file(s), 1 media file(s), 0 artifact file(s) and 1 other file(s)"
            ],
            "text/plain": [
              "<IPython.core.display.HTML object>"
            ]
          },
          "metadata": {
            "tags": []
          }
        },
        {
          "output_type": "display_data",
          "data": {
            "text/html": [
              "\n",
              "                    <br/>Synced <strong style=\"color:#cdcd00\">sparkling-sweep-24</strong>: <a href=\"https://wandb.ai/manideepladi/CNN_PartB/runs/gi85r523\" target=\"_blank\">https://wandb.ai/manideepladi/CNN_PartB/runs/gi85r523</a><br/>\n",
              "                "
            ],
            "text/plain": [
              "<IPython.core.display.HTML object>"
            ]
          },
          "metadata": {
            "tags": []
          }
        },
        {
          "output_type": "stream",
          "text": [
            "\u001b[34m\u001b[1mwandb\u001b[0m: Agent Starting Run: 332xsokm with config:\n",
            "\u001b[34m\u001b[1mwandb\u001b[0m: \tnum_hlayers: 2\n",
            "\u001b[34m\u001b[1mwandb\u001b[0m: \tnum_neurons: 128\n",
            "\u001b[34m\u001b[1mwandb\u001b[0m: \tpretrained_model: InceptionV3\n",
            "\u001b[34m\u001b[1mwandb\u001b[0m: \ttrainable_layers: Yes\n"
          ],
          "name": "stderr"
        },
        {
          "output_type": "display_data",
          "data": {
            "text/html": [
              "\n",
              "                Tracking run with wandb version 0.10.25<br/>\n",
              "                Syncing run <strong style=\"color:#cdcd00\">dashing-sweep-25</strong> to <a href=\"https://wandb.ai\" target=\"_blank\">Weights & Biases</a> <a href=\"https://docs.wandb.com/integrations/jupyter.html\" target=\"_blank\">(Documentation)</a>.<br/>\n",
              "                Project page: <a href=\"https://wandb.ai/manideepladi/CNN_PartB\" target=\"_blank\">https://wandb.ai/manideepladi/CNN_PartB</a><br/>\n",
              "                Sweep page: <a href=\"https://wandb.ai/manideepladi/CNN_PartB/sweeps/u8v89osp\" target=\"_blank\">https://wandb.ai/manideepladi/CNN_PartB/sweeps/u8v89osp</a><br/>\n",
              "Run page: <a href=\"https://wandb.ai/manideepladi/CNN_PartB/runs/332xsokm\" target=\"_blank\">https://wandb.ai/manideepladi/CNN_PartB/runs/332xsokm</a><br/>\n",
              "                Run data is saved locally in <code>/content/wandb/run-20210408_113239-332xsokm</code><br/><br/>\n",
              "            "
            ],
            "text/plain": [
              "<IPython.core.display.HTML object>"
            ]
          },
          "metadata": {
            "tags": []
          }
        },
        {
          "output_type": "stream",
          "text": [
            "Found 1600 images belonging to 10 classes.\n",
            "Found 400 images belonging to 10 classes.\n",
            "Epoch 1/10\n",
            "50/50 [==============================] - 58s 1s/step - loss: 6.4544 - accuracy: 0.3257 - val_loss: 1.4419 - val_accuracy: 0.6823\n",
            "Epoch 2/10\n",
            "50/50 [==============================] - 53s 1s/step - loss: 0.6899 - accuracy: 0.8187 - val_loss: 1.1662 - val_accuracy: 0.7188\n",
            "Epoch 3/10\n",
            "50/50 [==============================] - 53s 1s/step - loss: 0.3655 - accuracy: 0.8956 - val_loss: 1.3398 - val_accuracy: 0.7109\n",
            "Epoch 4/10\n",
            "50/50 [==============================] - 53s 1s/step - loss: 0.1555 - accuracy: 0.9498 - val_loss: 1.2938 - val_accuracy: 0.7083\n",
            "Epoch 5/10\n",
            "50/50 [==============================] - 54s 1s/step - loss: 0.1132 - accuracy: 0.9682 - val_loss: 1.1356 - val_accuracy: 0.7708\n",
            "Epoch 6/10\n",
            "50/50 [==============================] - 53s 1s/step - loss: 0.0611 - accuracy: 0.9817 - val_loss: 1.4329 - val_accuracy: 0.7188\n",
            "Epoch 7/10\n",
            "50/50 [==============================] - 53s 1s/step - loss: 0.0531 - accuracy: 0.9858 - val_loss: 1.2788 - val_accuracy: 0.7370\n",
            "Epoch 8/10\n",
            "50/50 [==============================] - 53s 1s/step - loss: 0.0361 - accuracy: 0.9872 - val_loss: 1.3868 - val_accuracy: 0.7630\n",
            "Epoch 9/10\n",
            "50/50 [==============================] - 52s 1s/step - loss: 0.0135 - accuracy: 0.9985 - val_loss: 1.5578 - val_accuracy: 0.7604\n",
            "Epoch 10/10\n",
            "50/50 [==============================] - 52s 1s/step - loss: 0.0323 - accuracy: 0.9865 - val_loss: 1.4489 - val_accuracy: 0.7448\n"
          ],
          "name": "stdout"
        },
        {
          "output_type": "display_data",
          "data": {
            "text/html": [
              "<br/>Waiting for W&B process to finish, PID 3539<br/>Program ended successfully."
            ],
            "text/plain": [
              "<IPython.core.display.HTML object>"
            ]
          },
          "metadata": {
            "tags": []
          }
        },
        {
          "output_type": "display_data",
          "data": {
            "application/vnd.jupyter.widget-view+json": {
              "model_id": "39a290d3c09940bfb1ee6fc0f1a81d4a",
              "version_minor": 0,
              "version_major": 2
            },
            "text/plain": [
              "VBox(children=(Label(value=' 199.91MB of 199.91MB uploaded (0.00MB deduped)\\r'), FloatProgress(value=1.0, max=…"
            ]
          },
          "metadata": {
            "tags": []
          }
        },
        {
          "output_type": "display_data",
          "data": {
            "text/html": [
              "Find user logs for this run at: <code>/content/wandb/run-20210408_113239-332xsokm/logs/debug.log</code>"
            ],
            "text/plain": [
              "<IPython.core.display.HTML object>"
            ]
          },
          "metadata": {
            "tags": []
          }
        },
        {
          "output_type": "display_data",
          "data": {
            "text/html": [
              "Find internal logs for this run at: <code>/content/wandb/run-20210408_113239-332xsokm/logs/debug-internal.log</code>"
            ],
            "text/plain": [
              "<IPython.core.display.HTML object>"
            ]
          },
          "metadata": {
            "tags": []
          }
        },
        {
          "output_type": "display_data",
          "data": {
            "text/html": [
              "<h3>Run summary:</h3><br/><style>\n",
              "    table.wandb td:nth-child(1) { padding: 0 10px; text-align: right }\n",
              "    </style><table class=\"wandb\">\n",
              "<tr><td>epoch</td><td>9</td></tr><tr><td>loss</td><td>0.02342</td></tr><tr><td>accuracy</td><td>0.99125</td></tr><tr><td>val_loss</td><td>1.44886</td></tr><tr><td>val_accuracy</td><td>0.74479</td></tr><tr><td>_runtime</td><td>546</td></tr><tr><td>_timestamp</td><td>1617882105</td></tr><tr><td>_step</td><td>9</td></tr><tr><td>best_val_accuracy</td><td>0.77083</td></tr><tr><td>best_epoch</td><td>4</td></tr></table>"
            ],
            "text/plain": [
              "<IPython.core.display.HTML object>"
            ]
          },
          "metadata": {
            "tags": []
          }
        },
        {
          "output_type": "display_data",
          "data": {
            "text/html": [
              "<h3>Run history:</h3><br/><style>\n",
              "    table.wandb td:nth-child(1) { padding: 0 10px; text-align: right }\n",
              "    </style><table class=\"wandb\">\n",
              "<tr><td>epoch</td><td>▁▂▃▃▄▅▆▆▇█</td></tr><tr><td>loss</td><td>█▂▂▁▁▁▁▁▁▁</td></tr><tr><td>accuracy</td><td>▁▅▇▇██████</td></tr><tr><td>val_loss</td><td>▆▂▄▄▁▆▃▅█▆</td></tr><tr><td>val_accuracy</td><td>▁▄▃▃█▄▅▇▇▆</td></tr><tr><td>_runtime</td><td>▁▂▃▃▄▅▆▆▇█</td></tr><tr><td>_timestamp</td><td>▁▂▃▃▄▅▆▆▇█</td></tr><tr><td>_step</td><td>▁▂▃▃▄▅▆▆▇█</td></tr></table><br/>"
            ],
            "text/plain": [
              "<IPython.core.display.HTML object>"
            ]
          },
          "metadata": {
            "tags": []
          }
        },
        {
          "output_type": "display_data",
          "data": {
            "text/html": [
              "Synced 5 W&B file(s), 1 media file(s), 0 artifact file(s) and 1 other file(s)"
            ],
            "text/plain": [
              "<IPython.core.display.HTML object>"
            ]
          },
          "metadata": {
            "tags": []
          }
        },
        {
          "output_type": "display_data",
          "data": {
            "text/html": [
              "\n",
              "                    <br/>Synced <strong style=\"color:#cdcd00\">dashing-sweep-25</strong>: <a href=\"https://wandb.ai/manideepladi/CNN_PartB/runs/332xsokm\" target=\"_blank\">https://wandb.ai/manideepladi/CNN_PartB/runs/332xsokm</a><br/>\n",
              "                "
            ],
            "text/plain": [
              "<IPython.core.display.HTML object>"
            ]
          },
          "metadata": {
            "tags": []
          }
        },
        {
          "output_type": "stream",
          "text": [
            "\u001b[34m\u001b[1mwandb\u001b[0m: Sweep Agent: Waiting for job.\n",
            "\u001b[34m\u001b[1mwandb\u001b[0m: Job received.\n",
            "\u001b[34m\u001b[1mwandb\u001b[0m: Agent Starting Run: boxvphwv with config:\n",
            "\u001b[34m\u001b[1mwandb\u001b[0m: \tnum_hlayers: 2\n",
            "\u001b[34m\u001b[1mwandb\u001b[0m: \tnum_neurons: 128\n",
            "\u001b[34m\u001b[1mwandb\u001b[0m: \tpretrained_model: InceptionV3\n",
            "\u001b[34m\u001b[1mwandb\u001b[0m: \ttrainable_layers: No\n"
          ],
          "name": "stderr"
        },
        {
          "output_type": "display_data",
          "data": {
            "text/html": [
              "\n",
              "                Tracking run with wandb version 0.10.25<br/>\n",
              "                Syncing run <strong style=\"color:#cdcd00\">gentle-sweep-26</strong> to <a href=\"https://wandb.ai\" target=\"_blank\">Weights & Biases</a> <a href=\"https://docs.wandb.com/integrations/jupyter.html\" target=\"_blank\">(Documentation)</a>.<br/>\n",
              "                Project page: <a href=\"https://wandb.ai/manideepladi/CNN_PartB\" target=\"_blank\">https://wandb.ai/manideepladi/CNN_PartB</a><br/>\n",
              "                Sweep page: <a href=\"https://wandb.ai/manideepladi/CNN_PartB/sweeps/u8v89osp\" target=\"_blank\">https://wandb.ai/manideepladi/CNN_PartB/sweeps/u8v89osp</a><br/>\n",
              "Run page: <a href=\"https://wandb.ai/manideepladi/CNN_PartB/runs/boxvphwv\" target=\"_blank\">https://wandb.ai/manideepladi/CNN_PartB/runs/boxvphwv</a><br/>\n",
              "                Run data is saved locally in <code>/content/wandb/run-20210408_114208-boxvphwv</code><br/><br/>\n",
              "            "
            ],
            "text/plain": [
              "<IPython.core.display.HTML object>"
            ]
          },
          "metadata": {
            "tags": []
          }
        },
        {
          "output_type": "stream",
          "text": [
            "Found 1600 images belonging to 10 classes.\n",
            "Found 400 images belonging to 10 classes.\n",
            "Epoch 1/10\n",
            "50/50 [==============================] - 59s 1s/step - loss: 5.3333 - accuracy: 0.3730 - val_loss: 1.1209 - val_accuracy: 0.6693\n",
            "Epoch 2/10\n",
            "50/50 [==============================] - 53s 1s/step - loss: 0.6675 - accuracy: 0.7989 - val_loss: 1.0919 - val_accuracy: 0.7292\n",
            "Epoch 3/10\n",
            "50/50 [==============================] - 53s 1s/step - loss: 0.4143 - accuracy: 0.8714 - val_loss: 1.1101 - val_accuracy: 0.6901\n",
            "Epoch 4/10\n",
            "50/50 [==============================] - 52s 1s/step - loss: 0.3227 - accuracy: 0.8968 - val_loss: 1.1267 - val_accuracy: 0.7135\n",
            "Epoch 5/10\n",
            "50/50 [==============================] - 52s 1s/step - loss: 0.2257 - accuracy: 0.9250 - val_loss: 1.0621 - val_accuracy: 0.7422\n",
            "Epoch 6/10\n",
            "50/50 [==============================] - 53s 1s/step - loss: 0.1312 - accuracy: 0.9665 - val_loss: 1.1510 - val_accuracy: 0.7214\n",
            "Epoch 7/10\n",
            "50/50 [==============================] - 52s 1s/step - loss: 0.0966 - accuracy: 0.9665 - val_loss: 1.4059 - val_accuracy: 0.7240\n",
            "Epoch 8/10\n",
            "50/50 [==============================] - 52s 1s/step - loss: 0.0519 - accuracy: 0.9848 - val_loss: 1.4403 - val_accuracy: 0.7578\n",
            "Epoch 9/10\n",
            "50/50 [==============================] - 52s 1s/step - loss: 0.0589 - accuracy: 0.9762 - val_loss: 1.5401 - val_accuracy: 0.7292\n",
            "Epoch 10/10\n",
            "50/50 [==============================] - 52s 1s/step - loss: 0.0765 - accuracy: 0.9784 - val_loss: 1.5060 - val_accuracy: 0.7266\n"
          ],
          "name": "stdout"
        },
        {
          "output_type": "display_data",
          "data": {
            "text/html": [
              "<br/>Waiting for W&B process to finish, PID 3642<br/>Program ended successfully."
            ],
            "text/plain": [
              "<IPython.core.display.HTML object>"
            ]
          },
          "metadata": {
            "tags": []
          }
        },
        {
          "output_type": "display_data",
          "data": {
            "application/vnd.jupyter.widget-view+json": {
              "model_id": "7db9829a3a3747208ca41a0b084e5692",
              "version_minor": 0,
              "version_major": 2
            },
            "text/plain": [
              "VBox(children=(Label(value=' 36.23MB of 36.23MB uploaded (0.00MB deduped)\\r'), FloatProgress(value=1.0, max=1.…"
            ]
          },
          "metadata": {
            "tags": []
          }
        },
        {
          "output_type": "display_data",
          "data": {
            "text/html": [
              "Find user logs for this run at: <code>/content/wandb/run-20210408_114208-boxvphwv/logs/debug.log</code>"
            ],
            "text/plain": [
              "<IPython.core.display.HTML object>"
            ]
          },
          "metadata": {
            "tags": []
          }
        },
        {
          "output_type": "display_data",
          "data": {
            "text/html": [
              "Find internal logs for this run at: <code>/content/wandb/run-20210408_114208-boxvphwv/logs/debug-internal.log</code>"
            ],
            "text/plain": [
              "<IPython.core.display.HTML object>"
            ]
          },
          "metadata": {
            "tags": []
          }
        },
        {
          "output_type": "display_data",
          "data": {
            "text/html": [
              "<h3>Run summary:</h3><br/><style>\n",
              "    table.wandb td:nth-child(1) { padding: 0 10px; text-align: right }\n",
              "    </style><table class=\"wandb\">\n",
              "<tr><td>epoch</td><td>9</td></tr><tr><td>loss</td><td>0.06761</td></tr><tr><td>accuracy</td><td>0.97938</td></tr><tr><td>val_loss</td><td>1.50601</td></tr><tr><td>val_accuracy</td><td>0.72656</td></tr><tr><td>_runtime</td><td>538</td></tr><tr><td>_timestamp</td><td>1617882666</td></tr><tr><td>_step</td><td>9</td></tr><tr><td>best_val_accuracy</td><td>0.75781</td></tr><tr><td>best_epoch</td><td>7</td></tr></table>"
            ],
            "text/plain": [
              "<IPython.core.display.HTML object>"
            ]
          },
          "metadata": {
            "tags": []
          }
        },
        {
          "output_type": "display_data",
          "data": {
            "text/html": [
              "<h3>Run history:</h3><br/><style>\n",
              "    table.wandb td:nth-child(1) { padding: 0 10px; text-align: right }\n",
              "    </style><table class=\"wandb\">\n",
              "<tr><td>epoch</td><td>▁▂▃▃▄▅▆▆▇█</td></tr><tr><td>loss</td><td>█▃▂▂▁▁▁▁▁▁</td></tr><tr><td>accuracy</td><td>▁▅▆▇▇█████</td></tr><tr><td>val_loss</td><td>▂▁▂▂▁▂▆▇██</td></tr><tr><td>val_accuracy</td><td>▁▆▃▅▇▅▅█▆▆</td></tr><tr><td>_runtime</td><td>▁▂▃▃▄▅▆▆▇█</td></tr><tr><td>_timestamp</td><td>▁▂▃▃▄▅▆▆▇█</td></tr><tr><td>_step</td><td>▁▂▃▃▄▅▆▆▇█</td></tr></table><br/>"
            ],
            "text/plain": [
              "<IPython.core.display.HTML object>"
            ]
          },
          "metadata": {
            "tags": []
          }
        },
        {
          "output_type": "display_data",
          "data": {
            "text/html": [
              "Synced 5 W&B file(s), 1 media file(s), 0 artifact file(s) and 1 other file(s)"
            ],
            "text/plain": [
              "<IPython.core.display.HTML object>"
            ]
          },
          "metadata": {
            "tags": []
          }
        },
        {
          "output_type": "display_data",
          "data": {
            "text/html": [
              "\n",
              "                    <br/>Synced <strong style=\"color:#cdcd00\">gentle-sweep-26</strong>: <a href=\"https://wandb.ai/manideepladi/CNN_PartB/runs/boxvphwv\" target=\"_blank\">https://wandb.ai/manideepladi/CNN_PartB/runs/boxvphwv</a><br/>\n",
              "                "
            ],
            "text/plain": [
              "<IPython.core.display.HTML object>"
            ]
          },
          "metadata": {
            "tags": []
          }
        },
        {
          "output_type": "stream",
          "text": [
            "\u001b[34m\u001b[1mwandb\u001b[0m: Agent Starting Run: p8u2ycwm with config:\n",
            "\u001b[34m\u001b[1mwandb\u001b[0m: \tnum_hlayers: 2\n",
            "\u001b[34m\u001b[1mwandb\u001b[0m: \tnum_neurons: 128\n",
            "\u001b[34m\u001b[1mwandb\u001b[0m: \tpretrained_model: Xception\n",
            "\u001b[34m\u001b[1mwandb\u001b[0m: \ttrainable_layers: Yes\n"
          ],
          "name": "stderr"
        },
        {
          "output_type": "display_data",
          "data": {
            "text/html": [
              "\n",
              "                Tracking run with wandb version 0.10.25<br/>\n",
              "                Syncing run <strong style=\"color:#cdcd00\">eager-sweep-27</strong> to <a href=\"https://wandb.ai\" target=\"_blank\">Weights & Biases</a> <a href=\"https://docs.wandb.com/integrations/jupyter.html\" target=\"_blank\">(Documentation)</a>.<br/>\n",
              "                Project page: <a href=\"https://wandb.ai/manideepladi/CNN_PartB\" target=\"_blank\">https://wandb.ai/manideepladi/CNN_PartB</a><br/>\n",
              "                Sweep page: <a href=\"https://wandb.ai/manideepladi/CNN_PartB/sweeps/u8v89osp\" target=\"_blank\">https://wandb.ai/manideepladi/CNN_PartB/sweeps/u8v89osp</a><br/>\n",
              "Run page: <a href=\"https://wandb.ai/manideepladi/CNN_PartB/runs/p8u2ycwm\" target=\"_blank\">https://wandb.ai/manideepladi/CNN_PartB/runs/p8u2ycwm</a><br/>\n",
              "                Run data is saved locally in <code>/content/wandb/run-20210408_115115-p8u2ycwm</code><br/><br/>\n",
              "            "
            ],
            "text/plain": [
              "<IPython.core.display.HTML object>"
            ]
          },
          "metadata": {
            "tags": []
          }
        },
        {
          "output_type": "stream",
          "text": [
            "Found 1600 images belonging to 10 classes.\n",
            "Found 400 images belonging to 10 classes.\n",
            "Epoch 1/10\n",
            "50/50 [==============================] - 57s 1s/step - loss: 2.4473 - accuracy: 0.4517 - val_loss: 1.2201 - val_accuracy: 0.6562\n",
            "Epoch 2/10\n",
            "50/50 [==============================] - 54s 1s/step - loss: 0.5437 - accuracy: 0.8401 - val_loss: 0.9690 - val_accuracy: 0.7318\n",
            "Epoch 3/10\n",
            "50/50 [==============================] - 53s 1s/step - loss: 0.2317 - accuracy: 0.9318 - val_loss: 1.1768 - val_accuracy: 0.7318\n",
            "Epoch 4/10\n",
            "50/50 [==============================] - 54s 1s/step - loss: 0.2097 - accuracy: 0.9325 - val_loss: 1.4524 - val_accuracy: 0.6927\n",
            "Epoch 5/10\n",
            "50/50 [==============================] - 54s 1s/step - loss: 0.1775 - accuracy: 0.9425 - val_loss: 1.6788 - val_accuracy: 0.7135\n",
            "Epoch 6/10\n",
            "50/50 [==============================] - 53s 1s/step - loss: 0.1424 - accuracy: 0.9595 - val_loss: 1.6066 - val_accuracy: 0.6849\n",
            "Epoch 7/10\n",
            "50/50 [==============================] - 54s 1s/step - loss: 0.1175 - accuracy: 0.9712 - val_loss: 2.6344 - val_accuracy: 0.6536\n",
            "Epoch 8/10\n",
            "50/50 [==============================] - 54s 1s/step - loss: 0.2674 - accuracy: 0.9450 - val_loss: 1.6364 - val_accuracy: 0.6979\n",
            "Epoch 9/10\n",
            "50/50 [==============================] - 54s 1s/step - loss: 0.1862 - accuracy: 0.9528 - val_loss: 1.5221 - val_accuracy: 0.7057\n",
            "Epoch 10/10\n",
            "50/50 [==============================] - 54s 1s/step - loss: 0.1421 - accuracy: 0.9607 - val_loss: 1.6555 - val_accuracy: 0.7031\n"
          ],
          "name": "stdout"
        },
        {
          "output_type": "display_data",
          "data": {
            "text/html": [
              "<br/>Waiting for W&B process to finish, PID 3745<br/>Program ended successfully."
            ],
            "text/plain": [
              "<IPython.core.display.HTML object>"
            ]
          },
          "metadata": {
            "tags": []
          }
        },
        {
          "output_type": "display_data",
          "data": {
            "application/vnd.jupyter.widget-view+json": {
              "model_id": "1f80edbce44144a6bca5c846c89f727a",
              "version_minor": 0,
              "version_major": 2
            },
            "text/plain": [
              "VBox(children=(Label(value=' 143.90MB of 143.90MB uploaded (0.00MB deduped)\\r'), FloatProgress(value=1.0, max=…"
            ]
          },
          "metadata": {
            "tags": []
          }
        },
        {
          "output_type": "display_data",
          "data": {
            "text/html": [
              "Find user logs for this run at: <code>/content/wandb/run-20210408_115115-p8u2ycwm/logs/debug.log</code>"
            ],
            "text/plain": [
              "<IPython.core.display.HTML object>"
            ]
          },
          "metadata": {
            "tags": []
          }
        },
        {
          "output_type": "display_data",
          "data": {
            "text/html": [
              "Find internal logs for this run at: <code>/content/wandb/run-20210408_115115-p8u2ycwm/logs/debug-internal.log</code>"
            ],
            "text/plain": [
              "<IPython.core.display.HTML object>"
            ]
          },
          "metadata": {
            "tags": []
          }
        },
        {
          "output_type": "display_data",
          "data": {
            "text/html": [
              "<h3>Run summary:</h3><br/><style>\n",
              "    table.wandb td:nth-child(1) { padding: 0 10px; text-align: right }\n",
              "    </style><table class=\"wandb\">\n",
              "<tr><td>epoch</td><td>9</td></tr><tr><td>loss</td><td>0.14853</td></tr><tr><td>accuracy</td><td>0.96</td></tr><tr><td>val_loss</td><td>1.65546</td></tr><tr><td>val_accuracy</td><td>0.70312</td></tr><tr><td>_runtime</td><td>550</td></tr><tr><td>_timestamp</td><td>1617883225</td></tr><tr><td>_step</td><td>9</td></tr><tr><td>best_val_accuracy</td><td>0.73177</td></tr><tr><td>best_epoch</td><td>1</td></tr></table>"
            ],
            "text/plain": [
              "<IPython.core.display.HTML object>"
            ]
          },
          "metadata": {
            "tags": []
          }
        },
        {
          "output_type": "display_data",
          "data": {
            "text/html": [
              "<h3>Run history:</h3><br/><style>\n",
              "    table.wandb td:nth-child(1) { padding: 0 10px; text-align: right }\n",
              "    </style><table class=\"wandb\">\n",
              "<tr><td>epoch</td><td>▁▂▃▃▄▅▆▆▇█</td></tr><tr><td>loss</td><td>█▃▂▂▁▁▁▁▁▁</td></tr><tr><td>accuracy</td><td>▁▆▇▇██████</td></tr><tr><td>val_loss</td><td>▂▁▂▃▄▄█▄▃▄</td></tr><tr><td>val_accuracy</td><td>▁██▅▆▄▁▅▆▅</td></tr><tr><td>_runtime</td><td>▁▂▃▃▄▅▆▆▇█</td></tr><tr><td>_timestamp</td><td>▁▂▃▃▄▅▆▆▇█</td></tr><tr><td>_step</td><td>▁▂▃▃▄▅▆▆▇█</td></tr></table><br/>"
            ],
            "text/plain": [
              "<IPython.core.display.HTML object>"
            ]
          },
          "metadata": {
            "tags": []
          }
        },
        {
          "output_type": "display_data",
          "data": {
            "text/html": [
              "Synced 5 W&B file(s), 1 media file(s), 0 artifact file(s) and 1 other file(s)"
            ],
            "text/plain": [
              "<IPython.core.display.HTML object>"
            ]
          },
          "metadata": {
            "tags": []
          }
        },
        {
          "output_type": "display_data",
          "data": {
            "text/html": [
              "\n",
              "                    <br/>Synced <strong style=\"color:#cdcd00\">eager-sweep-27</strong>: <a href=\"https://wandb.ai/manideepladi/CNN_PartB/runs/p8u2ycwm\" target=\"_blank\">https://wandb.ai/manideepladi/CNN_PartB/runs/p8u2ycwm</a><br/>\n",
              "                "
            ],
            "text/plain": [
              "<IPython.core.display.HTML object>"
            ]
          },
          "metadata": {
            "tags": []
          }
        },
        {
          "output_type": "stream",
          "text": [
            "\u001b[34m\u001b[1mwandb\u001b[0m: Sweep Agent: Waiting for job.\n",
            "\u001b[34m\u001b[1mwandb\u001b[0m: Job received.\n",
            "\u001b[34m\u001b[1mwandb\u001b[0m: Agent Starting Run: ypsf29kr with config:\n",
            "\u001b[34m\u001b[1mwandb\u001b[0m: \tnum_hlayers: 2\n",
            "\u001b[34m\u001b[1mwandb\u001b[0m: \tnum_neurons: 128\n",
            "\u001b[34m\u001b[1mwandb\u001b[0m: \tpretrained_model: Xception\n",
            "\u001b[34m\u001b[1mwandb\u001b[0m: \ttrainable_layers: No\n"
          ],
          "name": "stderr"
        },
        {
          "output_type": "display_data",
          "data": {
            "text/html": [
              "\n",
              "                Tracking run with wandb version 0.10.25<br/>\n",
              "                Syncing run <strong style=\"color:#cdcd00\">icy-sweep-28</strong> to <a href=\"https://wandb.ai\" target=\"_blank\">Weights & Biases</a> <a href=\"https://docs.wandb.com/integrations/jupyter.html\" target=\"_blank\">(Documentation)</a>.<br/>\n",
              "                Project page: <a href=\"https://wandb.ai/manideepladi/CNN_PartB\" target=\"_blank\">https://wandb.ai/manideepladi/CNN_PartB</a><br/>\n",
              "                Sweep page: <a href=\"https://wandb.ai/manideepladi/CNN_PartB/sweeps/u8v89osp\" target=\"_blank\">https://wandb.ai/manideepladi/CNN_PartB/sweeps/u8v89osp</a><br/>\n",
              "Run page: <a href=\"https://wandb.ai/manideepladi/CNN_PartB/runs/ypsf29kr\" target=\"_blank\">https://wandb.ai/manideepladi/CNN_PartB/runs/ypsf29kr</a><br/>\n",
              "                Run data is saved locally in <code>/content/wandb/run-20210408_120106-ypsf29kr</code><br/><br/>\n",
              "            "
            ],
            "text/plain": [
              "<IPython.core.display.HTML object>"
            ]
          },
          "metadata": {
            "tags": []
          }
        },
        {
          "output_type": "stream",
          "text": [
            "Found 1600 images belonging to 10 classes.\n",
            "Found 400 images belonging to 10 classes.\n",
            "Epoch 1/10\n",
            "50/50 [==============================] - 58s 1s/step - loss: 5.3932 - accuracy: 0.3723 - val_loss: 1.7098 - val_accuracy: 0.6875\n",
            "Epoch 2/10\n",
            "50/50 [==============================] - 55s 1s/step - loss: 1.1644 - accuracy: 0.7655 - val_loss: 1.3782 - val_accuracy: 0.7083\n",
            "Epoch 3/10\n",
            "50/50 [==============================] - 53s 1s/step - loss: 0.4880 - accuracy: 0.8674 - val_loss: 1.4543 - val_accuracy: 0.6797\n",
            "Epoch 4/10\n",
            "50/50 [==============================] - 54s 1s/step - loss: 0.4594 - accuracy: 0.8742 - val_loss: 1.8004 - val_accuracy: 0.6901\n",
            "Epoch 5/10\n",
            "50/50 [==============================] - 54s 1s/step - loss: 0.2801 - accuracy: 0.9147 - val_loss: 1.5459 - val_accuracy: 0.6927\n",
            "Epoch 6/10\n",
            "50/50 [==============================] - 53s 1s/step - loss: 0.1913 - accuracy: 0.9328 - val_loss: 1.5946 - val_accuracy: 0.7057\n",
            "Epoch 7/10\n",
            "50/50 [==============================] - 53s 1s/step - loss: 0.1739 - accuracy: 0.9459 - val_loss: 1.7186 - val_accuracy: 0.7083\n",
            "Epoch 8/10\n",
            "50/50 [==============================] - 53s 1s/step - loss: 0.1359 - accuracy: 0.9595 - val_loss: 1.8346 - val_accuracy: 0.6927\n",
            "Epoch 9/10\n",
            "50/50 [==============================] - 55s 1s/step - loss: 0.1127 - accuracy: 0.9703 - val_loss: 2.0751 - val_accuracy: 0.7083\n",
            "Epoch 10/10\n",
            "50/50 [==============================] - 54s 1s/step - loss: 0.1175 - accuracy: 0.9676 - val_loss: 1.8176 - val_accuracy: 0.7214\n"
          ],
          "name": "stdout"
        },
        {
          "output_type": "display_data",
          "data": {
            "text/html": [
              "<br/>Waiting for W&B process to finish, PID 3854<br/>Program ended successfully."
            ],
            "text/plain": [
              "<IPython.core.display.HTML object>"
            ]
          },
          "metadata": {
            "tags": []
          }
        },
        {
          "output_type": "display_data",
          "data": {
            "application/vnd.jupyter.widget-view+json": {
              "model_id": "b9fcdc422eeb4f34a5994c52751bfa17",
              "version_minor": 0,
              "version_major": 2
            },
            "text/plain": [
              "VBox(children=(Label(value=' 272.05MB of 272.05MB uploaded (0.00MB deduped)\\r'), FloatProgress(value=1.0, max=…"
            ]
          },
          "metadata": {
            "tags": []
          }
        },
        {
          "output_type": "display_data",
          "data": {
            "text/html": [
              "Find user logs for this run at: <code>/content/wandb/run-20210408_120106-ypsf29kr/logs/debug.log</code>"
            ],
            "text/plain": [
              "<IPython.core.display.HTML object>"
            ]
          },
          "metadata": {
            "tags": []
          }
        },
        {
          "output_type": "display_data",
          "data": {
            "text/html": [
              "Find internal logs for this run at: <code>/content/wandb/run-20210408_120106-ypsf29kr/logs/debug-internal.log</code>"
            ],
            "text/plain": [
              "<IPython.core.display.HTML object>"
            ]
          },
          "metadata": {
            "tags": []
          }
        },
        {
          "output_type": "display_data",
          "data": {
            "text/html": [
              "<h3>Run summary:</h3><br/><style>\n",
              "    table.wandb td:nth-child(1) { padding: 0 10px; text-align: right }\n",
              "    </style><table class=\"wandb\">\n",
              "<tr><td>epoch</td><td>9</td></tr><tr><td>loss</td><td>0.10627</td></tr><tr><td>accuracy</td><td>0.96625</td></tr><tr><td>val_loss</td><td>1.8176</td></tr><tr><td>val_accuracy</td><td>0.72135</td></tr><tr><td>_runtime</td><td>548</td></tr><tr><td>_timestamp</td><td>1617883814</td></tr><tr><td>_step</td><td>9</td></tr><tr><td>best_val_accuracy</td><td>0.72135</td></tr><tr><td>best_epoch</td><td>9</td></tr></table>"
            ],
            "text/plain": [
              "<IPython.core.display.HTML object>"
            ]
          },
          "metadata": {
            "tags": []
          }
        },
        {
          "output_type": "display_data",
          "data": {
            "text/html": [
              "<h3>Run history:</h3><br/><style>\n",
              "    table.wandb td:nth-child(1) { padding: 0 10px; text-align: right }\n",
              "    </style><table class=\"wandb\">\n",
              "<tr><td>epoch</td><td>▁▂▃▃▄▅▆▆▇█</td></tr><tr><td>loss</td><td>█▃▂▂▁▁▁▁▁▁</td></tr><tr><td>accuracy</td><td>▁▅▆▇▇█████</td></tr><tr><td>val_loss</td><td>▄▁▂▅▃▃▄▆█▅</td></tr><tr><td>val_accuracy</td><td>▂▆▁▃▃▅▆▃▆█</td></tr><tr><td>_runtime</td><td>▁▂▃▃▄▅▆▆▇█</td></tr><tr><td>_timestamp</td><td>▁▂▃▃▄▅▆▆▇█</td></tr><tr><td>_step</td><td>▁▂▃▃▄▅▆▆▇█</td></tr></table><br/>"
            ],
            "text/plain": [
              "<IPython.core.display.HTML object>"
            ]
          },
          "metadata": {
            "tags": []
          }
        },
        {
          "output_type": "display_data",
          "data": {
            "text/html": [
              "Synced 5 W&B file(s), 1 media file(s), 0 artifact file(s) and 1 other file(s)"
            ],
            "text/plain": [
              "<IPython.core.display.HTML object>"
            ]
          },
          "metadata": {
            "tags": []
          }
        },
        {
          "output_type": "display_data",
          "data": {
            "text/html": [
              "\n",
              "                    <br/>Synced <strong style=\"color:#cdcd00\">icy-sweep-28</strong>: <a href=\"https://wandb.ai/manideepladi/CNN_PartB/runs/ypsf29kr\" target=\"_blank\">https://wandb.ai/manideepladi/CNN_PartB/runs/ypsf29kr</a><br/>\n",
              "                "
            ],
            "text/plain": [
              "<IPython.core.display.HTML object>"
            ]
          },
          "metadata": {
            "tags": []
          }
        },
        {
          "output_type": "stream",
          "text": [
            "\u001b[34m\u001b[1mwandb\u001b[0m: Agent Starting Run: ynyjph6c with config:\n",
            "\u001b[34m\u001b[1mwandb\u001b[0m: \tnum_hlayers: 2\n",
            "\u001b[34m\u001b[1mwandb\u001b[0m: \tnum_neurons: 128\n",
            "\u001b[34m\u001b[1mwandb\u001b[0m: \tpretrained_model: InceptionResnetV2\n",
            "\u001b[34m\u001b[1mwandb\u001b[0m: \ttrainable_layers: Yes\n"
          ],
          "name": "stderr"
        },
        {
          "output_type": "display_data",
          "data": {
            "text/html": [
              "\n",
              "                Tracking run with wandb version 0.10.25<br/>\n",
              "                Syncing run <strong style=\"color:#cdcd00\">toasty-sweep-29</strong> to <a href=\"https://wandb.ai\" target=\"_blank\">Weights & Biases</a> <a href=\"https://docs.wandb.com/integrations/jupyter.html\" target=\"_blank\">(Documentation)</a>.<br/>\n",
              "                Project page: <a href=\"https://wandb.ai/manideepladi/CNN_PartB\" target=\"_blank\">https://wandb.ai/manideepladi/CNN_PartB</a><br/>\n",
              "                Sweep page: <a href=\"https://wandb.ai/manideepladi/CNN_PartB/sweeps/u8v89osp\" target=\"_blank\">https://wandb.ai/manideepladi/CNN_PartB/sweeps/u8v89osp</a><br/>\n",
              "Run page: <a href=\"https://wandb.ai/manideepladi/CNN_PartB/runs/ynyjph6c\" target=\"_blank\">https://wandb.ai/manideepladi/CNN_PartB/runs/ynyjph6c</a><br/>\n",
              "                Run data is saved locally in <code>/content/wandb/run-20210408_121025-ynyjph6c</code><br/><br/>\n",
              "            "
            ],
            "text/plain": [
              "<IPython.core.display.HTML object>"
            ]
          },
          "metadata": {
            "tags": []
          }
        },
        {
          "output_type": "stream",
          "text": [
            "Found 1600 images belonging to 10 classes.\n",
            "Found 400 images belonging to 10 classes.\n",
            "Epoch 1/10\n",
            "50/50 [==============================] - 70s 1s/step - loss: 4.0941 - accuracy: 0.3874 - val_loss: 1.6379 - val_accuracy: 0.6901\n",
            "Epoch 2/10\n",
            "50/50 [==============================] - 56s 1s/step - loss: 0.6329 - accuracy: 0.8110 - val_loss: 1.1855 - val_accuracy: 0.7135\n",
            "Epoch 3/10\n",
            "50/50 [==============================] - 55s 1s/step - loss: 0.2874 - accuracy: 0.9063 - val_loss: 1.3884 - val_accuracy: 0.7031\n",
            "Epoch 4/10\n",
            "50/50 [==============================] - 56s 1s/step - loss: 0.1986 - accuracy: 0.9454 - val_loss: 1.5518 - val_accuracy: 0.6953\n",
            "Epoch 5/10\n",
            "50/50 [==============================] - 55s 1s/step - loss: 0.1496 - accuracy: 0.9564 - val_loss: 2.1423 - val_accuracy: 0.6406\n",
            "Epoch 6/10\n",
            "50/50 [==============================] - 57s 1s/step - loss: 0.2169 - accuracy: 0.9373 - val_loss: 1.8772 - val_accuracy: 0.7031\n",
            "Epoch 7/10\n",
            "50/50 [==============================] - 56s 1s/step - loss: 0.1465 - accuracy: 0.9492 - val_loss: 3.9180 - val_accuracy: 0.6536\n",
            "Epoch 8/10\n",
            "50/50 [==============================] - 56s 1s/step - loss: 0.1735 - accuracy: 0.9623 - val_loss: 1.8188 - val_accuracy: 0.6719\n",
            "Epoch 9/10\n",
            "50/50 [==============================] - 55s 1s/step - loss: 0.1588 - accuracy: 0.9500 - val_loss: 2.5959 - val_accuracy: 0.6589\n",
            "Epoch 10/10\n",
            "50/50 [==============================] - 55s 1s/step - loss: 0.1194 - accuracy: 0.9580 - val_loss: 1.5978 - val_accuracy: 0.7083\n"
          ],
          "name": "stdout"
        },
        {
          "output_type": "display_data",
          "data": {
            "text/html": [
              "<br/>Waiting for W&B process to finish, PID 3957<br/>Program ended successfully."
            ],
            "text/plain": [
              "<IPython.core.display.HTML object>"
            ]
          },
          "metadata": {
            "tags": []
          }
        },
        {
          "output_type": "display_data",
          "data": {
            "application/vnd.jupyter.widget-view+json": {
              "model_id": "f8871e13403448ce9ea37037b8fee0b6",
              "version_minor": 0,
              "version_major": 2
            },
            "text/plain": [
              "VBox(children=(Label(value=' 27.45MB of 27.45MB uploaded (0.00MB deduped)\\r'), FloatProgress(value=1.0, max=1.…"
            ]
          },
          "metadata": {
            "tags": []
          }
        },
        {
          "output_type": "display_data",
          "data": {
            "text/html": [
              "Find user logs for this run at: <code>/content/wandb/run-20210408_121025-ynyjph6c/logs/debug.log</code>"
            ],
            "text/plain": [
              "<IPython.core.display.HTML object>"
            ]
          },
          "metadata": {
            "tags": []
          }
        },
        {
          "output_type": "display_data",
          "data": {
            "text/html": [
              "Find internal logs for this run at: <code>/content/wandb/run-20210408_121025-ynyjph6c/logs/debug-internal.log</code>"
            ],
            "text/plain": [
              "<IPython.core.display.HTML object>"
            ]
          },
          "metadata": {
            "tags": []
          }
        },
        {
          "output_type": "display_data",
          "data": {
            "text/html": [
              "<h3>Run summary:</h3><br/><style>\n",
              "    table.wandb td:nth-child(1) { padding: 0 10px; text-align: right }\n",
              "    </style><table class=\"wandb\">\n",
              "<tr><td>epoch</td><td>9</td></tr><tr><td>loss</td><td>0.12587</td></tr><tr><td>accuracy</td><td>0.9575</td></tr><tr><td>val_loss</td><td>1.5978</td></tr><tr><td>val_accuracy</td><td>0.70833</td></tr><tr><td>_runtime</td><td>592</td></tr><tr><td>_timestamp</td><td>1617884417</td></tr><tr><td>_step</td><td>9</td></tr><tr><td>best_val_accuracy</td><td>0.71354</td></tr><tr><td>best_epoch</td><td>1</td></tr></table>"
            ],
            "text/plain": [
              "<IPython.core.display.HTML object>"
            ]
          },
          "metadata": {
            "tags": []
          }
        },
        {
          "output_type": "display_data",
          "data": {
            "text/html": [
              "<h3>Run history:</h3><br/><style>\n",
              "    table.wandb td:nth-child(1) { padding: 0 10px; text-align: right }\n",
              "    </style><table class=\"wandb\">\n",
              "<tr><td>epoch</td><td>▁▂▃▃▄▅▆▆▇█</td></tr><tr><td>loss</td><td>█▂▂▁▁▁▁▁▁▁</td></tr><tr><td>accuracy</td><td>▁▆▇███████</td></tr><tr><td>val_loss</td><td>▂▁▂▂▃▃█▃▅▂</td></tr><tr><td>val_accuracy</td><td>▆█▇▆▁▇▂▄▃▇</td></tr><tr><td>_runtime</td><td>▁▂▃▃▄▅▆▆▇█</td></tr><tr><td>_timestamp</td><td>▁▂▃▃▄▅▆▆▇█</td></tr><tr><td>_step</td><td>▁▂▃▃▄▅▆▆▇█</td></tr></table><br/>"
            ],
            "text/plain": [
              "<IPython.core.display.HTML object>"
            ]
          },
          "metadata": {
            "tags": []
          }
        },
        {
          "output_type": "display_data",
          "data": {
            "text/html": [
              "Synced 5 W&B file(s), 1 media file(s), 0 artifact file(s) and 1 other file(s)"
            ],
            "text/plain": [
              "<IPython.core.display.HTML object>"
            ]
          },
          "metadata": {
            "tags": []
          }
        },
        {
          "output_type": "display_data",
          "data": {
            "text/html": [
              "\n",
              "                    <br/>Synced <strong style=\"color:#cdcd00\">toasty-sweep-29</strong>: <a href=\"https://wandb.ai/manideepladi/CNN_PartB/runs/ynyjph6c\" target=\"_blank\">https://wandb.ai/manideepladi/CNN_PartB/runs/ynyjph6c</a><br/>\n",
              "                "
            ],
            "text/plain": [
              "<IPython.core.display.HTML object>"
            ]
          },
          "metadata": {
            "tags": []
          }
        },
        {
          "output_type": "stream",
          "text": [
            "\u001b[34m\u001b[1mwandb\u001b[0m: Agent Starting Run: 87w3601q with config:\n",
            "\u001b[34m\u001b[1mwandb\u001b[0m: \tnum_hlayers: 2\n",
            "\u001b[34m\u001b[1mwandb\u001b[0m: \tnum_neurons: 128\n",
            "\u001b[34m\u001b[1mwandb\u001b[0m: \tpretrained_model: InceptionResnetV2\n",
            "\u001b[34m\u001b[1mwandb\u001b[0m: \ttrainable_layers: No\n"
          ],
          "name": "stderr"
        },
        {
          "output_type": "display_data",
          "data": {
            "text/html": [
              "\n",
              "                Tracking run with wandb version 0.10.25<br/>\n",
              "                Syncing run <strong style=\"color:#cdcd00\">whole-sweep-30</strong> to <a href=\"https://wandb.ai\" target=\"_blank\">Weights & Biases</a> <a href=\"https://docs.wandb.com/integrations/jupyter.html\" target=\"_blank\">(Documentation)</a>.<br/>\n",
              "                Project page: <a href=\"https://wandb.ai/manideepladi/CNN_PartB\" target=\"_blank\">https://wandb.ai/manideepladi/CNN_PartB</a><br/>\n",
              "                Sweep page: <a href=\"https://wandb.ai/manideepladi/CNN_PartB/sweeps/u8v89osp\" target=\"_blank\">https://wandb.ai/manideepladi/CNN_PartB/sweeps/u8v89osp</a><br/>\n",
              "Run page: <a href=\"https://wandb.ai/manideepladi/CNN_PartB/runs/87w3601q\" target=\"_blank\">https://wandb.ai/manideepladi/CNN_PartB/runs/87w3601q</a><br/>\n",
              "                Run data is saved locally in <code>/content/wandb/run-20210408_122027-87w3601q</code><br/><br/>\n",
              "            "
            ],
            "text/plain": [
              "<IPython.core.display.HTML object>"
            ]
          },
          "metadata": {
            "tags": []
          }
        },
        {
          "output_type": "stream",
          "text": [
            "Found 1600 images belonging to 10 classes.\n",
            "Found 400 images belonging to 10 classes.\n",
            "Epoch 1/10\n",
            "50/50 [==============================] - 70s 1s/step - loss: 5.3335 - accuracy: 0.3908 - val_loss: 1.2822 - val_accuracy: 0.6901\n",
            "Epoch 2/10\n",
            "50/50 [==============================] - 58s 1s/step - loss: 0.8757 - accuracy: 0.7721 - val_loss: 1.0526 - val_accuracy: 0.7266\n",
            "Epoch 3/10\n",
            "50/50 [==============================] - 56s 1s/step - loss: 0.5901 - accuracy: 0.8442 - val_loss: 0.9250 - val_accuracy: 0.7604\n",
            "Epoch 4/10\n",
            "50/50 [==============================] - 56s 1s/step - loss: 0.3199 - accuracy: 0.9063 - val_loss: 1.2046 - val_accuracy: 0.7266\n",
            "Epoch 5/10\n",
            "50/50 [==============================] - 56s 1s/step - loss: 0.2469 - accuracy: 0.9173 - val_loss: 1.0765 - val_accuracy: 0.7526\n",
            "Epoch 6/10\n",
            "50/50 [==============================] - 56s 1s/step - loss: 0.2046 - accuracy: 0.9356 - val_loss: 1.1812 - val_accuracy: 0.7396\n",
            "Epoch 7/10\n",
            "50/50 [==============================] - 56s 1s/step - loss: 0.0934 - accuracy: 0.9746 - val_loss: 1.0675 - val_accuracy: 0.7708\n",
            "Epoch 8/10\n",
            "50/50 [==============================] - 56s 1s/step - loss: 0.1091 - accuracy: 0.9781 - val_loss: 1.1756 - val_accuracy: 0.7500\n",
            "Epoch 9/10\n",
            "50/50 [==============================] - 57s 1s/step - loss: 0.0721 - accuracy: 0.9706 - val_loss: 1.2917 - val_accuracy: 0.7630\n",
            "Epoch 10/10\n",
            "50/50 [==============================] - 57s 1s/step - loss: 0.0446 - accuracy: 0.9846 - val_loss: 1.2739 - val_accuracy: 0.7682\n"
          ],
          "name": "stdout"
        },
        {
          "output_type": "display_data",
          "data": {
            "text/html": [
              "<br/>Waiting for W&B process to finish, PID 4064<br/>Program ended successfully."
            ],
            "text/plain": [
              "<IPython.core.display.HTML object>"
            ]
          },
          "metadata": {
            "tags": []
          }
        },
        {
          "output_type": "display_data",
          "data": {
            "application/vnd.jupyter.widget-view+json": {
              "model_id": "d9d861bfacaa41a4a061581d2934c2dd",
              "version_minor": 0,
              "version_major": 2
            },
            "text/plain": [
              "VBox(children=(Label(value=' 235.50MB of 235.50MB uploaded (0.00MB deduped)\\r'), FloatProgress(value=1.0, max=…"
            ]
          },
          "metadata": {
            "tags": []
          }
        },
        {
          "output_type": "display_data",
          "data": {
            "text/html": [
              "Find user logs for this run at: <code>/content/wandb/run-20210408_122027-87w3601q/logs/debug.log</code>"
            ],
            "text/plain": [
              "<IPython.core.display.HTML object>"
            ]
          },
          "metadata": {
            "tags": []
          }
        },
        {
          "output_type": "display_data",
          "data": {
            "text/html": [
              "Find internal logs for this run at: <code>/content/wandb/run-20210408_122027-87w3601q/logs/debug-internal.log</code>"
            ],
            "text/plain": [
              "<IPython.core.display.HTML object>"
            ]
          },
          "metadata": {
            "tags": []
          }
        },
        {
          "output_type": "display_data",
          "data": {
            "text/html": [
              "<h3>Run summary:</h3><br/><style>\n",
              "    table.wandb td:nth-child(1) { padding: 0 10px; text-align: right }\n",
              "    </style><table class=\"wandb\">\n",
              "<tr><td>epoch</td><td>9</td></tr><tr><td>loss</td><td>0.05269</td></tr><tr><td>accuracy</td><td>0.98125</td></tr><tr><td>val_loss</td><td>1.27388</td></tr><tr><td>val_accuracy</td><td>0.76823</td></tr><tr><td>_runtime</td><td>597</td></tr><tr><td>_timestamp</td><td>1617885024</td></tr><tr><td>_step</td><td>9</td></tr><tr><td>best_val_accuracy</td><td>0.77083</td></tr><tr><td>best_epoch</td><td>6</td></tr></table>"
            ],
            "text/plain": [
              "<IPython.core.display.HTML object>"
            ]
          },
          "metadata": {
            "tags": []
          }
        },
        {
          "output_type": "display_data",
          "data": {
            "text/html": [
              "<h3>Run history:</h3><br/><style>\n",
              "    table.wandb td:nth-child(1) { padding: 0 10px; text-align: right }\n",
              "    </style><table class=\"wandb\">\n",
              "<tr><td>epoch</td><td>▁▂▃▃▄▅▆▆▇█</td></tr><tr><td>loss</td><td>█▃▂▂▁▁▁▁▁▁</td></tr><tr><td>accuracy</td><td>▁▅▆▇▇▇████</td></tr><tr><td>val_loss</td><td>█▃▁▆▄▆▄▆██</td></tr><tr><td>val_accuracy</td><td>▁▄▇▄▆▅█▆▇█</td></tr><tr><td>_runtime</td><td>▁▂▃▃▄▅▆▆▇█</td></tr><tr><td>_timestamp</td><td>▁▂▃▃▄▅▆▆▇█</td></tr><tr><td>_step</td><td>▁▂▃▃▄▅▆▆▇█</td></tr></table><br/>"
            ],
            "text/plain": [
              "<IPython.core.display.HTML object>"
            ]
          },
          "metadata": {
            "tags": []
          }
        },
        {
          "output_type": "display_data",
          "data": {
            "text/html": [
              "Synced 5 W&B file(s), 1 media file(s), 0 artifact file(s) and 1 other file(s)"
            ],
            "text/plain": [
              "<IPython.core.display.HTML object>"
            ]
          },
          "metadata": {
            "tags": []
          }
        },
        {
          "output_type": "display_data",
          "data": {
            "text/html": [
              "\n",
              "                    <br/>Synced <strong style=\"color:#cdcd00\">whole-sweep-30</strong>: <a href=\"https://wandb.ai/manideepladi/CNN_PartB/runs/87w3601q\" target=\"_blank\">https://wandb.ai/manideepladi/CNN_PartB/runs/87w3601q</a><br/>\n",
              "                "
            ],
            "text/plain": [
              "<IPython.core.display.HTML object>"
            ]
          },
          "metadata": {
            "tags": []
          }
        },
        {
          "output_type": "stream",
          "text": [
            "\u001b[34m\u001b[1mwandb\u001b[0m: Agent Starting Run: idh12s9t with config:\n",
            "\u001b[34m\u001b[1mwandb\u001b[0m: \tnum_hlayers: 2\n",
            "\u001b[34m\u001b[1mwandb\u001b[0m: \tnum_neurons: 128\n",
            "\u001b[34m\u001b[1mwandb\u001b[0m: \tpretrained_model: ResNet50\n",
            "\u001b[34m\u001b[1mwandb\u001b[0m: \ttrainable_layers: Yes\n"
          ],
          "name": "stderr"
        },
        {
          "output_type": "display_data",
          "data": {
            "text/html": [
              "\n",
              "                Tracking run with wandb version 0.10.25<br/>\n",
              "                Syncing run <strong style=\"color:#cdcd00\">jolly-sweep-31</strong> to <a href=\"https://wandb.ai\" target=\"_blank\">Weights & Biases</a> <a href=\"https://docs.wandb.com/integrations/jupyter.html\" target=\"_blank\">(Documentation)</a>.<br/>\n",
              "                Project page: <a href=\"https://wandb.ai/manideepladi/CNN_PartB\" target=\"_blank\">https://wandb.ai/manideepladi/CNN_PartB</a><br/>\n",
              "                Sweep page: <a href=\"https://wandb.ai/manideepladi/CNN_PartB/sweeps/u8v89osp\" target=\"_blank\">https://wandb.ai/manideepladi/CNN_PartB/sweeps/u8v89osp</a><br/>\n",
              "Run page: <a href=\"https://wandb.ai/manideepladi/CNN_PartB/runs/idh12s9t\" target=\"_blank\">https://wandb.ai/manideepladi/CNN_PartB/runs/idh12s9t</a><br/>\n",
              "                Run data is saved locally in <code>/content/wandb/run-20210408_123034-idh12s9t</code><br/><br/>\n",
              "            "
            ],
            "text/plain": [
              "<IPython.core.display.HTML object>"
            ]
          },
          "metadata": {
            "tags": []
          }
        },
        {
          "output_type": "stream",
          "text": [
            "Found 1600 images belonging to 10 classes.\n",
            "Found 400 images belonging to 10 classes.\n",
            "Epoch 1/10\n",
            "50/50 [==============================] - 60s 1s/step - loss: 6.6658 - accuracy: 0.1098 - val_loss: 8.6503 - val_accuracy: 0.1042\n",
            "Epoch 2/10\n",
            "50/50 [==============================] - 55s 1s/step - loss: 2.4136 - accuracy: 0.1269 - val_loss: 2.5427 - val_accuracy: 0.1042\n",
            "Epoch 3/10\n",
            "50/50 [==============================] - 54s 1s/step - loss: 2.2681 - accuracy: 0.1585 - val_loss: 2.4258 - val_accuracy: 0.1406\n",
            "Epoch 4/10\n",
            "50/50 [==============================] - 54s 1s/step - loss: 2.2946 - accuracy: 0.1803 - val_loss: 2.2909 - val_accuracy: 0.1380\n",
            "Epoch 5/10\n",
            "50/50 [==============================] - 55s 1s/step - loss: 2.2425 - accuracy: 0.1573 - val_loss: 2.2686 - val_accuracy: 0.1615\n",
            "Epoch 6/10\n",
            "50/50 [==============================] - 55s 1s/step - loss: 2.1651 - accuracy: 0.2165 - val_loss: 2.2387 - val_accuracy: 0.2161\n",
            "Epoch 7/10\n",
            "50/50 [==============================] - 54s 1s/step - loss: 2.1987 - accuracy: 0.1986 - val_loss: 2.2796 - val_accuracy: 0.1745\n",
            "Epoch 8/10\n",
            "50/50 [==============================] - 54s 1s/step - loss: 2.1390 - accuracy: 0.2145 - val_loss: 2.2653 - val_accuracy: 0.1719\n",
            "Epoch 9/10\n",
            "50/50 [==============================] - 54s 1s/step - loss: 2.1759 - accuracy: 0.2029 - val_loss: 2.3784 - val_accuracy: 0.1562\n",
            "Epoch 10/10\n",
            "50/50 [==============================] - 54s 1s/step - loss: 2.1424 - accuracy: 0.2191 - val_loss: 2.1429 - val_accuracy: 0.2031\n"
          ],
          "name": "stdout"
        },
        {
          "output_type": "display_data",
          "data": {
            "text/html": [
              "<br/>Waiting for W&B process to finish, PID 4175<br/>Program ended successfully."
            ],
            "text/plain": [
              "<IPython.core.display.HTML object>"
            ]
          },
          "metadata": {
            "tags": []
          }
        },
        {
          "output_type": "display_data",
          "data": {
            "application/vnd.jupyter.widget-view+json": {
              "model_id": "ffe3c609547b48e8943b45932810c0e3",
              "version_minor": 0,
              "version_major": 2
            },
            "text/plain": [
              "VBox(children=(Label(value=' 316.61MB of 316.61MB uploaded (0.00MB deduped)\\r'), FloatProgress(value=1.0, max=…"
            ]
          },
          "metadata": {
            "tags": []
          }
        },
        {
          "output_type": "display_data",
          "data": {
            "text/html": [
              "Find user logs for this run at: <code>/content/wandb/run-20210408_123034-idh12s9t/logs/debug.log</code>"
            ],
            "text/plain": [
              "<IPython.core.display.HTML object>"
            ]
          },
          "metadata": {
            "tags": []
          }
        },
        {
          "output_type": "display_data",
          "data": {
            "text/html": [
              "Find internal logs for this run at: <code>/content/wandb/run-20210408_123034-idh12s9t/logs/debug-internal.log</code>"
            ],
            "text/plain": [
              "<IPython.core.display.HTML object>"
            ]
          },
          "metadata": {
            "tags": []
          }
        },
        {
          "output_type": "display_data",
          "data": {
            "text/html": [
              "<h3>Run summary:</h3><br/><style>\n",
              "    table.wandb td:nth-child(1) { padding: 0 10px; text-align: right }\n",
              "    </style><table class=\"wandb\">\n",
              "<tr><td>epoch</td><td>9</td></tr><tr><td>loss</td><td>2.09669</td></tr><tr><td>accuracy</td><td>0.24187</td></tr><tr><td>val_loss</td><td>2.14291</td></tr><tr><td>val_accuracy</td><td>0.20312</td></tr><tr><td>_runtime</td><td>562</td></tr><tr><td>_timestamp</td><td>1617885596</td></tr><tr><td>_step</td><td>9</td></tr><tr><td>best_val_accuracy</td><td>0.21615</td></tr><tr><td>best_epoch</td><td>5</td></tr></table>"
            ],
            "text/plain": [
              "<IPython.core.display.HTML object>"
            ]
          },
          "metadata": {
            "tags": []
          }
        },
        {
          "output_type": "display_data",
          "data": {
            "text/html": [
              "<h3>Run history:</h3><br/><style>\n",
              "    table.wandb td:nth-child(1) { padding: 0 10px; text-align: right }\n",
              "    </style><table class=\"wandb\">\n",
              "<tr><td>epoch</td><td>▁▂▃▃▄▅▆▆▇█</td></tr><tr><td>loss</td><td>█▂▂▂▁▁▁▁▁▁</td></tr><tr><td>accuracy</td><td>▁▂▄▄▅▆▆▆▆█</td></tr><tr><td>val_loss</td><td>█▁▁▁▁▁▁▁▁▁</td></tr><tr><td>val_accuracy</td><td>▁▁▃▃▅█▅▅▄▇</td></tr><tr><td>_runtime</td><td>▁▂▃▃▄▅▆▆▇█</td></tr><tr><td>_timestamp</td><td>▁▂▃▃▄▅▆▆▇█</td></tr><tr><td>_step</td><td>▁▂▃▃▄▅▆▆▇█</td></tr></table><br/>"
            ],
            "text/plain": [
              "<IPython.core.display.HTML object>"
            ]
          },
          "metadata": {
            "tags": []
          }
        },
        {
          "output_type": "display_data",
          "data": {
            "text/html": [
              "Synced 5 W&B file(s), 1 media file(s), 0 artifact file(s) and 1 other file(s)"
            ],
            "text/plain": [
              "<IPython.core.display.HTML object>"
            ]
          },
          "metadata": {
            "tags": []
          }
        },
        {
          "output_type": "display_data",
          "data": {
            "text/html": [
              "\n",
              "                    <br/>Synced <strong style=\"color:#cdcd00\">jolly-sweep-31</strong>: <a href=\"https://wandb.ai/manideepladi/CNN_PartB/runs/idh12s9t\" target=\"_blank\">https://wandb.ai/manideepladi/CNN_PartB/runs/idh12s9t</a><br/>\n",
              "                "
            ],
            "text/plain": [
              "<IPython.core.display.HTML object>"
            ]
          },
          "metadata": {
            "tags": []
          }
        },
        {
          "output_type": "stream",
          "text": [
            "\u001b[34m\u001b[1mwandb\u001b[0m: Agent Starting Run: difqpcke with config:\n",
            "\u001b[34m\u001b[1mwandb\u001b[0m: \tnum_hlayers: 2\n",
            "\u001b[34m\u001b[1mwandb\u001b[0m: \tnum_neurons: 128\n",
            "\u001b[34m\u001b[1mwandb\u001b[0m: \tpretrained_model: ResNet50\n",
            "\u001b[34m\u001b[1mwandb\u001b[0m: \ttrainable_layers: No\n"
          ],
          "name": "stderr"
        },
        {
          "output_type": "display_data",
          "data": {
            "text/html": [
              "\n",
              "                Tracking run with wandb version 0.10.25<br/>\n",
              "                Syncing run <strong style=\"color:#cdcd00\">fast-sweep-32</strong> to <a href=\"https://wandb.ai\" target=\"_blank\">Weights & Biases</a> <a href=\"https://docs.wandb.com/integrations/jupyter.html\" target=\"_blank\">(Documentation)</a>.<br/>\n",
              "                Project page: <a href=\"https://wandb.ai/manideepladi/CNN_PartB\" target=\"_blank\">https://wandb.ai/manideepladi/CNN_PartB</a><br/>\n",
              "                Sweep page: <a href=\"https://wandb.ai/manideepladi/CNN_PartB/sweeps/u8v89osp\" target=\"_blank\">https://wandb.ai/manideepladi/CNN_PartB/sweeps/u8v89osp</a><br/>\n",
              "Run page: <a href=\"https://wandb.ai/manideepladi/CNN_PartB/runs/difqpcke\" target=\"_blank\">https://wandb.ai/manideepladi/CNN_PartB/runs/difqpcke</a><br/>\n",
              "                Run data is saved locally in <code>/content/wandb/run-20210408_124008-difqpcke</code><br/><br/>\n",
              "            "
            ],
            "text/plain": [
              "<IPython.core.display.HTML object>"
            ]
          },
          "metadata": {
            "tags": []
          }
        },
        {
          "output_type": "stream",
          "text": [
            "Found 1600 images belonging to 10 classes.\n",
            "Found 400 images belonging to 10 classes.\n",
            "Epoch 1/10\n",
            "50/50 [==============================] - 60s 1s/step - loss: 8.5700 - accuracy: 0.1068 - val_loss: 2.3958 - val_accuracy: 0.1068\n",
            "Epoch 2/10\n",
            "50/50 [==============================] - 54s 1s/step - loss: 2.6289 - accuracy: 0.1352 - val_loss: 3.0508 - val_accuracy: 0.1719\n",
            "Epoch 3/10\n",
            "50/50 [==============================] - 53s 1s/step - loss: 2.5867 - accuracy: 0.1535 - val_loss: 2.7494 - val_accuracy: 0.1484\n",
            "Epoch 4/10\n",
            "50/50 [==============================] - 54s 1s/step - loss: 2.4078 - accuracy: 0.1520 - val_loss: 2.3026 - val_accuracy: 0.1536\n",
            "Epoch 5/10\n",
            "50/50 [==============================] - 55s 1s/step - loss: 2.2285 - accuracy: 0.1845 - val_loss: 2.3699 - val_accuracy: 0.1693\n",
            "Epoch 6/10\n",
            "50/50 [==============================] - 53s 1s/step - loss: 2.2038 - accuracy: 0.1970 - val_loss: 2.1977 - val_accuracy: 0.2135\n",
            "Epoch 7/10\n",
            "50/50 [==============================] - 54s 1s/step - loss: 2.2017 - accuracy: 0.2172 - val_loss: 2.4289 - val_accuracy: 0.1302\n",
            "Epoch 8/10\n",
            "50/50 [==============================] - 53s 1s/step - loss: 2.3342 - accuracy: 0.1534 - val_loss: 2.2697 - val_accuracy: 0.1562\n",
            "Epoch 9/10\n",
            "50/50 [==============================] - 53s 1s/step - loss: 2.2013 - accuracy: 0.1870 - val_loss: 2.2834 - val_accuracy: 0.1875\n",
            "Epoch 10/10\n",
            "50/50 [==============================] - 54s 1s/step - loss: 2.1823 - accuracy: 0.2005 - val_loss: 2.3527 - val_accuracy: 0.1667\n"
          ],
          "name": "stdout"
        },
        {
          "output_type": "display_data",
          "data": {
            "text/html": [
              "<br/>Waiting for W&B process to finish, PID 4280<br/>Program ended successfully."
            ],
            "text/plain": [
              "<IPython.core.display.HTML object>"
            ]
          },
          "metadata": {
            "tags": []
          }
        },
        {
          "output_type": "display_data",
          "data": {
            "application/vnd.jupyter.widget-view+json": {
              "model_id": "7a934cf97e924300b28c551bafdad102",
              "version_minor": 0,
              "version_major": 2
            },
            "text/plain": [
              "VBox(children=(Label(value=' 0.00MB of 0.00MB uploaded (0.00MB deduped)\\r'), FloatProgress(value=1.0, max=1.0)…"
            ]
          },
          "metadata": {
            "tags": []
          }
        },
        {
          "output_type": "display_data",
          "data": {
            "text/html": [
              "Find user logs for this run at: <code>/content/wandb/run-20210408_124008-difqpcke/logs/debug.log</code>"
            ],
            "text/plain": [
              "<IPython.core.display.HTML object>"
            ]
          },
          "metadata": {
            "tags": []
          }
        },
        {
          "output_type": "display_data",
          "data": {
            "text/html": [
              "Find internal logs for this run at: <code>/content/wandb/run-20210408_124008-difqpcke/logs/debug-internal.log</code>"
            ],
            "text/plain": [
              "<IPython.core.display.HTML object>"
            ]
          },
          "metadata": {
            "tags": []
          }
        },
        {
          "output_type": "display_data",
          "data": {
            "text/html": [
              "<h3>Run summary:</h3><br/><style>\n",
              "    table.wandb td:nth-child(1) { padding: 0 10px; text-align: right }\n",
              "    </style><table class=\"wandb\">\n",
              "<tr><td>epoch</td><td>9</td></tr><tr><td>loss</td><td>2.17732</td></tr><tr><td>accuracy</td><td>0.2075</td></tr><tr><td>val_loss</td><td>2.35266</td></tr><tr><td>val_accuracy</td><td>0.16667</td></tr><tr><td>_runtime</td><td>553</td></tr><tr><td>_timestamp</td><td>1617886161</td></tr><tr><td>_step</td><td>9</td></tr><tr><td>best_val_accuracy</td><td>0.21354</td></tr><tr><td>best_epoch</td><td>5</td></tr></table>"
            ],
            "text/plain": [
              "<IPython.core.display.HTML object>"
            ]
          },
          "metadata": {
            "tags": []
          }
        },
        {
          "output_type": "display_data",
          "data": {
            "text/html": [
              "<h3>Run history:</h3><br/><style>\n",
              "    table.wandb td:nth-child(1) { padding: 0 10px; text-align: right }\n",
              "    </style><table class=\"wandb\">\n",
              "<tr><td>epoch</td><td>▁▂▃▃▄▅▆▆▇█</td></tr><tr><td>loss</td><td>█▃▂▁▁▁▁▁▁▁</td></tr><tr><td>accuracy</td><td>▁▂▃▅▇█▇▅██</td></tr><tr><td>val_loss</td><td>▃█▆▂▂▁▃▂▂▂</td></tr><tr><td>val_accuracy</td><td>▁▅▄▄▅█▃▄▆▅</td></tr><tr><td>_runtime</td><td>▁▂▃▃▄▅▆▆▇█</td></tr><tr><td>_timestamp</td><td>▁▂▃▃▄▅▆▆▇█</td></tr><tr><td>_step</td><td>▁▂▃▃▄▅▆▆▇█</td></tr></table><br/>"
            ],
            "text/plain": [
              "<IPython.core.display.HTML object>"
            ]
          },
          "metadata": {
            "tags": []
          }
        },
        {
          "output_type": "display_data",
          "data": {
            "text/html": [
              "Synced 5 W&B file(s), 1 media file(s), 0 artifact file(s) and 1 other file(s)"
            ],
            "text/plain": [
              "<IPython.core.display.HTML object>"
            ]
          },
          "metadata": {
            "tags": []
          }
        },
        {
          "output_type": "display_data",
          "data": {
            "text/html": [
              "\n",
              "                    <br/>Synced <strong style=\"color:#cdcd00\">fast-sweep-32</strong>: <a href=\"https://wandb.ai/manideepladi/CNN_PartB/runs/difqpcke\" target=\"_blank\">https://wandb.ai/manideepladi/CNN_PartB/runs/difqpcke</a><br/>\n",
              "                "
            ],
            "text/plain": [
              "<IPython.core.display.HTML object>"
            ]
          },
          "metadata": {
            "tags": []
          }
        },
        {
          "output_type": "stream",
          "text": [
            "\u001b[34m\u001b[1mwandb\u001b[0m: Sweep Agent: Waiting for job.\n",
            "\u001b[34m\u001b[1mwandb\u001b[0m: Sweep Agent: Exiting.\n"
          ],
          "name": "stderr"
        }
      ]
    },
    {
      "cell_type": "code",
      "metadata": {
        "colab": {
          "base_uri": "https://localhost:8080/"
        },
        "id": "-jP5nfcO6zIG",
        "outputId": "1808456d-450f-4137-dbcc-6a43812220a8"
      },
      "source": [
        "train_path = '/content/gdrive/MyDrive/inaturalist_12K_subset/train'\n",
        "\n",
        "target_size = (224,224,3)\n",
        "\n",
        "obj1 = Fine_Tune(target_size=target_size ,\n",
        "                   pretrained_model = \"ResNet50\",\n",
        "                   num_neurons =64,\n",
        "                   num_hlayers = 1,\n",
        "                   trainable_layers=\"No\") \n",
        "obj1.BUILD_MODEL()\n",
        "obj1.Fit_Model(train_path,epochs=10,batch_size=32)"
      ],
      "execution_count": 8,
      "outputs": [
        {
          "output_type": "stream",
          "text": [
            "Found 1600 images belonging to 10 classes.\n",
            "Found 400 images belonging to 10 classes.\n",
            "Epoch 1/10\n",
            "50/50 [==============================] - 975s 19s/step - loss: 6.1173 - accuracy: 0.1169 - val_loss: 2.3026 - val_accuracy: 0.1042\n",
            "Epoch 2/10\n",
            "50/50 [==============================] - 51s 1s/step - loss: 2.3023 - accuracy: 0.1106 - val_loss: 2.3025 - val_accuracy: 0.1042\n",
            "Epoch 3/10\n",
            "50/50 [==============================] - 51s 1s/step - loss: 2.3026 - accuracy: 0.1006 - val_loss: 2.3026 - val_accuracy: 0.0990\n",
            "Epoch 4/10\n",
            "50/50 [==============================] - 51s 1s/step - loss: 2.3027 - accuracy: 0.0993 - val_loss: 2.3027 - val_accuracy: 0.0938\n",
            "Epoch 5/10\n",
            "50/50 [==============================] - 51s 1s/step - loss: 2.3026 - accuracy: 0.1031 - val_loss: 2.3025 - val_accuracy: 0.1042\n",
            "Epoch 6/10\n",
            "50/50 [==============================] - 51s 1s/step - loss: 2.3026 - accuracy: 0.0984 - val_loss: 2.3026 - val_accuracy: 0.1016\n",
            "Epoch 7/10\n",
            "50/50 [==============================] - 51s 1s/step - loss: 2.3028 - accuracy: 0.0899 - val_loss: 2.3025 - val_accuracy: 0.1016\n",
            "Epoch 8/10\n",
            "50/50 [==============================] - 51s 1s/step - loss: 2.3026 - accuracy: 0.1032 - val_loss: 2.3026 - val_accuracy: 0.1042\n",
            "Epoch 9/10\n",
            "50/50 [==============================] - 51s 1s/step - loss: 2.3026 - accuracy: 0.1098 - val_loss: 2.3027 - val_accuracy: 0.0990\n",
            "Epoch 10/10\n",
            "50/50 [==============================] - 52s 1s/step - loss: 2.3027 - accuracy: 0.0946 - val_loss: 2.3026 - val_accuracy: 0.1016\n"
          ],
          "name": "stdout"
        }
      ]
    },
    {
      "cell_type": "code",
      "metadata": {
        "id": "ENWwxMA_CuR1"
      },
      "source": [
        " #test_path = '/content/gdrive/MyDrive/inaturalist_12K_subset/val'\n",
        "  #test_auc = obj1.Predict_Test(test_path)\n",
        "  #wandb.log({\"Test accuracy\": test_auc})"
      ],
      "execution_count": null,
      "outputs": []
    },
    {
      "cell_type": "markdown",
      "metadata": {
        "id": "6oep82FFiaqC"
      },
      "source": [
        "**Question 3 (15 Marks)\n",
        "Now finetune the model using different strategies that you discussed above and different hyperparameter choices. Based on these experiments write down some insightful inferences (once again you will find the sweep function to be useful to plot and compare different choices).**"
      ]
    },
    {
      "cell_type": "code",
      "metadata": {
        "id": "YZnZy1CEictp"
      },
      "source": [
        ""
      ],
      "execution_count": null,
      "outputs": []
    }
  ]
}